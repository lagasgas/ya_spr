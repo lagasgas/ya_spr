{
 "cells": [
  {
   "cell_type": "markdown",
   "metadata": {},
   "source": [
    "# Сборный проект №1\n",
    "\n",
    "# Описание проекта\n",
    "\n",
    "Вы работаете в интернет-магазине «Стримчик», который продаёт по всему миру компьютерные игры. Из открытых источников доступны исторические данные о продажах игр, оценки пользователей и экспертов, жанры и платформы (например, Xbox или PlayStation). Вам нужно выявить определяющие успешность игры закономерности. Это позволит сделать ставку на потенциально популярный продукт и спланировать рекламные кампании.\n",
    "\n",
    "Перед вами данные до 2016 года. Представим, что сейчас декабрь 2016 г., и вы планируете кампанию на 2017-й. Нужно отработать принцип работы с данными. Неважно, прогнозируете ли вы продажи на 2017 год по данным 2016-го или же 2027-й — по данным 2026 года."
   ]
  },
  {
   "cell_type": "markdown",
   "metadata": {},
   "source": [
    "## Раздел 1. Общая информация"
   ]
  },
  {
   "cell_type": "code",
   "execution_count": 1,
   "metadata": {},
   "outputs": [
    {
     "data": {
      "text/html": [
       "<div>\n",
       "<style scoped>\n",
       "    .dataframe tbody tr th:only-of-type {\n",
       "        vertical-align: middle;\n",
       "    }\n",
       "\n",
       "    .dataframe tbody tr th {\n",
       "        vertical-align: top;\n",
       "    }\n",
       "\n",
       "    .dataframe thead th {\n",
       "        text-align: right;\n",
       "    }\n",
       "</style>\n",
       "<table border=\"1\" class=\"dataframe\">\n",
       "  <thead>\n",
       "    <tr style=\"text-align: right;\">\n",
       "      <th></th>\n",
       "      <th>Name</th>\n",
       "      <th>Platform</th>\n",
       "      <th>Year_of_Release</th>\n",
       "      <th>Genre</th>\n",
       "      <th>NA_sales</th>\n",
       "      <th>EU_sales</th>\n",
       "      <th>JP_sales</th>\n",
       "      <th>Other_sales</th>\n",
       "      <th>Critic_Score</th>\n",
       "      <th>User_Score</th>\n",
       "      <th>Rating</th>\n",
       "    </tr>\n",
       "  </thead>\n",
       "  <tbody>\n",
       "    <tr>\n",
       "      <td>0</td>\n",
       "      <td>Wii Sports</td>\n",
       "      <td>Wii</td>\n",
       "      <td>2006.0</td>\n",
       "      <td>Sports</td>\n",
       "      <td>41.36</td>\n",
       "      <td>28.96</td>\n",
       "      <td>3.77</td>\n",
       "      <td>8.45</td>\n",
       "      <td>76.0</td>\n",
       "      <td>8</td>\n",
       "      <td>E</td>\n",
       "    </tr>\n",
       "    <tr>\n",
       "      <td>1</td>\n",
       "      <td>Super Mario Bros.</td>\n",
       "      <td>NES</td>\n",
       "      <td>1985.0</td>\n",
       "      <td>Platform</td>\n",
       "      <td>29.08</td>\n",
       "      <td>3.58</td>\n",
       "      <td>6.81</td>\n",
       "      <td>0.77</td>\n",
       "      <td>NaN</td>\n",
       "      <td>NaN</td>\n",
       "      <td>NaN</td>\n",
       "    </tr>\n",
       "    <tr>\n",
       "      <td>2</td>\n",
       "      <td>Mario Kart Wii</td>\n",
       "      <td>Wii</td>\n",
       "      <td>2008.0</td>\n",
       "      <td>Racing</td>\n",
       "      <td>15.68</td>\n",
       "      <td>12.76</td>\n",
       "      <td>3.79</td>\n",
       "      <td>3.29</td>\n",
       "      <td>82.0</td>\n",
       "      <td>8.3</td>\n",
       "      <td>E</td>\n",
       "    </tr>\n",
       "    <tr>\n",
       "      <td>3</td>\n",
       "      <td>Wii Sports Resort</td>\n",
       "      <td>Wii</td>\n",
       "      <td>2009.0</td>\n",
       "      <td>Sports</td>\n",
       "      <td>15.61</td>\n",
       "      <td>10.93</td>\n",
       "      <td>3.28</td>\n",
       "      <td>2.95</td>\n",
       "      <td>80.0</td>\n",
       "      <td>8</td>\n",
       "      <td>E</td>\n",
       "    </tr>\n",
       "    <tr>\n",
       "      <td>4</td>\n",
       "      <td>Pokemon Red/Pokemon Blue</td>\n",
       "      <td>GB</td>\n",
       "      <td>1996.0</td>\n",
       "      <td>Role-Playing</td>\n",
       "      <td>11.27</td>\n",
       "      <td>8.89</td>\n",
       "      <td>10.22</td>\n",
       "      <td>1.00</td>\n",
       "      <td>NaN</td>\n",
       "      <td>NaN</td>\n",
       "      <td>NaN</td>\n",
       "    </tr>\n",
       "  </tbody>\n",
       "</table>\n",
       "</div>"
      ],
      "text/plain": [
       "                       Name Platform  Year_of_Release         Genre  NA_sales  \\\n",
       "0                Wii Sports      Wii           2006.0        Sports     41.36   \n",
       "1         Super Mario Bros.      NES           1985.0      Platform     29.08   \n",
       "2            Mario Kart Wii      Wii           2008.0        Racing     15.68   \n",
       "3         Wii Sports Resort      Wii           2009.0        Sports     15.61   \n",
       "4  Pokemon Red/Pokemon Blue       GB           1996.0  Role-Playing     11.27   \n",
       "\n",
       "   EU_sales  JP_sales  Other_sales  Critic_Score User_Score Rating  \n",
       "0     28.96      3.77         8.45          76.0          8      E  \n",
       "1      3.58      6.81         0.77           NaN        NaN    NaN  \n",
       "2     12.76      3.79         3.29          82.0        8.3      E  \n",
       "3     10.93      3.28         2.95          80.0          8      E  \n",
       "4      8.89     10.22         1.00           NaN        NaN    NaN  "
      ]
     },
     "metadata": {},
     "output_type": "display_data"
    },
    {
     "name": "stdout",
     "output_type": "stream",
     "text": [
      "<class 'pandas.core.frame.DataFrame'>\n",
      "RangeIndex: 16715 entries, 0 to 16714\n",
      "Data columns (total 11 columns):\n",
      "Name               16713 non-null object\n",
      "Platform           16715 non-null object\n",
      "Year_of_Release    16446 non-null float64\n",
      "Genre              16713 non-null object\n",
      "NA_sales           16715 non-null float64\n",
      "EU_sales           16715 non-null float64\n",
      "JP_sales           16715 non-null float64\n",
      "Other_sales        16715 non-null float64\n",
      "Critic_Score       8137 non-null float64\n",
      "User_Score         10014 non-null object\n",
      "Rating             9949 non-null object\n",
      "dtypes: float64(6), object(5)\n",
      "memory usage: 1.4+ MB\n"
     ]
    }
   ],
   "source": [
    "import pandas as pd\n",
    "import matplotlib.pyplot as plt\n",
    "import numpy as np\n",
    "import seaborn as sns\n",
    "from scipy import stats as st\n",
    "import string\n",
    "path = '/datasets/' # было нужно при работе из разных ОС, сейчас это рудимент\n",
    "df = pd.read_csv(path + 'games.csv')\n",
    "display(df.head())\n",
    "df.info()\n",
    "# Напишем функцию которая будет подписывать название графика и оси абсцис и ординат, соответственно\n",
    "# В качестве начальных данных передадим пустые строки, что б не было ошибок при задании только одного параметра\n",
    "def name_it (title='', xlabel='', ylabel=''):\n",
    "    plt.title(title)\n",
    "    plt.xlabel(xlabel)\n",
    "    plt.ylabel(ylabel)"
   ]
  },
  {
   "cell_type": "code",
   "execution_count": 2,
   "metadata": {},
   "outputs": [
    {
     "data": {
      "text/plain": [
       "Name                  2\n",
       "Platform              0\n",
       "Year_of_Release     269\n",
       "Genre                 2\n",
       "NA_sales              0\n",
       "EU_sales              0\n",
       "JP_sales              0\n",
       "Other_sales           0\n",
       "Critic_Score       8578\n",
       "User_Score         6701\n",
       "Rating             6766\n",
       "dtype: int64"
      ]
     },
     "execution_count": 2,
     "metadata": {},
     "output_type": "execute_result"
    }
   ],
   "source": [
    "df.isna().sum()"
   ]
  },
  {
   "cell_type": "markdown",
   "metadata": {},
   "source": [
    "Перед нами датасет из 16715 строк с столбцами:\n",
    "\n",
    "   * `Name` — название игры\n",
    "   * `Platform` — платформа\n",
    "   * `Year_of_Release` — год выпуска\n",
    "   * `Genre` — жанр игры\n",
    "   * `NA_sales` — продажи в Северной Америке (миллионы проданных копий)\n",
    "   * `EU_sales` — продажи в Европе (миллионы проданных копий)\n",
    "   * `JP_sales` — продажи в Японии (миллионы проданных копий)\n",
    "   * `Other_sales` — продажи в других странах (миллионы проданных копий)\n",
    "   * `Critic_Score` — оценка критиков (максимум 100)\n",
    "   * `User_Score` — оценка пользователей (максимум 10)\n",
    "   * `Rating` — рейтинг от организации ESRB (англ. Entertainment Software Rating Board). Эта ассоциация определяет рейтинг компьютерных игр и присваивает им подходящую возрастную категорию.\n",
    "    \n",
    "В столбце Rating буквы означают:\n",
    "\n",
    "   * `«EC»` («Early childhood») — «Для детей младшего возраста»\n",
    "   * `«E»`(«Everyone») — «Для всех»\n",
    "   * `«E10+»` («Everyone 10 and older») — «Для всех от 10 лет и старше»\n",
    "   * `«T»` («Teen») — «Подросткам»\n",
    "   * `«M»` («Mature») — «Для взрослых»:\n",
    "   * `«AO»` («Adults Only 18+») — «Только для взрослых»\n",
    "   * `«RP»` («Rating Pending») — «Рейтинг ожидается»\n",
    "\n",
    "Название столбцов написано с большой буквы, присутствует верблюжий регистр.\n",
    "\n",
    "Столбец с годом релиза типа float, хотя год это целочисленное значение.\n",
    "\n",
    "Данные, которыми заполнены категориальные столбцы, заполнены так же с заглавных букв и имеют верблюжий регистр.\n",
    "\n",
    "Имеются пропуски в столбцах с оценкой игры и её рейтингом."
   ]
  },
  {
   "cell_type": "markdown",
   "metadata": {},
   "source": [
    "## Раздел 2. Преобработка данных"
   ]
  },
  {
   "cell_type": "code",
   "execution_count": 3,
   "metadata": {},
   "outputs": [
    {
     "data": {
      "text/plain": [
       "Index(['name', 'platform', 'year_of_release', 'genre', 'na_sales', 'eu_sales',\n",
       "       'jp_sales', 'other_sales', 'critic_score', 'user_score', 'rating'],\n",
       "      dtype='object')"
      ]
     },
     "execution_count": 3,
     "metadata": {},
     "output_type": "execute_result"
    }
   ],
   "source": [
    "# Переведем всё в нижний регистр и посмотрим что получилось\n",
    "df.columns = df.columns.str.lower()\n",
    "cat_columns = ['name', 'platform', 'genre', 'rating']\n",
    "for column in cat_columns:\n",
    "    df[column] = df[column].str.lower()\n",
    "df.columns"
   ]
  },
  {
   "cell_type": "code",
   "execution_count": 4,
   "metadata": {},
   "outputs": [
    {
     "data": {
      "text/plain": [
       "'platform'"
      ]
     },
     "metadata": {},
     "output_type": "display_data"
    },
    {
     "data": {
      "text/plain": [
       "array(['wii', 'nes', 'gb', 'ds', 'x360', 'ps3', 'ps2', 'snes', 'gba',\n",
       "       'ps4', '3ds', 'n64', 'ps', 'xb', 'pc', '2600', 'psp', 'xone',\n",
       "       'wiiu', 'gc', 'gen', 'dc', 'psv', 'sat', 'scd', 'ws', 'ng', 'tg16',\n",
       "       '3do', 'gg', 'pcfx'], dtype=object)"
      ]
     },
     "metadata": {},
     "output_type": "display_data"
    },
    {
     "data": {
      "text/plain": [
       "'genre'"
      ]
     },
     "metadata": {},
     "output_type": "display_data"
    },
    {
     "data": {
      "text/plain": [
       "array(['sports', 'platform', 'racing', 'role-playing', 'puzzle', 'misc',\n",
       "       'shooter', 'simulation', 'action', 'fighting', 'adventure',\n",
       "       'strategy', nan], dtype=object)"
      ]
     },
     "metadata": {},
     "output_type": "display_data"
    },
    {
     "data": {
      "text/plain": [
       "'rating'"
      ]
     },
     "metadata": {},
     "output_type": "display_data"
    },
    {
     "data": {
      "text/plain": [
       "array(['e', nan, 'm', 't', 'e10+', 'k-a', 'ao', 'ec', 'rp'], dtype=object)"
      ]
     },
     "metadata": {},
     "output_type": "display_data"
    }
   ],
   "source": [
    "# Посмотрим чем заполнены столбцы с категориальными данными\n",
    "for column in cat_columns:\n",
    "    if column != 'name':   # столбец с названием игры брать пока не будем\n",
    "        display(column, df[column].unique())"
   ]
  },
  {
   "cell_type": "code",
   "execution_count": 5,
   "metadata": {},
   "outputs": [
    {
     "data": {
      "text/plain": [
       "11560"
      ]
     },
     "execution_count": 5,
     "metadata": {},
     "output_type": "execute_result"
    }
   ],
   "source": [
    "len(df['name'].unique())"
   ]
  },
  {
   "cell_type": "code",
   "execution_count": 6,
   "metadata": {},
   "outputs": [],
   "source": [
    "# в столбце \"rating\" есть старое обозначение \"k-a\", теперь это просто \"е\"\n",
    "df['rating'] = df['rating'].replace('k-a', 'e')"
   ]
  },
  {
   "cell_type": "code",
   "execution_count": 7,
   "metadata": {},
   "outputs": [
    {
     "data": {
      "image/png": "[encoded data removed]",
      "text/plain": [
       "<Figure size 720x288 with 1 Axes>"
      ]
     },
     "metadata": {
      "needs_background": "light"
     },
     "output_type": "display_data"
    }
   ],
   "source": [
    "df.query('year_of_release > 2000')['platform'].value_counts().plot(kind='bar', rot=60, figsize=(10, 4))\n",
    "name_it('Кол-во продаж по платформам после 2000 года', 'Платформа', 'Продажи')"
   ]
  },
  {
   "cell_type": "code",
   "execution_count": 8,
   "metadata": {},
   "outputs": [
    {
     "data": {
      "text/plain": [
       "name                  2\n",
       "platform              0\n",
       "year_of_release     269\n",
       "genre                 2\n",
       "na_sales              0\n",
       "eu_sales              0\n",
       "jp_sales              0\n",
       "other_sales           0\n",
       "critic_score       8578\n",
       "user_score         6701\n",
       "rating             6766\n",
       "dtype: int64"
      ]
     },
     "execution_count": 8,
     "metadata": {},
     "output_type": "execute_result"
    }
   ],
   "source": [
    "df.isna().sum()"
   ]
  },
  {
   "cell_type": "markdown",
   "metadata": {},
   "source": [
    "### Обработка пропусков"
   ]
  },
  {
   "cell_type": "code",
   "execution_count": 9,
   "metadata": {},
   "outputs": [],
   "source": [
    "# так же я не смогу определить ESRB, даже при переходе от платформы к платформе игра может быть изменена\n",
    "# и получить другой рейтинг, по-этому пропуски в столбце 'rating' заменяю на rp\n",
    "df['rating'] = df['rating'].fillna(value='rp')"
   ]
  },
  {
   "cell_type": "code",
   "execution_count": 10,
   "metadata": {},
   "outputs": [],
   "source": [
    "# Аналогично этой замене значения tbd в столбце 'user_score' заменим на nan,\n",
    "# так как у нас это численный столбец.\n",
    "df['user_score'] = df['user_score'].replace('tbd', np.nan)"
   ]
  },
  {
   "cell_type": "code",
   "execution_count": 11,
   "metadata": {},
   "outputs": [],
   "source": [
    "# Пропуски в столбце с годом в кол-ве 269 штук\n",
    "# составляют примерно 1.5% от общего числа записей...\n",
    "# Их удаление существенно не изменит результаты исследований\n",
    "df = df.query('year_of_release > 0')\n",
    "# Так же сразу переведем столбец 'year_of_release' в целочисленный тип\n",
    "df['year_of_release'] = df['year_of_release'].astype('int')"
   ]
  },
  {
   "cell_type": "code",
   "execution_count": 12,
   "metadata": {},
   "outputs": [
    {
     "name": "stdout",
     "output_type": "stream",
     "text": [
      "<class 'pandas.core.frame.DataFrame'>\n",
      "Int64Index: 16446 entries, 0 to 16714\n",
      "Data columns (total 11 columns):\n",
      "name               16444 non-null object\n",
      "platform           16446 non-null object\n",
      "year_of_release    16446 non-null int64\n",
      "genre              16444 non-null object\n",
      "na_sales           16446 non-null float64\n",
      "eu_sales           16446 non-null float64\n",
      "jp_sales           16446 non-null float64\n",
      "other_sales        16446 non-null float64\n",
      "critic_score       7983 non-null float64\n",
      "user_score         7463 non-null object\n",
      "rating             16446 non-null object\n",
      "dtypes: float64(5), int64(1), object(5)\n",
      "memory usage: 1.5+ MB\n"
     ]
    }
   ],
   "source": [
    "df.info()"
   ]
  },
  {
   "cell_type": "code",
   "execution_count": 13,
   "metadata": {},
   "outputs": [],
   "source": [
    "# переведем столбец user_score из типа 'object' в тип 'float'\n",
    "df['user_score'] = df['user_score'].astype('float')"
   ]
  },
  {
   "cell_type": "code",
   "execution_count": 14,
   "metadata": {},
   "outputs": [
    {
     "data": {
      "text/html": [
       "<div>\n",
       "<style scoped>\n",
       "    .dataframe tbody tr th:only-of-type {\n",
       "        vertical-align: middle;\n",
       "    }\n",
       "\n",
       "    .dataframe tbody tr th {\n",
       "        vertical-align: top;\n",
       "    }\n",
       "\n",
       "    .dataframe thead th {\n",
       "        text-align: right;\n",
       "    }\n",
       "</style>\n",
       "<table border=\"1\" class=\"dataframe\">\n",
       "  <thead>\n",
       "    <tr style=\"text-align: right;\">\n",
       "      <th></th>\n",
       "      <th>name</th>\n",
       "      <th>platform</th>\n",
       "      <th>year_of_release</th>\n",
       "      <th>genre</th>\n",
       "      <th>na_sales</th>\n",
       "      <th>eu_sales</th>\n",
       "      <th>jp_sales</th>\n",
       "      <th>other_sales</th>\n",
       "      <th>critic_score</th>\n",
       "      <th>user_score</th>\n",
       "      <th>rating</th>\n",
       "    </tr>\n",
       "  </thead>\n",
       "  <tbody>\n",
       "    <tr>\n",
       "      <td>16230</td>\n",
       "      <td>madden nfl 13</td>\n",
       "      <td>ps3</td>\n",
       "      <td>2012</td>\n",
       "      <td>sports</td>\n",
       "      <td>0.0</td>\n",
       "      <td>0.01</td>\n",
       "      <td>0.00</td>\n",
       "      <td>0.0</td>\n",
       "      <td>83.0</td>\n",
       "      <td>5.5</td>\n",
       "      <td>e</td>\n",
       "    </tr>\n",
       "    <tr>\n",
       "      <td>14244</td>\n",
       "      <td>NaN</td>\n",
       "      <td>gen</td>\n",
       "      <td>1993</td>\n",
       "      <td>NaN</td>\n",
       "      <td>0.0</td>\n",
       "      <td>0.00</td>\n",
       "      <td>0.03</td>\n",
       "      <td>0.0</td>\n",
       "      <td>NaN</td>\n",
       "      <td>NaN</td>\n",
       "      <td>rp</td>\n",
       "    </tr>\n",
       "  </tbody>\n",
       "</table>\n",
       "</div>"
      ],
      "text/plain": [
       "                name platform  year_of_release   genre  na_sales  eu_sales  \\\n",
       "16230  madden nfl 13      ps3             2012  sports       0.0      0.01   \n",
       "14244            NaN      gen             1993     NaN       0.0      0.00   \n",
       "\n",
       "       jp_sales  other_sales  critic_score  user_score rating  \n",
       "16230      0.00          0.0          83.0         5.5      e  \n",
       "14244      0.03          0.0           NaN         NaN     rp  "
      ]
     },
     "execution_count": 14,
     "metadata": {},
     "output_type": "execute_result"
    }
   ],
   "source": [
    "# по выбранным столбцам посмотрим наличие дубликатов\n",
    "df[df[['genre', 'year_of_release', 'name', 'platform']].duplicated()].sort_values(by='name')"
   ]
  },
  {
   "cell_type": "code",
   "execution_count": 15,
   "metadata": {},
   "outputs": [
    {
     "data": {
      "text/html": [
       "<div>\n",
       "<style scoped>\n",
       "    .dataframe tbody tr th:only-of-type {\n",
       "        vertical-align: middle;\n",
       "    }\n",
       "\n",
       "    .dataframe tbody tr th {\n",
       "        vertical-align: top;\n",
       "    }\n",
       "\n",
       "    .dataframe thead th {\n",
       "        text-align: right;\n",
       "    }\n",
       "</style>\n",
       "<table border=\"1\" class=\"dataframe\">\n",
       "  <thead>\n",
       "    <tr style=\"text-align: right;\">\n",
       "      <th></th>\n",
       "      <th>name</th>\n",
       "      <th>platform</th>\n",
       "      <th>year_of_release</th>\n",
       "      <th>genre</th>\n",
       "      <th>na_sales</th>\n",
       "      <th>eu_sales</th>\n",
       "      <th>jp_sales</th>\n",
       "      <th>other_sales</th>\n",
       "      <th>critic_score</th>\n",
       "      <th>user_score</th>\n",
       "      <th>rating</th>\n",
       "    </tr>\n",
       "  </thead>\n",
       "  <tbody>\n",
       "    <tr>\n",
       "      <td>507</td>\n",
       "      <td>madden nfl 13</td>\n",
       "      <td>x360</td>\n",
       "      <td>2012</td>\n",
       "      <td>sports</td>\n",
       "      <td>2.53</td>\n",
       "      <td>0.15</td>\n",
       "      <td>0.0</td>\n",
       "      <td>0.17</td>\n",
       "      <td>81.0</td>\n",
       "      <td>5.8</td>\n",
       "      <td>e</td>\n",
       "    </tr>\n",
       "    <tr>\n",
       "      <td>604</td>\n",
       "      <td>madden nfl 13</td>\n",
       "      <td>ps3</td>\n",
       "      <td>2012</td>\n",
       "      <td>sports</td>\n",
       "      <td>2.11</td>\n",
       "      <td>0.22</td>\n",
       "      <td>0.0</td>\n",
       "      <td>0.23</td>\n",
       "      <td>83.0</td>\n",
       "      <td>5.5</td>\n",
       "      <td>e</td>\n",
       "    </tr>\n",
       "    <tr>\n",
       "      <td>3986</td>\n",
       "      <td>madden nfl 13</td>\n",
       "      <td>wii</td>\n",
       "      <td>2012</td>\n",
       "      <td>sports</td>\n",
       "      <td>0.47</td>\n",
       "      <td>0.00</td>\n",
       "      <td>0.0</td>\n",
       "      <td>0.03</td>\n",
       "      <td>NaN</td>\n",
       "      <td>7.3</td>\n",
       "      <td>e</td>\n",
       "    </tr>\n",
       "    <tr>\n",
       "      <td>5887</td>\n",
       "      <td>madden nfl 13</td>\n",
       "      <td>psv</td>\n",
       "      <td>2012</td>\n",
       "      <td>sports</td>\n",
       "      <td>0.28</td>\n",
       "      <td>0.00</td>\n",
       "      <td>0.0</td>\n",
       "      <td>0.02</td>\n",
       "      <td>63.0</td>\n",
       "      <td>7.3</td>\n",
       "      <td>e</td>\n",
       "    </tr>\n",
       "    <tr>\n",
       "      <td>7066</td>\n",
       "      <td>madden nfl 13</td>\n",
       "      <td>wiiu</td>\n",
       "      <td>2012</td>\n",
       "      <td>sports</td>\n",
       "      <td>0.21</td>\n",
       "      <td>0.00</td>\n",
       "      <td>0.0</td>\n",
       "      <td>0.02</td>\n",
       "      <td>75.0</td>\n",
       "      <td>6.7</td>\n",
       "      <td>e</td>\n",
       "    </tr>\n",
       "    <tr>\n",
       "      <td>16230</td>\n",
       "      <td>madden nfl 13</td>\n",
       "      <td>ps3</td>\n",
       "      <td>2012</td>\n",
       "      <td>sports</td>\n",
       "      <td>0.00</td>\n",
       "      <td>0.01</td>\n",
       "      <td>0.0</td>\n",
       "      <td>0.00</td>\n",
       "      <td>83.0</td>\n",
       "      <td>5.5</td>\n",
       "      <td>e</td>\n",
       "    </tr>\n",
       "  </tbody>\n",
       "</table>\n",
       "</div>"
      ],
      "text/plain": [
       "                name platform  year_of_release   genre  na_sales  eu_sales  \\\n",
       "507    madden nfl 13     x360             2012  sports      2.53      0.15   \n",
       "604    madden nfl 13      ps3             2012  sports      2.11      0.22   \n",
       "3986   madden nfl 13      wii             2012  sports      0.47      0.00   \n",
       "5887   madden nfl 13      psv             2012  sports      0.28      0.00   \n",
       "7066   madden nfl 13     wiiu             2012  sports      0.21      0.00   \n",
       "16230  madden nfl 13      ps3             2012  sports      0.00      0.01   \n",
       "\n",
       "       jp_sales  other_sales  critic_score  user_score rating  \n",
       "507         0.0         0.17          81.0         5.8      e  \n",
       "604         0.0         0.23          83.0         5.5      e  \n",
       "3986        0.0         0.03           NaN         7.3      e  \n",
       "5887        0.0         0.02          63.0         7.3      e  \n",
       "7066        0.0         0.02          75.0         6.7      e  \n",
       "16230       0.0         0.00          83.0         5.5      e  "
      ]
     },
     "execution_count": 15,
     "metadata": {},
     "output_type": "execute_result"
    }
   ],
   "source": [
    "# Посути у нас 1 дубликат с названием и 1 без названия игры\n",
    "# Посмотрим с названием\n",
    "df.query('name == \"madden nfl 13\"')"
   ]
  },
  {
   "cell_type": "code",
   "execution_count": 16,
   "metadata": {},
   "outputs": [],
   "source": [
    "# Коли он один, можно и ручками убрать\n",
    "df = df[df.index != 16230]"
   ]
  },
  {
   "cell_type": "code",
   "execution_count": 17,
   "metadata": {},
   "outputs": [],
   "source": [
    "# поправить индексацию\n",
    "df = df.reset_index(drop=True)"
   ]
  },
  {
   "cell_type": "code",
   "execution_count": 18,
   "metadata": {},
   "outputs": [
    {
     "data": {
      "text/html": [
       "<div>\n",
       "<style scoped>\n",
       "    .dataframe tbody tr th:only-of-type {\n",
       "        vertical-align: middle;\n",
       "    }\n",
       "\n",
       "    .dataframe tbody tr th {\n",
       "        vertical-align: top;\n",
       "    }\n",
       "\n",
       "    .dataframe thead th {\n",
       "        text-align: right;\n",
       "    }\n",
       "</style>\n",
       "<table border=\"1\" class=\"dataframe\">\n",
       "  <thead>\n",
       "    <tr style=\"text-align: right;\">\n",
       "      <th></th>\n",
       "      <th>name</th>\n",
       "      <th>platform</th>\n",
       "      <th>year_of_release</th>\n",
       "      <th>genre</th>\n",
       "      <th>na_sales</th>\n",
       "      <th>eu_sales</th>\n",
       "      <th>jp_sales</th>\n",
       "      <th>other_sales</th>\n",
       "      <th>critic_score</th>\n",
       "      <th>user_score</th>\n",
       "      <th>rating</th>\n",
       "    </tr>\n",
       "  </thead>\n",
       "  <tbody>\n",
       "    <tr>\n",
       "      <td>652</td>\n",
       "      <td>NaN</td>\n",
       "      <td>gen</td>\n",
       "      <td>1993</td>\n",
       "      <td>NaN</td>\n",
       "      <td>1.78</td>\n",
       "      <td>0.53</td>\n",
       "      <td>0.00</td>\n",
       "      <td>0.08</td>\n",
       "      <td>NaN</td>\n",
       "      <td>NaN</td>\n",
       "      <td>rp</td>\n",
       "    </tr>\n",
       "    <tr>\n",
       "      <td>14022</td>\n",
       "      <td>NaN</td>\n",
       "      <td>gen</td>\n",
       "      <td>1993</td>\n",
       "      <td>NaN</td>\n",
       "      <td>0.00</td>\n",
       "      <td>0.00</td>\n",
       "      <td>0.03</td>\n",
       "      <td>0.00</td>\n",
       "      <td>NaN</td>\n",
       "      <td>NaN</td>\n",
       "      <td>rp</td>\n",
       "    </tr>\n",
       "  </tbody>\n",
       "</table>\n",
       "</div>"
      ],
      "text/plain": [
       "      name platform  year_of_release genre  na_sales  eu_sales  jp_sales  \\\n",
       "652    NaN      gen             1993   NaN      1.78      0.53      0.00   \n",
       "14022  NaN      gen             1993   NaN      0.00      0.00      0.03   \n",
       "\n",
       "       other_sales  critic_score  user_score rating  \n",
       "652           0.08           NaN         NaN     rp  \n",
       "14022         0.00           NaN         NaN     rp  "
      ]
     },
     "execution_count": 18,
     "metadata": {},
     "output_type": "execute_result"
    }
   ],
   "source": [
    "# посмотрим на дубликат без названия\n",
    "df[df['name'].isna()]"
   ]
  },
  {
   "cell_type": "code",
   "execution_count": 19,
   "metadata": {},
   "outputs": [],
   "source": [
    "# однозначно сказать что это одна и та же игра не получится, а незаполненость остальных\n",
    "# столбцов как то не оставляет выбора\n",
    "df = df.dropna(axis=0, subset=['name']).reset_index(drop=True)"
   ]
  },
  {
   "cell_type": "markdown",
   "metadata": {},
   "source": [
    "### Посчитаем суммарные продажи"
   ]
  },
  {
   "cell_type": "code",
   "execution_count": 20,
   "metadata": {},
   "outputs": [
    {
     "data": {
      "text/plain": [
       "Index(['name', 'platform', 'year_of_release', 'genre', 'na_sales', 'eu_sales',\n",
       "       'jp_sales', 'other_sales', 'critic_score', 'user_score', 'rating'],\n",
       "      dtype='object')"
      ]
     },
     "execution_count": 20,
     "metadata": {},
     "output_type": "execute_result"
    }
   ],
   "source": [
    "df.columns"
   ]
  },
  {
   "cell_type": "code",
   "execution_count": 21,
   "metadata": {},
   "outputs": [],
   "source": [
    "df['total_sales'] = df['na_sales'] + df['eu_sales'] + df['jp_sales'] + df['other_sales']"
   ]
  },
  {
   "cell_type": "markdown",
   "metadata": {},
   "source": [
    "### Вывод по разделу 2\n",
    "\n",
    "1. Пропуски в столбце с рейтингом ESRB (`rating`) заменены на значение `rp`\n",
    "2. Значение `tdb` в столбце с оценками пользователей (`user_score`) заменено на `nan`\n",
    "3. Строчки с пропущенными значениями в столбце `year_of_release` удалены\n",
    "4. Столбец `user_score` переведен из типа <i>object</i> в тип <i>float</i>\n",
    "5. Столбец `year_of_release` приведен к целочисленному типу\n",
    "6. Удалены дубликаты\n",
    "7. Добавлен столбец `total_sales` суммарных продаж"
   ]
  },
  {
   "cell_type": "markdown",
   "metadata": {},
   "source": [
    "## Раздел 3. Исследовательский анализ"
   ]
  },
  {
   "cell_type": "markdown",
   "metadata": {},
   "source": [
    "### Выбор актуального периода"
   ]
  },
  {
   "cell_type": "code",
   "execution_count": 22,
   "metadata": {},
   "outputs": [
    {
     "data": {
      "image/png": "[encoded data removed]",
      "text/plain": [
       "<Figure size 720x288 with 1 Axes>"
      ]
     },
     "metadata": {
      "needs_background": "light"
     },
     "output_type": "display_data"
    }
   ],
   "source": [
    "# Посмотрим сколько игр выпускалось в разные годы\n",
    "df['year_of_release'].value_counts().plot(kind='bar', rot=60, figsize=(10, 4))\n",
    "name_it('Кол-во выпускаемых игр', 'Год', 'Кол-во игр')\n",
    "plt.show()"
   ]
  },
  {
   "cell_type": "markdown",
   "metadata": {},
   "source": [
    "Начиная с 1993 года кол-во выпускаемых игр начало существенно увеличиваться"
   ]
  },
  {
   "cell_type": "code",
   "execution_count": 23,
   "metadata": {},
   "outputs": [
    {
     "data": {
      "image/png": "[encoded data removed]",
      "text/plain": [
       "<Figure size 720x288 with 1 Axes>"
      ]
     },
     "metadata": {
      "needs_background": "light"
     },
     "output_type": "display_data"
    }
   ],
   "source": [
    "# Посмотрим суммарные продажи по платформам\n",
    "df.groupby('platform')['total_sales'].sum().sort_values(ascending=False).plot(kind='bar', rot=60, figsize=(10, 4))\n",
    "name_it('Суммарные продажи по платформам', 'Платформа', 'Продажи')\n",
    "plt.show()"
   ]
  },
  {
   "cell_type": "markdown",
   "metadata": {},
   "source": [
    "У нас появились лидеры продаж за всё время, это: ps2, x360, ps3, wii, ds и ps"
   ]
  },
  {
   "cell_type": "code",
   "execution_count": 24,
   "metadata": {},
   "outputs": [
    {
     "data": {
      "text/plain": [
       "<matplotlib.axes._subplots.AxesSubplot at 0x7f2c0ae139d0>"
      ]
     },
     "metadata": {},
     "output_type": "display_data"
    },
    {
     "data": {
      "image/png": "[encoded data removed]",
      "text/plain": [
       "<Figure size 720x288 with 1 Axes>"
      ]
     },
     "metadata": {
      "needs_background": "light"
     },
     "output_type": "display_data"
    },
    {
     "data": {
      "text/plain": [
       "<matplotlib.axes._subplots.AxesSubplot at 0x7f2c0230afd0>"
      ]
     },
     "metadata": {},
     "output_type": "display_data"
    },
    {
     "data": {
      "image/png": "[encoded data removed]",
      "text/plain": [
       "<Figure size 720x288 with 1 Axes>"
      ]
     },
     "metadata": {
      "needs_background": "light"
     },
     "output_type": "display_data"
    },
    {
     "data": {
      "text/plain": [
       "<matplotlib.axes._subplots.AxesSubplot at 0x7f2c02235190>"
      ]
     },
     "metadata": {},
     "output_type": "display_data"
    },
    {
     "data": {
      "image/png": "[encoded data removed]",
      "text/plain": [
       "<Figure size 720x288 with 1 Axes>"
      ]
     },
     "metadata": {
      "needs_background": "light"
     },
     "output_type": "display_data"
    },
    {
     "data": {
      "text/plain": [
       "<matplotlib.axes._subplots.AxesSubplot at 0x7f2c021cb110>"
      ]
     },
     "metadata": {},
     "output_type": "display_data"
    },
    {
     "data": {
      "image/png": "[encoded data removed]",
      "text/plain": [
       "<Figure size 720x288 with 1 Axes>"
      ]
     },
     "metadata": {
      "needs_background": "light"
     },
     "output_type": "display_data"
    },
    {
     "data": {
      "text/plain": [
       "<matplotlib.axes._subplots.AxesSubplot at 0x7f2c022355d0>"
      ]
     },
     "metadata": {},
     "output_type": "display_data"
    },
    {
     "data": {
      "image/png": "[encoded data removed]",
      "text/plain": [
       "<Figure size 720x288 with 1 Axes>"
      ]
     },
     "metadata": {
      "needs_background": "light"
     },
     "output_type": "display_data"
    },
    {
     "data": {
      "text/plain": [
       "<matplotlib.axes._subplots.AxesSubplot at 0x7f2c0b1918d0>"
      ]
     },
     "metadata": {},
     "output_type": "display_data"
    },
    {
     "data": {
      "image/png": "[encoded data removed]",
      "text/plain": [
       "<Figure size 720x288 with 1 Axes>"
      ]
     },
     "metadata": {
      "needs_background": "light"
     },
     "output_type": "display_data"
    }
   ],
   "source": [
    "# посмотрим как на популярных платформах шли продажи игр\n",
    "pop_platform = ['ps2', 'x360', 'ps3', 'wii', 'ds', 'ps']\n",
    "for plat in pop_platform:\n",
    "    display(df.query('platform == @plat').groupby('year_of_release')['total_sales'].sum().sort_values(ascending=False).plot(kind='bar', rot=60, figsize=(10, 4), title=plat))\n",
    "    plt.show()"
   ]
  },
  {
   "cell_type": "markdown",
   "metadata": {},
   "source": [
    "Получается, что платформа в плане продаж популярна в течении примерно 5-6 лет, после выхода на рынок, далее идёт спад продаж. При чём она не всегда \"хорошо\" стартует, довольно частое явление, что в 1-ый год выхода продаж не так много. Последнее может быть обусловлено, к примеру, что выход консоли пришёлся не на начало года. По этому для прогноза продаж имеет смысл выбирать платформы, на которые игры появились от 1 до 4 лет назад. И если уж сегодня 2016, то посмотрим данные с 2013 года."
   ]
  },
  {
   "cell_type": "markdown",
   "metadata": {},
   "source": [
    "### Выбор потенциально прибольных платформ"
   ]
  },
  {
   "cell_type": "code",
   "execution_count": 25,
   "metadata": {},
   "outputs": [
    {
     "name": "stdout",
     "output_type": "stream",
     "text": [
      "<class 'pandas.core.frame.DataFrame'>\n",
      "Int64Index: 2233 entries, 16 to 16442\n",
      "Data columns (total 12 columns):\n",
      "name               2233 non-null object\n",
      "platform           2233 non-null object\n",
      "year_of_release    2233 non-null int64\n",
      "genre              2233 non-null object\n",
      "na_sales           2233 non-null float64\n",
      "eu_sales           2233 non-null float64\n",
      "jp_sales           2233 non-null float64\n",
      "other_sales        2233 non-null float64\n",
      "critic_score       991 non-null float64\n",
      "user_score         1192 non-null float64\n",
      "rating             2233 non-null object\n",
      "total_sales        2233 non-null float64\n",
      "dtypes: float64(7), int64(1), object(4)\n",
      "memory usage: 226.8+ KB\n"
     ]
    }
   ],
   "source": [
    "# Создадим датасэт с актуальным периодом\n",
    "df_must_pop = df.query('year_of_release > 2012 ').copy()\n",
    "df_must_pop.info()"
   ]
  },
  {
   "cell_type": "markdown",
   "metadata": {},
   "source": [
    "Осталось не так много записей, зато практически пропали пропуски"
   ]
  },
  {
   "cell_type": "code",
   "execution_count": 26,
   "metadata": {},
   "outputs": [
    {
     "data": {
      "image/png": "[encoded data removed]",
      "text/plain": [
       "<Figure size 720x288 with 1 Axes>"
      ]
     },
     "metadata": {
      "needs_background": "light"
     },
     "output_type": "display_data"
    }
   ],
   "source": [
    "# Посмотрим продажи по платформам\n",
    "df_must_pop.groupby('platform')['total_sales'].sum().sort_values(ascending=False).plot(kind='bar', rot=60, figsize=(10, 4))\n",
    "name_it('Суммарные продажи по платформам за актуальный период', 'Платформа', 'Продажи')"
   ]
  },
  {
   "cell_type": "markdown",
   "metadata": {},
   "source": [
    "Лидируют по продажам следующие платфомы: `ps4`, `ps3`, `xone`, `3ds`, `x360`"
   ]
  },
  {
   "cell_type": "code",
   "execution_count": 27,
   "metadata": {
    "scrolled": false
   },
   "outputs": [
    {
     "data": {
      "image/png": "[encoded data removed]",
      "text/plain": [
       "<Figure size 720x288 with 1 Axes>"
      ]
     },
     "metadata": {
      "needs_background": "light"
     },
     "output_type": "display_data"
    },
    {
     "data": {
      "image/png": "[encoded data removed]",
      "text/plain": [
       "<Figure size 720x288 with 1 Axes>"
      ]
     },
     "metadata": {
      "needs_background": "light"
     },
     "output_type": "display_data"
    },
    {
     "data": {
      "image/png": "[encoded data removed]",
      "text/plain": [
       "<Figure size 720x288 with 1 Axes>"
      ]
     },
     "metadata": {
      "needs_background": "light"
     },
     "output_type": "display_data"
    },
    {
     "data": {
      "image/png": "[encoded data removed]",
      "text/plain": [
       "<Figure size 720x288 with 1 Axes>"
      ]
     },
     "metadata": {
      "needs_background": "light"
     },
     "output_type": "display_data"
    },
    {
     "data": {
      "image/png": "[encoded data removed]",
      "text/plain": [
       "<Figure size 720x288 with 1 Axes>"
      ]
     },
     "metadata": {
      "needs_background": "light"
     },
     "output_type": "display_data"
    },
    {
     "data": {
      "image/png": "[encoded data removed]",
      "text/plain": [
       "<Figure size 720x288 with 1 Axes>"
      ]
     },
     "metadata": {
      "needs_background": "light"
     },
     "output_type": "display_data"
    },
    {
     "data": {
      "image/png": "[encoded data removed]",
      "text/plain": [
       "<Figure size 720x288 with 1 Axes>"
      ]
     },
     "metadata": {
      "needs_background": "light"
     },
     "output_type": "display_data"
    }
   ],
   "source": [
    "# Посмотрим как распределяются глобальные продажи за год по популярным платформам\n",
    "must_pop_platform = ['ps4', 'ps3', 'xone', 'x360', '3ds', 'wiiu','pc']\n",
    "for plat in must_pop_platform:\n",
    "    (df_must_pop\n",
    "     .query('platform == @plat')\n",
    "     .groupby('year_of_release')['total_sales']\n",
    "     .sum()\n",
    "     .sort_values(ascending=False)\n",
    "     .plot(kind='bar', rot=60, figsize=(10, 4), title=plat)\n",
    "    )\n",
    "    plt.ylabel('total_sales')\n",
    "    plt.show()"
   ]
  },
  {
   "cell_type": "markdown",
   "metadata": {},
   "source": [
    "Среди лидеров по продажам, растут продажи у: `ps4`,`xone`. Продажи падают у: `ps3`,`x360`,`3ds`,`wiiu`\n",
    "\n",
    "Получается, что потенциально выгодные платформы это `ps4` и `xone`"
   ]
  },
  {
   "cell_type": "markdown",
   "metadata": {},
   "source": [
    "### Изучение продаж по платформам"
   ]
  },
  {
   "cell_type": "code",
   "execution_count": 28,
   "metadata": {},
   "outputs": [
    {
     "data": {
      "image/png": "[encoded data removed]",
      "text/plain": [
       "<Figure size 432x288 with 1 Axes>"
      ]
     },
     "metadata": {
      "needs_background": "light"
     },
     "output_type": "display_data"
    }
   ],
   "source": [
    "#Построим сиборновский \"ящик с усами\" по продажам в потенциально выгодных платформах\n",
    "sns.boxplot(x=df_must_pop.query('platform == \"ps4\" or platform == \"xone\"')['total_sales'],\n",
    "            y=df_must_pop.query('platform == \"ps4\" or platform == \"xone\"')['platform'],\n",
    "            orient='h')\n",
    "plt.xlim(0, 2)\n",
    "plt.grid()\n",
    "name_it('Продажи в потенциально выгодных платформах', 'Продажи', 'Платформа')\n",
    "plt.show()"
   ]
  },
  {
   "cell_type": "markdown",
   "metadata": {},
   "source": [
    "На графике, сгруппированном по платформам видно, что у платформы ps4 гораздо большое игр, чьи глобальные продажи существенно превосходят среднее значение глобальных продаж игр на платформе"
   ]
  },
  {
   "cell_type": "markdown",
   "metadata": {},
   "source": [
    "#### Влияние оценок критиков и пользователей"
   ]
  },
  {
   "cell_type": "code",
   "execution_count": 29,
   "metadata": {},
   "outputs": [],
   "source": [
    "# Из популярных платформ выберем ту, в которой пропусков в данных будет меньше от общего чилсла\n",
    "df_ps4 = df_must_pop.query('platform == \"ps4\"').copy()"
   ]
  },
  {
   "cell_type": "code",
   "execution_count": 30,
   "metadata": {},
   "outputs": [
    {
     "data": {
      "text/plain": [
       "0.406567902061781"
      ]
     },
     "execution_count": 30,
     "metadata": {},
     "output_type": "execute_result"
    }
   ],
   "source": [
    "# Посмотрим корреляцию глобальных продаж и оценок критиков\n",
    "df_ps4['total_sales'].corr(df_ps4['critic_score'])"
   ]
  },
  {
   "cell_type": "code",
   "execution_count": 31,
   "metadata": {},
   "outputs": [
    {
     "data": {
      "text/plain": [
       "-0.031957110204556424"
      ]
     },
     "execution_count": 31,
     "metadata": {},
     "output_type": "execute_result"
    }
   ],
   "source": [
    "# Посмотрим корреляцию глобальных продаж и оценок пользователей\n",
    "df_ps4['total_sales'].corr(df_ps4['user_score'])"
   ]
  },
  {
   "cell_type": "code",
   "execution_count": 32,
   "metadata": {},
   "outputs": [
    {
     "data": {
      "image/png": "[encoded data removed]",
      "text/plain": [
       "<Figure size 432x288 with 1 Axes>"
      ]
     },
     "metadata": {
      "needs_background": "light"
     },
     "output_type": "display_data"
    }
   ],
   "source": [
    "# Построим диаграму рассеяния зависимости глобальных продаж к оценкам критиков\n",
    "# и зависимости глобальных продаж к оценкам пользователей\n",
    "ax = df_ps4.plot(kind='scatter', x='total_sales', y='critic_score', color='b', alpha=0.2, legend=True)\n",
    "df_ps4.plot(kind='scatter', x='total_sales', y='user_score', color='g', ax=ax, alpha=0.2)\n",
    "plt.ylabel('score')\n",
    "name_it('Зависимости глобальных продаж к оценкам критиков и пользователей', 'Продажи', 'Оценка')\n",
    "plt.show()"
   ]
  },
  {
   "cell_type": "code",
   "execution_count": 33,
   "metadata": {},
   "outputs": [
    {
     "data": {
      "image/png": "[encoded data removed]",
      "text/plain": [
       "<Figure size 432x288 with 1 Axes>"
      ]
     },
     "metadata": {
      "needs_background": "light"
     },
     "output_type": "display_data"
    }
   ],
   "source": [
    "# Из-за большой разницы диапазонов предыдущая идея оказалась \"так себе\", для большей \n",
    "# понятности построим ещё одну диаграму рассеяния для зависимости глобальных\n",
    "# продаж к оценкам пользователей\n",
    "df_ps4.plot(kind='scatter', x='total_sales', y='user_score', color='g', alpha=0.2)\n",
    "name_it('Зависимость глобальных продаж к оценкам пользователей', 'Продажи', 'Оценка')\n",
    "plt.show()"
   ]
  },
  {
   "cell_type": "markdown",
   "metadata": {},
   "source": [
    "Оценим корреляцию по таблице Чеддока для платформы ps4:\n",
    "*  между глобальными продажами и оценками критиков корреляция \"умеренная\"\n",
    "*  между глобальными продажами и оценками пользователей корреляция \"слабая\"\n",
    "\n",
    "В целом на диаграммах рассеяния видно, что глобальные продажи сосредоточены в диапазоне оценок критиков от 60 до 90 по шкале от 0 до 100, в то время как для оценки пользователей используют практически весь доступный диапазон при шкале от 0 до 10.\n",
    "\n"
   ]
  },
  {
   "cell_type": "code",
   "execution_count": 34,
   "metadata": {},
   "outputs": [
    {
     "data": {
      "image/png": "[encoded data removed]",
      "text/plain": [
       "<Figure size 1008x360 with 4 Axes>"
      ]
     },
     "metadata": {
      "needs_background": "light"
     },
     "output_type": "display_data"
    }
   ],
   "source": [
    "fig, (ax1, ax2) = plt.subplots(1, 2, figsize=(14, 5))\n",
    "sns.heatmap(df_ps4.corr(), annot=True, cmap=\"YlGnBu\", ax=ax1)\n",
    "sns.heatmap(df.query('platform != \"ps4\"').corr(), annot=True, cmap=\"YlGnBu\", ax=ax2)\n",
    "ax1.title.set_text('ps4')\n",
    "ax2.title.set_text('other')\n",
    "plt.show()"
   ]
  },
  {
   "cell_type": "markdown",
   "metadata": {},
   "source": [
    "На других платформах корреляция отзывов критиков и кол-ва продаж уменьшилась, корреляция отзывов пользователей и кол-ва продаж стала положительной, но так же вблизи нуля. Возможно это связано с тем, что критики специализируются на платформе. Опять же нельзя не отметить, что на оценке критиками \"старых\" игр нарабатывались критерии оценки. Игры становясь более разнообразными приобретали и всё больше формальных факторов оценки, что в результате позволило увеличить точность оценки критиками. В то время как оценка пользователей осталась исключительно субъективной, в плоть до того понравилась игра \"да\" - \"нет\"."
   ]
  },
  {
   "cell_type": "markdown",
   "metadata": {},
   "source": [
    "#### Выбор прибыльных жанров"
   ]
  },
  {
   "cell_type": "code",
   "execution_count": 35,
   "metadata": {},
   "outputs": [],
   "source": [
    "# Напишем функцию, которая принимая на входе датасет (data), его столбец для группировки (group), \n",
    "# его столбце, по которому будет считать кол-во значений (quantity) и его столбец, значения\n",
    "# которого он будет складывать(value). Ну и при желании строить графики.\n",
    "def profitable (data, group='genre', quantity='name', value='total_sales', plot=False):\n",
    "    try:\n",
    "        count = data.groupby(group)[quantity].count().to_frame().reset_index()\n",
    "    except:\n",
    "        print('Названия передаваемые в group и quantity не должны совпадать')\n",
    "    try:\n",
    "        sales = data.groupby(group)[value].sum().to_frame().reset_index()\n",
    "    except:\n",
    "        print('Названия передаваемые в group и reg_sales не должны совпадать')\n",
    "    if plot:\n",
    "        count.plot(kind='bar', rot=60, x=group, title='quantity', legend=False)\n",
    "        name_it(('Кол-во выпускаемых игр по ' + group), group, value)\n",
    "        sales.plot(kind='bar', rot=60, x=group, title='sales', legend=False)\n",
    "        name_it(('Кол-во продаж игр по ' + group), group, value)\n",
    "    stat = count.merge(sales, how='left', on=group)\n",
    "    return stat"
   ]
  },
  {
   "cell_type": "code",
   "execution_count": 36,
   "metadata": {},
   "outputs": [
    {
     "data": {
      "image/png": "[encoded data removed]",
      "text/plain": [
       "<Figure size 432x288 with 1 Axes>"
      ]
     },
     "metadata": {
      "needs_background": "light"
     },
     "output_type": "display_data"
    },
    {
     "data": {
      "image/png": "[encoded data removed]",
      "text/plain": [
       "<Figure size 432x288 with 1 Axes>"
      ]
     },
     "metadata": {
      "needs_background": "light"
     },
     "output_type": "display_data"
    }
   ],
   "source": [
    "# применим её\n",
    "genre_stat_total = profitable (data=df_must_pop, group='genre', quantity='name', value='total_sales', plot=True)"
   ]
  },
  {
   "cell_type": "code",
   "execution_count": 37,
   "metadata": {},
   "outputs": [
    {
     "data": {
      "image/png": "[encoded data removed]",
      "text/plain": [
       "<Figure size 432x288 with 1 Axes>"
      ]
     },
     "metadata": {
      "needs_background": "light"
     },
     "output_type": "display_data"
    }
   ],
   "source": [
    "# Посчитаем сколько продаж приходится на одну игру, разделив общее кол-во продаж на кол-во игр\n",
    "genre_stat_total['profitable_genres'] = genre_stat_total['total_sales'] / genre_stat_total['name']\n",
    "genre_stat_total.plot(kind='bar', rot=60, x='genre', y='profitable_genres')\n",
    "name_it('Кол-во продаж на игру', 'Жанр', 'Продажи')"
   ]
  },
  {
   "cell_type": "markdown",
   "metadata": {},
   "source": [
    "Популярные жанры это: `action` `shooter` `sports` `role-playing`\n",
    "\n",
    "Среди количества продаж на одну игру, беззаговорочный лидер -  жанр `shooter`, на втором месте - `sports`, третье место - `platform`, далее близки - `role-playing`, `racing`, `fighting`, `misc` и `action`. Их же можно считать наиболее прибыльными при прочих равных. Однако для точной оценки не хватает цены игры."
   ]
  },
  {
   "cell_type": "markdown",
   "metadata": {},
   "source": [
    "### Вывод по разделу 3\n",
    "\n",
    "* Начиная с 1993 года кол-во выпускаемых игр начало существенно увеличиваться\n",
    "* Лидерами продаж за всё время, оказались: `ps2`, `x360`, `ps3`, `wii`, `ds` и `ps`\n",
    "* Платформа популярна в течении примерно 5-6 лет, после выхода на рынок, далее идёт спад продаж\n",
    "* Для прогноза продаж выбран период с 2013 года\n",
    "* Лидиры продаж следующие платфомы: `ps4`, `ps3`, `xone`, `3ds`, `x360`\n",
    "* Среди лидеров по продажам, растут продажи у: `ps4`,`xone`\n",
    "* Продажи падают у: `ps3`,`x360`,`3ds`,`wiiu`\n",
    "* Потенциально выгодные платформы это `ps4` и `xone`\n",
    "* У платформы `ps4` гораздо большое игр, чьи глобальные продажи существенно превосходят среднее значение глобальных продаж игр на платформе, в сравнении с `xone`\n",
    "* Корреляция оценена по таблице Чеддока для платформы `ps4`:\n",
    "    * между глобальными продажами и оценками критиков корреляция \"умеренная\"\n",
    "    * между глобальными продажами и оценками пользователей корреляция \"слабая\"\n",
    "* По диаграммам рассеяния установлено, что глобальные продажи сосредоточены в диапазоне оценок критиков от 60 до 90 по шкале от 0 до 100, в то время как для оценки пользователей используют практически весь доступный диапазон при шкале от 0 до 10\n",
    "* На других платформах корреляция отзывов критиков и кол-ва продаж уменьшилась, корреляция отзывов пользователей и кол-ва продаж стала положительной, но так же вблизи нуля\n",
    "* Популярные жанры это: `action` `shooter` `sports` `role-playing`"
   ]
  },
  {
   "cell_type": "markdown",
   "metadata": {},
   "source": [
    "## Раздел 4. Портрет пользователя региона"
   ]
  },
  {
   "cell_type": "markdown",
   "metadata": {},
   "source": [
    "### Популярные платформы по региону"
   ]
  },
  {
   "cell_type": "code",
   "execution_count": 38,
   "metadata": {},
   "outputs": [],
   "source": [
    "# Посчитаем популярные платформы по региону\n",
    "# Графики пока выключаем, для сравнения будет не удобно\n",
    "na_platform = profitable(data=df_must_pop.query('na_sales > 0'),\n",
    "                     group='platform', quantity='name', value='na_sales')\n",
    "eu_platform = profitable(data=df_must_pop.query('eu_sales > 0'),\n",
    "           group='platform', quantity='name', value='eu_sales')\n",
    "jp_platform = profitable(data=df_must_pop.query('jp_sales > 0'),\n",
    "           group='platform', quantity='name', value='jp_sales')"
   ]
  },
  {
   "cell_type": "code",
   "execution_count": 39,
   "metadata": {},
   "outputs": [],
   "source": [
    "# Напишем ещё одну функцию, которая соберет полученные на преведущем шаге данные\n",
    "# в один датасет\n",
    "def get_reg_stats (data, column, reg1_stats, reg2_stats, reg3_stats):\n",
    "    stats = data[column].value_counts().to_frame().reset_index()\n",
    "    stats = stats.rename(columns={'index':column, column:'count'})\n",
    "    stats = stats.merge(reg1_stats, how='left', on=column, suffixes=('_x','_z'))\n",
    "    stats = stats.merge(reg2_stats, how='left', on=column, suffixes=('_c','_v'))\n",
    "    stats = stats.merge(reg3_stats, how='left', on=column, suffixes=('_b','_n'))\n",
    "    return stats"
   ]
  },
  {
   "cell_type": "code",
   "execution_count": 40,
   "metadata": {},
   "outputs": [
    {
     "data": {
      "text/html": [
       "<div>\n",
       "<style scoped>\n",
       "    .dataframe tbody tr th:only-of-type {\n",
       "        vertical-align: middle;\n",
       "    }\n",
       "\n",
       "    .dataframe tbody tr th {\n",
       "        vertical-align: top;\n",
       "    }\n",
       "\n",
       "    .dataframe thead th {\n",
       "        text-align: right;\n",
       "    }\n",
       "</style>\n",
       "<table border=\"1\" class=\"dataframe\">\n",
       "  <thead>\n",
       "    <tr style=\"text-align: right;\">\n",
       "      <th></th>\n",
       "      <th>platform</th>\n",
       "      <th>count</th>\n",
       "      <th>name_c</th>\n",
       "      <th>na_sales</th>\n",
       "      <th>name_v</th>\n",
       "      <th>eu_sales</th>\n",
       "      <th>name</th>\n",
       "      <th>jp_sales</th>\n",
       "    </tr>\n",
       "  </thead>\n",
       "  <tbody>\n",
       "    <tr>\n",
       "      <td>0</td>\n",
       "      <td>ps4</td>\n",
       "      <td>392</td>\n",
       "      <td>294.0</td>\n",
       "      <td>108.74</td>\n",
       "      <td>290</td>\n",
       "      <td>141.09</td>\n",
       "      <td>223.0</td>\n",
       "      <td>15.96</td>\n",
       "    </tr>\n",
       "    <tr>\n",
       "      <td>1</td>\n",
       "      <td>psv</td>\n",
       "      <td>358</td>\n",
       "      <td>94.0</td>\n",
       "      <td>5.04</td>\n",
       "      <td>96</td>\n",
       "      <td>6.10</td>\n",
       "      <td>316.0</td>\n",
       "      <td>18.59</td>\n",
       "    </tr>\n",
       "    <tr>\n",
       "      <td>2</td>\n",
       "      <td>ps3</td>\n",
       "      <td>345</td>\n",
       "      <td>211.0</td>\n",
       "      <td>63.50</td>\n",
       "      <td>212</td>\n",
       "      <td>67.81</td>\n",
       "      <td>236.0</td>\n",
       "      <td>23.35</td>\n",
       "    </tr>\n",
       "  </tbody>\n",
       "</table>\n",
       "</div>"
      ],
      "text/plain": [
       "  platform  count  name_c  na_sales  name_v  eu_sales   name  jp_sales\n",
       "0      ps4    392   294.0    108.74     290    141.09  223.0     15.96\n",
       "1      psv    358    94.0      5.04      96      6.10  316.0     18.59\n",
       "2      ps3    345   211.0     63.50     212     67.81  236.0     23.35"
      ]
     },
     "execution_count": 40,
     "metadata": {},
     "output_type": "execute_result"
    }
   ],
   "source": [
    "# и применим её\n",
    "regs_stats = get_reg_stats(df_must_pop, 'platform', na_platform, eu_platform, jp_platform)\n",
    "regs_stats.head(3)"
   ]
  },
  {
   "cell_type": "code",
   "execution_count": 41,
   "metadata": {},
   "outputs": [
    {
     "data": {
      "image/png": "[encoded data removed]",
      "text/plain": [
       "<Figure size 720x288 with 1 Axes>"
      ]
     },
     "metadata": {
      "needs_background": "light"
     },
     "output_type": "display_data"
    }
   ],
   "source": [
    "# Построим график распределения продаж в регионах по платформам\n",
    "regs_stats.plot(kind='bar',\n",
    "                x='platform',\n",
    "                y=['na_sales', 'eu_sales', 'jp_sales'],\n",
    "                rot=60,figsize=(10,4))\n",
    "name_it('Распределение продаж в регионах по платформам', 'Платформа', 'Продажи')\n",
    "plt.show()"
   ]
  },
  {
   "cell_type": "markdown",
   "metadata": {},
   "source": [
    "Топ 5 продаваемых платформ с 2013 года получается следующий: ps4, xone, ps3, x360, 3ds.\n",
    "Пользователи Северной Афмерики чаще покупали игры для ps4, на втором по популярности xone и x360, видимо жители страны-производителя так реализуют свои идеи патриотизма.\n",
    "Пользователи европейского региона предпочитают платформу ps4 и ps3. А вот жители далёкой Японии, вопреки ожиданий выбирают 3ds, видимо за счёт её портативности)"
   ]
  },
  {
   "cell_type": "markdown",
   "metadata": {},
   "source": [
    "### Популярные жанры по региону"
   ]
  },
  {
   "cell_type": "code",
   "execution_count": 42,
   "metadata": {},
   "outputs": [
    {
     "data": {
      "image/png": "[encoded data removed]",
      "text/plain": [
       "<Figure size 720x288 with 1 Axes>"
      ]
     },
     "metadata": {
      "needs_background": "light"
     },
     "output_type": "display_data"
    }
   ],
   "source": [
    "# для жанра делаем тоже самое\n",
    "na_genre = profitable (data=df_must_pop.query('na_sales > 0'),\n",
    "                     group='genre', quantity='name', value='na_sales', plot=False)\n",
    "eu_genre = profitable(data=df_must_pop.query('eu_sales > 0'),\n",
    "           group='genre', quantity='name', value='eu_sales', plot=False)\n",
    "jp_genre = profitable(data=df_must_pop.query('jp_sales > 0'),\n",
    "           group='genre', quantity='name', value='jp_sales', plot=False)\n",
    "genre_stats = get_reg_stats(df_must_pop, 'genre', na_genre, eu_genre, jp_genre)\n",
    "genre_stats.plot(kind='bar', x='genre', y=['na_sales', 'eu_sales', 'jp_sales'], rot=60,figsize=(10,4))\n",
    "name_it('Распределение продаж в регионах по жанрам', 'Жанр', 'Продажи')\n",
    "plt.show()"
   ]
  },
  {
   "cell_type": "markdown",
   "metadata": {},
   "source": [
    "Топ 5 популярных жанров по регионам по убыванию:\n",
    "\n",
    "* Северная Америка: `action`, `shooter`, `sports`, `role-playing`, `racing` \\ `misc`\n",
    "\n",
    "* Европейский регион: `action`, `shooter`, `sports`, `role-playing`, `misc`\n",
    "\n",
    "* Япония: `role-playing`, `action`, `misc`, `fighting`, `shooter`\n",
    "\n",
    "В плане предпочтений по жанрам Северная Америка и Европа похожи (совпадают первые 4-ре позиции), отлична от них Япония у которой на первом месте жанр `role-playing` и в топ-5 входит жанр `fighting`, вытеснив `sports`."
   ]
  },
  {
   "cell_type": "markdown",
   "metadata": {},
   "source": [
    "### Влияние возрастного рейтинга"
   ]
  },
  {
   "cell_type": "markdown",
   "metadata": {},
   "source": [
    "Посмотрим влияние возрастного рейтинга для актуального периода исследования."
   ]
  },
  {
   "cell_type": "code",
   "execution_count": 43,
   "metadata": {},
   "outputs": [
    {
     "data": {
      "image/png": "[encoded data removed]",
      "text/plain": [
       "<Figure size 720x288 with 1 Axes>"
      ]
     },
     "metadata": {
      "needs_background": "light"
     },
     "output_type": "display_data"
    }
   ],
   "source": [
    "# повторяемся ещё один разок для рейтингов\n",
    "na_rating = profitable(data=df_must_pop,\n",
    "                     group='rating', quantity='name', value='na_sales')\n",
    "eu_rating = profitable(data=df_must_pop,\n",
    "                     group='rating', quantity='name', value='eu_sales')\n",
    "jp_rating = profitable(data=df_must_pop,\n",
    "                     group='rating', quantity='name', value='jp_sales')\n",
    "genre_stats = get_reg_stats(df_must_pop, 'rating', na_rating, eu_rating, jp_rating)\n",
    "genre_stats.plot(kind='bar', x='rating', y=['na_sales', 'eu_sales', 'jp_sales'], rot=60,figsize=(10,4))\n",
    "name_it('Распределение продаж в регионах по возрастному рейтингу', 'Рейтинг', 'Продажи')\n",
    "plt.show()"
   ]
  },
  {
   "cell_type": "markdown",
   "metadata": {},
   "source": [
    "Популярность по возрастному рейтингу аналогична популярности по жанрам, в том плане, что Северная Америка и Европа снова близки по предпочтениям. Только в этот раз Япония оказалась совсем уж \"далека\". В Европе и Северной Америке преимущетвенно выбирают игры рейтинга `m` (для взрослых), так же пользуются популярностью игры рейтинга `e`(для детей), далее по популярности `e10+` и `t`. В Японии же, в основном продаются игры рейтинг которых только ожидается, среди уже получивших рейтинг лидируют по продажам игры рейтинга `t`(подросткам), второе место делят `e` и `m`."
   ]
  },
  {
   "cell_type": "markdown",
   "metadata": {},
   "source": [
    "### Вывод по разделу 4\n",
    "\n",
    "* Топ 5 продаваемых платформ с 2013 года: `ps4`, `xone`, `ps3`, `x360`, `3ds`\n",
    "* Пользователи Северной Афмерики чаще покупали игры для `ps4`, на втором по популярности `xone` и `x360`\n",
    "* Пользователи Европейского региона предпочитают платформы `ps4` и `ps3`\n",
    "* Пользователи Японии выбирают `3ds`\n",
    "* Топ 5 популярных жанров по регионам по убыванию:\n",
    "    * Северная Америка: `action`, `shooter`, `sports`, `role-playing`, `racing` \\ `misc`\n",
    "    * Европейский регион: `action`, `shooter`, `sports`, `role-playing`, `misc`\n",
    "    * Япония: `role-playing`, `action`, `misc`, `fighting`, `shooter`\n",
    "* В Европе и Северной Америке преимущетвенно выбирают игры рейтинга m (для взрослых), так же пользуются популярностью игры рейтинга e(для детей), далее по популярности e10+ и t\n",
    "* В Японии же, в основном продаются игры рейтинг которых только ожидается, среди уже получивших рейтинг лидируют по продажам игры рейтинга t(подросткам), второе место делят e и m.\n",
    "\n",
    "В общем японские игроки - это подростки \"рубящиеся\" на 3ds в симулятор свиданий или покемоны. А Европейцы-Американцы - более взрослые игроки сидящие с ps'ки в GTA, Watch Dogs, Battle Field, Call Of Duty и т.п. игры."
   ]
  },
  {
   "cell_type": "markdown",
   "metadata": {},
   "source": [
    "## Раздел 5. Проверка гипотез"
   ]
  },
  {
   "cell_type": "markdown",
   "metadata": {},
   "source": [
    "### О пользовательских рейтингах платформ"
   ]
  },
  {
   "cell_type": "markdown",
   "metadata": {},
   "source": [
    "Нулевая гипотеза звучит так:\n",
    "\n",
    "•\tСредние пользовательские рейтинги платформ <i>Xbox One</i> и <i>PC</i> одинаковые\n",
    "\n",
    "Соответственно альтернативная гипотеза:\n",
    "\n",
    "•\tСредние пользовательские рейтинги платформ <i>Xbox One</i> и <i>PC</i> разные\n",
    "\n",
    "Здесь я провожу исследование за выбранный много выше актуальный период."
   ]
  },
  {
   "cell_type": "code",
   "execution_count": 44,
   "metadata": {},
   "outputs": [
    {
     "name": "stdout",
     "output_type": "stream",
     "text": [
      "p-значение: 0.07500684069580958\n",
      "Не получилось отвергнуть нулевую гипотезу\n"
     ]
    }
   ],
   "source": [
    "# Для проверки гипотиз применим двусторонний ттест, так как рейтинги могут быть\n",
    "# больше или меньше\n",
    "interesed_score = round(df_must_pop.query('platform == \"xone\"')['user_score'].mean(), 2)\n",
    "alpha = 0.05\n",
    "results = st.ttest_1samp(round(df_must_pop[(df_must_pop['platform'] == 'pc')\n",
    "                                           & (df_must_pop['user_score'].isna() == False)]['user_score']), interesed_score)\n",
    "\n",
    "print('p-значение:', results.pvalue)\n",
    "\n",
    "if results.pvalue < alpha:\n",
    "    print(\"Отвергаем нулевую гипотезу\")\n",
    "else:\n",
    "    print(\"Не получилось отвергнуть нулевую гипотезу\") "
   ]
  },
  {
   "cell_type": "code",
   "execution_count": 45,
   "metadata": {},
   "outputs": [
    {
     "data": {
      "image/png": "[encoded data removed]",
      "text/plain": [
       "<Figure size 432x288 with 1 Axes>"
      ]
     },
     "metadata": {
      "needs_background": "light"
     },
     "output_type": "display_data"
    }
   ],
   "source": [
    "# Можно в рамках такого сравнения, можно для наглядности посмотреть частотную гистограмму\n",
    "df_must_pop.query('platform == \"xone\"')['user_score'].hist(bins=100)\n",
    "df_must_pop.query('platform == \"pc\"')['user_score'].hist(bins=100)\n",
    "name_it('Частота оценок пользователей по выбранным платформам', 'Оценка', 'Частота')"
   ]
  },
  {
   "cell_type": "markdown",
   "metadata": {},
   "source": [
    "Нулевая гипотеза подтвердилась, частотная диаграмма так же показала высокое совпадение."
   ]
  },
  {
   "cell_type": "markdown",
   "metadata": {},
   "source": [
    "### О пользовательских рейтингах жанров"
   ]
  },
  {
   "cell_type": "markdown",
   "metadata": {},
   "source": [
    "Нулевая гипотеза звучит так:\n",
    "\n",
    "•\tСредние пользовательские рейтинги жанров Action (англ. «действие», экшен-игры) и Sports (англ. «спортивные соревнования») равные.\n",
    "\n",
    "Альтернативная гипотеза:\n",
    "\n",
    "•\tСредние пользовательские рейтинги жанров Action (англ. «действие», экшен-игры) и Sports (англ. «спортивные соревнования») разные.\n",
    "\n",
    "Так же исследование проводится за актуальный период."
   ]
  },
  {
   "cell_type": "code",
   "execution_count": 46,
   "metadata": {},
   "outputs": [
    {
     "name": "stdout",
     "output_type": "stream",
     "text": [
      "p-значение: 9.942521972540758e-22\n",
      "Отвергаем нулевую гипотезу\n"
     ]
    }
   ],
   "source": [
    "# так же для проверни гипотезы применяем двусторонний ттест\n",
    "interesed_score = round(df_must_pop.query('genre == \"action\"')['user_score'].mean(), 2)\n",
    "alpha = 0.05\n",
    "results = st.ttest_1samp(round(df_must_pop[(df_must_pop['genre'] == 'sports')\n",
    "                                           & (df_must_pop['user_score'].isna() == False)]['user_score']), interesed_score)\n",
    "\n",
    "print('p-значение:', results.pvalue)\n",
    "\n",
    "if results.pvalue < alpha:\n",
    "    print(\"Отвергаем нулевую гипотезу\")\n",
    "else:\n",
    "    print(\"Не получилось отвергнуть нулевую гипотезу\") "
   ]
  },
  {
   "cell_type": "code",
   "execution_count": 47,
   "metadata": {},
   "outputs": [
    {
     "data": {
      "image/png": "[encoded data removed]",
      "text/plain": [
       "<Figure size 432x288 with 1 Axes>"
      ]
     },
     "metadata": {
      "needs_background": "light"
     },
     "output_type": "display_data"
    }
   ],
   "source": [
    "# Здесь получился противоположенный результат, посмотрим как он выглядит на частотной\n",
    "# гистограмме\n",
    "df_must_pop.query('genre == \"action\"')['user_score'].hist(bins=100)\n",
    "df_must_pop.query('genre == \"sports\"')['user_score'].hist(bins=100)\n",
    "name_it('Частота оценок пользователей по данным жанрам', 'Оценка', 'Частота')\n",
    "plt.show()"
   ]
  },
  {
   "cell_type": "markdown",
   "metadata": {},
   "source": [
    "Нулевая гипотеза в процессе исследования была отвергнута и, соответственно, принята альтернативная гипотеза."
   ]
  },
  {
   "cell_type": "markdown",
   "metadata": {},
   "source": [
    "### Вывод по разделу 5\n",
    "\n"
   ]
  },
  {
   "cell_type": "markdown",
   "metadata": {},
   "source": [
    "* Проверка гипотизы в пункте 5.1 показала, что средние пользовательские рейтинги платформ Xbox One и PC одинаковые\n",
    "* Проверка гипотизы в п. 5.2 показала, что средние пользовательские рейтинги жанров Action (англ. «действие», экшен-игры) и Sports (англ. «спортивные соревнования») разные"
   ]
  },
  {
   "cell_type": "markdown",
   "metadata": {},
   "source": [
    "## Общий вывод"
   ]
  },
  {
   "cell_type": "markdown",
   "metadata": {},
   "source": [
    "В проекте были проводилось исследование по данным о продажах до 2016 года. Исходный датасет состоял из 16715 строк с столбцами содержащими количественные и категориальные данные.\n",
    "\n",
    "Для исследования данные прошли предобработку:\n",
    "- исправлен регистр в названиях столбцов и категориальных данных\n",
    "- для части столбцов изменён тип данных, на более подходящий\n",
    "- проведена обработка пропусков, включая категориальные столцы\n",
    "- удалены дубликаты\n",
    "- добавлен столбец `total_sales` суммарных продаж\n",
    "\n",
    "Начиная с 1993 года кол-во выпускаемых игр начало существенно увеличиваться. Лидерами продаж за всё время, оказались: `ps2`, `x360`, `ps3`, `wii`, `ds` и `ps`. Для прогноза продаж выбран период с 2013 года, список лидеров продаж по платфомам в этот период: `ps4`, `ps3`, `xone`, `3ds`, `x360`. Растущими платформами оказались `ps4` и `xone` и были выбраны как потенциально выгодные.\n",
    "\n",
    "Установлено связь глобальных продаж от оценок критиков, значительно более заметна, чем связь глобальных продаж и оценок пользователей.\n",
    "\n",
    "Определены популярные жанры: `action` `shooter` `sports` `role-playing`.\n",
    "\n",
    "Выбран актуальный период для исследования.\n",
    "\n",
    "* Топ 5 продаваемых платформ с 2013 года: `ps4`, `xone`, `ps3`, `x360`, `3ds`\n",
    "* Пользователи Северной Афмерики чаще покупали игры для `ps4`, на втором по популярности `xone` и `x360`\n",
    "* Пользователи Европейского региона предпочитают платформы `ps4` и `ps3`\n",
    "* Пользователи Японии выбирают `3ds`\n",
    "* Топ 5 популярных жанров по регионам по убыванию:\n",
    "    * Северная Америка: `action`, `shooter`, `sports`, `role-playing`, `racing` \\ `misc`\n",
    "    * Европейский регион: `action`, `shooter`, `sports`, `role-playing`, `misc`\n",
    "    * Япония: `role-playing`, `action`, `misc`, `fighting`, `shooter`\n",
    "* В Европе и Северной Америке преимущетвенно выбирают игры рейтинга `m` (для взрослых), так же пользуются популярностью игры рейтинга `e`(для детей), далее по популярности `e10+` и `t`\n",
    "* В Японии же, в основном продаются игры рейтинг которых только ожидается, среди уже получивших рейтинг лидируют по продажам игры рейтинга `t`(подросткам), второе место делят `e` и `m`.\n",
    "\n",
    "В общем японские игроки - это подростки \"рубящиеся\" на `3ds` в симулятор свиданий или покемоны. А Европейцы-Американцы - более взрослые игроки сидящие с `ps'ки` в GTA, Watch Dogs, Battle Field, Call Of Duty и т.п. игры.\n",
    "\n",
    "* Гипотиза, что средние пользовательские рейтинги платформ <i>Xbox One</i> и <i>PC</i> одинаковые подтвердилась\n",
    "* Гипотиза , что средние пользовательские рейтинги жанров <i>Action</i> (англ. «действие», экшен-игры) и <i>Sports</i> (англ. «спортивные соревнования») разные, так же подтвердилась.\n",
    "\n",
    "Для сети магазинов распространённых по всему миру, необходим подход по региону. Предпочтения клиентов из Северной Америки и Европы похожи, а вот предпочтения Японцев значительно отличаются, как по выбранным платформам так и по жанрам.\n",
    "\n",
    "Перед отправкой проекта выполнено: <i>Kernel -> Restart & Clear Output</i>, затем <i> Cell -> Run All </i>"
   ]
  }
 ],
 "metadata": {
  "ExecuteTimeLog": [
   {
    "duration": 1178,
    "start_time": "2022-02-17T11:16:50.982Z"
   },
   {
    "duration": 1597,
    "start_time": "2022-02-17T17:01:45.534Z"
   },
   {
    "duration": 12,
    "start_time": "2022-02-17T17:01:47.133Z"
   },
   {
    "duration": 38,
    "start_time": "2022-02-17T17:01:47.149Z"
   },
   {
    "duration": 22,
    "start_time": "2022-02-17T17:01:47.209Z"
   },
   {
    "duration": 12,
    "start_time": "2022-02-17T17:01:47.233Z"
   },
   {
    "duration": 11,
    "start_time": "2022-02-17T17:01:47.248Z"
   },
   {
    "duration": 441,
    "start_time": "2022-02-17T17:01:47.261Z"
   },
   {
    "duration": 17,
    "start_time": "2022-02-17T17:01:47.704Z"
   },
   {
    "duration": 6,
    "start_time": "2022-02-17T17:01:47.724Z"
   },
   {
    "duration": 5,
    "start_time": "2022-02-17T17:01:47.733Z"
   },
   {
    "duration": 15,
    "start_time": "2022-02-17T17:01:47.741Z"
   },
   {
    "duration": 8,
    "start_time": "2022-02-17T17:01:47.758Z"
   },
   {
    "duration": 5,
    "start_time": "2022-02-17T17:01:47.811Z"
   },
   {
    "duration": 36,
    "start_time": "2022-02-17T17:01:47.818Z"
   },
   {
    "duration": 23,
    "start_time": "2022-02-17T17:01:47.856Z"
   },
   {
    "duration": 33,
    "start_time": "2022-02-17T17:01:47.881Z"
   },
   {
    "duration": 6,
    "start_time": "2022-02-17T17:01:47.917Z"
   },
   {
    "duration": 43,
    "start_time": "2022-02-17T17:01:47.925Z"
   },
   {
    "duration": 47,
    "start_time": "2022-02-17T17:01:47.971Z"
   },
   {
    "duration": 14,
    "start_time": "2022-02-17T17:01:48.020Z"
   },
   {
    "duration": 14,
    "start_time": "2022-02-17T17:01:48.036Z"
   },
   {
    "duration": 10,
    "start_time": "2022-02-17T17:01:48.052Z"
   },
   {
    "duration": 47,
    "start_time": "2022-02-17T17:01:48.065Z"
   },
   {
    "duration": 25,
    "start_time": "2022-02-17T17:01:48.115Z"
   },
   {
    "duration": 6,
    "start_time": "2022-02-17T17:01:48.142Z"
   },
   {
    "duration": 8,
    "start_time": "2022-02-17T17:01:48.150Z"
   },
   {
    "duration": 589,
    "start_time": "2022-02-17T17:01:48.163Z"
   },
   {
    "duration": 608,
    "start_time": "2022-02-17T17:01:48.755Z"
   },
   {
    "duration": 2139,
    "start_time": "2022-02-17T17:01:49.365Z"
   },
   {
    "duration": 20,
    "start_time": "2022-02-17T17:01:51.507Z"
   },
   {
    "duration": 346,
    "start_time": "2022-02-17T17:01:51.529Z"
   },
   {
    "duration": 1868,
    "start_time": "2022-02-17T17:01:51.877Z"
   },
   {
    "duration": 285,
    "start_time": "2022-02-17T17:01:53.748Z"
   },
   {
    "duration": 7,
    "start_time": "2022-02-17T17:01:54.036Z"
   },
   {
    "duration": 9,
    "start_time": "2022-02-17T17:01:54.045Z"
   },
   {
    "duration": 9,
    "start_time": "2022-02-17T17:01:54.057Z"
   },
   {
    "duration": 544,
    "start_time": "2022-02-17T17:01:54.068Z"
   },
   {
    "duration": 420,
    "start_time": "2022-02-17T17:01:54.614Z"
   },
   {
    "duration": 1850,
    "start_time": "2022-02-17T17:01:55.037Z"
   },
   {
    "duration": 6,
    "start_time": "2022-02-17T17:01:56.889Z"
   },
   {
    "duration": 677,
    "start_time": "2022-02-17T17:01:56.911Z"
   },
   {
    "duration": 349,
    "start_time": "2022-02-17T17:01:57.591Z"
   },
   {
    "duration": 44,
    "start_time": "2022-02-17T17:01:57.944Z"
   },
   {
    "duration": 59,
    "start_time": "2022-02-17T17:01:57.990Z"
   },
   {
    "duration": 696,
    "start_time": "2022-02-17T17:01:58.052Z"
   },
   {
    "duration": 508,
    "start_time": "2022-02-17T17:01:58.751Z"
   },
   {
    "duration": 21,
    "start_time": "2022-02-17T17:04:23.171Z"
   },
   {
    "duration": 11,
    "start_time": "2022-02-17T17:04:46.290Z"
   },
   {
    "duration": 1300,
    "start_time": "2022-02-17T17:05:35.429Z"
   },
   {
    "duration": 1414,
    "start_time": "2022-02-17T17:05:41.494Z"
   },
   {
    "duration": 9,
    "start_time": "2022-02-17T17:06:31.207Z"
   },
   {
    "duration": 15,
    "start_time": "2022-02-17T17:11:03.811Z"
   },
   {
    "duration": 12,
    "start_time": "2022-02-17T17:11:07.927Z"
   },
   {
    "duration": 502,
    "start_time": "2022-02-17T17:11:43.916Z"
   },
   {
    "duration": 993,
    "start_time": "2022-02-17T17:20:49.794Z"
   },
   {
    "duration": 992,
    "start_time": "2022-02-17T17:21:07.242Z"
   },
   {
    "duration": 967,
    "start_time": "2022-02-17T17:21:47.548Z"
   },
   {
    "duration": 1142,
    "start_time": "2022-02-17T17:22:08.716Z"
   },
   {
    "duration": 999,
    "start_time": "2022-02-17T17:23:26.982Z"
   },
   {
    "duration": 6,
    "start_time": "2022-02-17T17:23:43.342Z"
   },
   {
    "duration": 1213,
    "start_time": "2022-02-17T17:23:57.991Z"
   },
   {
    "duration": 8,
    "start_time": "2022-02-17T17:24:06.895Z"
   },
   {
    "duration": 6,
    "start_time": "2022-02-17T17:24:21.783Z"
   },
   {
    "duration": 35,
    "start_time": "2022-02-17T17:25:10.951Z"
   },
   {
    "duration": 39,
    "start_time": "2022-02-17T17:25:31.582Z"
   },
   {
    "duration": 140,
    "start_time": "2022-02-17T17:25:45.970Z"
   },
   {
    "duration": 444,
    "start_time": "2022-02-17T17:25:49.561Z"
   },
   {
    "duration": 538,
    "start_time": "2022-02-17T17:26:42.689Z"
   },
   {
    "duration": 688,
    "start_time": "2022-02-17T17:27:07.916Z"
   },
   {
    "duration": 572,
    "start_time": "2022-02-17T17:27:24.379Z"
   },
   {
    "duration": 400,
    "start_time": "2022-02-17T17:28:08.411Z"
   },
   {
    "duration": 41,
    "start_time": "2022-02-17T17:28:13.053Z"
   },
   {
    "duration": 36,
    "start_time": "2022-02-17T17:28:16.709Z"
   },
   {
    "duration": 589,
    "start_time": "2022-02-17T17:28:19.885Z"
   },
   {
    "duration": 430,
    "start_time": "2022-02-17T17:28:23.901Z"
   },
   {
    "duration": 9546,
    "start_time": "2022-02-17T17:30:37.119Z"
   },
   {
    "duration": 62,
    "start_time": "2022-02-17T17:32:46.892Z"
   },
   {
    "duration": 50,
    "start_time": "2022-02-17T17:33:02.452Z"
   },
   {
    "duration": 385,
    "start_time": "2022-02-17T17:33:11.451Z"
   },
   {
    "duration": 7,
    "start_time": "2022-02-17T17:34:46.934Z"
   },
   {
    "duration": 7,
    "start_time": "2022-02-17T17:34:58.446Z"
   },
   {
    "duration": 412,
    "start_time": "2022-02-17T17:56:44.979Z"
   },
   {
    "duration": 125,
    "start_time": "2022-02-17T17:56:53.868Z"
   },
   {
    "duration": 120,
    "start_time": "2022-02-17T17:56:58.483Z"
   },
   {
    "duration": 391,
    "start_time": "2022-02-17T17:57:02.555Z"
   },
   {
    "duration": 393,
    "start_time": "2022-02-17T17:57:13.060Z"
   },
   {
    "duration": 384,
    "start_time": "2022-02-17T17:57:37.636Z"
   },
   {
    "duration": 396,
    "start_time": "2022-02-17T17:57:43.045Z"
   },
   {
    "duration": 31,
    "start_time": "2022-02-17T17:57:45.684Z"
   },
   {
    "duration": 11,
    "start_time": "2022-02-17T17:58:03.931Z"
   },
   {
    "duration": 7,
    "start_time": "2022-02-17T17:58:27.325Z"
   },
   {
    "duration": 13,
    "start_time": "2022-02-17T17:58:38.014Z"
   },
   {
    "duration": 10,
    "start_time": "2022-02-17T17:58:46.629Z"
   },
   {
    "duration": 10,
    "start_time": "2022-02-17T17:58:53.485Z"
   },
   {
    "duration": 3,
    "start_time": "2022-02-17T19:12:06.564Z"
   },
   {
    "duration": 10,
    "start_time": "2022-02-17T19:14:39.615Z"
   },
   {
    "duration": 7,
    "start_time": "2022-02-17T19:15:02.150Z"
   },
   {
    "duration": 6,
    "start_time": "2022-02-17T19:16:05.642Z"
   },
   {
    "duration": 6,
    "start_time": "2022-02-17T19:16:15.280Z"
   },
   {
    "duration": 11,
    "start_time": "2022-02-17T19:16:49.122Z"
   },
   {
    "duration": 10,
    "start_time": "2022-02-17T19:18:41.860Z"
   },
   {
    "duration": 10,
    "start_time": "2022-02-17T19:18:45.772Z"
   },
   {
    "duration": 11,
    "start_time": "2022-02-17T19:18:49.324Z"
   },
   {
    "duration": 9,
    "start_time": "2022-02-17T19:18:52.437Z"
   },
   {
    "duration": 11,
    "start_time": "2022-02-17T19:19:06.669Z"
   },
   {
    "duration": 499,
    "start_time": "2022-02-17T19:21:13.522Z"
   },
   {
    "duration": 385,
    "start_time": "2022-02-17T19:21:40.809Z"
   },
   {
    "duration": 1790,
    "start_time": "2022-02-17T19:21:51.422Z"
   },
   {
    "duration": 12,
    "start_time": "2022-02-17T19:21:53.215Z"
   },
   {
    "duration": 39,
    "start_time": "2022-02-17T19:21:53.230Z"
   },
   {
    "duration": 49,
    "start_time": "2022-02-17T19:21:53.271Z"
   },
   {
    "duration": 10,
    "start_time": "2022-02-17T19:21:53.324Z"
   },
   {
    "duration": 19,
    "start_time": "2022-02-17T19:21:53.336Z"
   },
   {
    "duration": 434,
    "start_time": "2022-02-17T19:21:53.358Z"
   },
   {
    "duration": 20,
    "start_time": "2022-02-17T19:21:53.797Z"
   },
   {
    "duration": 7,
    "start_time": "2022-02-17T19:21:53.820Z"
   },
   {
    "duration": 11,
    "start_time": "2022-02-17T19:21:53.829Z"
   },
   {
    "duration": 15,
    "start_time": "2022-02-17T19:21:53.842Z"
   },
   {
    "duration": 6,
    "start_time": "2022-02-17T19:21:53.860Z"
   },
   {
    "duration": 6,
    "start_time": "2022-02-17T19:21:53.869Z"
   },
   {
    "duration": 32,
    "start_time": "2022-02-17T19:21:53.911Z"
   },
   {
    "duration": 23,
    "start_time": "2022-02-17T19:21:53.946Z"
   },
   {
    "duration": 42,
    "start_time": "2022-02-17T19:21:53.972Z"
   },
   {
    "duration": 6,
    "start_time": "2022-02-17T19:21:54.016Z"
   },
   {
    "duration": 32,
    "start_time": "2022-02-17T19:21:54.025Z"
   },
   {
    "duration": 50,
    "start_time": "2022-02-17T19:21:54.060Z"
   },
   {
    "duration": 14,
    "start_time": "2022-02-17T19:21:54.113Z"
   },
   {
    "duration": 13,
    "start_time": "2022-02-17T19:21:54.129Z"
   },
   {
    "duration": 10,
    "start_time": "2022-02-17T19:21:54.145Z"
   },
   {
    "duration": 4,
    "start_time": "2022-02-17T19:21:54.163Z"
   },
   {
    "duration": 22,
    "start_time": "2022-02-17T19:21:54.213Z"
   },
   {
    "duration": 7,
    "start_time": "2022-02-17T19:21:54.238Z"
   },
   {
    "duration": 8,
    "start_time": "2022-02-17T19:21:54.247Z"
   },
   {
    "duration": 601,
    "start_time": "2022-02-17T19:21:54.258Z"
   },
   {
    "duration": 521,
    "start_time": "2022-02-17T19:21:54.862Z"
   },
   {
    "duration": 2200,
    "start_time": "2022-02-17T19:21:55.385Z"
   },
   {
    "duration": 23,
    "start_time": "2022-02-17T19:21:57.588Z"
   },
   {
    "duration": 327,
    "start_time": "2022-02-17T19:21:57.613Z"
   },
   {
    "duration": 1918,
    "start_time": "2022-02-17T19:21:57.944Z"
   },
   {
    "duration": 290,
    "start_time": "2022-02-17T19:21:59.865Z"
   },
   {
    "duration": 9,
    "start_time": "2022-02-17T19:22:00.158Z"
   },
   {
    "duration": 16,
    "start_time": "2022-02-17T19:22:00.169Z"
   },
   {
    "duration": 28,
    "start_time": "2022-02-17T19:22:00.188Z"
   },
   {
    "duration": 614,
    "start_time": "2022-02-17T19:22:00.218Z"
   },
   {
    "duration": 545,
    "start_time": "2022-02-17T19:22:00.835Z"
   },
   {
    "duration": 1855,
    "start_time": "2022-02-17T19:22:01.382Z"
   },
   {
    "duration": 6,
    "start_time": "2022-02-17T19:22:03.240Z"
   },
   {
    "duration": 678,
    "start_time": "2022-02-17T19:22:03.249Z"
   },
   {
    "duration": 349,
    "start_time": "2022-02-17T19:22:03.929Z"
   },
   {
    "duration": 54,
    "start_time": "2022-02-17T19:22:04.281Z"
   },
   {
    "duration": 5,
    "start_time": "2022-02-17T19:22:04.338Z"
   },
   {
    "duration": 40,
    "start_time": "2022-02-17T19:22:04.345Z"
   },
   {
    "duration": 455,
    "start_time": "2022-02-17T19:22:04.387Z"
   },
   {
    "duration": 514,
    "start_time": "2022-02-17T19:22:04.845Z"
   },
   {
    "duration": 392,
    "start_time": "2022-02-17T19:22:05.362Z"
   },
   {
    "duration": 14,
    "start_time": "2022-02-17T19:22:05.756Z"
   },
   {
    "duration": 9,
    "start_time": "2022-02-17T19:22:05.772Z"
   },
   {
    "duration": 525,
    "start_time": "2022-02-17T19:24:06.844Z"
   },
   {
    "duration": 15,
    "start_time": "2022-02-17T19:24:22.917Z"
   },
   {
    "duration": 16,
    "start_time": "2022-02-17T19:26:25.951Z"
   },
   {
    "duration": 19,
    "start_time": "2022-02-17T19:28:04.167Z"
   },
   {
    "duration": 428,
    "start_time": "2022-02-17T19:29:29.922Z"
   },
   {
    "duration": 489,
    "start_time": "2022-02-17T19:29:47.243Z"
   },
   {
    "duration": 341,
    "start_time": "2022-02-17T19:29:58.917Z"
   },
   {
    "duration": 14102,
    "start_time": "2022-02-17T19:30:04.420Z"
   },
   {
    "duration": 406,
    "start_time": "2022-02-17T19:30:29.220Z"
   },
   {
    "duration": 429,
    "start_time": "2022-02-17T19:30:42.284Z"
   },
   {
    "duration": 433,
    "start_time": "2022-02-17T19:30:54.013Z"
   },
   {
    "duration": 350,
    "start_time": "2022-02-17T19:31:38.166Z"
   },
   {
    "duration": 846,
    "start_time": "2022-02-17T19:32:14.711Z"
   },
   {
    "duration": 873,
    "start_time": "2022-02-17T19:32:22.175Z"
   },
   {
    "duration": 1126,
    "start_time": "2022-02-17T19:33:58.106Z"
   },
   {
    "duration": 1050,
    "start_time": "2022-02-17T19:34:43.219Z"
   },
   {
    "duration": 9,
    "start_time": "2022-02-17T19:42:21.797Z"
   },
   {
    "duration": 78,
    "start_time": "2022-02-17T19:45:02.740Z"
   },
   {
    "duration": 12,
    "start_time": "2022-02-17T19:45:02.820Z"
   },
   {
    "duration": 39,
    "start_time": "2022-02-17T19:45:02.835Z"
   },
   {
    "duration": 19,
    "start_time": "2022-02-17T19:45:02.911Z"
   },
   {
    "duration": 10,
    "start_time": "2022-02-17T19:45:02.933Z"
   },
   {
    "duration": 7,
    "start_time": "2022-02-17T19:45:02.946Z"
   },
   {
    "duration": 524,
    "start_time": "2022-02-17T19:45:02.956Z"
   },
   {
    "duration": 28,
    "start_time": "2022-02-17T19:45:03.484Z"
   },
   {
    "duration": 6,
    "start_time": "2022-02-17T19:45:03.515Z"
   },
   {
    "duration": 9,
    "start_time": "2022-02-17T19:45:03.524Z"
   },
   {
    "duration": 16,
    "start_time": "2022-02-17T19:45:03.536Z"
   },
   {
    "duration": 7,
    "start_time": "2022-02-17T19:45:06.025Z"
   },
   {
    "duration": 453,
    "start_time": "2022-02-17T19:45:21.026Z"
   },
   {
    "duration": 12,
    "start_time": "2022-02-17T19:49:18.449Z"
   },
   {
    "duration": 14,
    "start_time": "2022-02-17T19:49:28.471Z"
   },
   {
    "duration": 10,
    "start_time": "2022-02-17T19:50:15.033Z"
   },
   {
    "duration": 80,
    "start_time": "2022-02-17T19:50:27.734Z"
   },
   {
    "duration": 12,
    "start_time": "2022-02-17T19:50:27.816Z"
   },
   {
    "duration": 79,
    "start_time": "2022-02-17T19:50:27.831Z"
   },
   {
    "duration": 22,
    "start_time": "2022-02-17T19:50:27.913Z"
   },
   {
    "duration": 9,
    "start_time": "2022-02-17T19:50:27.938Z"
   },
   {
    "duration": 6,
    "start_time": "2022-02-17T19:50:27.950Z"
   },
   {
    "duration": 563,
    "start_time": "2022-02-17T19:50:27.960Z"
   },
   {
    "duration": 14,
    "start_time": "2022-02-17T19:50:28.528Z"
   },
   {
    "duration": 6,
    "start_time": "2022-02-17T19:50:28.545Z"
   },
   {
    "duration": 7,
    "start_time": "2022-02-17T19:50:28.553Z"
   },
   {
    "duration": 49,
    "start_time": "2022-02-17T19:50:28.562Z"
   },
   {
    "duration": 15,
    "start_time": "2022-02-17T19:50:28.613Z"
   },
   {
    "duration": 6,
    "start_time": "2022-02-17T19:50:28.630Z"
   },
   {
    "duration": 31,
    "start_time": "2022-02-17T19:50:28.639Z"
   },
   {
    "duration": 60,
    "start_time": "2022-02-17T19:50:28.673Z"
   },
   {
    "duration": 9,
    "start_time": "2022-02-17T19:50:28.736Z"
   },
   {
    "duration": 5,
    "start_time": "2022-02-17T19:50:28.747Z"
   },
   {
    "duration": 62,
    "start_time": "2022-02-17T19:50:28.755Z"
   },
   {
    "duration": 19,
    "start_time": "2022-02-17T19:50:28.819Z"
   },
   {
    "duration": 14,
    "start_time": "2022-02-17T19:50:28.841Z"
   },
   {
    "duration": 13,
    "start_time": "2022-02-17T19:50:28.858Z"
   },
   {
    "duration": 40,
    "start_time": "2022-02-17T19:50:28.873Z"
   },
   {
    "duration": 5,
    "start_time": "2022-02-17T19:50:28.919Z"
   },
   {
    "duration": 20,
    "start_time": "2022-02-17T19:50:28.927Z"
   },
   {
    "duration": 7,
    "start_time": "2022-02-17T19:50:28.949Z"
   },
   {
    "duration": 9,
    "start_time": "2022-02-17T19:50:28.958Z"
   },
   {
    "duration": 569,
    "start_time": "2022-02-17T19:50:29.009Z"
   },
   {
    "duration": 511,
    "start_time": "2022-02-17T19:50:29.582Z"
   },
   {
    "duration": 2040,
    "start_time": "2022-02-17T19:50:30.096Z"
   },
   {
    "duration": 15,
    "start_time": "2022-02-17T19:50:32.138Z"
   },
   {
    "duration": 343,
    "start_time": "2022-02-17T19:50:32.155Z"
   },
   {
    "duration": 2153,
    "start_time": "2022-02-17T19:50:32.500Z"
   },
   {
    "duration": 297,
    "start_time": "2022-02-17T19:50:34.656Z"
   },
   {
    "duration": 8,
    "start_time": "2022-02-17T19:50:34.955Z"
   },
   {
    "duration": 9,
    "start_time": "2022-02-17T19:50:34.965Z"
   },
   {
    "duration": 7,
    "start_time": "2022-02-17T19:50:34.977Z"
   },
   {
    "duration": 480,
    "start_time": "2022-02-17T19:50:35.012Z"
   },
   {
    "duration": 420,
    "start_time": "2022-02-17T19:50:35.494Z"
   },
   {
    "duration": 1646,
    "start_time": "2022-02-17T19:50:35.916Z"
   },
   {
    "duration": 6,
    "start_time": "2022-02-17T19:50:37.564Z"
   },
   {
    "duration": 717,
    "start_time": "2022-02-17T19:50:37.574Z"
   },
   {
    "duration": 358,
    "start_time": "2022-02-17T19:50:38.294Z"
   },
   {
    "duration": 61,
    "start_time": "2022-02-17T19:50:38.655Z"
   },
   {
    "duration": 6,
    "start_time": "2022-02-17T19:50:38.718Z"
   },
   {
    "duration": 43,
    "start_time": "2022-02-17T19:50:38.726Z"
   },
   {
    "duration": 456,
    "start_time": "2022-02-17T19:50:38.772Z"
   },
   {
    "duration": 529,
    "start_time": "2022-02-17T19:50:39.230Z"
   },
   {
    "duration": 398,
    "start_time": "2022-02-17T19:50:39.762Z"
   },
   {
    "duration": 15,
    "start_time": "2022-02-17T19:50:40.163Z"
   },
   {
    "duration": 883,
    "start_time": "2022-02-17T19:50:40.181Z"
   },
   {
    "duration": 15,
    "start_time": "2022-02-17T19:50:41.067Z"
   },
   {
    "duration": 1098,
    "start_time": "2022-02-17T19:50:41.085Z"
   },
   {
    "duration": 16,
    "start_time": "2022-02-17T19:51:15.746Z"
   },
   {
    "duration": 874,
    "start_time": "2022-02-17T19:51:19.810Z"
   },
   {
    "duration": 14,
    "start_time": "2022-02-17T19:51:22.707Z"
   },
   {
    "duration": 23,
    "start_time": "2022-02-17T19:57:09.299Z"
   },
   {
    "duration": 493,
    "start_time": "2022-02-17T20:02:44.010Z"
   },
   {
    "duration": 639,
    "start_time": "2022-02-17T20:02:49.803Z"
   },
   {
    "duration": 318,
    "start_time": "2022-02-17T20:07:12.080Z"
   },
   {
    "duration": 633,
    "start_time": "2022-02-17T20:09:33.827Z"
   },
   {
    "duration": 807,
    "start_time": "2022-02-17T20:10:24.709Z"
   },
   {
    "duration": 1940,
    "start_time": "2022-02-17T20:11:25.222Z"
   },
   {
    "duration": 7,
    "start_time": "2022-02-17T20:26:35.650Z"
   },
   {
    "duration": 1150,
    "start_time": "2022-02-17T20:26:37.833Z"
   },
   {
    "duration": 8,
    "start_time": "2022-02-17T20:26:50.370Z"
   },
   {
    "duration": 643,
    "start_time": "2022-02-17T20:26:52.073Z"
   },
   {
    "duration": 8,
    "start_time": "2022-02-17T20:27:04.460Z"
   },
   {
    "duration": 683,
    "start_time": "2022-02-17T20:27:07.131Z"
   },
   {
    "duration": 43,
    "start_time": "2022-02-17T20:30:23.911Z"
   },
   {
    "duration": 42,
    "start_time": "2022-02-17T20:30:41.119Z"
   },
   {
    "duration": 7,
    "start_time": "2022-02-17T20:32:28.609Z"
   },
   {
    "duration": 35,
    "start_time": "2022-02-17T20:32:45.454Z"
   },
   {
    "duration": 435,
    "start_time": "2022-02-17T20:33:35.275Z"
   },
   {
    "duration": 397,
    "start_time": "2022-02-17T20:39:36.931Z"
   },
   {
    "duration": 15,
    "start_time": "2022-02-17T20:46:38.174Z"
   },
   {
    "duration": 16,
    "start_time": "2022-02-17T20:47:11.969Z"
   },
   {
    "duration": 337,
    "start_time": "2022-02-18T07:04:02.790Z"
   },
   {
    "duration": 1633,
    "start_time": "2022-02-18T07:04:06.571Z"
   },
   {
    "duration": 21,
    "start_time": "2022-02-18T07:04:08.207Z"
   },
   {
    "duration": 41,
    "start_time": "2022-02-18T07:04:08.232Z"
   },
   {
    "duration": 55,
    "start_time": "2022-02-18T07:04:08.276Z"
   },
   {
    "duration": 11,
    "start_time": "2022-02-18T07:04:08.334Z"
   },
   {
    "duration": 19,
    "start_time": "2022-02-18T07:04:08.348Z"
   },
   {
    "duration": 443,
    "start_time": "2022-02-18T07:04:08.370Z"
   },
   {
    "duration": 19,
    "start_time": "2022-02-18T07:04:08.817Z"
   },
   {
    "duration": 6,
    "start_time": "2022-02-18T07:04:08.839Z"
   },
   {
    "duration": 10,
    "start_time": "2022-02-18T07:04:08.847Z"
   },
   {
    "duration": 17,
    "start_time": "2022-02-18T07:04:08.859Z"
   },
   {
    "duration": 52,
    "start_time": "2022-02-18T07:04:08.879Z"
   },
   {
    "duration": 7,
    "start_time": "2022-02-18T07:04:08.933Z"
   },
   {
    "duration": 34,
    "start_time": "2022-02-18T07:04:08.942Z"
   },
   {
    "duration": 48,
    "start_time": "2022-02-18T07:04:08.979Z"
   },
   {
    "duration": 7,
    "start_time": "2022-02-18T07:04:09.029Z"
   },
   {
    "duration": 5,
    "start_time": "2022-02-18T07:04:09.039Z"
   },
   {
    "duration": 21,
    "start_time": "2022-02-18T07:04:09.047Z"
   },
   {
    "duration": 13,
    "start_time": "2022-02-18T07:04:09.070Z"
   },
   {
    "duration": 6,
    "start_time": "2022-02-18T07:04:09.126Z"
   },
   {
    "duration": 9,
    "start_time": "2022-02-18T07:04:09.134Z"
   },
   {
    "duration": 683,
    "start_time": "2022-02-18T07:04:09.145Z"
   },
   {
    "duration": 493,
    "start_time": "2022-02-18T07:04:09.833Z"
   },
   {
    "duration": 2081,
    "start_time": "2022-02-18T07:04:10.329Z"
   },
   {
    "duration": 26,
    "start_time": "2022-02-18T07:04:12.413Z"
   },
   {
    "duration": 343,
    "start_time": "2022-02-18T07:04:12.442Z"
   },
   {
    "duration": 1920,
    "start_time": "2022-02-18T07:04:12.788Z"
   },
   {
    "duration": 288,
    "start_time": "2022-02-18T07:04:14.710Z"
   },
   {
    "duration": 10,
    "start_time": "2022-02-18T07:04:15.000Z"
   },
   {
    "duration": 11,
    "start_time": "2022-02-18T07:04:15.028Z"
   },
   {
    "duration": 19,
    "start_time": "2022-02-18T07:04:15.042Z"
   },
   {
    "duration": 562,
    "start_time": "2022-02-18T07:04:15.064Z"
   },
   {
    "duration": 407,
    "start_time": "2022-02-18T07:04:15.629Z"
   },
   {
    "duration": 1664,
    "start_time": "2022-02-18T07:04:16.039Z"
   },
   {
    "duration": 20,
    "start_time": "2022-02-18T07:04:17.706Z"
   },
   {
    "duration": 639,
    "start_time": "2022-02-18T07:04:17.730Z"
   },
   {
    "duration": 366,
    "start_time": "2022-02-18T07:04:18.372Z"
   },
   {
    "duration": 43,
    "start_time": "2022-02-18T07:04:18.741Z"
   },
   {
    "duration": 7,
    "start_time": "2022-02-18T07:04:18.787Z"
   },
   {
    "duration": 36,
    "start_time": "2022-02-18T07:04:18.825Z"
   },
   {
    "duration": 566,
    "start_time": "2022-02-18T07:04:18.864Z"
   },
   {
    "duration": 533,
    "start_time": "2022-02-18T07:04:19.433Z"
   },
   {
    "duration": 404,
    "start_time": "2022-02-18T07:04:19.969Z"
   },
   {
    "duration": 14,
    "start_time": "2022-02-18T07:04:20.377Z"
   },
   {
    "duration": 1076,
    "start_time": "2022-02-18T07:04:20.394Z"
   },
   {
    "duration": 17,
    "start_time": "2022-02-18T07:04:21.473Z"
   },
   {
    "duration": 865,
    "start_time": "2022-02-18T07:04:21.493Z"
   },
   {
    "duration": 763,
    "start_time": "2022-02-18T07:09:52.892Z"
   },
   {
    "duration": 75,
    "start_time": "2022-02-18T07:10:01.080Z"
   },
   {
    "duration": 370,
    "start_time": "2022-02-18T07:10:05.911Z"
   },
   {
    "duration": 68,
    "start_time": "2022-02-18T07:10:15.161Z"
   },
   {
    "duration": 11,
    "start_time": "2022-02-18T07:10:15.232Z"
   },
   {
    "duration": 39,
    "start_time": "2022-02-18T07:10:15.246Z"
   },
   {
    "duration": 44,
    "start_time": "2022-02-18T07:10:15.287Z"
   },
   {
    "duration": 13,
    "start_time": "2022-02-18T07:10:15.334Z"
   },
   {
    "duration": 7,
    "start_time": "2022-02-18T07:10:15.350Z"
   },
   {
    "duration": 412,
    "start_time": "2022-02-18T07:10:19.571Z"
   },
   {
    "duration": 605,
    "start_time": "2022-02-18T07:11:44.061Z"
   },
   {
    "duration": 331,
    "start_time": "2022-02-18T07:12:55.512Z"
   },
   {
    "duration": 75,
    "start_time": "2022-02-18T07:13:00.329Z"
   },
   {
    "duration": 13,
    "start_time": "2022-02-18T07:13:00.427Z"
   },
   {
    "duration": 42,
    "start_time": "2022-02-18T07:13:00.444Z"
   },
   {
    "duration": 53,
    "start_time": "2022-02-18T07:13:00.490Z"
   },
   {
    "duration": 12,
    "start_time": "2022-02-18T07:13:00.546Z"
   },
   {
    "duration": 9,
    "start_time": "2022-02-18T07:13:00.560Z"
   },
   {
    "duration": 492,
    "start_time": "2022-02-18T07:13:00.571Z"
   },
   {
    "duration": 13,
    "start_time": "2022-02-18T07:13:01.065Z"
   },
   {
    "duration": 7,
    "start_time": "2022-02-18T07:13:01.082Z"
   },
   {
    "duration": 37,
    "start_time": "2022-02-18T07:13:01.091Z"
   },
   {
    "duration": 21,
    "start_time": "2022-02-18T07:13:01.131Z"
   },
   {
    "duration": 28,
    "start_time": "2022-02-18T07:13:01.155Z"
   },
   {
    "duration": 7,
    "start_time": "2022-02-18T07:13:01.186Z"
   },
   {
    "duration": 58,
    "start_time": "2022-02-18T07:13:01.195Z"
   },
   {
    "duration": 26,
    "start_time": "2022-02-18T07:13:01.256Z"
   },
   {
    "duration": 8,
    "start_time": "2022-02-18T07:13:01.286Z"
   },
   {
    "duration": 32,
    "start_time": "2022-02-18T07:13:01.297Z"
   },
   {
    "duration": 30,
    "start_time": "2022-02-18T07:13:01.331Z"
   },
   {
    "duration": 18,
    "start_time": "2022-02-18T07:13:01.364Z"
   },
   {
    "duration": 8,
    "start_time": "2022-02-18T07:13:01.384Z"
   },
   {
    "duration": 127,
    "start_time": "2022-02-18T07:13:01.427Z"
   },
   {
    "duration": 578,
    "start_time": "2022-02-18T07:13:01.557Z"
   },
   {
    "duration": 531,
    "start_time": "2022-02-18T07:13:06.341Z"
   },
   {
    "duration": 438,
    "start_time": "2022-02-18T07:14:41.836Z"
   },
   {
    "duration": 285,
    "start_time": "2022-02-18T07:15:40.055Z"
   },
   {
    "duration": 501,
    "start_time": "2022-02-18T07:16:51.939Z"
   },
   {
    "duration": 439,
    "start_time": "2022-02-18T07:16:59.567Z"
   },
   {
    "duration": 487,
    "start_time": "2022-02-18T07:18:04.147Z"
   },
   {
    "duration": 427,
    "start_time": "2022-02-18T07:18:33.271Z"
   },
   {
    "duration": 8,
    "start_time": "2022-02-18T07:19:23.886Z"
   },
   {
    "duration": 833,
    "start_time": "2022-02-18T07:19:27.659Z"
   },
   {
    "duration": 7,
    "start_time": "2022-02-18T07:20:37.800Z"
   },
   {
    "duration": 712,
    "start_time": "2022-02-18T07:20:39.031Z"
   },
   {
    "duration": 8,
    "start_time": "2022-02-18T07:23:10.228Z"
   },
   {
    "duration": 761,
    "start_time": "2022-02-18T07:23:11.711Z"
   },
   {
    "duration": 9,
    "start_time": "2022-02-18T07:23:29.727Z"
   },
   {
    "duration": 647,
    "start_time": "2022-02-18T07:23:31.711Z"
   },
   {
    "duration": 362,
    "start_time": "2022-02-18T07:24:55.291Z"
   },
   {
    "duration": 462,
    "start_time": "2022-02-18T07:25:33.040Z"
   },
   {
    "duration": 542,
    "start_time": "2022-02-18T07:25:55.259Z"
   },
   {
    "duration": 424,
    "start_time": "2022-02-18T07:26:32.779Z"
   },
   {
    "duration": 872,
    "start_time": "2022-02-18T07:28:12.072Z"
   },
   {
    "duration": 1111,
    "start_time": "2022-02-18T07:28:28.511Z"
   },
   {
    "duration": 868,
    "start_time": "2022-02-18T07:28:54.047Z"
   },
   {
    "duration": 1626,
    "start_time": "2022-02-18T08:02:25.667Z"
   },
   {
    "duration": 12,
    "start_time": "2022-02-18T08:02:27.296Z"
   },
   {
    "duration": 51,
    "start_time": "2022-02-18T08:02:27.311Z"
   },
   {
    "duration": 39,
    "start_time": "2022-02-18T08:02:27.365Z"
   },
   {
    "duration": 26,
    "start_time": "2022-02-18T08:02:27.407Z"
   },
   {
    "duration": 24,
    "start_time": "2022-02-18T08:02:27.435Z"
   },
   {
    "duration": 456,
    "start_time": "2022-02-18T08:02:27.462Z"
   },
   {
    "duration": 13,
    "start_time": "2022-02-18T08:02:27.927Z"
   },
   {
    "duration": 6,
    "start_time": "2022-02-18T08:02:27.944Z"
   },
   {
    "duration": 14,
    "start_time": "2022-02-18T08:02:27.953Z"
   },
   {
    "duration": 13,
    "start_time": "2022-02-18T08:02:27.969Z"
   },
   {
    "duration": 41,
    "start_time": "2022-02-18T08:02:27.985Z"
   },
   {
    "duration": 6,
    "start_time": "2022-02-18T08:02:28.029Z"
   },
   {
    "duration": 36,
    "start_time": "2022-02-18T08:02:28.038Z"
   },
   {
    "duration": 24,
    "start_time": "2022-02-18T08:02:28.076Z"
   },
   {
    "duration": 7,
    "start_time": "2022-02-18T08:02:28.127Z"
   },
   {
    "duration": 8,
    "start_time": "2022-02-18T08:02:28.137Z"
   },
   {
    "duration": 24,
    "start_time": "2022-02-18T08:02:28.147Z"
   },
   {
    "duration": 13,
    "start_time": "2022-02-18T08:02:28.173Z"
   },
   {
    "duration": 6,
    "start_time": "2022-02-18T08:02:28.226Z"
   },
   {
    "duration": 17,
    "start_time": "2022-02-18T08:02:28.234Z"
   },
   {
    "duration": 576,
    "start_time": "2022-02-18T08:02:28.253Z"
   },
   {
    "duration": 527,
    "start_time": "2022-02-18T08:02:28.831Z"
   },
   {
    "duration": 2150,
    "start_time": "2022-02-18T08:02:29.362Z"
   },
   {
    "duration": 23,
    "start_time": "2022-02-18T08:02:31.515Z"
   },
   {
    "duration": 362,
    "start_time": "2022-02-18T08:02:31.541Z"
   },
   {
    "duration": 1930,
    "start_time": "2022-02-18T08:02:31.908Z"
   },
   {
    "duration": 380,
    "start_time": "2022-02-18T08:02:33.841Z"
   },
   {
    "duration": 8,
    "start_time": "2022-02-18T08:02:34.223Z"
   },
   {
    "duration": 12,
    "start_time": "2022-02-18T08:02:34.233Z"
   },
   {
    "duration": 6,
    "start_time": "2022-02-18T08:02:34.247Z"
   },
   {
    "duration": 597,
    "start_time": "2022-02-18T08:02:34.255Z"
   },
   {
    "duration": 406,
    "start_time": "2022-02-18T08:02:34.854Z"
   },
   {
    "duration": 1677,
    "start_time": "2022-02-18T08:02:35.262Z"
   },
   {
    "duration": 10,
    "start_time": "2022-02-18T08:02:36.942Z"
   },
   {
    "duration": 682,
    "start_time": "2022-02-18T08:02:36.955Z"
   },
   {
    "duration": 355,
    "start_time": "2022-02-18T08:02:37.639Z"
   },
   {
    "duration": 61,
    "start_time": "2022-02-18T08:02:37.997Z"
   },
   {
    "duration": 6,
    "start_time": "2022-02-18T08:02:38.061Z"
   },
   {
    "duration": 57,
    "start_time": "2022-02-18T08:02:38.069Z"
   },
   {
    "duration": 473,
    "start_time": "2022-02-18T08:02:38.128Z"
   },
   {
    "duration": 649,
    "start_time": "2022-02-18T08:02:38.603Z"
   },
   {
    "duration": 521,
    "start_time": "2022-02-18T08:02:39.254Z"
   },
   {
    "duration": 14,
    "start_time": "2022-02-18T08:02:39.777Z"
   },
   {
    "duration": 921,
    "start_time": "2022-02-18T08:02:39.794Z"
   },
   {
    "duration": 20,
    "start_time": "2022-02-18T08:02:40.719Z"
   },
   {
    "duration": 867,
    "start_time": "2022-02-18T08:02:40.741Z"
   },
   {
    "duration": 1128,
    "start_time": "2022-02-18T13:11:02.498Z"
   },
   {
    "duration": 9,
    "start_time": "2022-02-18T13:11:03.628Z"
   },
   {
    "duration": 26,
    "start_time": "2022-02-18T13:11:03.639Z"
   },
   {
    "duration": 15,
    "start_time": "2022-02-18T13:11:03.668Z"
   },
   {
    "duration": 6,
    "start_time": "2022-02-18T13:11:03.685Z"
   },
   {
    "duration": 41,
    "start_time": "2022-02-18T13:11:03.693Z"
   },
   {
    "duration": 256,
    "start_time": "2022-02-18T13:11:03.736Z"
   },
   {
    "duration": 10,
    "start_time": "2022-02-18T13:11:03.995Z"
   },
   {
    "duration": 5,
    "start_time": "2022-02-18T13:11:04.007Z"
   },
   {
    "duration": 4,
    "start_time": "2022-02-18T13:11:04.030Z"
   },
   {
    "duration": 12,
    "start_time": "2022-02-18T13:11:04.036Z"
   },
   {
    "duration": 10,
    "start_time": "2022-02-18T13:11:04.050Z"
   },
   {
    "duration": 5,
    "start_time": "2022-02-18T13:11:04.062Z"
   },
   {
    "duration": 20,
    "start_time": "2022-02-18T13:11:04.069Z"
   },
   {
    "duration": 45,
    "start_time": "2022-02-18T13:11:04.091Z"
   },
   {
    "duration": 6,
    "start_time": "2022-02-18T13:11:04.138Z"
   },
   {
    "duration": 4,
    "start_time": "2022-02-18T13:11:04.146Z"
   },
   {
    "duration": 13,
    "start_time": "2022-02-18T13:11:04.152Z"
   },
   {
    "duration": 12,
    "start_time": "2022-02-18T13:11:04.166Z"
   },
   {
    "duration": 4,
    "start_time": "2022-02-18T13:11:04.179Z"
   },
   {
    "duration": 6,
    "start_time": "2022-02-18T13:11:04.184Z"
   },
   {
    "duration": 342,
    "start_time": "2022-02-18T13:11:04.191Z"
   },
   {
    "duration": 297,
    "start_time": "2022-02-18T13:11:04.536Z"
   },
   {
    "duration": 1228,
    "start_time": "2022-02-18T13:11:04.835Z"
   },
   {
    "duration": 9,
    "start_time": "2022-02-18T13:11:06.065Z"
   },
   {
    "duration": 193,
    "start_time": "2022-02-18T13:11:06.076Z"
   },
   {
    "duration": 1051,
    "start_time": "2022-02-18T13:11:06.270Z"
   },
   {
    "duration": 257,
    "start_time": "2022-02-18T13:11:07.323Z"
   },
   {
    "duration": 5,
    "start_time": "2022-02-18T13:11:07.581Z"
   },
   {
    "duration": 6,
    "start_time": "2022-02-18T13:11:07.588Z"
   },
   {
    "duration": 8,
    "start_time": "2022-02-18T13:11:07.596Z"
   },
   {
    "duration": 348,
    "start_time": "2022-02-18T13:11:07.606Z"
   },
   {
    "duration": 301,
    "start_time": "2022-02-18T13:11:07.956Z"
   },
   {
    "duration": 989,
    "start_time": "2022-02-18T13:11:08.259Z"
   },
   {
    "duration": 5,
    "start_time": "2022-02-18T13:11:09.250Z"
   },
   {
    "duration": 396,
    "start_time": "2022-02-18T13:11:09.257Z"
   },
   {
    "duration": 209,
    "start_time": "2022-02-18T13:11:09.654Z"
   },
   {
    "duration": 27,
    "start_time": "2022-02-18T13:11:09.865Z"
   },
   {
    "duration": 4,
    "start_time": "2022-02-18T13:11:09.893Z"
   },
   {
    "duration": 41,
    "start_time": "2022-02-18T13:11:09.899Z"
   },
   {
    "duration": 283,
    "start_time": "2022-02-18T13:11:09.942Z"
   },
   {
    "duration": 326,
    "start_time": "2022-02-18T13:11:10.226Z"
   },
   {
    "duration": 358,
    "start_time": "2022-02-18T13:11:10.554Z"
   },
   {
    "duration": 17,
    "start_time": "2022-02-18T13:11:10.913Z"
   },
   {
    "duration": 512,
    "start_time": "2022-02-18T13:11:10.932Z"
   },
   {
    "duration": 10,
    "start_time": "2022-02-18T13:11:11.446Z"
   },
   {
    "duration": 482,
    "start_time": "2022-02-18T13:11:11.458Z"
   },
   {
    "duration": 81,
    "start_time": "2022-02-27T19:24:23.425Z"
   },
   {
    "duration": 328,
    "start_time": "2022-02-27T19:28:42.790Z"
   },
   {
    "duration": 91,
    "start_time": "2022-02-27T19:41:59.702Z"
   }
  ],
  "kernelspec": {
   "display_name": "Python 3 (ipykernel)",
   "language": "python",
   "name": "python3"
  },
  "language_info": {
   "codemirror_mode": {
    "name": "ipython",
    "version": 3
   },
   "file_extension": ".py",
   "mimetype": "text/x-python",
   "name": "python",
   "nbconvert_exporter": "python",
   "pygments_lexer": "ipython3",
   "version": "3.9.12"
  },
  "toc": {
   "base_numbering": 1,
   "nav_menu": {},
   "number_sections": true,
   "sideBar": true,
   "skip_h1_title": true,
   "title_cell": "Table of Contents",
   "title_sidebar": "Contents",
   "toc_cell": false,
   "toc_position": {
    "height": "calc(100% - 180px)",
    "left": "10px",
    "top": "150px",
    "width": "251.675px"
   },
   "toc_section_display": true,
   "toc_window_display": true
  }
 },
 "nbformat": 4,
 "nbformat_minor": 2
}
