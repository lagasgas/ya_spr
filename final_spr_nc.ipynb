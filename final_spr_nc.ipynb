{
 "cells": [
  {
   "cell_type": "markdown",
   "metadata": {
    "id": "8yqQk0JhZ31X"
   },
   "source": [
    "# Описание проекта\n",
    "\n",
    "Чтобы оптимизировать производственные расходы, металлургический комбинат ООО «Так закаляем сталь» решил уменьшить потребление электроэнергии на этапе обработки стали. Предстоит построить модель, которая предскажет температуру стали.\n",
    "\n",
    "Данные состоят из файлов, полученных из разных источников:\n",
    "\n",
    "- `data_arc.csv` — данные об электродах;\n",
    "- `data_bulk.csv` — данные о подаче сыпучих материалов (объём);\n",
    "- `data_bulk_time.csv` *—* данные о подаче сыпучих материалов (время);\n",
    "- `data_gas.csv` — данные о продувке сплава газом;\n",
    "- `data_temp.csv` — результаты измерения температуры;\n",
    "- `data_wire.csv` — данные о проволочных материалах (объём);\n",
    "- `data_wire_time.csv` — данные о проволочных материалах (время).\n",
    "\n",
    "Во всех файлах столбец `key` содержит номер партии. В файлах может быть несколько строк с одинаковым значением `key`: они соответствуют разным итерациям обработки.\n"
   ]
  },
  {
   "cell_type": "markdown",
   "metadata": {
    "id": "jLDbtfQdhJtq"
   },
   "source": [
    "# План работы:\n",
    "\n",
    "1. Исследование данных.\n",
    "2. Работа с пропусками, дубликатами.\n",
    "3. Поиск аномалий.\n",
    "4. Выделение целевого признака, создание признаков для обучения.\n",
    "5. Сведение итоговой таблицы.\n",
    "5. Обучение моделей, выбор гиперпараметров, проверка адекватности предсказаний, выбор лучшей модели.\n",
    "6. Тестирование лучшей модели.\n",
    "7. Составление итогового отчёта."
   ]
  },
  {
   "cell_type": "markdown",
   "metadata": {
    "id": "KU0v_kDDOIBY"
   },
   "source": [
    "# Тезисы 1-го вебинара\n",
    "\n",
    "1. Аномалий по температуре - нет.\n",
    "2. Особенности таблиц:\n",
    "  * Температура (`data_temp`). Температура в первом наблюдении по ключу (`key`) - признак, в последнем - целевой признак. Промежуточные значения и их производные применять нельза, так как это будет утечкой данных. Если в наблюдении пропуск в конечной температупе, тогда такое наблюдение - удаляем.\n",
    "  * Мощность (`data_arc`). Для обучения можно использовать как одну из мощностей, так и их производные (например: суммарная мощность).\n",
    "  * Сыпучие материалы (`data_bulk`). Пропуски можно заменить нулями, так как начилие пропуска означает, что добавка сыпучих материалов не проводилась.\n",
    "  * Время добавления сыпучих материалов (`data_bulk_time`). Как признак не используем.\n",
    "  * Для таблиц по проволке (`data_wire`) и времени добавления проволки (`data_wire_time`) поступаем аналогично сыпучим материалам.\n",
    "  * Газ (`data_gas`). Данные внутри - суммарный объём газа на исследование.\n",
    "3. Используем только те ключи (`key`), которые есть во всех таблицах.\n",
    "4. Несколько наблюдений по одному ключу сводим к одному наблюдению.\n",
    "5. Из получившейся таблицы признаков и целевого признака выводим первые 10-ть строк."
   ]
  },
  {
   "cell_type": "code",
   "execution_count": 1,
   "metadata": {
    "colab": {
     "base_uri": "https://localhost:8080/"
    },
    "id": "hRBzLtmJ_eKy",
    "outputId": "022fd17c-744f-4533-cdb4-3473c5e1e0a3"
   },
   "outputs": [
    {
     "name": "stdout",
     "output_type": "stream",
     "text": [
      "Looking in indexes: https://pypi.org/simple, https://us-python.pkg.dev/colab-wheels/public/simple/\n",
      "Requirement already satisfied: catboost in /usr/local/lib/python3.7/dist-packages (1.0.6)\n",
      "Requirement already satisfied: plotly in /usr/local/lib/python3.7/dist-packages (from catboost) (5.5.0)\n",
      "Requirement already satisfied: graphviz in /usr/local/lib/python3.7/dist-packages (from catboost) (0.10.1)\n",
      "Requirement already satisfied: matplotlib in /usr/local/lib/python3.7/dist-packages (from catboost) (3.2.2)\n",
      "Requirement already satisfied: numpy>=1.16.0 in /usr/local/lib/python3.7/dist-packages (from catboost) (1.21.6)\n",
      "Requirement already satisfied: six in /usr/local/lib/python3.7/dist-packages (from catboost) (1.15.0)\n",
      "Requirement already satisfied: pandas>=0.24.0 in /usr/local/lib/python3.7/dist-packages (from catboost) (1.3.5)\n",
      "Requirement already satisfied: scipy in /usr/local/lib/python3.7/dist-packages (from catboost) (1.7.3)\n",
      "Requirement already satisfied: pytz>=2017.3 in /usr/local/lib/python3.7/dist-packages (from pandas>=0.24.0->catboost) (2022.1)\n",
      "Requirement already satisfied: python-dateutil>=2.7.3 in /usr/local/lib/python3.7/dist-packages (from pandas>=0.24.0->catboost) (2.8.2)\n",
      "Requirement already satisfied: kiwisolver>=1.0.1 in /usr/local/lib/python3.7/dist-packages (from matplotlib->catboost) (1.4.4)\n",
      "Requirement already satisfied: pyparsing!=2.0.4,!=2.1.2,!=2.1.6,>=2.0.1 in /usr/local/lib/python3.7/dist-packages (from matplotlib->catboost) (3.0.9)\n",
      "Requirement already satisfied: cycler>=0.10 in /usr/local/lib/python3.7/dist-packages (from matplotlib->catboost) (0.11.0)\n",
      "Requirement already satisfied: typing-extensions in /usr/local/lib/python3.7/dist-packages (from kiwisolver>=1.0.1->matplotlib->catboost) (4.1.1)\n",
      "Requirement already satisfied: tenacity>=6.2.0 in /usr/local/lib/python3.7/dist-packages (from plotly->catboost) (8.0.1)\n"
     ]
    }
   ],
   "source": [
    "!pip install catboost"
   ]
  },
  {
   "cell_type": "code",
   "execution_count": 2,
   "metadata": {
    "id": "I2ScKMuIVng4"
   },
   "outputs": [],
   "source": [
    "import pandas as pd\n",
    "import matplotlib.pyplot as plt\n",
    "import seaborn as sns\n",
    "\n",
    "from sklearn.model_selection import train_test_split, cross_val_score, RandomizedSearchCV\n",
    "from sklearn.preprocessing import StandardScaler\n",
    "from sklearn.metrics import mean_absolute_error\n",
    "\n",
    "from sklearn.linear_model import LinearRegression\n",
    "\n",
    "from catboost import CatBoostRegressor\n",
    "\n",
    "from lightgbm import LGBMRegressor\n",
    "\n",
    "from sklearn.ensemble import RandomForestRegressor\n",
    "\n",
    "RANDOM_STATE = 250722"
   ]
  },
  {
   "cell_type": "code",
   "execution_count": 3,
   "metadata": {
    "id": "YMSc9rTwK-sq"
   },
   "outputs": [],
   "source": [
    "# В таблицах по времени добавления сыпуцих материалов или проволки много столбцов\n",
    "# в формате даты, приведём их при импорте в соответствующий тип.\n",
    "bulk_time_col = list(range(1, 16))\n",
    "wire_time_col = list(range(1, 10))"
   ]
  },
  {
   "cell_type": "markdown",
   "metadata": {
    "id": "qCg3eok3d2Ie"
   },
   "source": [
    "# Исследование данных"
   ]
  },
  {
   "cell_type": "code",
   "execution_count": 4,
   "metadata": {
    "id": "aCpXQ-hyWRlZ"
   },
   "outputs": [],
   "source": [
    "# Импортируем данные из среды яндекс или домашней\n",
    "try:\n",
    "    PATH = '/datasets/final_steel/'\n",
    "    data_arc = pd.read_csv(PATH + 'data_arc.csv',\n",
    "                           parse_dates=[1, 2])\n",
    "    data_bulk = pd.read_csv(PATH + 'data_bulk.csv')\n",
    "    data_bulk_time = pd.read_csv(PATH + 'data_bulk_time.csv',\n",
    "                                 parse_dates=bulk_time_col)\n",
    "    data_gas = pd.read_csv(PATH + 'data_gas.csv')\n",
    "    data_temp = pd.read_csv(PATH + 'data_temp.csv',\n",
    "                            parse_dates=[1])\n",
    "    data_wire = pd.read_csv(PATH + 'data_wire.csv')\n",
    "    data_wire_time = pd.read_csv(PATH + 'data_wire_time.csv',\n",
    "                                 parse_dates=wire_time_col)\n",
    "except:\n",
    "    PATH = '/content/drive/MyDrive/final_steel/'\n",
    "    data_arc = pd.read_csv(PATH + 'data_arc.csv',\n",
    "                           parse_dates=[1, 2])\n",
    "    data_bulk = pd.read_csv(PATH + 'data_bulk.csv')\n",
    "    data_bulk_time = pd.read_csv(PATH + 'data_bulk_time.csv',\n",
    "                                 parse_dates=bulk_time_col)\n",
    "    data_gas = pd.read_csv(PATH + 'data_gas.csv')\n",
    "    data_temp = pd.read_csv(PATH + 'data_temp.csv',\n",
    "                            parse_dates=[1])\n",
    "    data_wire = pd.read_csv(PATH + 'data_wire.csv')\n",
    "    data_wire_time = pd.read_csv(PATH + 'data_wire_time.csv',\n",
    "                                 parse_dates=wire_time_col)"
   ]
  },
  {
   "cell_type": "code",
   "execution_count": 5,
   "metadata": {
    "colab": {
     "base_uri": "https://localhost:8080/",
     "height": 1000
    },
    "id": "j5W-0zSZWhHT",
    "outputId": "691cb4d7-6a62-4ee4-bd7a-d7e8a3f27091"
   },
   "outputs": [
    {
     "name": "stdout",
     "output_type": "stream",
     "text": [
      "===============================data_arc======================================\n"
     ]
    },
    {
     "data": {
      "text/html": [
       "\n",
       "  <div id=\"df-7e2226ba-4435-4247-808e-a3495be0f30a\">\n",
       "    <div class=\"colab-df-container\">\n",
       "      <div>\n",
       "<style scoped>\n",
       "    .dataframe tbody tr th:only-of-type {\n",
       "        vertical-align: middle;\n",
       "    }\n",
       "\n",
       "    .dataframe tbody tr th {\n",
       "        vertical-align: top;\n",
       "    }\n",
       "\n",
       "    .dataframe thead th {\n",
       "        text-align: right;\n",
       "    }\n",
       "</style>\n",
       "<table border=\"1\" class=\"dataframe\">\n",
       "  <thead>\n",
       "    <tr style=\"text-align: right;\">\n",
       "      <th></th>\n",
       "      <th>key</th>\n",
       "      <th>Начало нагрева дугой</th>\n",
       "      <th>Конец нагрева дугой</th>\n",
       "      <th>Активная мощность</th>\n",
       "      <th>Реактивная мощность</th>\n",
       "    </tr>\n",
       "  </thead>\n",
       "  <tbody>\n",
       "    <tr>\n",
       "      <th>0</th>\n",
       "      <td>1</td>\n",
       "      <td>2019-05-03 11:02:14</td>\n",
       "      <td>2019-05-03 11:06:02</td>\n",
       "      <td>0.976059</td>\n",
       "      <td>0.687084</td>\n",
       "    </tr>\n",
       "    <tr>\n",
       "      <th>1</th>\n",
       "      <td>1</td>\n",
       "      <td>2019-05-03 11:07:28</td>\n",
       "      <td>2019-05-03 11:10:33</td>\n",
       "      <td>0.805607</td>\n",
       "      <td>0.520285</td>\n",
       "    </tr>\n",
       "    <tr>\n",
       "      <th>2</th>\n",
       "      <td>1</td>\n",
       "      <td>2019-05-03 11:11:44</td>\n",
       "      <td>2019-05-03 11:14:36</td>\n",
       "      <td>0.744363</td>\n",
       "      <td>0.498805</td>\n",
       "    </tr>\n",
       "  </tbody>\n",
       "</table>\n",
       "</div>\n",
       "      <button class=\"colab-df-convert\" onclick=\"convertToInteractive('df-7e2226ba-4435-4247-808e-a3495be0f30a')\"\n",
       "              title=\"Convert this dataframe to an interactive table.\"\n",
       "              style=\"display:none;\">\n",
       "        \n",
       "  <svg xmlns=\"http://www.w3.org/2000/svg\" height=\"24px\"viewBox=\"0 0 24 24\"\n",
       "       width=\"24px\">\n",
       "    <path d=\"M0 0h24v24H0V0z\" fill=\"none\"/>\n",
       "    <path d=\"M18.56 5.44l.94 2.06.94-2.06 2.06-.94-2.06-.94-.94-2.06-.94 2.06-2.06.94zm-11 1L8.5 8.5l.94-2.06 2.06-.94-2.06-.94L8.5 2.5l-.94 2.06-2.06.94zm10 10l.94 2.06.94-2.06 2.06-.94-2.06-.94-.94-2.06-.94 2.06-2.06.94z\"/><path d=\"M17.41 7.96l-1.37-1.37c-.4-.4-.92-.59-1.43-.59-.52 0-1.04.2-1.43.59L10.3 9.45l-7.72 7.72c-.78.78-.78 2.05 0 2.83L4 21.41c.39.39.9.59 1.41.59.51 0 1.02-.2 1.41-.59l7.78-7.78 2.81-2.81c.8-.78.8-2.07 0-2.86zM5.41 20L4 18.59l7.72-7.72 1.47 1.35L5.41 20z\"/>\n",
       "  </svg>\n",
       "      </button>\n",
       "      \n",
       "  <style>\n",
       "    .colab-df-container {\n",
       "      display:flex;\n",
       "      flex-wrap:wrap;\n",
       "      gap: 12px;\n",
       "    }\n",
       "\n",
       "    .colab-df-convert {\n",
       "      background-color: #E8F0FE;\n",
       "      border: none;\n",
       "      border-radius: 50%;\n",
       "      cursor: pointer;\n",
       "      display: none;\n",
       "      fill: #1967D2;\n",
       "      height: 32px;\n",
       "      padding: 0 0 0 0;\n",
       "      width: 32px;\n",
       "    }\n",
       "\n",
       "    .colab-df-convert:hover {\n",
       "      background-color: #E2EBFA;\n",
       "      box-shadow: 0px 1px 2px rgba(60, 64, 67, 0.3), 0px 1px 3px 1px rgba(60, 64, 67, 0.15);\n",
       "      fill: #174EA6;\n",
       "    }\n",
       "\n",
       "    [theme=dark] .colab-df-convert {\n",
       "      background-color: #3B4455;\n",
       "      fill: #D2E3FC;\n",
       "    }\n",
       "\n",
       "    [theme=dark] .colab-df-convert:hover {\n",
       "      background-color: #434B5C;\n",
       "      box-shadow: 0px 1px 3px 1px rgba(0, 0, 0, 0.15);\n",
       "      filter: drop-shadow(0px 1px 2px rgba(0, 0, 0, 0.3));\n",
       "      fill: #FFFFFF;\n",
       "    }\n",
       "  </style>\n",
       "\n",
       "      <script>\n",
       "        const buttonEl =\n",
       "          document.querySelector('#df-7e2226ba-4435-4247-808e-a3495be0f30a button.colab-df-convert');\n",
       "        buttonEl.style.display =\n",
       "          google.colab.kernel.accessAllowed ? 'block' : 'none';\n",
       "\n",
       "        async function convertToInteractive(key) {\n",
       "          const element = document.querySelector('#df-7e2226ba-4435-4247-808e-a3495be0f30a');\n",
       "          const dataTable =\n",
       "            await google.colab.kernel.invokeFunction('convertToInteractive',\n",
       "                                                     [key], {});\n",
       "          if (!dataTable) return;\n",
       "\n",
       "          const docLinkHtml = 'Like what you see? Visit the ' +\n",
       "            '<a target=\"_blank\" href=https://colab.research.google.com/notebooks/data_table.ipynb>data table notebook</a>'\n",
       "            + ' to learn more about interactive tables.';\n",
       "          element.innerHTML = '';\n",
       "          dataTable['output_type'] = 'display_data';\n",
       "          await google.colab.output.renderOutput(dataTable, element);\n",
       "          const docLink = document.createElement('div');\n",
       "          docLink.innerHTML = docLinkHtml;\n",
       "          element.appendChild(docLink);\n",
       "        }\n",
       "      </script>\n",
       "    </div>\n",
       "  </div>\n",
       "  "
      ],
      "text/plain": [
       "   key Начало нагрева дугой Конец нагрева дугой  Активная мощность  \\\n",
       "0    1  2019-05-03 11:02:14 2019-05-03 11:06:02           0.976059   \n",
       "1    1  2019-05-03 11:07:28 2019-05-03 11:10:33           0.805607   \n",
       "2    1  2019-05-03 11:11:44 2019-05-03 11:14:36           0.744363   \n",
       "\n",
       "   Реактивная мощность  \n",
       "0             0.687084  \n",
       "1             0.520285  \n",
       "2             0.498805  "
      ]
     },
     "metadata": {},
     "output_type": "display_data"
    },
    {
     "name": "stdout",
     "output_type": "stream",
     "text": [
      "===============================data_bulk======================================\n"
     ]
    },
    {
     "data": {
      "text/html": [
       "\n",
       "  <div id=\"df-08849450-aa35-4540-b66c-98da1829b6e3\">\n",
       "    <div class=\"colab-df-container\">\n",
       "      <div>\n",
       "<style scoped>\n",
       "    .dataframe tbody tr th:only-of-type {\n",
       "        vertical-align: middle;\n",
       "    }\n",
       "\n",
       "    .dataframe tbody tr th {\n",
       "        vertical-align: top;\n",
       "    }\n",
       "\n",
       "    .dataframe thead th {\n",
       "        text-align: right;\n",
       "    }\n",
       "</style>\n",
       "<table border=\"1\" class=\"dataframe\">\n",
       "  <thead>\n",
       "    <tr style=\"text-align: right;\">\n",
       "      <th></th>\n",
       "      <th>key</th>\n",
       "      <th>Bulk 1</th>\n",
       "      <th>Bulk 2</th>\n",
       "      <th>Bulk 3</th>\n",
       "      <th>Bulk 4</th>\n",
       "      <th>Bulk 5</th>\n",
       "      <th>Bulk 6</th>\n",
       "      <th>Bulk 7</th>\n",
       "      <th>Bulk 8</th>\n",
       "      <th>Bulk 9</th>\n",
       "      <th>Bulk 10</th>\n",
       "      <th>Bulk 11</th>\n",
       "      <th>Bulk 12</th>\n",
       "      <th>Bulk 13</th>\n",
       "      <th>Bulk 14</th>\n",
       "      <th>Bulk 15</th>\n",
       "    </tr>\n",
       "  </thead>\n",
       "  <tbody>\n",
       "    <tr>\n",
       "      <th>0</th>\n",
       "      <td>1</td>\n",
       "      <td>NaN</td>\n",
       "      <td>NaN</td>\n",
       "      <td>NaN</td>\n",
       "      <td>43.0</td>\n",
       "      <td>NaN</td>\n",
       "      <td>NaN</td>\n",
       "      <td>NaN</td>\n",
       "      <td>NaN</td>\n",
       "      <td>NaN</td>\n",
       "      <td>NaN</td>\n",
       "      <td>NaN</td>\n",
       "      <td>206.0</td>\n",
       "      <td>NaN</td>\n",
       "      <td>150.0</td>\n",
       "      <td>154.0</td>\n",
       "    </tr>\n",
       "    <tr>\n",
       "      <th>1</th>\n",
       "      <td>2</td>\n",
       "      <td>NaN</td>\n",
       "      <td>NaN</td>\n",
       "      <td>NaN</td>\n",
       "      <td>73.0</td>\n",
       "      <td>NaN</td>\n",
       "      <td>NaN</td>\n",
       "      <td>NaN</td>\n",
       "      <td>NaN</td>\n",
       "      <td>NaN</td>\n",
       "      <td>NaN</td>\n",
       "      <td>NaN</td>\n",
       "      <td>206.0</td>\n",
       "      <td>NaN</td>\n",
       "      <td>149.0</td>\n",
       "      <td>154.0</td>\n",
       "    </tr>\n",
       "    <tr>\n",
       "      <th>2</th>\n",
       "      <td>3</td>\n",
       "      <td>NaN</td>\n",
       "      <td>NaN</td>\n",
       "      <td>NaN</td>\n",
       "      <td>34.0</td>\n",
       "      <td>NaN</td>\n",
       "      <td>NaN</td>\n",
       "      <td>NaN</td>\n",
       "      <td>NaN</td>\n",
       "      <td>NaN</td>\n",
       "      <td>NaN</td>\n",
       "      <td>NaN</td>\n",
       "      <td>205.0</td>\n",
       "      <td>NaN</td>\n",
       "      <td>152.0</td>\n",
       "      <td>153.0</td>\n",
       "    </tr>\n",
       "  </tbody>\n",
       "</table>\n",
       "</div>\n",
       "      <button class=\"colab-df-convert\" onclick=\"convertToInteractive('df-08849450-aa35-4540-b66c-98da1829b6e3')\"\n",
       "              title=\"Convert this dataframe to an interactive table.\"\n",
       "              style=\"display:none;\">\n",
       "        \n",
       "  <svg xmlns=\"http://www.w3.org/2000/svg\" height=\"24px\"viewBox=\"0 0 24 24\"\n",
       "       width=\"24px\">\n",
       "    <path d=\"M0 0h24v24H0V0z\" fill=\"none\"/>\n",
       "    <path d=\"M18.56 5.44l.94 2.06.94-2.06 2.06-.94-2.06-.94-.94-2.06-.94 2.06-2.06.94zm-11 1L8.5 8.5l.94-2.06 2.06-.94-2.06-.94L8.5 2.5l-.94 2.06-2.06.94zm10 10l.94 2.06.94-2.06 2.06-.94-2.06-.94-.94-2.06-.94 2.06-2.06.94z\"/><path d=\"M17.41 7.96l-1.37-1.37c-.4-.4-.92-.59-1.43-.59-.52 0-1.04.2-1.43.59L10.3 9.45l-7.72 7.72c-.78.78-.78 2.05 0 2.83L4 21.41c.39.39.9.59 1.41.59.51 0 1.02-.2 1.41-.59l7.78-7.78 2.81-2.81c.8-.78.8-2.07 0-2.86zM5.41 20L4 18.59l7.72-7.72 1.47 1.35L5.41 20z\"/>\n",
       "  </svg>\n",
       "      </button>\n",
       "      \n",
       "  <style>\n",
       "    .colab-df-container {\n",
       "      display:flex;\n",
       "      flex-wrap:wrap;\n",
       "      gap: 12px;\n",
       "    }\n",
       "\n",
       "    .colab-df-convert {\n",
       "      background-color: #E8F0FE;\n",
       "      border: none;\n",
       "      border-radius: 50%;\n",
       "      cursor: pointer;\n",
       "      display: none;\n",
       "      fill: #1967D2;\n",
       "      height: 32px;\n",
       "      padding: 0 0 0 0;\n",
       "      width: 32px;\n",
       "    }\n",
       "\n",
       "    .colab-df-convert:hover {\n",
       "      background-color: #E2EBFA;\n",
       "      box-shadow: 0px 1px 2px rgba(60, 64, 67, 0.3), 0px 1px 3px 1px rgba(60, 64, 67, 0.15);\n",
       "      fill: #174EA6;\n",
       "    }\n",
       "\n",
       "    [theme=dark] .colab-df-convert {\n",
       "      background-color: #3B4455;\n",
       "      fill: #D2E3FC;\n",
       "    }\n",
       "\n",
       "    [theme=dark] .colab-df-convert:hover {\n",
       "      background-color: #434B5C;\n",
       "      box-shadow: 0px 1px 3px 1px rgba(0, 0, 0, 0.15);\n",
       "      filter: drop-shadow(0px 1px 2px rgba(0, 0, 0, 0.3));\n",
       "      fill: #FFFFFF;\n",
       "    }\n",
       "  </style>\n",
       "\n",
       "      <script>\n",
       "        const buttonEl =\n",
       "          document.querySelector('#df-08849450-aa35-4540-b66c-98da1829b6e3 button.colab-df-convert');\n",
       "        buttonEl.style.display =\n",
       "          google.colab.kernel.accessAllowed ? 'block' : 'none';\n",
       "\n",
       "        async function convertToInteractive(key) {\n",
       "          const element = document.querySelector('#df-08849450-aa35-4540-b66c-98da1829b6e3');\n",
       "          const dataTable =\n",
       "            await google.colab.kernel.invokeFunction('convertToInteractive',\n",
       "                                                     [key], {});\n",
       "          if (!dataTable) return;\n",
       "\n",
       "          const docLinkHtml = 'Like what you see? Visit the ' +\n",
       "            '<a target=\"_blank\" href=https://colab.research.google.com/notebooks/data_table.ipynb>data table notebook</a>'\n",
       "            + ' to learn more about interactive tables.';\n",
       "          element.innerHTML = '';\n",
       "          dataTable['output_type'] = 'display_data';\n",
       "          await google.colab.output.renderOutput(dataTable, element);\n",
       "          const docLink = document.createElement('div');\n",
       "          docLink.innerHTML = docLinkHtml;\n",
       "          element.appendChild(docLink);\n",
       "        }\n",
       "      </script>\n",
       "    </div>\n",
       "  </div>\n",
       "  "
      ],
      "text/plain": [
       "   key  Bulk 1  Bulk 2  Bulk 3  Bulk 4  Bulk 5  Bulk 6  Bulk 7  Bulk 8  \\\n",
       "0    1     NaN     NaN     NaN    43.0     NaN     NaN     NaN     NaN   \n",
       "1    2     NaN     NaN     NaN    73.0     NaN     NaN     NaN     NaN   \n",
       "2    3     NaN     NaN     NaN    34.0     NaN     NaN     NaN     NaN   \n",
       "\n",
       "   Bulk 9  Bulk 10  Bulk 11  Bulk 12  Bulk 13  Bulk 14  Bulk 15  \n",
       "0     NaN      NaN      NaN    206.0      NaN    150.0    154.0  \n",
       "1     NaN      NaN      NaN    206.0      NaN    149.0    154.0  \n",
       "2     NaN      NaN      NaN    205.0      NaN    152.0    153.0  "
      ]
     },
     "metadata": {},
     "output_type": "display_data"
    },
    {
     "name": "stdout",
     "output_type": "stream",
     "text": [
      "===============================data_bulk_time======================================\n"
     ]
    },
    {
     "data": {
      "text/html": [
       "\n",
       "  <div id=\"df-431b6812-6ac3-4bed-b338-05110918ca6d\">\n",
       "    <div class=\"colab-df-container\">\n",
       "      <div>\n",
       "<style scoped>\n",
       "    .dataframe tbody tr th:only-of-type {\n",
       "        vertical-align: middle;\n",
       "    }\n",
       "\n",
       "    .dataframe tbody tr th {\n",
       "        vertical-align: top;\n",
       "    }\n",
       "\n",
       "    .dataframe thead th {\n",
       "        text-align: right;\n",
       "    }\n",
       "</style>\n",
       "<table border=\"1\" class=\"dataframe\">\n",
       "  <thead>\n",
       "    <tr style=\"text-align: right;\">\n",
       "      <th></th>\n",
       "      <th>key</th>\n",
       "      <th>Bulk 1</th>\n",
       "      <th>Bulk 2</th>\n",
       "      <th>Bulk 3</th>\n",
       "      <th>Bulk 4</th>\n",
       "      <th>Bulk 5</th>\n",
       "      <th>Bulk 6</th>\n",
       "      <th>Bulk 7</th>\n",
       "      <th>Bulk 8</th>\n",
       "      <th>Bulk 9</th>\n",
       "      <th>Bulk 10</th>\n",
       "      <th>Bulk 11</th>\n",
       "      <th>Bulk 12</th>\n",
       "      <th>Bulk 13</th>\n",
       "      <th>Bulk 14</th>\n",
       "      <th>Bulk 15</th>\n",
       "    </tr>\n",
       "  </thead>\n",
       "  <tbody>\n",
       "    <tr>\n",
       "      <th>0</th>\n",
       "      <td>1</td>\n",
       "      <td>NaT</td>\n",
       "      <td>NaT</td>\n",
       "      <td>NaT</td>\n",
       "      <td>2019-05-03 11:21:30</td>\n",
       "      <td>NaT</td>\n",
       "      <td>NaT</td>\n",
       "      <td>NaT</td>\n",
       "      <td>NaT</td>\n",
       "      <td>NaT</td>\n",
       "      <td>NaT</td>\n",
       "      <td>NaT</td>\n",
       "      <td>2019-05-03 11:03:52</td>\n",
       "      <td>NaT</td>\n",
       "      <td>2019-05-03 11:03:52</td>\n",
       "      <td>2019-05-03 11:03:52</td>\n",
       "    </tr>\n",
       "    <tr>\n",
       "      <th>1</th>\n",
       "      <td>2</td>\n",
       "      <td>NaT</td>\n",
       "      <td>NaT</td>\n",
       "      <td>NaT</td>\n",
       "      <td>2019-05-03 11:46:38</td>\n",
       "      <td>NaT</td>\n",
       "      <td>NaT</td>\n",
       "      <td>NaT</td>\n",
       "      <td>NaT</td>\n",
       "      <td>NaT</td>\n",
       "      <td>NaT</td>\n",
       "      <td>NaT</td>\n",
       "      <td>2019-05-03 11:40:20</td>\n",
       "      <td>NaT</td>\n",
       "      <td>2019-05-03 11:40:20</td>\n",
       "      <td>2019-05-03 11:40:20</td>\n",
       "    </tr>\n",
       "    <tr>\n",
       "      <th>2</th>\n",
       "      <td>3</td>\n",
       "      <td>NaT</td>\n",
       "      <td>NaT</td>\n",
       "      <td>NaT</td>\n",
       "      <td>2019-05-03 12:31:06</td>\n",
       "      <td>NaT</td>\n",
       "      <td>NaT</td>\n",
       "      <td>NaT</td>\n",
       "      <td>NaT</td>\n",
       "      <td>NaT</td>\n",
       "      <td>NaT</td>\n",
       "      <td>NaT</td>\n",
       "      <td>2019-05-03 12:09:40</td>\n",
       "      <td>NaT</td>\n",
       "      <td>2019-05-03 12:09:40</td>\n",
       "      <td>2019-05-03 12:09:40</td>\n",
       "    </tr>\n",
       "  </tbody>\n",
       "</table>\n",
       "</div>\n",
       "      <button class=\"colab-df-convert\" onclick=\"convertToInteractive('df-431b6812-6ac3-4bed-b338-05110918ca6d')\"\n",
       "              title=\"Convert this dataframe to an interactive table.\"\n",
       "              style=\"display:none;\">\n",
       "        \n",
       "  <svg xmlns=\"http://www.w3.org/2000/svg\" height=\"24px\"viewBox=\"0 0 24 24\"\n",
       "       width=\"24px\">\n",
       "    <path d=\"M0 0h24v24H0V0z\" fill=\"none\"/>\n",
       "    <path d=\"M18.56 5.44l.94 2.06.94-2.06 2.06-.94-2.06-.94-.94-2.06-.94 2.06-2.06.94zm-11 1L8.5 8.5l.94-2.06 2.06-.94-2.06-.94L8.5 2.5l-.94 2.06-2.06.94zm10 10l.94 2.06.94-2.06 2.06-.94-2.06-.94-.94-2.06-.94 2.06-2.06.94z\"/><path d=\"M17.41 7.96l-1.37-1.37c-.4-.4-.92-.59-1.43-.59-.52 0-1.04.2-1.43.59L10.3 9.45l-7.72 7.72c-.78.78-.78 2.05 0 2.83L4 21.41c.39.39.9.59 1.41.59.51 0 1.02-.2 1.41-.59l7.78-7.78 2.81-2.81c.8-.78.8-2.07 0-2.86zM5.41 20L4 18.59l7.72-7.72 1.47 1.35L5.41 20z\"/>\n",
       "  </svg>\n",
       "      </button>\n",
       "      \n",
       "  <style>\n",
       "    .colab-df-container {\n",
       "      display:flex;\n",
       "      flex-wrap:wrap;\n",
       "      gap: 12px;\n",
       "    }\n",
       "\n",
       "    .colab-df-convert {\n",
       "      background-color: #E8F0FE;\n",
       "      border: none;\n",
       "      border-radius: 50%;\n",
       "      cursor: pointer;\n",
       "      display: none;\n",
       "      fill: #1967D2;\n",
       "      height: 32px;\n",
       "      padding: 0 0 0 0;\n",
       "      width: 32px;\n",
       "    }\n",
       "\n",
       "    .colab-df-convert:hover {\n",
       "      background-color: #E2EBFA;\n",
       "      box-shadow: 0px 1px 2px rgba(60, 64, 67, 0.3), 0px 1px 3px 1px rgba(60, 64, 67, 0.15);\n",
       "      fill: #174EA6;\n",
       "    }\n",
       "\n",
       "    [theme=dark] .colab-df-convert {\n",
       "      background-color: #3B4455;\n",
       "      fill: #D2E3FC;\n",
       "    }\n",
       "\n",
       "    [theme=dark] .colab-df-convert:hover {\n",
       "      background-color: #434B5C;\n",
       "      box-shadow: 0px 1px 3px 1px rgba(0, 0, 0, 0.15);\n",
       "      filter: drop-shadow(0px 1px 2px rgba(0, 0, 0, 0.3));\n",
       "      fill: #FFFFFF;\n",
       "    }\n",
       "  </style>\n",
       "\n",
       "      <script>\n",
       "        const buttonEl =\n",
       "          document.querySelector('#df-431b6812-6ac3-4bed-b338-05110918ca6d button.colab-df-convert');\n",
       "        buttonEl.style.display =\n",
       "          google.colab.kernel.accessAllowed ? 'block' : 'none';\n",
       "\n",
       "        async function convertToInteractive(key) {\n",
       "          const element = document.querySelector('#df-431b6812-6ac3-4bed-b338-05110918ca6d');\n",
       "          const dataTable =\n",
       "            await google.colab.kernel.invokeFunction('convertToInteractive',\n",
       "                                                     [key], {});\n",
       "          if (!dataTable) return;\n",
       "\n",
       "          const docLinkHtml = 'Like what you see? Visit the ' +\n",
       "            '<a target=\"_blank\" href=https://colab.research.google.com/notebooks/data_table.ipynb>data table notebook</a>'\n",
       "            + ' to learn more about interactive tables.';\n",
       "          element.innerHTML = '';\n",
       "          dataTable['output_type'] = 'display_data';\n",
       "          await google.colab.output.renderOutput(dataTable, element);\n",
       "          const docLink = document.createElement('div');\n",
       "          docLink.innerHTML = docLinkHtml;\n",
       "          element.appendChild(docLink);\n",
       "        }\n",
       "      </script>\n",
       "    </div>\n",
       "  </div>\n",
       "  "
      ],
      "text/plain": [
       "   key Bulk 1 Bulk 2 Bulk 3              Bulk 4 Bulk 5 Bulk 6 Bulk 7 Bulk 8  \\\n",
       "0    1    NaT    NaT    NaT 2019-05-03 11:21:30    NaT    NaT    NaT    NaT   \n",
       "1    2    NaT    NaT    NaT 2019-05-03 11:46:38    NaT    NaT    NaT    NaT   \n",
       "2    3    NaT    NaT    NaT 2019-05-03 12:31:06    NaT    NaT    NaT    NaT   \n",
       "\n",
       "  Bulk 9 Bulk 10 Bulk 11             Bulk 12 Bulk 13             Bulk 14  \\\n",
       "0    NaT     NaT     NaT 2019-05-03 11:03:52     NaT 2019-05-03 11:03:52   \n",
       "1    NaT     NaT     NaT 2019-05-03 11:40:20     NaT 2019-05-03 11:40:20   \n",
       "2    NaT     NaT     NaT 2019-05-03 12:09:40     NaT 2019-05-03 12:09:40   \n",
       "\n",
       "              Bulk 15  \n",
       "0 2019-05-03 11:03:52  \n",
       "1 2019-05-03 11:40:20  \n",
       "2 2019-05-03 12:09:40  "
      ]
     },
     "metadata": {},
     "output_type": "display_data"
    },
    {
     "name": "stdout",
     "output_type": "stream",
     "text": [
      "===============================data_gas======================================\n"
     ]
    },
    {
     "data": {
      "text/html": [
       "\n",
       "  <div id=\"df-ecc9887c-5c6b-4dc5-af46-8955107e1a7f\">\n",
       "    <div class=\"colab-df-container\">\n",
       "      <div>\n",
       "<style scoped>\n",
       "    .dataframe tbody tr th:only-of-type {\n",
       "        vertical-align: middle;\n",
       "    }\n",
       "\n",
       "    .dataframe tbody tr th {\n",
       "        vertical-align: top;\n",
       "    }\n",
       "\n",
       "    .dataframe thead th {\n",
       "        text-align: right;\n",
       "    }\n",
       "</style>\n",
       "<table border=\"1\" class=\"dataframe\">\n",
       "  <thead>\n",
       "    <tr style=\"text-align: right;\">\n",
       "      <th></th>\n",
       "      <th>key</th>\n",
       "      <th>Газ 1</th>\n",
       "    </tr>\n",
       "  </thead>\n",
       "  <tbody>\n",
       "    <tr>\n",
       "      <th>0</th>\n",
       "      <td>1</td>\n",
       "      <td>29.749986</td>\n",
       "    </tr>\n",
       "    <tr>\n",
       "      <th>1</th>\n",
       "      <td>2</td>\n",
       "      <td>12.555561</td>\n",
       "    </tr>\n",
       "    <tr>\n",
       "      <th>2</th>\n",
       "      <td>3</td>\n",
       "      <td>28.554793</td>\n",
       "    </tr>\n",
       "  </tbody>\n",
       "</table>\n",
       "</div>\n",
       "      <button class=\"colab-df-convert\" onclick=\"convertToInteractive('df-ecc9887c-5c6b-4dc5-af46-8955107e1a7f')\"\n",
       "              title=\"Convert this dataframe to an interactive table.\"\n",
       "              style=\"display:none;\">\n",
       "        \n",
       "  <svg xmlns=\"http://www.w3.org/2000/svg\" height=\"24px\"viewBox=\"0 0 24 24\"\n",
       "       width=\"24px\">\n",
       "    <path d=\"M0 0h24v24H0V0z\" fill=\"none\"/>\n",
       "    <path d=\"M18.56 5.44l.94 2.06.94-2.06 2.06-.94-2.06-.94-.94-2.06-.94 2.06-2.06.94zm-11 1L8.5 8.5l.94-2.06 2.06-.94-2.06-.94L8.5 2.5l-.94 2.06-2.06.94zm10 10l.94 2.06.94-2.06 2.06-.94-2.06-.94-.94-2.06-.94 2.06-2.06.94z\"/><path d=\"M17.41 7.96l-1.37-1.37c-.4-.4-.92-.59-1.43-.59-.52 0-1.04.2-1.43.59L10.3 9.45l-7.72 7.72c-.78.78-.78 2.05 0 2.83L4 21.41c.39.39.9.59 1.41.59.51 0 1.02-.2 1.41-.59l7.78-7.78 2.81-2.81c.8-.78.8-2.07 0-2.86zM5.41 20L4 18.59l7.72-7.72 1.47 1.35L5.41 20z\"/>\n",
       "  </svg>\n",
       "      </button>\n",
       "      \n",
       "  <style>\n",
       "    .colab-df-container {\n",
       "      display:flex;\n",
       "      flex-wrap:wrap;\n",
       "      gap: 12px;\n",
       "    }\n",
       "\n",
       "    .colab-df-convert {\n",
       "      background-color: #E8F0FE;\n",
       "      border: none;\n",
       "      border-radius: 50%;\n",
       "      cursor: pointer;\n",
       "      display: none;\n",
       "      fill: #1967D2;\n",
       "      height: 32px;\n",
       "      padding: 0 0 0 0;\n",
       "      width: 32px;\n",
       "    }\n",
       "\n",
       "    .colab-df-convert:hover {\n",
       "      background-color: #E2EBFA;\n",
       "      box-shadow: 0px 1px 2px rgba(60, 64, 67, 0.3), 0px 1px 3px 1px rgba(60, 64, 67, 0.15);\n",
       "      fill: #174EA6;\n",
       "    }\n",
       "\n",
       "    [theme=dark] .colab-df-convert {\n",
       "      background-color: #3B4455;\n",
       "      fill: #D2E3FC;\n",
       "    }\n",
       "\n",
       "    [theme=dark] .colab-df-convert:hover {\n",
       "      background-color: #434B5C;\n",
       "      box-shadow: 0px 1px 3px 1px rgba(0, 0, 0, 0.15);\n",
       "      filter: drop-shadow(0px 1px 2px rgba(0, 0, 0, 0.3));\n",
       "      fill: #FFFFFF;\n",
       "    }\n",
       "  </style>\n",
       "\n",
       "      <script>\n",
       "        const buttonEl =\n",
       "          document.querySelector('#df-ecc9887c-5c6b-4dc5-af46-8955107e1a7f button.colab-df-convert');\n",
       "        buttonEl.style.display =\n",
       "          google.colab.kernel.accessAllowed ? 'block' : 'none';\n",
       "\n",
       "        async function convertToInteractive(key) {\n",
       "          const element = document.querySelector('#df-ecc9887c-5c6b-4dc5-af46-8955107e1a7f');\n",
       "          const dataTable =\n",
       "            await google.colab.kernel.invokeFunction('convertToInteractive',\n",
       "                                                     [key], {});\n",
       "          if (!dataTable) return;\n",
       "\n",
       "          const docLinkHtml = 'Like what you see? Visit the ' +\n",
       "            '<a target=\"_blank\" href=https://colab.research.google.com/notebooks/data_table.ipynb>data table notebook</a>'\n",
       "            + ' to learn more about interactive tables.';\n",
       "          element.innerHTML = '';\n",
       "          dataTable['output_type'] = 'display_data';\n",
       "          await google.colab.output.renderOutput(dataTable, element);\n",
       "          const docLink = document.createElement('div');\n",
       "          docLink.innerHTML = docLinkHtml;\n",
       "          element.appendChild(docLink);\n",
       "        }\n",
       "      </script>\n",
       "    </div>\n",
       "  </div>\n",
       "  "
      ],
      "text/plain": [
       "   key      Газ 1\n",
       "0    1  29.749986\n",
       "1    2  12.555561\n",
       "2    3  28.554793"
      ]
     },
     "metadata": {},
     "output_type": "display_data"
    },
    {
     "name": "stdout",
     "output_type": "stream",
     "text": [
      "===============================data_temp======================================\n"
     ]
    },
    {
     "data": {
      "text/html": [
       "\n",
       "  <div id=\"df-861ca4b7-a5c0-4d97-b7a0-7f5b01d33746\">\n",
       "    <div class=\"colab-df-container\">\n",
       "      <div>\n",
       "<style scoped>\n",
       "    .dataframe tbody tr th:only-of-type {\n",
       "        vertical-align: middle;\n",
       "    }\n",
       "\n",
       "    .dataframe tbody tr th {\n",
       "        vertical-align: top;\n",
       "    }\n",
       "\n",
       "    .dataframe thead th {\n",
       "        text-align: right;\n",
       "    }\n",
       "</style>\n",
       "<table border=\"1\" class=\"dataframe\">\n",
       "  <thead>\n",
       "    <tr style=\"text-align: right;\">\n",
       "      <th></th>\n",
       "      <th>key</th>\n",
       "      <th>Время замера</th>\n",
       "      <th>Температура</th>\n",
       "    </tr>\n",
       "  </thead>\n",
       "  <tbody>\n",
       "    <tr>\n",
       "      <th>0</th>\n",
       "      <td>1</td>\n",
       "      <td>2019-05-03 11:16:18</td>\n",
       "      <td>1571.0</td>\n",
       "    </tr>\n",
       "    <tr>\n",
       "      <th>1</th>\n",
       "      <td>1</td>\n",
       "      <td>2019-05-03 11:25:53</td>\n",
       "      <td>1604.0</td>\n",
       "    </tr>\n",
       "    <tr>\n",
       "      <th>2</th>\n",
       "      <td>1</td>\n",
       "      <td>2019-05-03 11:29:11</td>\n",
       "      <td>1618.0</td>\n",
       "    </tr>\n",
       "  </tbody>\n",
       "</table>\n",
       "</div>\n",
       "      <button class=\"colab-df-convert\" onclick=\"convertToInteractive('df-861ca4b7-a5c0-4d97-b7a0-7f5b01d33746')\"\n",
       "              title=\"Convert this dataframe to an interactive table.\"\n",
       "              style=\"display:none;\">\n",
       "        \n",
       "  <svg xmlns=\"http://www.w3.org/2000/svg\" height=\"24px\"viewBox=\"0 0 24 24\"\n",
       "       width=\"24px\">\n",
       "    <path d=\"M0 0h24v24H0V0z\" fill=\"none\"/>\n",
       "    <path d=\"M18.56 5.44l.94 2.06.94-2.06 2.06-.94-2.06-.94-.94-2.06-.94 2.06-2.06.94zm-11 1L8.5 8.5l.94-2.06 2.06-.94-2.06-.94L8.5 2.5l-.94 2.06-2.06.94zm10 10l.94 2.06.94-2.06 2.06-.94-2.06-.94-.94-2.06-.94 2.06-2.06.94z\"/><path d=\"M17.41 7.96l-1.37-1.37c-.4-.4-.92-.59-1.43-.59-.52 0-1.04.2-1.43.59L10.3 9.45l-7.72 7.72c-.78.78-.78 2.05 0 2.83L4 21.41c.39.39.9.59 1.41.59.51 0 1.02-.2 1.41-.59l7.78-7.78 2.81-2.81c.8-.78.8-2.07 0-2.86zM5.41 20L4 18.59l7.72-7.72 1.47 1.35L5.41 20z\"/>\n",
       "  </svg>\n",
       "      </button>\n",
       "      \n",
       "  <style>\n",
       "    .colab-df-container {\n",
       "      display:flex;\n",
       "      flex-wrap:wrap;\n",
       "      gap: 12px;\n",
       "    }\n",
       "\n",
       "    .colab-df-convert {\n",
       "      background-color: #E8F0FE;\n",
       "      border: none;\n",
       "      border-radius: 50%;\n",
       "      cursor: pointer;\n",
       "      display: none;\n",
       "      fill: #1967D2;\n",
       "      height: 32px;\n",
       "      padding: 0 0 0 0;\n",
       "      width: 32px;\n",
       "    }\n",
       "\n",
       "    .colab-df-convert:hover {\n",
       "      background-color: #E2EBFA;\n",
       "      box-shadow: 0px 1px 2px rgba(60, 64, 67, 0.3), 0px 1px 3px 1px rgba(60, 64, 67, 0.15);\n",
       "      fill: #174EA6;\n",
       "    }\n",
       "\n",
       "    [theme=dark] .colab-df-convert {\n",
       "      background-color: #3B4455;\n",
       "      fill: #D2E3FC;\n",
       "    }\n",
       "\n",
       "    [theme=dark] .colab-df-convert:hover {\n",
       "      background-color: #434B5C;\n",
       "      box-shadow: 0px 1px 3px 1px rgba(0, 0, 0, 0.15);\n",
       "      filter: drop-shadow(0px 1px 2px rgba(0, 0, 0, 0.3));\n",
       "      fill: #FFFFFF;\n",
       "    }\n",
       "  </style>\n",
       "\n",
       "      <script>\n",
       "        const buttonEl =\n",
       "          document.querySelector('#df-861ca4b7-a5c0-4d97-b7a0-7f5b01d33746 button.colab-df-convert');\n",
       "        buttonEl.style.display =\n",
       "          google.colab.kernel.accessAllowed ? 'block' : 'none';\n",
       "\n",
       "        async function convertToInteractive(key) {\n",
       "          const element = document.querySelector('#df-861ca4b7-a5c0-4d97-b7a0-7f5b01d33746');\n",
       "          const dataTable =\n",
       "            await google.colab.kernel.invokeFunction('convertToInteractive',\n",
       "                                                     [key], {});\n",
       "          if (!dataTable) return;\n",
       "\n",
       "          const docLinkHtml = 'Like what you see? Visit the ' +\n",
       "            '<a target=\"_blank\" href=https://colab.research.google.com/notebooks/data_table.ipynb>data table notebook</a>'\n",
       "            + ' to learn more about interactive tables.';\n",
       "          element.innerHTML = '';\n",
       "          dataTable['output_type'] = 'display_data';\n",
       "          await google.colab.output.renderOutput(dataTable, element);\n",
       "          const docLink = document.createElement('div');\n",
       "          docLink.innerHTML = docLinkHtml;\n",
       "          element.appendChild(docLink);\n",
       "        }\n",
       "      </script>\n",
       "    </div>\n",
       "  </div>\n",
       "  "
      ],
      "text/plain": [
       "   key        Время замера  Температура\n",
       "0    1 2019-05-03 11:16:18       1571.0\n",
       "1    1 2019-05-03 11:25:53       1604.0\n",
       "2    1 2019-05-03 11:29:11       1618.0"
      ]
     },
     "metadata": {},
     "output_type": "display_data"
    },
    {
     "name": "stdout",
     "output_type": "stream",
     "text": [
      "===============================data_wire======================================\n"
     ]
    },
    {
     "data": {
      "text/html": [
       "\n",
       "  <div id=\"df-b9e63b31-3b48-4018-8155-bc0111bb9460\">\n",
       "    <div class=\"colab-df-container\">\n",
       "      <div>\n",
       "<style scoped>\n",
       "    .dataframe tbody tr th:only-of-type {\n",
       "        vertical-align: middle;\n",
       "    }\n",
       "\n",
       "    .dataframe tbody tr th {\n",
       "        vertical-align: top;\n",
       "    }\n",
       "\n",
       "    .dataframe thead th {\n",
       "        text-align: right;\n",
       "    }\n",
       "</style>\n",
       "<table border=\"1\" class=\"dataframe\">\n",
       "  <thead>\n",
       "    <tr style=\"text-align: right;\">\n",
       "      <th></th>\n",
       "      <th>key</th>\n",
       "      <th>Wire 1</th>\n",
       "      <th>Wire 2</th>\n",
       "      <th>Wire 3</th>\n",
       "      <th>Wire 4</th>\n",
       "      <th>Wire 5</th>\n",
       "      <th>Wire 6</th>\n",
       "      <th>Wire 7</th>\n",
       "      <th>Wire 8</th>\n",
       "      <th>Wire 9</th>\n",
       "    </tr>\n",
       "  </thead>\n",
       "  <tbody>\n",
       "    <tr>\n",
       "      <th>0</th>\n",
       "      <td>1</td>\n",
       "      <td>60.059998</td>\n",
       "      <td>NaN</td>\n",
       "      <td>NaN</td>\n",
       "      <td>NaN</td>\n",
       "      <td>NaN</td>\n",
       "      <td>NaN</td>\n",
       "      <td>NaN</td>\n",
       "      <td>NaN</td>\n",
       "      <td>NaN</td>\n",
       "    </tr>\n",
       "    <tr>\n",
       "      <th>1</th>\n",
       "      <td>2</td>\n",
       "      <td>96.052315</td>\n",
       "      <td>NaN</td>\n",
       "      <td>NaN</td>\n",
       "      <td>NaN</td>\n",
       "      <td>NaN</td>\n",
       "      <td>NaN</td>\n",
       "      <td>NaN</td>\n",
       "      <td>NaN</td>\n",
       "      <td>NaN</td>\n",
       "    </tr>\n",
       "    <tr>\n",
       "      <th>2</th>\n",
       "      <td>3</td>\n",
       "      <td>91.160157</td>\n",
       "      <td>NaN</td>\n",
       "      <td>NaN</td>\n",
       "      <td>NaN</td>\n",
       "      <td>NaN</td>\n",
       "      <td>NaN</td>\n",
       "      <td>NaN</td>\n",
       "      <td>NaN</td>\n",
       "      <td>NaN</td>\n",
       "    </tr>\n",
       "  </tbody>\n",
       "</table>\n",
       "</div>\n",
       "      <button class=\"colab-df-convert\" onclick=\"convertToInteractive('df-b9e63b31-3b48-4018-8155-bc0111bb9460')\"\n",
       "              title=\"Convert this dataframe to an interactive table.\"\n",
       "              style=\"display:none;\">\n",
       "        \n",
       "  <svg xmlns=\"http://www.w3.org/2000/svg\" height=\"24px\"viewBox=\"0 0 24 24\"\n",
       "       width=\"24px\">\n",
       "    <path d=\"M0 0h24v24H0V0z\" fill=\"none\"/>\n",
       "    <path d=\"M18.56 5.44l.94 2.06.94-2.06 2.06-.94-2.06-.94-.94-2.06-.94 2.06-2.06.94zm-11 1L8.5 8.5l.94-2.06 2.06-.94-2.06-.94L8.5 2.5l-.94 2.06-2.06.94zm10 10l.94 2.06.94-2.06 2.06-.94-2.06-.94-.94-2.06-.94 2.06-2.06.94z\"/><path d=\"M17.41 7.96l-1.37-1.37c-.4-.4-.92-.59-1.43-.59-.52 0-1.04.2-1.43.59L10.3 9.45l-7.72 7.72c-.78.78-.78 2.05 0 2.83L4 21.41c.39.39.9.59 1.41.59.51 0 1.02-.2 1.41-.59l7.78-7.78 2.81-2.81c.8-.78.8-2.07 0-2.86zM5.41 20L4 18.59l7.72-7.72 1.47 1.35L5.41 20z\"/>\n",
       "  </svg>\n",
       "      </button>\n",
       "      \n",
       "  <style>\n",
       "    .colab-df-container {\n",
       "      display:flex;\n",
       "      flex-wrap:wrap;\n",
       "      gap: 12px;\n",
       "    }\n",
       "\n",
       "    .colab-df-convert {\n",
       "      background-color: #E8F0FE;\n",
       "      border: none;\n",
       "      border-radius: 50%;\n",
       "      cursor: pointer;\n",
       "      display: none;\n",
       "      fill: #1967D2;\n",
       "      height: 32px;\n",
       "      padding: 0 0 0 0;\n",
       "      width: 32px;\n",
       "    }\n",
       "\n",
       "    .colab-df-convert:hover {\n",
       "      background-color: #E2EBFA;\n",
       "      box-shadow: 0px 1px 2px rgba(60, 64, 67, 0.3), 0px 1px 3px 1px rgba(60, 64, 67, 0.15);\n",
       "      fill: #174EA6;\n",
       "    }\n",
       "\n",
       "    [theme=dark] .colab-df-convert {\n",
       "      background-color: #3B4455;\n",
       "      fill: #D2E3FC;\n",
       "    }\n",
       "\n",
       "    [theme=dark] .colab-df-convert:hover {\n",
       "      background-color: #434B5C;\n",
       "      box-shadow: 0px 1px 3px 1px rgba(0, 0, 0, 0.15);\n",
       "      filter: drop-shadow(0px 1px 2px rgba(0, 0, 0, 0.3));\n",
       "      fill: #FFFFFF;\n",
       "    }\n",
       "  </style>\n",
       "\n",
       "      <script>\n",
       "        const buttonEl =\n",
       "          document.querySelector('#df-b9e63b31-3b48-4018-8155-bc0111bb9460 button.colab-df-convert');\n",
       "        buttonEl.style.display =\n",
       "          google.colab.kernel.accessAllowed ? 'block' : 'none';\n",
       "\n",
       "        async function convertToInteractive(key) {\n",
       "          const element = document.querySelector('#df-b9e63b31-3b48-4018-8155-bc0111bb9460');\n",
       "          const dataTable =\n",
       "            await google.colab.kernel.invokeFunction('convertToInteractive',\n",
       "                                                     [key], {});\n",
       "          if (!dataTable) return;\n",
       "\n",
       "          const docLinkHtml = 'Like what you see? Visit the ' +\n",
       "            '<a target=\"_blank\" href=https://colab.research.google.com/notebooks/data_table.ipynb>data table notebook</a>'\n",
       "            + ' to learn more about interactive tables.';\n",
       "          element.innerHTML = '';\n",
       "          dataTable['output_type'] = 'display_data';\n",
       "          await google.colab.output.renderOutput(dataTable, element);\n",
       "          const docLink = document.createElement('div');\n",
       "          docLink.innerHTML = docLinkHtml;\n",
       "          element.appendChild(docLink);\n",
       "        }\n",
       "      </script>\n",
       "    </div>\n",
       "  </div>\n",
       "  "
      ],
      "text/plain": [
       "   key     Wire 1  Wire 2  Wire 3  Wire 4  Wire 5  Wire 6  Wire 7  Wire 8  \\\n",
       "0    1  60.059998     NaN     NaN     NaN     NaN     NaN     NaN     NaN   \n",
       "1    2  96.052315     NaN     NaN     NaN     NaN     NaN     NaN     NaN   \n",
       "2    3  91.160157     NaN     NaN     NaN     NaN     NaN     NaN     NaN   \n",
       "\n",
       "   Wire 9  \n",
       "0     NaN  \n",
       "1     NaN  \n",
       "2     NaN  "
      ]
     },
     "metadata": {},
     "output_type": "display_data"
    },
    {
     "name": "stdout",
     "output_type": "stream",
     "text": [
      "===============================data_wire_time======================================\n"
     ]
    },
    {
     "data": {
      "text/html": [
       "\n",
       "  <div id=\"df-f283ba2d-1e3e-44cd-a0d6-d4ca2f6d3b3e\">\n",
       "    <div class=\"colab-df-container\">\n",
       "      <div>\n",
       "<style scoped>\n",
       "    .dataframe tbody tr th:only-of-type {\n",
       "        vertical-align: middle;\n",
       "    }\n",
       "\n",
       "    .dataframe tbody tr th {\n",
       "        vertical-align: top;\n",
       "    }\n",
       "\n",
       "    .dataframe thead th {\n",
       "        text-align: right;\n",
       "    }\n",
       "</style>\n",
       "<table border=\"1\" class=\"dataframe\">\n",
       "  <thead>\n",
       "    <tr style=\"text-align: right;\">\n",
       "      <th></th>\n",
       "      <th>key</th>\n",
       "      <th>Wire 1</th>\n",
       "      <th>Wire 2</th>\n",
       "      <th>Wire 3</th>\n",
       "      <th>Wire 4</th>\n",
       "      <th>Wire 5</th>\n",
       "      <th>Wire 6</th>\n",
       "      <th>Wire 7</th>\n",
       "      <th>Wire 8</th>\n",
       "      <th>Wire 9</th>\n",
       "    </tr>\n",
       "  </thead>\n",
       "  <tbody>\n",
       "    <tr>\n",
       "      <th>0</th>\n",
       "      <td>1</td>\n",
       "      <td>2019-05-03 11:11:41</td>\n",
       "      <td>NaT</td>\n",
       "      <td>NaT</td>\n",
       "      <td>NaT</td>\n",
       "      <td>NaT</td>\n",
       "      <td>NaT</td>\n",
       "      <td>NaT</td>\n",
       "      <td>NaT</td>\n",
       "      <td>NaT</td>\n",
       "    </tr>\n",
       "    <tr>\n",
       "      <th>1</th>\n",
       "      <td>2</td>\n",
       "      <td>2019-05-03 11:46:10</td>\n",
       "      <td>NaT</td>\n",
       "      <td>NaT</td>\n",
       "      <td>NaT</td>\n",
       "      <td>NaT</td>\n",
       "      <td>NaT</td>\n",
       "      <td>NaT</td>\n",
       "      <td>NaT</td>\n",
       "      <td>NaT</td>\n",
       "    </tr>\n",
       "    <tr>\n",
       "      <th>2</th>\n",
       "      <td>3</td>\n",
       "      <td>2019-05-03 12:13:47</td>\n",
       "      <td>NaT</td>\n",
       "      <td>NaT</td>\n",
       "      <td>NaT</td>\n",
       "      <td>NaT</td>\n",
       "      <td>NaT</td>\n",
       "      <td>NaT</td>\n",
       "      <td>NaT</td>\n",
       "      <td>NaT</td>\n",
       "    </tr>\n",
       "  </tbody>\n",
       "</table>\n",
       "</div>\n",
       "      <button class=\"colab-df-convert\" onclick=\"convertToInteractive('df-f283ba2d-1e3e-44cd-a0d6-d4ca2f6d3b3e')\"\n",
       "              title=\"Convert this dataframe to an interactive table.\"\n",
       "              style=\"display:none;\">\n",
       "        \n",
       "  <svg xmlns=\"http://www.w3.org/2000/svg\" height=\"24px\"viewBox=\"0 0 24 24\"\n",
       "       width=\"24px\">\n",
       "    <path d=\"M0 0h24v24H0V0z\" fill=\"none\"/>\n",
       "    <path d=\"M18.56 5.44l.94 2.06.94-2.06 2.06-.94-2.06-.94-.94-2.06-.94 2.06-2.06.94zm-11 1L8.5 8.5l.94-2.06 2.06-.94-2.06-.94L8.5 2.5l-.94 2.06-2.06.94zm10 10l.94 2.06.94-2.06 2.06-.94-2.06-.94-.94-2.06-.94 2.06-2.06.94z\"/><path d=\"M17.41 7.96l-1.37-1.37c-.4-.4-.92-.59-1.43-.59-.52 0-1.04.2-1.43.59L10.3 9.45l-7.72 7.72c-.78.78-.78 2.05 0 2.83L4 21.41c.39.39.9.59 1.41.59.51 0 1.02-.2 1.41-.59l7.78-7.78 2.81-2.81c.8-.78.8-2.07 0-2.86zM5.41 20L4 18.59l7.72-7.72 1.47 1.35L5.41 20z\"/>\n",
       "  </svg>\n",
       "      </button>\n",
       "      \n",
       "  <style>\n",
       "    .colab-df-container {\n",
       "      display:flex;\n",
       "      flex-wrap:wrap;\n",
       "      gap: 12px;\n",
       "    }\n",
       "\n",
       "    .colab-df-convert {\n",
       "      background-color: #E8F0FE;\n",
       "      border: none;\n",
       "      border-radius: 50%;\n",
       "      cursor: pointer;\n",
       "      display: none;\n",
       "      fill: #1967D2;\n",
       "      height: 32px;\n",
       "      padding: 0 0 0 0;\n",
       "      width: 32px;\n",
       "    }\n",
       "\n",
       "    .colab-df-convert:hover {\n",
       "      background-color: #E2EBFA;\n",
       "      box-shadow: 0px 1px 2px rgba(60, 64, 67, 0.3), 0px 1px 3px 1px rgba(60, 64, 67, 0.15);\n",
       "      fill: #174EA6;\n",
       "    }\n",
       "\n",
       "    [theme=dark] .colab-df-convert {\n",
       "      background-color: #3B4455;\n",
       "      fill: #D2E3FC;\n",
       "    }\n",
       "\n",
       "    [theme=dark] .colab-df-convert:hover {\n",
       "      background-color: #434B5C;\n",
       "      box-shadow: 0px 1px 3px 1px rgba(0, 0, 0, 0.15);\n",
       "      filter: drop-shadow(0px 1px 2px rgba(0, 0, 0, 0.3));\n",
       "      fill: #FFFFFF;\n",
       "    }\n",
       "  </style>\n",
       "\n",
       "      <script>\n",
       "        const buttonEl =\n",
       "          document.querySelector('#df-f283ba2d-1e3e-44cd-a0d6-d4ca2f6d3b3e button.colab-df-convert');\n",
       "        buttonEl.style.display =\n",
       "          google.colab.kernel.accessAllowed ? 'block' : 'none';\n",
       "\n",
       "        async function convertToInteractive(key) {\n",
       "          const element = document.querySelector('#df-f283ba2d-1e3e-44cd-a0d6-d4ca2f6d3b3e');\n",
       "          const dataTable =\n",
       "            await google.colab.kernel.invokeFunction('convertToInteractive',\n",
       "                                                     [key], {});\n",
       "          if (!dataTable) return;\n",
       "\n",
       "          const docLinkHtml = 'Like what you see? Visit the ' +\n",
       "            '<a target=\"_blank\" href=https://colab.research.google.com/notebooks/data_table.ipynb>data table notebook</a>'\n",
       "            + ' to learn more about interactive tables.';\n",
       "          element.innerHTML = '';\n",
       "          dataTable['output_type'] = 'display_data';\n",
       "          await google.colab.output.renderOutput(dataTable, element);\n",
       "          const docLink = document.createElement('div');\n",
       "          docLink.innerHTML = docLinkHtml;\n",
       "          element.appendChild(docLink);\n",
       "        }\n",
       "      </script>\n",
       "    </div>\n",
       "  </div>\n",
       "  "
      ],
      "text/plain": [
       "   key              Wire 1 Wire 2 Wire 3 Wire 4 Wire 5 Wire 6 Wire 7 Wire 8  \\\n",
       "0    1 2019-05-03 11:11:41    NaT    NaT    NaT    NaT    NaT    NaT    NaT   \n",
       "1    2 2019-05-03 11:46:10    NaT    NaT    NaT    NaT    NaT    NaT    NaT   \n",
       "2    3 2019-05-03 12:13:47    NaT    NaT    NaT    NaT    NaT    NaT    NaT   \n",
       "\n",
       "  Wire 9  \n",
       "0    NaT  \n",
       "1    NaT  \n",
       "2    NaT  "
      ]
     },
     "metadata": {},
     "output_type": "display_data"
    }
   ],
   "source": [
    "# Посмотрим как выглядят данные в таблицах\n",
    "print('===============================data_arc======================================')\n",
    "display(data_arc.head(3))\n",
    "print('===============================data_bulk======================================')\n",
    "display(data_bulk.head(3))\n",
    "print('===============================data_bulk_time======================================')\n",
    "display(data_bulk_time.head(3))\n",
    "print('===============================data_gas======================================')\n",
    "display(data_gas.head(3))\n",
    "print('===============================data_temp======================================')\n",
    "display(data_temp.head(3))\n",
    "print('===============================data_wire======================================')\n",
    "display(data_wire.head(3))\n",
    "print('===============================data_wire_time======================================')\n",
    "display(data_wire_time.head(3))"
   ]
  },
  {
   "cell_type": "code",
   "execution_count": 6,
   "metadata": {
    "colab": {
     "base_uri": "https://localhost:8080/"
    },
    "id": "DN64PeFAF5Lc",
    "outputId": "36c08c6e-3153-473c-b5f3-74cc03b207b3"
   },
   "outputs": [
    {
     "name": "stdout",
     "output_type": "stream",
     "text": [
      "<class 'pandas.core.frame.DataFrame'>\n",
      "RangeIndex: 15907 entries, 0 to 15906\n",
      "Data columns (total 3 columns):\n",
      " #   Column        Non-Null Count  Dtype         \n",
      "---  ------        --------------  -----         \n",
      " 0   key           15907 non-null  int64         \n",
      " 1   Время замера  15907 non-null  datetime64[ns]\n",
      " 2   Температура   13006 non-null  float64       \n",
      "dtypes: datetime64[ns](1), float64(1), int64(1)\n",
      "memory usage: 372.9 KB\n"
     ]
    }
   ],
   "source": [
    "data_temp.info()"
   ]
  },
  {
   "cell_type": "code",
   "execution_count": 7,
   "metadata": {
    "colab": {
     "base_uri": "https://localhost:8080/"
    },
    "id": "WCimnbL5YxE6",
    "outputId": "ac5370df-0262-449f-bae7-4fe68a2ec7a0"
   },
   "outputs": [
    {
     "name": "stdout",
     "output_type": "stream",
     "text": [
      "<class 'pandas.core.frame.DataFrame'>\n",
      "RangeIndex: 14876 entries, 0 to 14875\n",
      "Data columns (total 5 columns):\n",
      " #   Column                Non-Null Count  Dtype         \n",
      "---  ------                --------------  -----         \n",
      " 0   key                   14876 non-null  int64         \n",
      " 1   Начало нагрева дугой  14876 non-null  datetime64[ns]\n",
      " 2   Конец нагрева дугой   14876 non-null  datetime64[ns]\n",
      " 3   Активная мощность     14876 non-null  float64       \n",
      " 4   Реактивная мощность   14876 non-null  float64       \n",
      "dtypes: datetime64[ns](2), float64(2), int64(1)\n",
      "memory usage: 581.2 KB\n"
     ]
    }
   ],
   "source": [
    "data_arc.info()"
   ]
  },
  {
   "cell_type": "code",
   "execution_count": 8,
   "metadata": {
    "colab": {
     "base_uri": "https://localhost:8080/",
     "height": 1000
    },
    "id": "W5Q58nWWFn84",
    "outputId": "8ad46682-cfe8-4484-bb8f-e8c9acbe0ff0"
   },
   "outputs": [
    {
     "name": "stdout",
     "output_type": "stream",
     "text": [
      "<class 'pandas.core.frame.DataFrame'>\n",
      "RangeIndex: 3129 entries, 0 to 3128\n",
      "Data columns (total 16 columns):\n",
      " #   Column   Non-Null Count  Dtype  \n",
      "---  ------   --------------  -----  \n",
      " 0   key      3129 non-null   int64  \n",
      " 1   Bulk 1   252 non-null    float64\n",
      " 2   Bulk 2   22 non-null     float64\n",
      " 3   Bulk 3   1298 non-null   float64\n",
      " 4   Bulk 4   1014 non-null   float64\n",
      " 5   Bulk 5   77 non-null     float64\n",
      " 6   Bulk 6   576 non-null    float64\n",
      " 7   Bulk 7   25 non-null     float64\n",
      " 8   Bulk 8   1 non-null      float64\n",
      " 9   Bulk 9   19 non-null     float64\n",
      " 10  Bulk 10  176 non-null    float64\n",
      " 11  Bulk 11  177 non-null    float64\n",
      " 12  Bulk 12  2450 non-null   float64\n",
      " 13  Bulk 13  18 non-null     float64\n",
      " 14  Bulk 14  2806 non-null   float64\n",
      " 15  Bulk 15  2248 non-null   float64\n",
      "dtypes: float64(15), int64(1)\n",
      "memory usage: 391.2 KB\n"
     ]
    },
    {
     "data": {
      "text/plain": [
       "None"
      ]
     },
     "metadata": {},
     "output_type": "display_data"
    },
    {
     "name": "stdout",
     "output_type": "stream",
     "text": [
      "<class 'pandas.core.frame.DataFrame'>\n",
      "RangeIndex: 3129 entries, 0 to 3128\n",
      "Data columns (total 16 columns):\n",
      " #   Column   Non-Null Count  Dtype         \n",
      "---  ------   --------------  -----         \n",
      " 0   key      3129 non-null   int64         \n",
      " 1   Bulk 1   252 non-null    datetime64[ns]\n",
      " 2   Bulk 2   22 non-null     datetime64[ns]\n",
      " 3   Bulk 3   1298 non-null   datetime64[ns]\n",
      " 4   Bulk 4   1014 non-null   datetime64[ns]\n",
      " 5   Bulk 5   77 non-null     datetime64[ns]\n",
      " 6   Bulk 6   576 non-null    datetime64[ns]\n",
      " 7   Bulk 7   25 non-null     datetime64[ns]\n",
      " 8   Bulk 8   1 non-null      datetime64[ns]\n",
      " 9   Bulk 9   19 non-null     datetime64[ns]\n",
      " 10  Bulk 10  176 non-null    datetime64[ns]\n",
      " 11  Bulk 11  177 non-null    datetime64[ns]\n",
      " 12  Bulk 12  2450 non-null   datetime64[ns]\n",
      " 13  Bulk 13  18 non-null     datetime64[ns]\n",
      " 14  Bulk 14  2806 non-null   datetime64[ns]\n",
      " 15  Bulk 15  2248 non-null   datetime64[ns]\n",
      "dtypes: datetime64[ns](15), int64(1)\n",
      "memory usage: 391.2 KB\n"
     ]
    },
    {
     "data": {
      "text/plain": [
       "None"
      ]
     },
     "metadata": {},
     "output_type": "display_data"
    },
    {
     "name": "stdout",
     "output_type": "stream",
     "text": [
      "<class 'pandas.core.frame.DataFrame'>\n",
      "RangeIndex: 3081 entries, 0 to 3080\n",
      "Data columns (total 10 columns):\n",
      " #   Column  Non-Null Count  Dtype  \n",
      "---  ------  --------------  -----  \n",
      " 0   key     3081 non-null   int64  \n",
      " 1   Wire 1  3055 non-null   float64\n",
      " 2   Wire 2  1079 non-null   float64\n",
      " 3   Wire 3  63 non-null     float64\n",
      " 4   Wire 4  14 non-null     float64\n",
      " 5   Wire 5  1 non-null      float64\n",
      " 6   Wire 6  73 non-null     float64\n",
      " 7   Wire 7  11 non-null     float64\n",
      " 8   Wire 8  19 non-null     float64\n",
      " 9   Wire 9  29 non-null     float64\n",
      "dtypes: float64(9), int64(1)\n",
      "memory usage: 240.8 KB\n"
     ]
    },
    {
     "data": {
      "text/plain": [
       "None"
      ]
     },
     "metadata": {},
     "output_type": "display_data"
    },
    {
     "name": "stdout",
     "output_type": "stream",
     "text": [
      "<class 'pandas.core.frame.DataFrame'>\n",
      "RangeIndex: 3081 entries, 0 to 3080\n",
      "Data columns (total 10 columns):\n",
      " #   Column  Non-Null Count  Dtype         \n",
      "---  ------  --------------  -----         \n",
      " 0   key     3081 non-null   int64         \n",
      " 1   Wire 1  3055 non-null   datetime64[ns]\n",
      " 2   Wire 2  1079 non-null   datetime64[ns]\n",
      " 3   Wire 3  63 non-null     datetime64[ns]\n",
      " 4   Wire 4  14 non-null     datetime64[ns]\n",
      " 5   Wire 5  1 non-null      datetime64[ns]\n",
      " 6   Wire 6  73 non-null     datetime64[ns]\n",
      " 7   Wire 7  11 non-null     datetime64[ns]\n",
      " 8   Wire 8  19 non-null     datetime64[ns]\n",
      " 9   Wire 9  29 non-null     datetime64[ns]\n",
      "dtypes: datetime64[ns](9), int64(1)\n",
      "memory usage: 240.8 KB\n"
     ]
    }
   ],
   "source": [
    "display(data_bulk.info())\n",
    "display(data_bulk_time.info())\n",
    "display(data_wire.info())\n",
    "data_wire_time.info()"
   ]
  },
  {
   "cell_type": "markdown",
   "metadata": {
    "id": "T4p4wM8KRZ4L"
   },
   "source": [
    "## Температура\n",
    "\n",
    "На первый взгляд в таблице обнаружились пропуски, попробуем узнать где они расположились."
   ]
  },
  {
   "cell_type": "code",
   "execution_count": 9,
   "metadata": {
    "colab": {
     "base_uri": "https://localhost:8080/"
    },
    "id": "MEwGZ_ddvved",
    "outputId": "3e246e94-ffa9-4f9a-eb8b-c6a313a5846e"
   },
   "outputs": [
    {
     "data": {
      "text/plain": [
       "(Timestamp('2019-09-01 04:38:08'), Timestamp('2019-05-03 11:16:18'))"
      ]
     },
     "execution_count": 9,
     "metadata": {},
     "output_type": "execute_result"
    }
   ],
   "source": [
    "data_temp['Время замера'].max(), data_temp['Время замера'].min()"
   ]
  },
  {
   "cell_type": "code",
   "execution_count": 10,
   "metadata": {
    "colab": {
     "base_uri": "https://localhost:8080/"
    },
    "id": "cbgAoDxJY0Ng",
    "outputId": "d542e628-ab1b-45e9-98cc-cf0c75ca765a"
   },
   "outputs": [
    {
     "data": {
      "text/plain": [
       "3216"
      ]
     },
     "execution_count": 10,
     "metadata": {},
     "output_type": "execute_result"
    }
   ],
   "source": [
    "# Посмотрим кол-во уникальных наблюдений\n",
    "len(data_temp['key'].unique())"
   ]
  },
  {
   "cell_type": "code",
   "execution_count": 11,
   "metadata": {
    "colab": {
     "base_uri": "https://localhost:8080/",
     "height": 282
    },
    "id": "NP3WpqtRY5TQ",
    "outputId": "5ef82bfe-3621-49ab-84ee-18a3e1925e88"
   },
   "outputs": [
    {
     "data": {
      "text/plain": [
       "<matplotlib.axes._subplots.AxesSubplot at 0x7f34e1d01f90>"
      ]
     },
     "execution_count": 11,
     "metadata": {},
     "output_type": "execute_result"
    },
    {
     "data": {
      "image/png": "[encoded data removed]",
      "text/plain": [
       "<Figure size 432x288 with 1 Axes>"
      ]
     },
     "metadata": {
      "needs_background": "light"
     },
     "output_type": "display_data"
    }
   ],
   "source": [
    "# Построим гистограмму распределения кол-ва наблюдений по ключу\n",
    "data_temp['key'].value_counts().hist()"
   ]
  },
  {
   "cell_type": "code",
   "execution_count": 12,
   "metadata": {
    "colab": {
     "base_uri": "https://localhost:8080/",
     "height": 282
    },
    "id": "xvTeQFIC2C_C",
    "outputId": "6a46dab6-c9a3-46c8-cc9d-4a9fe8d7701a"
   },
   "outputs": [
    {
     "data": {
      "text/plain": [
       "<matplotlib.axes._subplots.AxesSubplot at 0x7f34d826bc50>"
      ]
     },
     "execution_count": 12,
     "metadata": {},
     "output_type": "execute_result"
    },
    {
     "data": {
      "image/png": "[encoded data removed]",
      "text/plain": [
       "<Figure size 432x288 with 1 Axes>"
      ]
     },
     "metadata": {
      "needs_background": "light"
     },
     "output_type": "display_data"
    }
   ],
   "source": [
    "data_temp['Температура'].hist(bins=100)"
   ]
  },
  {
   "cell_type": "code",
   "execution_count": 13,
   "metadata": {
    "colab": {
     "base_uri": "https://localhost:8080/"
    },
    "id": "lifp3JzzZj9p",
    "outputId": "529bcb41-495d-4e1d-9c40-4628c6604536"
   },
   "outputs": [
    {
     "name": "stdout",
     "output_type": "stream",
     "text": [
      "всего пропусков:  2901\n",
      "из них в конечной температуре:\n"
     ]
    },
    {
     "data": {
      "text/plain": [
       "739"
      ]
     },
     "execution_count": 13,
     "metadata": {},
     "output_type": "execute_result"
    }
   ],
   "source": [
    "# Посмотрим общее кол-во пропусков и кол-во пропусков\n",
    "# в конечной температуре по ключу\n",
    "print('всего пропусков: ', data_temp['Температура'].isna().sum())\n",
    "print('из них в конечной температуре:')\n",
    "(data_temp.sort_values(by=['Время замера'], ascending=False)\n",
    "          .groupby('key').head(1)['Температура'].isna().sum())"
   ]
  },
  {
   "cell_type": "code",
   "execution_count": 14,
   "metadata": {
    "colab": {
     "base_uri": "https://localhost:8080/"
    },
    "id": "THdpMUqcbmZA",
    "outputId": "44290732-b127-4d50-8279-c59d919931d6"
   },
   "outputs": [
    {
     "data": {
      "text/plain": [
       "739"
      ]
     },
     "execution_count": 14,
     "metadata": {},
     "output_type": "execute_result"
    }
   ],
   "source": [
    "# Посмотрим общее кол-во пропусков по ключу\n",
    "len(data_temp[data_temp['Температура'].isna()]['key'].unique())"
   ]
  },
  {
   "cell_type": "code",
   "execution_count": 15,
   "metadata": {
    "colab": {
     "base_uri": "https://localhost:8080/",
     "height": 300
    },
    "id": "HClgnqHST-PS",
    "outputId": "444aab17-cefe-4774-df94-7c5dede58798"
   },
   "outputs": [
    {
     "data": {
      "text/html": [
       "\n",
       "  <div id=\"df-b0092e0e-a64a-4afd-b9a4-2899bdd1c188\">\n",
       "    <div class=\"colab-df-container\">\n",
       "      <div>\n",
       "<style scoped>\n",
       "    .dataframe tbody tr th:only-of-type {\n",
       "        vertical-align: middle;\n",
       "    }\n",
       "\n",
       "    .dataframe tbody tr th {\n",
       "        vertical-align: top;\n",
       "    }\n",
       "\n",
       "    .dataframe thead th {\n",
       "        text-align: right;\n",
       "    }\n",
       "</style>\n",
       "<table border=\"1\" class=\"dataframe\">\n",
       "  <thead>\n",
       "    <tr style=\"text-align: right;\">\n",
       "      <th></th>\n",
       "      <th>0</th>\n",
       "    </tr>\n",
       "  </thead>\n",
       "  <tbody>\n",
       "    <tr>\n",
       "      <th>count</th>\n",
       "      <td>739.000000</td>\n",
       "    </tr>\n",
       "    <tr>\n",
       "      <th>mean</th>\n",
       "      <td>2869.852503</td>\n",
       "    </tr>\n",
       "    <tr>\n",
       "      <th>std</th>\n",
       "      <td>213.963364</td>\n",
       "    </tr>\n",
       "    <tr>\n",
       "      <th>min</th>\n",
       "      <td>2500.000000</td>\n",
       "    </tr>\n",
       "    <tr>\n",
       "      <th>25%</th>\n",
       "      <td>2685.500000</td>\n",
       "    </tr>\n",
       "    <tr>\n",
       "      <th>50%</th>\n",
       "      <td>2870.000000</td>\n",
       "    </tr>\n",
       "    <tr>\n",
       "      <th>75%</th>\n",
       "      <td>3054.500000</td>\n",
       "    </tr>\n",
       "    <tr>\n",
       "      <th>max</th>\n",
       "      <td>3241.000000</td>\n",
       "    </tr>\n",
       "  </tbody>\n",
       "</table>\n",
       "</div>\n",
       "      <button class=\"colab-df-convert\" onclick=\"convertToInteractive('df-b0092e0e-a64a-4afd-b9a4-2899bdd1c188')\"\n",
       "              title=\"Convert this dataframe to an interactive table.\"\n",
       "              style=\"display:none;\">\n",
       "        \n",
       "  <svg xmlns=\"http://www.w3.org/2000/svg\" height=\"24px\"viewBox=\"0 0 24 24\"\n",
       "       width=\"24px\">\n",
       "    <path d=\"M0 0h24v24H0V0z\" fill=\"none\"/>\n",
       "    <path d=\"M18.56 5.44l.94 2.06.94-2.06 2.06-.94-2.06-.94-.94-2.06-.94 2.06-2.06.94zm-11 1L8.5 8.5l.94-2.06 2.06-.94-2.06-.94L8.5 2.5l-.94 2.06-2.06.94zm10 10l.94 2.06.94-2.06 2.06-.94-2.06-.94-.94-2.06-.94 2.06-2.06.94z\"/><path d=\"M17.41 7.96l-1.37-1.37c-.4-.4-.92-.59-1.43-.59-.52 0-1.04.2-1.43.59L10.3 9.45l-7.72 7.72c-.78.78-.78 2.05 0 2.83L4 21.41c.39.39.9.59 1.41.59.51 0 1.02-.2 1.41-.59l7.78-7.78 2.81-2.81c.8-.78.8-2.07 0-2.86zM5.41 20L4 18.59l7.72-7.72 1.47 1.35L5.41 20z\"/>\n",
       "  </svg>\n",
       "      </button>\n",
       "      \n",
       "  <style>\n",
       "    .colab-df-container {\n",
       "      display:flex;\n",
       "      flex-wrap:wrap;\n",
       "      gap: 12px;\n",
       "    }\n",
       "\n",
       "    .colab-df-convert {\n",
       "      background-color: #E8F0FE;\n",
       "      border: none;\n",
       "      border-radius: 50%;\n",
       "      cursor: pointer;\n",
       "      display: none;\n",
       "      fill: #1967D2;\n",
       "      height: 32px;\n",
       "      padding: 0 0 0 0;\n",
       "      width: 32px;\n",
       "    }\n",
       "\n",
       "    .colab-df-convert:hover {\n",
       "      background-color: #E2EBFA;\n",
       "      box-shadow: 0px 1px 2px rgba(60, 64, 67, 0.3), 0px 1px 3px 1px rgba(60, 64, 67, 0.15);\n",
       "      fill: #174EA6;\n",
       "    }\n",
       "\n",
       "    [theme=dark] .colab-df-convert {\n",
       "      background-color: #3B4455;\n",
       "      fill: #D2E3FC;\n",
       "    }\n",
       "\n",
       "    [theme=dark] .colab-df-convert:hover {\n",
       "      background-color: #434B5C;\n",
       "      box-shadow: 0px 1px 3px 1px rgba(0, 0, 0, 0.15);\n",
       "      filter: drop-shadow(0px 1px 2px rgba(0, 0, 0, 0.3));\n",
       "      fill: #FFFFFF;\n",
       "    }\n",
       "  </style>\n",
       "\n",
       "      <script>\n",
       "        const buttonEl =\n",
       "          document.querySelector('#df-b0092e0e-a64a-4afd-b9a4-2899bdd1c188 button.colab-df-convert');\n",
       "        buttonEl.style.display =\n",
       "          google.colab.kernel.accessAllowed ? 'block' : 'none';\n",
       "\n",
       "        async function convertToInteractive(key) {\n",
       "          const element = document.querySelector('#df-b0092e0e-a64a-4afd-b9a4-2899bdd1c188');\n",
       "          const dataTable =\n",
       "            await google.colab.kernel.invokeFunction('convertToInteractive',\n",
       "                                                     [key], {});\n",
       "          if (!dataTable) return;\n",
       "\n",
       "          const docLinkHtml = 'Like what you see? Visit the ' +\n",
       "            '<a target=\"_blank\" href=https://colab.research.google.com/notebooks/data_table.ipynb>data table notebook</a>'\n",
       "            + ' to learn more about interactive tables.';\n",
       "          element.innerHTML = '';\n",
       "          dataTable['output_type'] = 'display_data';\n",
       "          await google.colab.output.renderOutput(dataTable, element);\n",
       "          const docLink = document.createElement('div');\n",
       "          docLink.innerHTML = docLinkHtml;\n",
       "          element.appendChild(docLink);\n",
       "        }\n",
       "      </script>\n",
       "    </div>\n",
       "  </div>\n",
       "  "
      ],
      "text/plain": [
       "                 0\n",
       "count   739.000000\n",
       "mean   2869.852503\n",
       "std     213.963364\n",
       "min    2500.000000\n",
       "25%    2685.500000\n",
       "50%    2870.000000\n",
       "75%    3054.500000\n",
       "max    3241.000000"
      ]
     },
     "execution_count": 15,
     "metadata": {},
     "output_type": "execute_result"
    }
   ],
   "source": [
    "pd.DataFrame(list(data_temp[data_temp['Температура'].isna()]['key'].unique())).describe()"
   ]
  },
  {
   "cell_type": "code",
   "execution_count": 16,
   "metadata": {
    "id": "_-sLM5QpscuL"
   },
   "outputs": [],
   "source": [
    "# посмотрим как будет выглядеть таблица без пропусков\n",
    "clear_data_temp = data_temp.query('key < 2500')"
   ]
  },
  {
   "cell_type": "code",
   "execution_count": 17,
   "metadata": {
    "colab": {
     "base_uri": "https://localhost:8080/"
    },
    "id": "24HD1k5Xqw5m",
    "outputId": "5406a5ce-d7f1-4561-ff89-1bd4f4d236ea"
   },
   "outputs": [
    {
     "name": "stdout",
     "output_type": "stream",
     "text": [
      "<class 'pandas.core.frame.DataFrame'>\n",
      "Int64Index: 12267 entries, 0 to 12266\n",
      "Data columns (total 3 columns):\n",
      " #   Column        Non-Null Count  Dtype         \n",
      "---  ------        --------------  -----         \n",
      " 0   key           12267 non-null  int64         \n",
      " 1   Время замера  12267 non-null  datetime64[ns]\n",
      " 2   Температура   12267 non-null  float64       \n",
      "dtypes: datetime64[ns](1), float64(1), int64(1)\n",
      "memory usage: 383.3 KB\n"
     ]
    }
   ],
   "source": [
    "clear_data_temp.info()"
   ]
  },
  {
   "cell_type": "code",
   "execution_count": 18,
   "metadata": {
    "colab": {
     "base_uri": "https://localhost:8080/"
    },
    "id": "SwZyTpCrs5Yi",
    "outputId": "f01394d3-45ed-43c9-8b60-49b85f38974e"
   },
   "outputs": [
    {
     "name": "stdout",
     "output_type": "stream",
     "text": [
      "Процент пропусков в уникальных ключах\n"
     ]
    },
    {
     "data": {
      "text/plain": [
       "22.978855721393035"
      ]
     },
     "execution_count": 18,
     "metadata": {},
     "output_type": "execute_result"
    }
   ],
   "source": [
    "print('Процент пропусков в уникальных ключах')\n",
    "(len(data_temp[data_temp['Температура'].isna()]['key'].unique())\n",
    "    / len(data_temp['key'].unique())) * 100"
   ]
  },
  {
   "cell_type": "code",
   "execution_count": 19,
   "metadata": {
    "colab": {
     "base_uri": "https://localhost:8080/",
     "height": 300
    },
    "id": "SR6WXbawuU2n",
    "outputId": "b9f9157d-a174-4fc8-9f5b-9fbb95af3b04"
   },
   "outputs": [
    {
     "data": {
      "text/html": [
       "\n",
       "  <div id=\"df-84b94691-26e1-4df8-a28a-fd4b2e4bc105\">\n",
       "    <div class=\"colab-df-container\">\n",
       "      <div>\n",
       "<style scoped>\n",
       "    .dataframe tbody tr th:only-of-type {\n",
       "        vertical-align: middle;\n",
       "    }\n",
       "\n",
       "    .dataframe tbody tr th {\n",
       "        vertical-align: top;\n",
       "    }\n",
       "\n",
       "    .dataframe thead th {\n",
       "        text-align: right;\n",
       "    }\n",
       "</style>\n",
       "<table border=\"1\" class=\"dataframe\">\n",
       "  <thead>\n",
       "    <tr style=\"text-align: right;\">\n",
       "      <th></th>\n",
       "      <th>key</th>\n",
       "      <th>Температура</th>\n",
       "    </tr>\n",
       "  </thead>\n",
       "  <tbody>\n",
       "    <tr>\n",
       "      <th>count</th>\n",
       "      <td>12267.000000</td>\n",
       "      <td>12267.000000</td>\n",
       "    </tr>\n",
       "    <tr>\n",
       "      <th>mean</th>\n",
       "      <td>1235.589060</td>\n",
       "      <td>1591.999022</td>\n",
       "    </tr>\n",
       "    <tr>\n",
       "      <th>std</th>\n",
       "      <td>729.452481</td>\n",
       "      <td>20.833175</td>\n",
       "    </tr>\n",
       "    <tr>\n",
       "      <th>min</th>\n",
       "      <td>1.000000</td>\n",
       "      <td>1191.000000</td>\n",
       "    </tr>\n",
       "    <tr>\n",
       "      <th>25%</th>\n",
       "      <td>602.000000</td>\n",
       "      <td>1581.000000</td>\n",
       "    </tr>\n",
       "    <tr>\n",
       "      <th>50%</th>\n",
       "      <td>1238.000000</td>\n",
       "      <td>1591.000000</td>\n",
       "    </tr>\n",
       "    <tr>\n",
       "      <th>75%</th>\n",
       "      <td>1874.000000</td>\n",
       "      <td>1601.000000</td>\n",
       "    </tr>\n",
       "    <tr>\n",
       "      <th>max</th>\n",
       "      <td>2499.000000</td>\n",
       "      <td>1705.000000</td>\n",
       "    </tr>\n",
       "  </tbody>\n",
       "</table>\n",
       "</div>\n",
       "      <button class=\"colab-df-convert\" onclick=\"convertToInteractive('df-84b94691-26e1-4df8-a28a-fd4b2e4bc105')\"\n",
       "              title=\"Convert this dataframe to an interactive table.\"\n",
       "              style=\"display:none;\">\n",
       "        \n",
       "  <svg xmlns=\"http://www.w3.org/2000/svg\" height=\"24px\"viewBox=\"0 0 24 24\"\n",
       "       width=\"24px\">\n",
       "    <path d=\"M0 0h24v24H0V0z\" fill=\"none\"/>\n",
       "    <path d=\"M18.56 5.44l.94 2.06.94-2.06 2.06-.94-2.06-.94-.94-2.06-.94 2.06-2.06.94zm-11 1L8.5 8.5l.94-2.06 2.06-.94-2.06-.94L8.5 2.5l-.94 2.06-2.06.94zm10 10l.94 2.06.94-2.06 2.06-.94-2.06-.94-.94-2.06-.94 2.06-2.06.94z\"/><path d=\"M17.41 7.96l-1.37-1.37c-.4-.4-.92-.59-1.43-.59-.52 0-1.04.2-1.43.59L10.3 9.45l-7.72 7.72c-.78.78-.78 2.05 0 2.83L4 21.41c.39.39.9.59 1.41.59.51 0 1.02-.2 1.41-.59l7.78-7.78 2.81-2.81c.8-.78.8-2.07 0-2.86zM5.41 20L4 18.59l7.72-7.72 1.47 1.35L5.41 20z\"/>\n",
       "  </svg>\n",
       "      </button>\n",
       "      \n",
       "  <style>\n",
       "    .colab-df-container {\n",
       "      display:flex;\n",
       "      flex-wrap:wrap;\n",
       "      gap: 12px;\n",
       "    }\n",
       "\n",
       "    .colab-df-convert {\n",
       "      background-color: #E8F0FE;\n",
       "      border: none;\n",
       "      border-radius: 50%;\n",
       "      cursor: pointer;\n",
       "      display: none;\n",
       "      fill: #1967D2;\n",
       "      height: 32px;\n",
       "      padding: 0 0 0 0;\n",
       "      width: 32px;\n",
       "    }\n",
       "\n",
       "    .colab-df-convert:hover {\n",
       "      background-color: #E2EBFA;\n",
       "      box-shadow: 0px 1px 2px rgba(60, 64, 67, 0.3), 0px 1px 3px 1px rgba(60, 64, 67, 0.15);\n",
       "      fill: #174EA6;\n",
       "    }\n",
       "\n",
       "    [theme=dark] .colab-df-convert {\n",
       "      background-color: #3B4455;\n",
       "      fill: #D2E3FC;\n",
       "    }\n",
       "\n",
       "    [theme=dark] .colab-df-convert:hover {\n",
       "      background-color: #434B5C;\n",
       "      box-shadow: 0px 1px 3px 1px rgba(0, 0, 0, 0.15);\n",
       "      filter: drop-shadow(0px 1px 2px rgba(0, 0, 0, 0.3));\n",
       "      fill: #FFFFFF;\n",
       "    }\n",
       "  </style>\n",
       "\n",
       "      <script>\n",
       "        const buttonEl =\n",
       "          document.querySelector('#df-84b94691-26e1-4df8-a28a-fd4b2e4bc105 button.colab-df-convert');\n",
       "        buttonEl.style.display =\n",
       "          google.colab.kernel.accessAllowed ? 'block' : 'none';\n",
       "\n",
       "        async function convertToInteractive(key) {\n",
       "          const element = document.querySelector('#df-84b94691-26e1-4df8-a28a-fd4b2e4bc105');\n",
       "          const dataTable =\n",
       "            await google.colab.kernel.invokeFunction('convertToInteractive',\n",
       "                                                     [key], {});\n",
       "          if (!dataTable) return;\n",
       "\n",
       "          const docLinkHtml = 'Like what you see? Visit the ' +\n",
       "            '<a target=\"_blank\" href=https://colab.research.google.com/notebooks/data_table.ipynb>data table notebook</a>'\n",
       "            + ' to learn more about interactive tables.';\n",
       "          element.innerHTML = '';\n",
       "          dataTable['output_type'] = 'display_data';\n",
       "          await google.colab.output.renderOutput(dataTable, element);\n",
       "          const docLink = document.createElement('div');\n",
       "          docLink.innerHTML = docLinkHtml;\n",
       "          element.appendChild(docLink);\n",
       "        }\n",
       "      </script>\n",
       "    </div>\n",
       "  </div>\n",
       "  "
      ],
      "text/plain": [
       "                key   Температура\n",
       "count  12267.000000  12267.000000\n",
       "mean    1235.589060   1591.999022\n",
       "std      729.452481     20.833175\n",
       "min        1.000000   1191.000000\n",
       "25%      602.000000   1581.000000\n",
       "50%     1238.000000   1591.000000\n",
       "75%     1874.000000   1601.000000\n",
       "max     2499.000000   1705.000000"
      ]
     },
     "execution_count": 19,
     "metadata": {},
     "output_type": "execute_result"
    }
   ],
   "source": [
    "# Посмотрим величины в очищенных от пропусков данных\n",
    "clear_data_temp.describe()"
   ]
  },
  {
   "cell_type": "code",
   "execution_count": 20,
   "metadata": {
    "colab": {
     "base_uri": "https://localhost:8080/",
     "height": 282
    },
    "id": "2LuZj9VWupKx",
    "outputId": "e94f5ee5-2b86-4374-ec81-6475770116fa"
   },
   "outputs": [
    {
     "data": {
      "text/plain": [
       "<matplotlib.axes._subplots.AxesSubplot at 0x7f34d7c1b3d0>"
      ]
     },
     "execution_count": 20,
     "metadata": {},
     "output_type": "execute_result"
    },
    {
     "data": {
      "image/png": "[encoded data removed]",
      "text/plain": [
       "<Figure size 432x288 with 1 Axes>"
      ]
     },
     "metadata": {
      "needs_background": "light"
     },
     "output_type": "display_data"
    }
   ],
   "source": [
    "clear_data_temp['Температура'].hist(bins=30)"
   ]
  },
  {
   "cell_type": "code",
   "execution_count": 21,
   "metadata": {
    "colab": {
     "base_uri": "https://localhost:8080/",
     "height": 334
    },
    "id": "mL3JStc3KsPB",
    "outputId": "a8767b6d-a335-4780-ddb0-6f61fc825a18"
   },
   "outputs": [
    {
     "name": "stderr",
     "output_type": "stream",
     "text": [
      "/usr/local/lib/python3.7/dist-packages/seaborn/_decorators.py:43: FutureWarning: Pass the following variable as a keyword arg: x. From version 0.12, the only valid positional argument will be `data`, and passing other arguments without an explicit keyword will result in an error or misinterpretation.\n",
      "  FutureWarning\n"
     ]
    },
    {
     "data": {
      "image/png": "[encoded data removed]",
      "text/plain": [
       "<Figure size 432x288 with 1 Axes>"
      ]
     },
     "metadata": {
      "needs_background": "light"
     },
     "output_type": "display_data"
    }
   ],
   "source": [
    "sns.boxplot(clear_data_temp['Температура'])\n",
    "plt.show()"
   ]
  },
  {
   "cell_type": "markdown",
   "metadata": {
    "id": "SY1yqG0yvCOx"
   },
   "source": [
    "По температуре:\n",
    "\n",
    "Из последней гистограммы видно, что есть очень небольшое кол-во значений выбивающиеся за основное распределение находящееся в диапазоне примерно от 1500 до 1705. Заказчик подтвердил, что такие значения имеют место быть, потому мы их оставляем.\n",
    "\n",
    "Имеются пропуски в замерах температуры. \n",
    "* нумерация ключей идёт не по порядку, так как всего уникальных ключей 3216, а максимальный номер ключа 3241\n",
    "* всего пропусков:  2901\n",
    "* из них в конечной температуре: 739\n",
    "* пропуски в данных начинаются при key > 2499 и идут до конца таблицы\n",
    "\n",
    "* нет ключа 2683 (но это не важно)\n",
    "\n",
    "В результате убраны ключи с пропусками в конечной или начальной температурах (это ключи уникальный номер которых больше 2499).\n",
    "\n",
    "Получившаяся таблица названа `clear_data_temp`"
   ]
  },
  {
   "cell_type": "code",
   "execution_count": 22,
   "metadata": {
    "colab": {
     "base_uri": "https://localhost:8080/"
    },
    "id": "YWDKh2Nswcnr",
    "outputId": "e186fc67-9571-419d-cb00-5ef8cad496b8"
   },
   "outputs": [
    {
     "data": {
      "text/plain": [
       "(12267, 3)"
      ]
     },
     "execution_count": 22,
     "metadata": {},
     "output_type": "execute_result"
    }
   ],
   "source": [
    "clear_data_temp.shape"
   ]
  },
  {
   "cell_type": "markdown",
   "metadata": {
    "id": "dOdRdJVdXCw8"
   },
   "source": [
    "## Мощность"
   ]
  },
  {
   "cell_type": "code",
   "execution_count": 23,
   "metadata": {
    "colab": {
     "base_uri": "https://localhost:8080/"
    },
    "id": "sYDZXsiaZC95",
    "outputId": "61ccc5c7-27a4-4c70-fc56-a8d710721484"
   },
   "outputs": [
    {
     "data": {
      "text/plain": [
       "3214"
      ]
     },
     "execution_count": 23,
     "metadata": {},
     "output_type": "execute_result"
    }
   ],
   "source": [
    "# Посмотрим кол-во уникальных наблюдений\n",
    "len(data_arc['key'].unique())"
   ]
  },
  {
   "cell_type": "code",
   "execution_count": 24,
   "metadata": {
    "colab": {
     "base_uri": "https://localhost:8080/",
     "height": 282
    },
    "id": "iVfVYWV-vQwd",
    "outputId": "95dddabc-aac7-433b-f4f7-42af06b4ffdb"
   },
   "outputs": [
    {
     "data": {
      "text/plain": [
       "<matplotlib.axes._subplots.AxesSubplot at 0x7f34d7b01350>"
      ]
     },
     "execution_count": 24,
     "metadata": {},
     "output_type": "execute_result"
    },
    {
     "data": {
      "image/png": "[encoded data removed]",
      "text/plain": [
       "<Figure size 432x288 with 1 Axes>"
      ]
     },
     "metadata": {
      "needs_background": "light"
     },
     "output_type": "display_data"
    }
   ],
   "source": [
    "# Построим гистограмму распределения кол-ва наблюдений по ключу\n",
    "data_arc['key'].value_counts().hist()"
   ]
  },
  {
   "cell_type": "code",
   "execution_count": 25,
   "metadata": {
    "colab": {
     "base_uri": "https://localhost:8080/",
     "height": 300
    },
    "id": "nIgX99ERxSxQ",
    "outputId": "6ab1ad5e-2200-4a23-8605-fa5efaf5c34d"
   },
   "outputs": [
    {
     "data": {
      "text/html": [
       "\n",
       "  <div id=\"df-f76e9e71-acc4-4614-8e21-6e5a6b0301c6\">\n",
       "    <div class=\"colab-df-container\">\n",
       "      <div>\n",
       "<style scoped>\n",
       "    .dataframe tbody tr th:only-of-type {\n",
       "        vertical-align: middle;\n",
       "    }\n",
       "\n",
       "    .dataframe tbody tr th {\n",
       "        vertical-align: top;\n",
       "    }\n",
       "\n",
       "    .dataframe thead th {\n",
       "        text-align: right;\n",
       "    }\n",
       "</style>\n",
       "<table border=\"1\" class=\"dataframe\">\n",
       "  <thead>\n",
       "    <tr style=\"text-align: right;\">\n",
       "      <th></th>\n",
       "      <th>key</th>\n",
       "      <th>Активная мощность</th>\n",
       "      <th>Реактивная мощность</th>\n",
       "    </tr>\n",
       "  </thead>\n",
       "  <tbody>\n",
       "    <tr>\n",
       "      <th>count</th>\n",
       "      <td>14876.000000</td>\n",
       "      <td>14876.000000</td>\n",
       "      <td>14876.000000</td>\n",
       "    </tr>\n",
       "    <tr>\n",
       "      <th>mean</th>\n",
       "      <td>1615.220422</td>\n",
       "      <td>0.670441</td>\n",
       "      <td>0.452592</td>\n",
       "    </tr>\n",
       "    <tr>\n",
       "      <th>std</th>\n",
       "      <td>934.571502</td>\n",
       "      <td>0.408159</td>\n",
       "      <td>5.878702</td>\n",
       "    </tr>\n",
       "    <tr>\n",
       "      <th>min</th>\n",
       "      <td>1.000000</td>\n",
       "      <td>0.030002</td>\n",
       "      <td>-715.504924</td>\n",
       "    </tr>\n",
       "    <tr>\n",
       "      <th>25%</th>\n",
       "      <td>806.000000</td>\n",
       "      <td>0.395297</td>\n",
       "      <td>0.290991</td>\n",
       "    </tr>\n",
       "    <tr>\n",
       "      <th>50%</th>\n",
       "      <td>1617.000000</td>\n",
       "      <td>0.555517</td>\n",
       "      <td>0.415962</td>\n",
       "    </tr>\n",
       "    <tr>\n",
       "      <th>75%</th>\n",
       "      <td>2429.000000</td>\n",
       "      <td>0.857034</td>\n",
       "      <td>0.637371</td>\n",
       "    </tr>\n",
       "    <tr>\n",
       "      <th>max</th>\n",
       "      <td>3241.000000</td>\n",
       "      <td>3.731596</td>\n",
       "      <td>2.676388</td>\n",
       "    </tr>\n",
       "  </tbody>\n",
       "</table>\n",
       "</div>\n",
       "      <button class=\"colab-df-convert\" onclick=\"convertToInteractive('df-f76e9e71-acc4-4614-8e21-6e5a6b0301c6')\"\n",
       "              title=\"Convert this dataframe to an interactive table.\"\n",
       "              style=\"display:none;\">\n",
       "        \n",
       "  <svg xmlns=\"http://www.w3.org/2000/svg\" height=\"24px\"viewBox=\"0 0 24 24\"\n",
       "       width=\"24px\">\n",
       "    <path d=\"M0 0h24v24H0V0z\" fill=\"none\"/>\n",
       "    <path d=\"M18.56 5.44l.94 2.06.94-2.06 2.06-.94-2.06-.94-.94-2.06-.94 2.06-2.06.94zm-11 1L8.5 8.5l.94-2.06 2.06-.94-2.06-.94L8.5 2.5l-.94 2.06-2.06.94zm10 10l.94 2.06.94-2.06 2.06-.94-2.06-.94-.94-2.06-.94 2.06-2.06.94z\"/><path d=\"M17.41 7.96l-1.37-1.37c-.4-.4-.92-.59-1.43-.59-.52 0-1.04.2-1.43.59L10.3 9.45l-7.72 7.72c-.78.78-.78 2.05 0 2.83L4 21.41c.39.39.9.59 1.41.59.51 0 1.02-.2 1.41-.59l7.78-7.78 2.81-2.81c.8-.78.8-2.07 0-2.86zM5.41 20L4 18.59l7.72-7.72 1.47 1.35L5.41 20z\"/>\n",
       "  </svg>\n",
       "      </button>\n",
       "      \n",
       "  <style>\n",
       "    .colab-df-container {\n",
       "      display:flex;\n",
       "      flex-wrap:wrap;\n",
       "      gap: 12px;\n",
       "    }\n",
       "\n",
       "    .colab-df-convert {\n",
       "      background-color: #E8F0FE;\n",
       "      border: none;\n",
       "      border-radius: 50%;\n",
       "      cursor: pointer;\n",
       "      display: none;\n",
       "      fill: #1967D2;\n",
       "      height: 32px;\n",
       "      padding: 0 0 0 0;\n",
       "      width: 32px;\n",
       "    }\n",
       "\n",
       "    .colab-df-convert:hover {\n",
       "      background-color: #E2EBFA;\n",
       "      box-shadow: 0px 1px 2px rgba(60, 64, 67, 0.3), 0px 1px 3px 1px rgba(60, 64, 67, 0.15);\n",
       "      fill: #174EA6;\n",
       "    }\n",
       "\n",
       "    [theme=dark] .colab-df-convert {\n",
       "      background-color: #3B4455;\n",
       "      fill: #D2E3FC;\n",
       "    }\n",
       "\n",
       "    [theme=dark] .colab-df-convert:hover {\n",
       "      background-color: #434B5C;\n",
       "      box-shadow: 0px 1px 3px 1px rgba(0, 0, 0, 0.15);\n",
       "      filter: drop-shadow(0px 1px 2px rgba(0, 0, 0, 0.3));\n",
       "      fill: #FFFFFF;\n",
       "    }\n",
       "  </style>\n",
       "\n",
       "      <script>\n",
       "        const buttonEl =\n",
       "          document.querySelector('#df-f76e9e71-acc4-4614-8e21-6e5a6b0301c6 button.colab-df-convert');\n",
       "        buttonEl.style.display =\n",
       "          google.colab.kernel.accessAllowed ? 'block' : 'none';\n",
       "\n",
       "        async function convertToInteractive(key) {\n",
       "          const element = document.querySelector('#df-f76e9e71-acc4-4614-8e21-6e5a6b0301c6');\n",
       "          const dataTable =\n",
       "            await google.colab.kernel.invokeFunction('convertToInteractive',\n",
       "                                                     [key], {});\n",
       "          if (!dataTable) return;\n",
       "\n",
       "          const docLinkHtml = 'Like what you see? Visit the ' +\n",
       "            '<a target=\"_blank\" href=https://colab.research.google.com/notebooks/data_table.ipynb>data table notebook</a>'\n",
       "            + ' to learn more about interactive tables.';\n",
       "          element.innerHTML = '';\n",
       "          dataTable['output_type'] = 'display_data';\n",
       "          await google.colab.output.renderOutput(dataTable, element);\n",
       "          const docLink = document.createElement('div');\n",
       "          docLink.innerHTML = docLinkHtml;\n",
       "          element.appendChild(docLink);\n",
       "        }\n",
       "      </script>\n",
       "    </div>\n",
       "  </div>\n",
       "  "
      ],
      "text/plain": [
       "                key  Активная мощность  Реактивная мощность\n",
       "count  14876.000000       14876.000000         14876.000000\n",
       "mean    1615.220422           0.670441             0.452592\n",
       "std      934.571502           0.408159             5.878702\n",
       "min        1.000000           0.030002          -715.504924\n",
       "25%      806.000000           0.395297             0.290991\n",
       "50%     1617.000000           0.555517             0.415962\n",
       "75%     2429.000000           0.857034             0.637371\n",
       "max     3241.000000           3.731596             2.676388"
      ]
     },
     "execution_count": 25,
     "metadata": {},
     "output_type": "execute_result"
    }
   ],
   "source": [
    "data_arc.describe()"
   ]
  },
  {
   "cell_type": "code",
   "execution_count": 26,
   "metadata": {
    "colab": {
     "base_uri": "https://localhost:8080/"
    },
    "id": "15I-g72I37Lq",
    "outputId": "8390373f-6e81-4184-e4bd-370bb017cad6"
   },
   "outputs": [
    {
     "data": {
      "text/plain": [
       "9780    2116\n",
       "Name: key, dtype: int64"
      ]
     },
     "execution_count": 26,
     "metadata": {},
     "output_type": "execute_result"
    }
   ],
   "source": [
    "# Отрицательных значений в мощности быть не должно, узнаем номера ключей\n",
    "data_arc[data_arc['Реактивная мощность'] <= 0]['key']"
   ]
  },
  {
   "cell_type": "code",
   "execution_count": 27,
   "metadata": {
    "colab": {
     "base_uri": "https://localhost:8080/",
     "height": 175
    },
    "id": "BKY8_7Ps5i1m",
    "outputId": "b05869af-6f6d-48f9-9211-cb7c18e26887"
   },
   "outputs": [
    {
     "data": {
      "text/html": [
       "\n",
       "  <div id=\"df-238b68a1-cd36-4e79-a31a-1474b7d35631\">\n",
       "    <div class=\"colab-df-container\">\n",
       "      <div>\n",
       "<style scoped>\n",
       "    .dataframe tbody tr th:only-of-type {\n",
       "        vertical-align: middle;\n",
       "    }\n",
       "\n",
       "    .dataframe tbody tr th {\n",
       "        vertical-align: top;\n",
       "    }\n",
       "\n",
       "    .dataframe thead th {\n",
       "        text-align: right;\n",
       "    }\n",
       "</style>\n",
       "<table border=\"1\" class=\"dataframe\">\n",
       "  <thead>\n",
       "    <tr style=\"text-align: right;\">\n",
       "      <th></th>\n",
       "      <th>key</th>\n",
       "      <th>Начало нагрева дугой</th>\n",
       "      <th>Конец нагрева дугой</th>\n",
       "      <th>Активная мощность</th>\n",
       "      <th>Реактивная мощность</th>\n",
       "    </tr>\n",
       "  </thead>\n",
       "  <tbody>\n",
       "    <tr>\n",
       "      <th>9778</th>\n",
       "      <td>2116</td>\n",
       "      <td>2019-07-24 00:29:52</td>\n",
       "      <td>2019-07-24 00:31:54</td>\n",
       "      <td>0.433266</td>\n",
       "      <td>0.306141</td>\n",
       "    </tr>\n",
       "    <tr>\n",
       "      <th>9779</th>\n",
       "      <td>2116</td>\n",
       "      <td>2019-07-24 00:35:50</td>\n",
       "      <td>2019-07-24 00:38:05</td>\n",
       "      <td>0.620265</td>\n",
       "      <td>0.408352</td>\n",
       "    </tr>\n",
       "    <tr>\n",
       "      <th>9780</th>\n",
       "      <td>2116</td>\n",
       "      <td>2019-07-24 00:44:48</td>\n",
       "      <td>2019-07-24 00:46:37</td>\n",
       "      <td>0.495782</td>\n",
       "      <td>-715.504924</td>\n",
       "    </tr>\n",
       "    <tr>\n",
       "      <th>9781</th>\n",
       "      <td>2116</td>\n",
       "      <td>2019-07-24 00:51:51</td>\n",
       "      <td>2019-07-24 00:52:58</td>\n",
       "      <td>0.299368</td>\n",
       "      <td>0.198796</td>\n",
       "    </tr>\n",
       "  </tbody>\n",
       "</table>\n",
       "</div>\n",
       "      <button class=\"colab-df-convert\" onclick=\"convertToInteractive('df-238b68a1-cd36-4e79-a31a-1474b7d35631')\"\n",
       "              title=\"Convert this dataframe to an interactive table.\"\n",
       "              style=\"display:none;\">\n",
       "        \n",
       "  <svg xmlns=\"http://www.w3.org/2000/svg\" height=\"24px\"viewBox=\"0 0 24 24\"\n",
       "       width=\"24px\">\n",
       "    <path d=\"M0 0h24v24H0V0z\" fill=\"none\"/>\n",
       "    <path d=\"M18.56 5.44l.94 2.06.94-2.06 2.06-.94-2.06-.94-.94-2.06-.94 2.06-2.06.94zm-11 1L8.5 8.5l.94-2.06 2.06-.94-2.06-.94L8.5 2.5l-.94 2.06-2.06.94zm10 10l.94 2.06.94-2.06 2.06-.94-2.06-.94-.94-2.06-.94 2.06-2.06.94z\"/><path d=\"M17.41 7.96l-1.37-1.37c-.4-.4-.92-.59-1.43-.59-.52 0-1.04.2-1.43.59L10.3 9.45l-7.72 7.72c-.78.78-.78 2.05 0 2.83L4 21.41c.39.39.9.59 1.41.59.51 0 1.02-.2 1.41-.59l7.78-7.78 2.81-2.81c.8-.78.8-2.07 0-2.86zM5.41 20L4 18.59l7.72-7.72 1.47 1.35L5.41 20z\"/>\n",
       "  </svg>\n",
       "      </button>\n",
       "      \n",
       "  <style>\n",
       "    .colab-df-container {\n",
       "      display:flex;\n",
       "      flex-wrap:wrap;\n",
       "      gap: 12px;\n",
       "    }\n",
       "\n",
       "    .colab-df-convert {\n",
       "      background-color: #E8F0FE;\n",
       "      border: none;\n",
       "      border-radius: 50%;\n",
       "      cursor: pointer;\n",
       "      display: none;\n",
       "      fill: #1967D2;\n",
       "      height: 32px;\n",
       "      padding: 0 0 0 0;\n",
       "      width: 32px;\n",
       "    }\n",
       "\n",
       "    .colab-df-convert:hover {\n",
       "      background-color: #E2EBFA;\n",
       "      box-shadow: 0px 1px 2px rgba(60, 64, 67, 0.3), 0px 1px 3px 1px rgba(60, 64, 67, 0.15);\n",
       "      fill: #174EA6;\n",
       "    }\n",
       "\n",
       "    [theme=dark] .colab-df-convert {\n",
       "      background-color: #3B4455;\n",
       "      fill: #D2E3FC;\n",
       "    }\n",
       "\n",
       "    [theme=dark] .colab-df-convert:hover {\n",
       "      background-color: #434B5C;\n",
       "      box-shadow: 0px 1px 3px 1px rgba(0, 0, 0, 0.15);\n",
       "      filter: drop-shadow(0px 1px 2px rgba(0, 0, 0, 0.3));\n",
       "      fill: #FFFFFF;\n",
       "    }\n",
       "  </style>\n",
       "\n",
       "      <script>\n",
       "        const buttonEl =\n",
       "          document.querySelector('#df-238b68a1-cd36-4e79-a31a-1474b7d35631 button.colab-df-convert');\n",
       "        buttonEl.style.display =\n",
       "          google.colab.kernel.accessAllowed ? 'block' : 'none';\n",
       "\n",
       "        async function convertToInteractive(key) {\n",
       "          const element = document.querySelector('#df-238b68a1-cd36-4e79-a31a-1474b7d35631');\n",
       "          const dataTable =\n",
       "            await google.colab.kernel.invokeFunction('convertToInteractive',\n",
       "                                                     [key], {});\n",
       "          if (!dataTable) return;\n",
       "\n",
       "          const docLinkHtml = 'Like what you see? Visit the ' +\n",
       "            '<a target=\"_blank\" href=https://colab.research.google.com/notebooks/data_table.ipynb>data table notebook</a>'\n",
       "            + ' to learn more about interactive tables.';\n",
       "          element.innerHTML = '';\n",
       "          dataTable['output_type'] = 'display_data';\n",
       "          await google.colab.output.renderOutput(dataTable, element);\n",
       "          const docLink = document.createElement('div');\n",
       "          docLink.innerHTML = docLinkHtml;\n",
       "          element.appendChild(docLink);\n",
       "        }\n",
       "      </script>\n",
       "    </div>\n",
       "  </div>\n",
       "  "
      ],
      "text/plain": [
       "       key Начало нагрева дугой Конец нагрева дугой  Активная мощность  \\\n",
       "9778  2116  2019-07-24 00:29:52 2019-07-24 00:31:54           0.433266   \n",
       "9779  2116  2019-07-24 00:35:50 2019-07-24 00:38:05           0.620265   \n",
       "9780  2116  2019-07-24 00:44:48 2019-07-24 00:46:37           0.495782   \n",
       "9781  2116  2019-07-24 00:51:51 2019-07-24 00:52:58           0.299368   \n",
       "\n",
       "      Реактивная мощность  \n",
       "9778             0.306141  \n",
       "9779             0.408352  \n",
       "9780          -715.504924  \n",
       "9781             0.198796  "
      ]
     },
     "execution_count": 27,
     "metadata": {},
     "output_type": "execute_result"
    }
   ],
   "source": [
    "# Раз уж ключ 1 - посмотрим сколько в нём наблюдений\n",
    "data_arc[data_arc['key'] == 2116]"
   ]
  },
  {
   "cell_type": "code",
   "execution_count": 28,
   "metadata": {
    "id": "f5PQ2q414dPp"
   },
   "outputs": [],
   "source": [
    "# Лучше будет удалить все наблюдения по ключу\n",
    "data_arc = data_arc[data_arc['key'] != 2116]"
   ]
  },
  {
   "cell_type": "code",
   "execution_count": 29,
   "metadata": {
    "colab": {
     "base_uri": "https://localhost:8080/"
    },
    "id": "_ZFNvLIB49Lx",
    "outputId": "40154c2c-12d2-4be6-f8ab-9dc329d8dc91"
   },
   "outputs": [
    {
     "data": {
      "text/plain": [
       "(14872, 5)"
      ]
     },
     "execution_count": 29,
     "metadata": {},
     "output_type": "execute_result"
    }
   ],
   "source": [
    "data_arc.shape"
   ]
  },
  {
   "cell_type": "markdown",
   "metadata": {
    "id": "q3VjXmOEtAQd"
   },
   "source": [
    "## Сыпучие материалы\n",
    "\n",
    "\n"
   ]
  },
  {
   "cell_type": "markdown",
   "metadata": {
    "id": "pbzTOj7-t4j-"
   },
   "source": [
    "При начальном просмотре данных обнаружено довольно большое кол-во пропусков в столбцах. Пропуски обусловлены отсутствием необходимости добавления материалов, соответственно пропуски в таблице можно приравнять к значению 0. Так же пропуски указывают на то, что наблюдение проводилось, соответственно для ключей, которые отсутствуют в данной таблице - наблюдений нет и применять такие ключи для обучения модели нецелесообразно."
   ]
  },
  {
   "cell_type": "code",
   "execution_count": 30,
   "metadata": {
    "colab": {
     "base_uri": "https://localhost:8080/"
    },
    "id": "kUBxzIo1s_zN",
    "outputId": "4fd971e4-bf45-4973-ce18-859a73fede43"
   },
   "outputs": [
    {
     "name": "stdout",
     "output_type": "stream",
     "text": [
      "<class 'pandas.core.frame.DataFrame'>\n",
      "RangeIndex: 3129 entries, 0 to 3128\n",
      "Data columns (total 16 columns):\n",
      " #   Column   Non-Null Count  Dtype  \n",
      "---  ------   --------------  -----  \n",
      " 0   key      3129 non-null   int64  \n",
      " 1   Bulk 1   252 non-null    float64\n",
      " 2   Bulk 2   22 non-null     float64\n",
      " 3   Bulk 3   1298 non-null   float64\n",
      " 4   Bulk 4   1014 non-null   float64\n",
      " 5   Bulk 5   77 non-null     float64\n",
      " 6   Bulk 6   576 non-null    float64\n",
      " 7   Bulk 7   25 non-null     float64\n",
      " 8   Bulk 8   1 non-null      float64\n",
      " 9   Bulk 9   19 non-null     float64\n",
      " 10  Bulk 10  176 non-null    float64\n",
      " 11  Bulk 11  177 non-null    float64\n",
      " 12  Bulk 12  2450 non-null   float64\n",
      " 13  Bulk 13  18 non-null     float64\n",
      " 14  Bulk 14  2806 non-null   float64\n",
      " 15  Bulk 15  2248 non-null   float64\n",
      "dtypes: float64(15), int64(1)\n",
      "memory usage: 391.2 KB\n"
     ]
    }
   ],
   "source": [
    "# Придётся вызвать info ещё разок, что бы было под рукой\n",
    "data_bulk.info()"
   ]
  },
  {
   "cell_type": "code",
   "execution_count": 31,
   "metadata": {
    "colab": {
     "base_uri": "https://localhost:8080/"
    },
    "id": "xsd9UyqUtjzl",
    "outputId": "f0f7d5e7-9a6e-40db-adaf-0e24ac6aac3d"
   },
   "outputs": [
    {
     "data": {
      "text/plain": [
       "3129"
      ]
     },
     "execution_count": 31,
     "metadata": {},
     "output_type": "execute_result"
    }
   ],
   "source": [
    "# Посмотрим, соответствует ли кол-во уникальных ключей кол-ву записей\n",
    "len(data_bulk['key'].unique())"
   ]
  },
  {
   "cell_type": "code",
   "execution_count": 32,
   "metadata": {
    "colab": {
     "base_uri": "https://localhost:8080/",
     "height": 300
    },
    "id": "pn-wP28iu4Y1",
    "outputId": "baa87e8d-20b4-415c-c76e-9fd5e9730455"
   },
   "outputs": [
    {
     "data": {
      "text/html": [
       "\n",
       "  <div id=\"df-6f35f59c-0c41-4d3f-9bf7-92f2b9bcb216\">\n",
       "    <div class=\"colab-df-container\">\n",
       "      <div>\n",
       "<style scoped>\n",
       "    .dataframe tbody tr th:only-of-type {\n",
       "        vertical-align: middle;\n",
       "    }\n",
       "\n",
       "    .dataframe tbody tr th {\n",
       "        vertical-align: top;\n",
       "    }\n",
       "\n",
       "    .dataframe thead th {\n",
       "        text-align: right;\n",
       "    }\n",
       "</style>\n",
       "<table border=\"1\" class=\"dataframe\">\n",
       "  <thead>\n",
       "    <tr style=\"text-align: right;\">\n",
       "      <th></th>\n",
       "      <th>key</th>\n",
       "      <th>Bulk 1</th>\n",
       "      <th>Bulk 2</th>\n",
       "      <th>Bulk 3</th>\n",
       "      <th>Bulk 4</th>\n",
       "      <th>Bulk 5</th>\n",
       "      <th>Bulk 6</th>\n",
       "      <th>Bulk 7</th>\n",
       "      <th>Bulk 8</th>\n",
       "      <th>Bulk 9</th>\n",
       "      <th>Bulk 10</th>\n",
       "      <th>Bulk 11</th>\n",
       "      <th>Bulk 12</th>\n",
       "      <th>Bulk 13</th>\n",
       "      <th>Bulk 14</th>\n",
       "      <th>Bulk 15</th>\n",
       "    </tr>\n",
       "  </thead>\n",
       "  <tbody>\n",
       "    <tr>\n",
       "      <th>count</th>\n",
       "      <td>3129.0</td>\n",
       "      <td>252.0</td>\n",
       "      <td>22.0</td>\n",
       "      <td>1298.0</td>\n",
       "      <td>1014.0</td>\n",
       "      <td>77.0</td>\n",
       "      <td>576.0</td>\n",
       "      <td>25.0</td>\n",
       "      <td>1.0</td>\n",
       "      <td>19.0</td>\n",
       "      <td>176.0</td>\n",
       "      <td>177.0</td>\n",
       "      <td>2450.0</td>\n",
       "      <td>18.0</td>\n",
       "      <td>2806.0</td>\n",
       "      <td>2248.0</td>\n",
       "    </tr>\n",
       "    <tr>\n",
       "      <th>mean</th>\n",
       "      <td>1624.0</td>\n",
       "      <td>39.0</td>\n",
       "      <td>253.0</td>\n",
       "      <td>114.0</td>\n",
       "      <td>104.0</td>\n",
       "      <td>107.0</td>\n",
       "      <td>119.0</td>\n",
       "      <td>306.0</td>\n",
       "      <td>49.0</td>\n",
       "      <td>76.0</td>\n",
       "      <td>83.0</td>\n",
       "      <td>77.0</td>\n",
       "      <td>260.0</td>\n",
       "      <td>181.0</td>\n",
       "      <td>170.0</td>\n",
       "      <td>161.0</td>\n",
       "    </tr>\n",
       "    <tr>\n",
       "      <th>std</th>\n",
       "      <td>933.0</td>\n",
       "      <td>18.0</td>\n",
       "      <td>21.0</td>\n",
       "      <td>75.0</td>\n",
       "      <td>48.0</td>\n",
       "      <td>82.0</td>\n",
       "      <td>72.0</td>\n",
       "      <td>191.0</td>\n",
       "      <td>NaN</td>\n",
       "      <td>22.0</td>\n",
       "      <td>26.0</td>\n",
       "      <td>60.0</td>\n",
       "      <td>121.0</td>\n",
       "      <td>46.0</td>\n",
       "      <td>66.0</td>\n",
       "      <td>52.0</td>\n",
       "    </tr>\n",
       "    <tr>\n",
       "      <th>min</th>\n",
       "      <td>1.0</td>\n",
       "      <td>10.0</td>\n",
       "      <td>228.0</td>\n",
       "      <td>6.0</td>\n",
       "      <td>12.0</td>\n",
       "      <td>11.0</td>\n",
       "      <td>17.0</td>\n",
       "      <td>47.0</td>\n",
       "      <td>49.0</td>\n",
       "      <td>63.0</td>\n",
       "      <td>24.0</td>\n",
       "      <td>8.0</td>\n",
       "      <td>53.0</td>\n",
       "      <td>151.0</td>\n",
       "      <td>16.0</td>\n",
       "      <td>1.0</td>\n",
       "    </tr>\n",
       "    <tr>\n",
       "      <th>25%</th>\n",
       "      <td>816.0</td>\n",
       "      <td>27.0</td>\n",
       "      <td>242.0</td>\n",
       "      <td>58.0</td>\n",
       "      <td>72.0</td>\n",
       "      <td>70.0</td>\n",
       "      <td>70.0</td>\n",
       "      <td>155.0</td>\n",
       "      <td>49.0</td>\n",
       "      <td>66.0</td>\n",
       "      <td>64.0</td>\n",
       "      <td>25.0</td>\n",
       "      <td>204.0</td>\n",
       "      <td>153.0</td>\n",
       "      <td>119.0</td>\n",
       "      <td>105.0</td>\n",
       "    </tr>\n",
       "    <tr>\n",
       "      <th>50%</th>\n",
       "      <td>1622.0</td>\n",
       "      <td>31.0</td>\n",
       "      <td>252.0</td>\n",
       "      <td>98.0</td>\n",
       "      <td>102.0</td>\n",
       "      <td>86.0</td>\n",
       "      <td>100.0</td>\n",
       "      <td>298.0</td>\n",
       "      <td>49.0</td>\n",
       "      <td>68.0</td>\n",
       "      <td>86.0</td>\n",
       "      <td>64.0</td>\n",
       "      <td>208.0</td>\n",
       "      <td>156.0</td>\n",
       "      <td>151.0</td>\n",
       "      <td>160.0</td>\n",
       "    </tr>\n",
       "    <tr>\n",
       "      <th>75%</th>\n",
       "      <td>2431.0</td>\n",
       "      <td>46.0</td>\n",
       "      <td>258.0</td>\n",
       "      <td>152.0</td>\n",
       "      <td>133.0</td>\n",
       "      <td>132.0</td>\n",
       "      <td>157.0</td>\n",
       "      <td>406.0</td>\n",
       "      <td>49.0</td>\n",
       "      <td>70.0</td>\n",
       "      <td>102.0</td>\n",
       "      <td>106.0</td>\n",
       "      <td>316.0</td>\n",
       "      <td>204.0</td>\n",
       "      <td>206.0</td>\n",
       "      <td>205.0</td>\n",
       "    </tr>\n",
       "    <tr>\n",
       "      <th>max</th>\n",
       "      <td>3241.0</td>\n",
       "      <td>185.0</td>\n",
       "      <td>325.0</td>\n",
       "      <td>454.0</td>\n",
       "      <td>281.0</td>\n",
       "      <td>603.0</td>\n",
       "      <td>503.0</td>\n",
       "      <td>772.0</td>\n",
       "      <td>49.0</td>\n",
       "      <td>147.0</td>\n",
       "      <td>159.0</td>\n",
       "      <td>313.0</td>\n",
       "      <td>1849.0</td>\n",
       "      <td>305.0</td>\n",
       "      <td>636.0</td>\n",
       "      <td>405.0</td>\n",
       "    </tr>\n",
       "  </tbody>\n",
       "</table>\n",
       "</div>\n",
       "      <button class=\"colab-df-convert\" onclick=\"convertToInteractive('df-6f35f59c-0c41-4d3f-9bf7-92f2b9bcb216')\"\n",
       "              title=\"Convert this dataframe to an interactive table.\"\n",
       "              style=\"display:none;\">\n",
       "        \n",
       "  <svg xmlns=\"http://www.w3.org/2000/svg\" height=\"24px\"viewBox=\"0 0 24 24\"\n",
       "       width=\"24px\">\n",
       "    <path d=\"M0 0h24v24H0V0z\" fill=\"none\"/>\n",
       "    <path d=\"M18.56 5.44l.94 2.06.94-2.06 2.06-.94-2.06-.94-.94-2.06-.94 2.06-2.06.94zm-11 1L8.5 8.5l.94-2.06 2.06-.94-2.06-.94L8.5 2.5l-.94 2.06-2.06.94zm10 10l.94 2.06.94-2.06 2.06-.94-2.06-.94-.94-2.06-.94 2.06-2.06.94z\"/><path d=\"M17.41 7.96l-1.37-1.37c-.4-.4-.92-.59-1.43-.59-.52 0-1.04.2-1.43.59L10.3 9.45l-7.72 7.72c-.78.78-.78 2.05 0 2.83L4 21.41c.39.39.9.59 1.41.59.51 0 1.02-.2 1.41-.59l7.78-7.78 2.81-2.81c.8-.78.8-2.07 0-2.86zM5.41 20L4 18.59l7.72-7.72 1.47 1.35L5.41 20z\"/>\n",
       "  </svg>\n",
       "      </button>\n",
       "      \n",
       "  <style>\n",
       "    .colab-df-container {\n",
       "      display:flex;\n",
       "      flex-wrap:wrap;\n",
       "      gap: 12px;\n",
       "    }\n",
       "\n",
       "    .colab-df-convert {\n",
       "      background-color: #E8F0FE;\n",
       "      border: none;\n",
       "      border-radius: 50%;\n",
       "      cursor: pointer;\n",
       "      display: none;\n",
       "      fill: #1967D2;\n",
       "      height: 32px;\n",
       "      padding: 0 0 0 0;\n",
       "      width: 32px;\n",
       "    }\n",
       "\n",
       "    .colab-df-convert:hover {\n",
       "      background-color: #E2EBFA;\n",
       "      box-shadow: 0px 1px 2px rgba(60, 64, 67, 0.3), 0px 1px 3px 1px rgba(60, 64, 67, 0.15);\n",
       "      fill: #174EA6;\n",
       "    }\n",
       "\n",
       "    [theme=dark] .colab-df-convert {\n",
       "      background-color: #3B4455;\n",
       "      fill: #D2E3FC;\n",
       "    }\n",
       "\n",
       "    [theme=dark] .colab-df-convert:hover {\n",
       "      background-color: #434B5C;\n",
       "      box-shadow: 0px 1px 3px 1px rgba(0, 0, 0, 0.15);\n",
       "      filter: drop-shadow(0px 1px 2px rgba(0, 0, 0, 0.3));\n",
       "      fill: #FFFFFF;\n",
       "    }\n",
       "  </style>\n",
       "\n",
       "      <script>\n",
       "        const buttonEl =\n",
       "          document.querySelector('#df-6f35f59c-0c41-4d3f-9bf7-92f2b9bcb216 button.colab-df-convert');\n",
       "        buttonEl.style.display =\n",
       "          google.colab.kernel.accessAllowed ? 'block' : 'none';\n",
       "\n",
       "        async function convertToInteractive(key) {\n",
       "          const element = document.querySelector('#df-6f35f59c-0c41-4d3f-9bf7-92f2b9bcb216');\n",
       "          const dataTable =\n",
       "            await google.colab.kernel.invokeFunction('convertToInteractive',\n",
       "                                                     [key], {});\n",
       "          if (!dataTable) return;\n",
       "\n",
       "          const docLinkHtml = 'Like what you see? Visit the ' +\n",
       "            '<a target=\"_blank\" href=https://colab.research.google.com/notebooks/data_table.ipynb>data table notebook</a>'\n",
       "            + ' to learn more about interactive tables.';\n",
       "          element.innerHTML = '';\n",
       "          dataTable['output_type'] = 'display_data';\n",
       "          await google.colab.output.renderOutput(dataTable, element);\n",
       "          const docLink = document.createElement('div');\n",
       "          docLink.innerHTML = docLinkHtml;\n",
       "          element.appendChild(docLink);\n",
       "        }\n",
       "      </script>\n",
       "    </div>\n",
       "  </div>\n",
       "  "
      ],
      "text/plain": [
       "          key  Bulk 1  Bulk 2  Bulk 3  Bulk 4  Bulk 5  Bulk 6  Bulk 7  Bulk 8  \\\n",
       "count  3129.0   252.0    22.0  1298.0  1014.0    77.0   576.0    25.0     1.0   \n",
       "mean   1624.0    39.0   253.0   114.0   104.0   107.0   119.0   306.0    49.0   \n",
       "std     933.0    18.0    21.0    75.0    48.0    82.0    72.0   191.0     NaN   \n",
       "min       1.0    10.0   228.0     6.0    12.0    11.0    17.0    47.0    49.0   \n",
       "25%     816.0    27.0   242.0    58.0    72.0    70.0    70.0   155.0    49.0   \n",
       "50%    1622.0    31.0   252.0    98.0   102.0    86.0   100.0   298.0    49.0   \n",
       "75%    2431.0    46.0   258.0   152.0   133.0   132.0   157.0   406.0    49.0   \n",
       "max    3241.0   185.0   325.0   454.0   281.0   603.0   503.0   772.0    49.0   \n",
       "\n",
       "       Bulk 9  Bulk 10  Bulk 11  Bulk 12  Bulk 13  Bulk 14  Bulk 15  \n",
       "count    19.0    176.0    177.0   2450.0     18.0   2806.0   2248.0  \n",
       "mean     76.0     83.0     77.0    260.0    181.0    170.0    161.0  \n",
       "std      22.0     26.0     60.0    121.0     46.0     66.0     52.0  \n",
       "min      63.0     24.0      8.0     53.0    151.0     16.0      1.0  \n",
       "25%      66.0     64.0     25.0    204.0    153.0    119.0    105.0  \n",
       "50%      68.0     86.0     64.0    208.0    156.0    151.0    160.0  \n",
       "75%      70.0    102.0    106.0    316.0    204.0    206.0    205.0  \n",
       "max     147.0    159.0    313.0   1849.0    305.0    636.0    405.0  "
      ]
     },
     "execution_count": 32,
     "metadata": {},
     "output_type": "execute_result"
    }
   ],
   "source": [
    "# Ключей оказалось чуть меньше, чем в предыдущих таблицах\n",
    "# Так же видно, что есть сыпучие материалы, которые применяли\n",
    "# значительно меньше остальных. Посмотрим как обстоят дела с\n",
    "# объёмом этих материалов через describe\n",
    "round(data_bulk.describe())"
   ]
  },
  {
   "cell_type": "code",
   "execution_count": 33,
   "metadata": {
    "colab": {
     "base_uri": "https://localhost:8080/",
     "height": 334
    },
    "id": "vguo7GkgzYAl",
    "outputId": "50e9fe95-4ab0-4641-f50c-3876880088e8"
   },
   "outputs": [
    {
     "name": "stderr",
     "output_type": "stream",
     "text": [
      "/usr/local/lib/python3.7/dist-packages/seaborn/_decorators.py:43: FutureWarning: Pass the following variable as a keyword arg: x. From version 0.12, the only valid positional argument will be `data`, and passing other arguments without an explicit keyword will result in an error or misinterpretation.\n",
      "  FutureWarning\n"
     ]
    },
    {
     "data": {
      "image/png": "[encoded data removed]",
      "text/plain": [
       "<Figure size 432x288 with 1 Axes>"
      ]
     },
     "metadata": {
      "needs_background": "light"
     },
     "output_type": "display_data"
    }
   ],
   "source": [
    "sns.boxplot(data_bulk['Bulk 12'])\n",
    "plt.show()"
   ]
  },
  {
   "cell_type": "code",
   "execution_count": 34,
   "metadata": {
    "colab": {
     "base_uri": "https://localhost:8080/",
     "height": 81
    },
    "id": "J_IAC3fn1LHx",
    "outputId": "aae609ff-b254-46ce-bd1a-82fdc8de2833"
   },
   "outputs": [
    {
     "data": {
      "text/html": [
       "\n",
       "  <div id=\"df-fa867d89-3b6c-47db-b21b-c754109a90c4\">\n",
       "    <div class=\"colab-df-container\">\n",
       "      <div>\n",
       "<style scoped>\n",
       "    .dataframe tbody tr th:only-of-type {\n",
       "        vertical-align: middle;\n",
       "    }\n",
       "\n",
       "    .dataframe tbody tr th {\n",
       "        vertical-align: top;\n",
       "    }\n",
       "\n",
       "    .dataframe thead th {\n",
       "        text-align: right;\n",
       "    }\n",
       "</style>\n",
       "<table border=\"1\" class=\"dataframe\">\n",
       "  <thead>\n",
       "    <tr style=\"text-align: right;\">\n",
       "      <th></th>\n",
       "      <th>key</th>\n",
       "      <th>Bulk 1</th>\n",
       "      <th>Bulk 2</th>\n",
       "      <th>Bulk 3</th>\n",
       "      <th>Bulk 4</th>\n",
       "      <th>Bulk 5</th>\n",
       "      <th>Bulk 6</th>\n",
       "      <th>Bulk 7</th>\n",
       "      <th>Bulk 8</th>\n",
       "      <th>Bulk 9</th>\n",
       "      <th>Bulk 10</th>\n",
       "      <th>Bulk 11</th>\n",
       "      <th>Bulk 12</th>\n",
       "      <th>Bulk 13</th>\n",
       "      <th>Bulk 14</th>\n",
       "      <th>Bulk 15</th>\n",
       "    </tr>\n",
       "  </thead>\n",
       "  <tbody>\n",
       "    <tr>\n",
       "      <th>303</th>\n",
       "      <td>322</td>\n",
       "      <td>185.0</td>\n",
       "      <td>NaN</td>\n",
       "      <td>101.0</td>\n",
       "      <td>58.0</td>\n",
       "      <td>NaN</td>\n",
       "      <td>NaN</td>\n",
       "      <td>406.0</td>\n",
       "      <td>NaN</td>\n",
       "      <td>NaN</td>\n",
       "      <td>NaN</td>\n",
       "      <td>NaN</td>\n",
       "      <td>1849.0</td>\n",
       "      <td>NaN</td>\n",
       "      <td>636.0</td>\n",
       "      <td>NaN</td>\n",
       "    </tr>\n",
       "  </tbody>\n",
       "</table>\n",
       "</div>\n",
       "      <button class=\"colab-df-convert\" onclick=\"convertToInteractive('df-fa867d89-3b6c-47db-b21b-c754109a90c4')\"\n",
       "              title=\"Convert this dataframe to an interactive table.\"\n",
       "              style=\"display:none;\">\n",
       "        \n",
       "  <svg xmlns=\"http://www.w3.org/2000/svg\" height=\"24px\"viewBox=\"0 0 24 24\"\n",
       "       width=\"24px\">\n",
       "    <path d=\"M0 0h24v24H0V0z\" fill=\"none\"/>\n",
       "    <path d=\"M18.56 5.44l.94 2.06.94-2.06 2.06-.94-2.06-.94-.94-2.06-.94 2.06-2.06.94zm-11 1L8.5 8.5l.94-2.06 2.06-.94-2.06-.94L8.5 2.5l-.94 2.06-2.06.94zm10 10l.94 2.06.94-2.06 2.06-.94-2.06-.94-.94-2.06-.94 2.06-2.06.94z\"/><path d=\"M17.41 7.96l-1.37-1.37c-.4-.4-.92-.59-1.43-.59-.52 0-1.04.2-1.43.59L10.3 9.45l-7.72 7.72c-.78.78-.78 2.05 0 2.83L4 21.41c.39.39.9.59 1.41.59.51 0 1.02-.2 1.41-.59l7.78-7.78 2.81-2.81c.8-.78.8-2.07 0-2.86zM5.41 20L4 18.59l7.72-7.72 1.47 1.35L5.41 20z\"/>\n",
       "  </svg>\n",
       "      </button>\n",
       "      \n",
       "  <style>\n",
       "    .colab-df-container {\n",
       "      display:flex;\n",
       "      flex-wrap:wrap;\n",
       "      gap: 12px;\n",
       "    }\n",
       "\n",
       "    .colab-df-convert {\n",
       "      background-color: #E8F0FE;\n",
       "      border: none;\n",
       "      border-radius: 50%;\n",
       "      cursor: pointer;\n",
       "      display: none;\n",
       "      fill: #1967D2;\n",
       "      height: 32px;\n",
       "      padding: 0 0 0 0;\n",
       "      width: 32px;\n",
       "    }\n",
       "\n",
       "    .colab-df-convert:hover {\n",
       "      background-color: #E2EBFA;\n",
       "      box-shadow: 0px 1px 2px rgba(60, 64, 67, 0.3), 0px 1px 3px 1px rgba(60, 64, 67, 0.15);\n",
       "      fill: #174EA6;\n",
       "    }\n",
       "\n",
       "    [theme=dark] .colab-df-convert {\n",
       "      background-color: #3B4455;\n",
       "      fill: #D2E3FC;\n",
       "    }\n",
       "\n",
       "    [theme=dark] .colab-df-convert:hover {\n",
       "      background-color: #434B5C;\n",
       "      box-shadow: 0px 1px 3px 1px rgba(0, 0, 0, 0.15);\n",
       "      filter: drop-shadow(0px 1px 2px rgba(0, 0, 0, 0.3));\n",
       "      fill: #FFFFFF;\n",
       "    }\n",
       "  </style>\n",
       "\n",
       "      <script>\n",
       "        const buttonEl =\n",
       "          document.querySelector('#df-fa867d89-3b6c-47db-b21b-c754109a90c4 button.colab-df-convert');\n",
       "        buttonEl.style.display =\n",
       "          google.colab.kernel.accessAllowed ? 'block' : 'none';\n",
       "\n",
       "        async function convertToInteractive(key) {\n",
       "          const element = document.querySelector('#df-fa867d89-3b6c-47db-b21b-c754109a90c4');\n",
       "          const dataTable =\n",
       "            await google.colab.kernel.invokeFunction('convertToInteractive',\n",
       "                                                     [key], {});\n",
       "          if (!dataTable) return;\n",
       "\n",
       "          const docLinkHtml = 'Like what you see? Visit the ' +\n",
       "            '<a target=\"_blank\" href=https://colab.research.google.com/notebooks/data_table.ipynb>data table notebook</a>'\n",
       "            + ' to learn more about interactive tables.';\n",
       "          element.innerHTML = '';\n",
       "          dataTable['output_type'] = 'display_data';\n",
       "          await google.colab.output.renderOutput(dataTable, element);\n",
       "          const docLink = document.createElement('div');\n",
       "          docLink.innerHTML = docLinkHtml;\n",
       "          element.appendChild(docLink);\n",
       "        }\n",
       "      </script>\n",
       "    </div>\n",
       "  </div>\n",
       "  "
      ],
      "text/plain": [
       "     key  Bulk 1  Bulk 2  Bulk 3  Bulk 4  Bulk 5  Bulk 6  Bulk 7  Bulk 8  \\\n",
       "303  322   185.0     NaN   101.0    58.0     NaN     NaN   406.0     NaN   \n",
       "\n",
       "     Bulk 9  Bulk 10  Bulk 11  Bulk 12  Bulk 13  Bulk 14  Bulk 15  \n",
       "303     NaN      NaN      NaN   1849.0      NaN    636.0      NaN  "
      ]
     },
     "execution_count": 34,
     "metadata": {},
     "output_type": "execute_result"
    }
   ],
   "source": [
    "data_bulk[data_bulk['Bulk 12'] > 1500]"
   ]
  },
  {
   "cell_type": "code",
   "execution_count": 35,
   "metadata": {
    "colab": {
     "base_uri": "https://localhost:8080/",
     "height": 394
    },
    "id": "6bD2ZPFk1UkF",
    "outputId": "fa9c8e30-d4fe-488d-ccce-e331fcd72150"
   },
   "outputs": [
    {
     "data": {
      "text/html": [
       "\n",
       "  <div id=\"df-fc69646d-2419-4dc4-bb17-c945ba7f13fd\">\n",
       "    <div class=\"colab-df-container\">\n",
       "      <div>\n",
       "<style scoped>\n",
       "    .dataframe tbody tr th:only-of-type {\n",
       "        vertical-align: middle;\n",
       "    }\n",
       "\n",
       "    .dataframe tbody tr th {\n",
       "        vertical-align: top;\n",
       "    }\n",
       "\n",
       "    .dataframe thead th {\n",
       "        text-align: right;\n",
       "    }\n",
       "</style>\n",
       "<table border=\"1\" class=\"dataframe\">\n",
       "  <thead>\n",
       "    <tr style=\"text-align: right;\">\n",
       "      <th></th>\n",
       "      <th>key</th>\n",
       "      <th>Время замера</th>\n",
       "      <th>Температура</th>\n",
       "    </tr>\n",
       "  </thead>\n",
       "  <tbody>\n",
       "    <tr>\n",
       "      <th>1751</th>\n",
       "      <td>322</td>\n",
       "      <td>2019-05-15 09:10:07</td>\n",
       "      <td>1619.0</td>\n",
       "    </tr>\n",
       "    <tr>\n",
       "      <th>1752</th>\n",
       "      <td>322</td>\n",
       "      <td>2019-05-15 09:18:07</td>\n",
       "      <td>1632.0</td>\n",
       "    </tr>\n",
       "    <tr>\n",
       "      <th>1753</th>\n",
       "      <td>322</td>\n",
       "      <td>2019-05-15 09:40:02</td>\n",
       "      <td>1597.0</td>\n",
       "    </tr>\n",
       "    <tr>\n",
       "      <th>1754</th>\n",
       "      <td>322</td>\n",
       "      <td>2019-05-15 09:52:50</td>\n",
       "      <td>1610.0</td>\n",
       "    </tr>\n",
       "    <tr>\n",
       "      <th>1755</th>\n",
       "      <td>322</td>\n",
       "      <td>2019-05-15 10:08:04</td>\n",
       "      <td>1604.0</td>\n",
       "    </tr>\n",
       "    <tr>\n",
       "      <th>1756</th>\n",
       "      <td>322</td>\n",
       "      <td>2019-05-15 10:14:22</td>\n",
       "      <td>1604.0</td>\n",
       "    </tr>\n",
       "    <tr>\n",
       "      <th>1757</th>\n",
       "      <td>322</td>\n",
       "      <td>2019-05-15 10:37:27</td>\n",
       "      <td>1596.0</td>\n",
       "    </tr>\n",
       "    <tr>\n",
       "      <th>1758</th>\n",
       "      <td>322</td>\n",
       "      <td>2019-05-15 10:48:07</td>\n",
       "      <td>1600.0</td>\n",
       "    </tr>\n",
       "    <tr>\n",
       "      <th>1759</th>\n",
       "      <td>322</td>\n",
       "      <td>2019-05-15 10:53:59</td>\n",
       "      <td>1613.0</td>\n",
       "    </tr>\n",
       "    <tr>\n",
       "      <th>1760</th>\n",
       "      <td>322</td>\n",
       "      <td>2019-05-15 10:59:01</td>\n",
       "      <td>1620.0</td>\n",
       "    </tr>\n",
       "    <tr>\n",
       "      <th>1761</th>\n",
       "      <td>322</td>\n",
       "      <td>2019-05-15 11:02:12</td>\n",
       "      <td>1616.0</td>\n",
       "    </tr>\n",
       "  </tbody>\n",
       "</table>\n",
       "</div>\n",
       "      <button class=\"colab-df-convert\" onclick=\"convertToInteractive('df-fc69646d-2419-4dc4-bb17-c945ba7f13fd')\"\n",
       "              title=\"Convert this dataframe to an interactive table.\"\n",
       "              style=\"display:none;\">\n",
       "        \n",
       "  <svg xmlns=\"http://www.w3.org/2000/svg\" height=\"24px\"viewBox=\"0 0 24 24\"\n",
       "       width=\"24px\">\n",
       "    <path d=\"M0 0h24v24H0V0z\" fill=\"none\"/>\n",
       "    <path d=\"M18.56 5.44l.94 2.06.94-2.06 2.06-.94-2.06-.94-.94-2.06-.94 2.06-2.06.94zm-11 1L8.5 8.5l.94-2.06 2.06-.94-2.06-.94L8.5 2.5l-.94 2.06-2.06.94zm10 10l.94 2.06.94-2.06 2.06-.94-2.06-.94-.94-2.06-.94 2.06-2.06.94z\"/><path d=\"M17.41 7.96l-1.37-1.37c-.4-.4-.92-.59-1.43-.59-.52 0-1.04.2-1.43.59L10.3 9.45l-7.72 7.72c-.78.78-.78 2.05 0 2.83L4 21.41c.39.39.9.59 1.41.59.51 0 1.02-.2 1.41-.59l7.78-7.78 2.81-2.81c.8-.78.8-2.07 0-2.86zM5.41 20L4 18.59l7.72-7.72 1.47 1.35L5.41 20z\"/>\n",
       "  </svg>\n",
       "      </button>\n",
       "      \n",
       "  <style>\n",
       "    .colab-df-container {\n",
       "      display:flex;\n",
       "      flex-wrap:wrap;\n",
       "      gap: 12px;\n",
       "    }\n",
       "\n",
       "    .colab-df-convert {\n",
       "      background-color: #E8F0FE;\n",
       "      border: none;\n",
       "      border-radius: 50%;\n",
       "      cursor: pointer;\n",
       "      display: none;\n",
       "      fill: #1967D2;\n",
       "      height: 32px;\n",
       "      padding: 0 0 0 0;\n",
       "      width: 32px;\n",
       "    }\n",
       "\n",
       "    .colab-df-convert:hover {\n",
       "      background-color: #E2EBFA;\n",
       "      box-shadow: 0px 1px 2px rgba(60, 64, 67, 0.3), 0px 1px 3px 1px rgba(60, 64, 67, 0.15);\n",
       "      fill: #174EA6;\n",
       "    }\n",
       "\n",
       "    [theme=dark] .colab-df-convert {\n",
       "      background-color: #3B4455;\n",
       "      fill: #D2E3FC;\n",
       "    }\n",
       "\n",
       "    [theme=dark] .colab-df-convert:hover {\n",
       "      background-color: #434B5C;\n",
       "      box-shadow: 0px 1px 3px 1px rgba(0, 0, 0, 0.15);\n",
       "      filter: drop-shadow(0px 1px 2px rgba(0, 0, 0, 0.3));\n",
       "      fill: #FFFFFF;\n",
       "    }\n",
       "  </style>\n",
       "\n",
       "      <script>\n",
       "        const buttonEl =\n",
       "          document.querySelector('#df-fc69646d-2419-4dc4-bb17-c945ba7f13fd button.colab-df-convert');\n",
       "        buttonEl.style.display =\n",
       "          google.colab.kernel.accessAllowed ? 'block' : 'none';\n",
       "\n",
       "        async function convertToInteractive(key) {\n",
       "          const element = document.querySelector('#df-fc69646d-2419-4dc4-bb17-c945ba7f13fd');\n",
       "          const dataTable =\n",
       "            await google.colab.kernel.invokeFunction('convertToInteractive',\n",
       "                                                     [key], {});\n",
       "          if (!dataTable) return;\n",
       "\n",
       "          const docLinkHtml = 'Like what you see? Visit the ' +\n",
       "            '<a target=\"_blank\" href=https://colab.research.google.com/notebooks/data_table.ipynb>data table notebook</a>'\n",
       "            + ' to learn more about interactive tables.';\n",
       "          element.innerHTML = '';\n",
       "          dataTable['output_type'] = 'display_data';\n",
       "          await google.colab.output.renderOutput(dataTable, element);\n",
       "          const docLink = document.createElement('div');\n",
       "          docLink.innerHTML = docLinkHtml;\n",
       "          element.appendChild(docLink);\n",
       "        }\n",
       "      </script>\n",
       "    </div>\n",
       "  </div>\n",
       "  "
      ],
      "text/plain": [
       "      key        Время замера  Температура\n",
       "1751  322 2019-05-15 09:10:07       1619.0\n",
       "1752  322 2019-05-15 09:18:07       1632.0\n",
       "1753  322 2019-05-15 09:40:02       1597.0\n",
       "1754  322 2019-05-15 09:52:50       1610.0\n",
       "1755  322 2019-05-15 10:08:04       1604.0\n",
       "1756  322 2019-05-15 10:14:22       1604.0\n",
       "1757  322 2019-05-15 10:37:27       1596.0\n",
       "1758  322 2019-05-15 10:48:07       1600.0\n",
       "1759  322 2019-05-15 10:53:59       1613.0\n",
       "1760  322 2019-05-15 10:59:01       1620.0\n",
       "1761  322 2019-05-15 11:02:12       1616.0"
      ]
     },
     "execution_count": 35,
     "metadata": {},
     "output_type": "execute_result"
    }
   ],
   "source": [
    "clear_data_temp[clear_data_temp['key'] == 322]"
   ]
  },
  {
   "cell_type": "markdown",
   "metadata": {
    "id": "wIvsraxMs_Ic"
   },
   "source": [
    "### Время добавления сыпучих материалов"
   ]
  },
  {
   "cell_type": "markdown",
   "metadata": {
    "id": "KUdAR3FV9MCU"
   },
   "source": [
    "В целом как признак данную таблицу мы не сможем использовать, однако посмотрим нет ли каких нибудь аномалий в наблюдениях."
   ]
  },
  {
   "cell_type": "code",
   "execution_count": 36,
   "metadata": {
    "colab": {
     "base_uri": "https://localhost:8080/",
     "height": 257
    },
    "id": "tJQlRtu59eFt",
    "outputId": "203ddc43-113d-44eb-bf4a-f2b48247186b"
   },
   "outputs": [
    {
     "data": {
      "text/html": [
       "\n",
       "  <div id=\"df-af9f18c1-2177-4cd6-9249-98e269ec87d2\">\n",
       "    <div class=\"colab-df-container\">\n",
       "      <div>\n",
       "<style scoped>\n",
       "    .dataframe tbody tr th:only-of-type {\n",
       "        vertical-align: middle;\n",
       "    }\n",
       "\n",
       "    .dataframe tbody tr th {\n",
       "        vertical-align: top;\n",
       "    }\n",
       "\n",
       "    .dataframe thead th {\n",
       "        text-align: right;\n",
       "    }\n",
       "</style>\n",
       "<table border=\"1\" class=\"dataframe\">\n",
       "  <thead>\n",
       "    <tr style=\"text-align: right;\">\n",
       "      <th></th>\n",
       "      <th>key</th>\n",
       "      <th>Bulk 1</th>\n",
       "      <th>Bulk 2</th>\n",
       "      <th>Bulk 3</th>\n",
       "      <th>Bulk 4</th>\n",
       "      <th>Bulk 5</th>\n",
       "      <th>Bulk 6</th>\n",
       "      <th>Bulk 7</th>\n",
       "      <th>Bulk 8</th>\n",
       "      <th>Bulk 9</th>\n",
       "      <th>Bulk 10</th>\n",
       "      <th>Bulk 11</th>\n",
       "      <th>Bulk 12</th>\n",
       "      <th>Bulk 13</th>\n",
       "      <th>Bulk 14</th>\n",
       "      <th>Bulk 15</th>\n",
       "    </tr>\n",
       "  </thead>\n",
       "  <tbody>\n",
       "    <tr>\n",
       "      <th>0</th>\n",
       "      <td>1</td>\n",
       "      <td>NaT</td>\n",
       "      <td>NaT</td>\n",
       "      <td>NaT</td>\n",
       "      <td>2019-05-03 11:21:30</td>\n",
       "      <td>NaT</td>\n",
       "      <td>NaT</td>\n",
       "      <td>NaT</td>\n",
       "      <td>NaT</td>\n",
       "      <td>NaT</td>\n",
       "      <td>NaT</td>\n",
       "      <td>NaT</td>\n",
       "      <td>2019-05-03 11:03:52</td>\n",
       "      <td>NaT</td>\n",
       "      <td>2019-05-03 11:03:52</td>\n",
       "      <td>2019-05-03 11:03:52</td>\n",
       "    </tr>\n",
       "    <tr>\n",
       "      <th>1</th>\n",
       "      <td>2</td>\n",
       "      <td>NaT</td>\n",
       "      <td>NaT</td>\n",
       "      <td>NaT</td>\n",
       "      <td>2019-05-03 11:46:38</td>\n",
       "      <td>NaT</td>\n",
       "      <td>NaT</td>\n",
       "      <td>NaT</td>\n",
       "      <td>NaT</td>\n",
       "      <td>NaT</td>\n",
       "      <td>NaT</td>\n",
       "      <td>NaT</td>\n",
       "      <td>2019-05-03 11:40:20</td>\n",
       "      <td>NaT</td>\n",
       "      <td>2019-05-03 11:40:20</td>\n",
       "      <td>2019-05-03 11:40:20</td>\n",
       "    </tr>\n",
       "    <tr>\n",
       "      <th>2</th>\n",
       "      <td>3</td>\n",
       "      <td>NaT</td>\n",
       "      <td>NaT</td>\n",
       "      <td>NaT</td>\n",
       "      <td>2019-05-03 12:31:06</td>\n",
       "      <td>NaT</td>\n",
       "      <td>NaT</td>\n",
       "      <td>NaT</td>\n",
       "      <td>NaT</td>\n",
       "      <td>NaT</td>\n",
       "      <td>NaT</td>\n",
       "      <td>NaT</td>\n",
       "      <td>2019-05-03 12:09:40</td>\n",
       "      <td>NaT</td>\n",
       "      <td>2019-05-03 12:09:40</td>\n",
       "      <td>2019-05-03 12:09:40</td>\n",
       "    </tr>\n",
       "  </tbody>\n",
       "</table>\n",
       "</div>\n",
       "      <button class=\"colab-df-convert\" onclick=\"convertToInteractive('df-af9f18c1-2177-4cd6-9249-98e269ec87d2')\"\n",
       "              title=\"Convert this dataframe to an interactive table.\"\n",
       "              style=\"display:none;\">\n",
       "        \n",
       "  <svg xmlns=\"http://www.w3.org/2000/svg\" height=\"24px\"viewBox=\"0 0 24 24\"\n",
       "       width=\"24px\">\n",
       "    <path d=\"M0 0h24v24H0V0z\" fill=\"none\"/>\n",
       "    <path d=\"M18.56 5.44l.94 2.06.94-2.06 2.06-.94-2.06-.94-.94-2.06-.94 2.06-2.06.94zm-11 1L8.5 8.5l.94-2.06 2.06-.94-2.06-.94L8.5 2.5l-.94 2.06-2.06.94zm10 10l.94 2.06.94-2.06 2.06-.94-2.06-.94-.94-2.06-.94 2.06-2.06.94z\"/><path d=\"M17.41 7.96l-1.37-1.37c-.4-.4-.92-.59-1.43-.59-.52 0-1.04.2-1.43.59L10.3 9.45l-7.72 7.72c-.78.78-.78 2.05 0 2.83L4 21.41c.39.39.9.59 1.41.59.51 0 1.02-.2 1.41-.59l7.78-7.78 2.81-2.81c.8-.78.8-2.07 0-2.86zM5.41 20L4 18.59l7.72-7.72 1.47 1.35L5.41 20z\"/>\n",
       "  </svg>\n",
       "      </button>\n",
       "      \n",
       "  <style>\n",
       "    .colab-df-container {\n",
       "      display:flex;\n",
       "      flex-wrap:wrap;\n",
       "      gap: 12px;\n",
       "    }\n",
       "\n",
       "    .colab-df-convert {\n",
       "      background-color: #E8F0FE;\n",
       "      border: none;\n",
       "      border-radius: 50%;\n",
       "      cursor: pointer;\n",
       "      display: none;\n",
       "      fill: #1967D2;\n",
       "      height: 32px;\n",
       "      padding: 0 0 0 0;\n",
       "      width: 32px;\n",
       "    }\n",
       "\n",
       "    .colab-df-convert:hover {\n",
       "      background-color: #E2EBFA;\n",
       "      box-shadow: 0px 1px 2px rgba(60, 64, 67, 0.3), 0px 1px 3px 1px rgba(60, 64, 67, 0.15);\n",
       "      fill: #174EA6;\n",
       "    }\n",
       "\n",
       "    [theme=dark] .colab-df-convert {\n",
       "      background-color: #3B4455;\n",
       "      fill: #D2E3FC;\n",
       "    }\n",
       "\n",
       "    [theme=dark] .colab-df-convert:hover {\n",
       "      background-color: #434B5C;\n",
       "      box-shadow: 0px 1px 3px 1px rgba(0, 0, 0, 0.15);\n",
       "      filter: drop-shadow(0px 1px 2px rgba(0, 0, 0, 0.3));\n",
       "      fill: #FFFFFF;\n",
       "    }\n",
       "  </style>\n",
       "\n",
       "      <script>\n",
       "        const buttonEl =\n",
       "          document.querySelector('#df-af9f18c1-2177-4cd6-9249-98e269ec87d2 button.colab-df-convert');\n",
       "        buttonEl.style.display =\n",
       "          google.colab.kernel.accessAllowed ? 'block' : 'none';\n",
       "\n",
       "        async function convertToInteractive(key) {\n",
       "          const element = document.querySelector('#df-af9f18c1-2177-4cd6-9249-98e269ec87d2');\n",
       "          const dataTable =\n",
       "            await google.colab.kernel.invokeFunction('convertToInteractive',\n",
       "                                                     [key], {});\n",
       "          if (!dataTable) return;\n",
       "\n",
       "          const docLinkHtml = 'Like what you see? Visit the ' +\n",
       "            '<a target=\"_blank\" href=https://colab.research.google.com/notebooks/data_table.ipynb>data table notebook</a>'\n",
       "            + ' to learn more about interactive tables.';\n",
       "          element.innerHTML = '';\n",
       "          dataTable['output_type'] = 'display_data';\n",
       "          await google.colab.output.renderOutput(dataTable, element);\n",
       "          const docLink = document.createElement('div');\n",
       "          docLink.innerHTML = docLinkHtml;\n",
       "          element.appendChild(docLink);\n",
       "        }\n",
       "      </script>\n",
       "    </div>\n",
       "  </div>\n",
       "  "
      ],
      "text/plain": [
       "   key Bulk 1 Bulk 2 Bulk 3              Bulk 4 Bulk 5 Bulk 6 Bulk 7 Bulk 8  \\\n",
       "0    1    NaT    NaT    NaT 2019-05-03 11:21:30    NaT    NaT    NaT    NaT   \n",
       "1    2    NaT    NaT    NaT 2019-05-03 11:46:38    NaT    NaT    NaT    NaT   \n",
       "2    3    NaT    NaT    NaT 2019-05-03 12:31:06    NaT    NaT    NaT    NaT   \n",
       "\n",
       "  Bulk 9 Bulk 10 Bulk 11             Bulk 12 Bulk 13             Bulk 14  \\\n",
       "0    NaT     NaT     NaT 2019-05-03 11:03:52     NaT 2019-05-03 11:03:52   \n",
       "1    NaT     NaT     NaT 2019-05-03 11:40:20     NaT 2019-05-03 11:40:20   \n",
       "2    NaT     NaT     NaT 2019-05-03 12:09:40     NaT 2019-05-03 12:09:40   \n",
       "\n",
       "              Bulk 15  \n",
       "0 2019-05-03 11:03:52  \n",
       "1 2019-05-03 11:40:20  \n",
       "2 2019-05-03 12:09:40  "
      ]
     },
     "execution_count": 36,
     "metadata": {},
     "output_type": "execute_result"
    }
   ],
   "source": [
    "data_bulk_time.head(3)"
   ]
  },
  {
   "cell_type": "code",
   "execution_count": 37,
   "metadata": {
    "colab": {
     "base_uri": "https://localhost:8080/"
    },
    "id": "7aILCSuf9v6J",
    "outputId": "23c667a2-0aab-4aab-f8e1-e3c812ce00c1"
   },
   "outputs": [
    {
     "name": "stdout",
     "output_type": "stream",
     "text": [
      "Столбец  Минимальная дата  Максимальная дата\n",
      "key 1 3241\n",
      "Bulk 1 2019-05-03 17:50:19 2019-08-30 23:01:32\n",
      "Bulk 2 2019-05-07 08:36:19 2019-08-08 17:34:38\n",
      "Bulk 3 2019-05-03 20:13:36 2019-08-31 23:39:11\n",
      "Bulk 4 2019-05-03 11:21:30 2019-08-30 17:36:30\n",
      "Bulk 5 2019-05-07 08:36:19 2019-08-28 09:01:08\n",
      "Bulk 6 2019-05-03 18:52:57 2019-09-01 03:12:40\n",
      "Bulk 7 2019-05-07 11:37:42 2019-08-31 07:22:25\n",
      "Bulk 8 2019-07-05 17:46:11 2019-07-05 17:46:11\n",
      "Bulk 9 2019-05-14 00:04:56 2019-08-11 15:09:33\n",
      "Bulk 10 2019-05-06 01:36:24 2019-08-30 01:30:42\n",
      "Bulk 11 2019-05-05 16:45:05 2019-08-31 16:00:49\n",
      "Bulk 12 2019-05-03 11:03:52 2019-09-01 01:39:41\n",
      "Bulk 13 2019-05-05 00:39:35 2019-08-26 20:31:16\n",
      "Bulk 14 2019-05-03 11:03:52 2019-09-01 04:05:34\n",
      "Bulk 15 2019-05-03 11:03:52 2019-09-01 04:05:34\n"
     ]
    }
   ],
   "source": [
    "print('Столбец  Минимальная дата  Максимальная дата')\n",
    "for col in data_bulk_time.columns:\n",
    "  print(col,\n",
    "        data_bulk_time[col].min(),\n",
    "        data_bulk_time[col].max())\n"
   ]
  },
  {
   "cell_type": "markdown",
   "metadata": {
    "id": "bV6J54cxty-O"
   },
   "source": [
    "По сыпучим материалам:\n",
    "\n",
    "Пропуски показывают наличие наблюдения и в то же - отсутствие необходимости добавлять сыпучие материалы, иначе говоря пропуски можно приравнять к нулю.\n",
    "\n",
    "Среди сыпучих материалов выделились несколько, которые применяются реже остальных - можно считать, что совсем не применяются. Возможно придётся избавится от таких материалов на этапе подготовки признаков.\n",
    "\n",
    "Максимальные значения объёмов сыпучих материалов могут зависеть от кол-ва наблюдений\\этапов в ключе.\n",
    "\n",
    "В времени добавления сыпучих материалов ничего необычного не оказалось.\n",
    "\n",
    "На 322 ключе достигнуты значительно отстоящие от среднего максимумы в 2-х материалах, так же в нём довольно много этапов, что объясняет большой объём добавок."
   ]
  },
  {
   "cell_type": "markdown",
   "metadata": {
    "id": "gXjfRCEWC9ii"
   },
   "source": [
    "## Проволка"
   ]
  },
  {
   "cell_type": "code",
   "execution_count": 38,
   "metadata": {
    "colab": {
     "base_uri": "https://localhost:8080/"
    },
    "id": "v4fDVIbXDmGF",
    "outputId": "7f982cd3-754b-4569-e32c-12750bdce272"
   },
   "outputs": [
    {
     "name": "stdout",
     "output_type": "stream",
     "text": [
      "<class 'pandas.core.frame.DataFrame'>\n",
      "RangeIndex: 3081 entries, 0 to 3080\n",
      "Data columns (total 10 columns):\n",
      " #   Column  Non-Null Count  Dtype  \n",
      "---  ------  --------------  -----  \n",
      " 0   key     3081 non-null   int64  \n",
      " 1   Wire 1  3055 non-null   float64\n",
      " 2   Wire 2  1079 non-null   float64\n",
      " 3   Wire 3  63 non-null     float64\n",
      " 4   Wire 4  14 non-null     float64\n",
      " 5   Wire 5  1 non-null      float64\n",
      " 6   Wire 6  73 non-null     float64\n",
      " 7   Wire 7  11 non-null     float64\n",
      " 8   Wire 8  19 non-null     float64\n",
      " 9   Wire 9  29 non-null     float64\n",
      "dtypes: float64(9), int64(1)\n",
      "memory usage: 240.8 KB\n"
     ]
    }
   ],
   "source": [
    "data_wire.info()"
   ]
  },
  {
   "cell_type": "code",
   "execution_count": 39,
   "metadata": {
    "colab": {
     "base_uri": "https://localhost:8080/"
    },
    "id": "MM6nCAwjDwh8",
    "outputId": "6ea0d591-1802-4e9b-ae35-fd732679e62e"
   },
   "outputs": [
    {
     "data": {
      "text/plain": [
       "3081"
      ]
     },
     "execution_count": 39,
     "metadata": {},
     "output_type": "execute_result"
    }
   ],
   "source": [
    "# количество записей в key 3081, посмотрим сколько уникальных\n",
    "len(data_wire['key'].unique())"
   ]
  },
  {
   "cell_type": "code",
   "execution_count": 40,
   "metadata": {
    "colab": {
     "base_uri": "https://localhost:8080/",
     "height": 300
    },
    "id": "iEcYGRghEOa1",
    "outputId": "610283e9-2f50-4a34-907d-a3088fca9788"
   },
   "outputs": [
    {
     "data": {
      "text/html": [
       "\n",
       "  <div id=\"df-dd80703e-ebd8-4cb8-8848-5612831d6d11\">\n",
       "    <div class=\"colab-df-container\">\n",
       "      <div>\n",
       "<style scoped>\n",
       "    .dataframe tbody tr th:only-of-type {\n",
       "        vertical-align: middle;\n",
       "    }\n",
       "\n",
       "    .dataframe tbody tr th {\n",
       "        vertical-align: top;\n",
       "    }\n",
       "\n",
       "    .dataframe thead th {\n",
       "        text-align: right;\n",
       "    }\n",
       "</style>\n",
       "<table border=\"1\" class=\"dataframe\">\n",
       "  <thead>\n",
       "    <tr style=\"text-align: right;\">\n",
       "      <th></th>\n",
       "      <th>key</th>\n",
       "      <th>Wire 1</th>\n",
       "      <th>Wire 2</th>\n",
       "      <th>Wire 3</th>\n",
       "      <th>Wire 4</th>\n",
       "      <th>Wire 5</th>\n",
       "      <th>Wire 6</th>\n",
       "      <th>Wire 7</th>\n",
       "      <th>Wire 8</th>\n",
       "      <th>Wire 9</th>\n",
       "    </tr>\n",
       "  </thead>\n",
       "  <tbody>\n",
       "    <tr>\n",
       "      <th>count</th>\n",
       "      <td>3081.000000</td>\n",
       "      <td>3055.000000</td>\n",
       "      <td>1079.000000</td>\n",
       "      <td>63.000000</td>\n",
       "      <td>14.000000</td>\n",
       "      <td>1.000</td>\n",
       "      <td>73.000000</td>\n",
       "      <td>11.000000</td>\n",
       "      <td>19.000000</td>\n",
       "      <td>29.000000</td>\n",
       "    </tr>\n",
       "    <tr>\n",
       "      <th>mean</th>\n",
       "      <td>1623.426485</td>\n",
       "      <td>100.895853</td>\n",
       "      <td>50.577323</td>\n",
       "      <td>189.482681</td>\n",
       "      <td>57.442841</td>\n",
       "      <td>15.132</td>\n",
       "      <td>48.016974</td>\n",
       "      <td>10.039007</td>\n",
       "      <td>53.625193</td>\n",
       "      <td>34.155752</td>\n",
       "    </tr>\n",
       "    <tr>\n",
       "      <th>std</th>\n",
       "      <td>932.996726</td>\n",
       "      <td>42.012518</td>\n",
       "      <td>39.320216</td>\n",
       "      <td>99.513444</td>\n",
       "      <td>28.824667</td>\n",
       "      <td>NaN</td>\n",
       "      <td>33.919845</td>\n",
       "      <td>8.610584</td>\n",
       "      <td>16.881728</td>\n",
       "      <td>19.931616</td>\n",
       "    </tr>\n",
       "    <tr>\n",
       "      <th>min</th>\n",
       "      <td>1.000000</td>\n",
       "      <td>1.918800</td>\n",
       "      <td>0.030160</td>\n",
       "      <td>0.144144</td>\n",
       "      <td>24.148801</td>\n",
       "      <td>15.132</td>\n",
       "      <td>0.034320</td>\n",
       "      <td>0.234208</td>\n",
       "      <td>45.076721</td>\n",
       "      <td>4.622800</td>\n",
       "    </tr>\n",
       "    <tr>\n",
       "      <th>25%</th>\n",
       "      <td>823.000000</td>\n",
       "      <td>72.115684</td>\n",
       "      <td>20.193680</td>\n",
       "      <td>95.135044</td>\n",
       "      <td>40.807002</td>\n",
       "      <td>15.132</td>\n",
       "      <td>25.053600</td>\n",
       "      <td>6.762756</td>\n",
       "      <td>46.094879</td>\n",
       "      <td>22.058401</td>\n",
       "    </tr>\n",
       "    <tr>\n",
       "      <th>50%</th>\n",
       "      <td>1619.000000</td>\n",
       "      <td>100.158234</td>\n",
       "      <td>40.142956</td>\n",
       "      <td>235.194977</td>\n",
       "      <td>45.234282</td>\n",
       "      <td>15.132</td>\n",
       "      <td>42.076324</td>\n",
       "      <td>9.017009</td>\n",
       "      <td>46.279999</td>\n",
       "      <td>30.066399</td>\n",
       "    </tr>\n",
       "    <tr>\n",
       "      <th>75%</th>\n",
       "      <td>2434.000000</td>\n",
       "      <td>126.060483</td>\n",
       "      <td>70.227558</td>\n",
       "      <td>276.252014</td>\n",
       "      <td>76.124619</td>\n",
       "      <td>15.132</td>\n",
       "      <td>64.212723</td>\n",
       "      <td>11.886057</td>\n",
       "      <td>48.089603</td>\n",
       "      <td>43.862003</td>\n",
       "    </tr>\n",
       "    <tr>\n",
       "      <th>max</th>\n",
       "      <td>3241.000000</td>\n",
       "      <td>330.314424</td>\n",
       "      <td>282.780152</td>\n",
       "      <td>385.008668</td>\n",
       "      <td>113.231044</td>\n",
       "      <td>15.132</td>\n",
       "      <td>180.454575</td>\n",
       "      <td>32.847674</td>\n",
       "      <td>102.762401</td>\n",
       "      <td>90.053604</td>\n",
       "    </tr>\n",
       "  </tbody>\n",
       "</table>\n",
       "</div>\n",
       "      <button class=\"colab-df-convert\" onclick=\"convertToInteractive('df-dd80703e-ebd8-4cb8-8848-5612831d6d11')\"\n",
       "              title=\"Convert this dataframe to an interactive table.\"\n",
       "              style=\"display:none;\">\n",
       "        \n",
       "  <svg xmlns=\"http://www.w3.org/2000/svg\" height=\"24px\"viewBox=\"0 0 24 24\"\n",
       "       width=\"24px\">\n",
       "    <path d=\"M0 0h24v24H0V0z\" fill=\"none\"/>\n",
       "    <path d=\"M18.56 5.44l.94 2.06.94-2.06 2.06-.94-2.06-.94-.94-2.06-.94 2.06-2.06.94zm-11 1L8.5 8.5l.94-2.06 2.06-.94-2.06-.94L8.5 2.5l-.94 2.06-2.06.94zm10 10l.94 2.06.94-2.06 2.06-.94-2.06-.94-.94-2.06-.94 2.06-2.06.94z\"/><path d=\"M17.41 7.96l-1.37-1.37c-.4-.4-.92-.59-1.43-.59-.52 0-1.04.2-1.43.59L10.3 9.45l-7.72 7.72c-.78.78-.78 2.05 0 2.83L4 21.41c.39.39.9.59 1.41.59.51 0 1.02-.2 1.41-.59l7.78-7.78 2.81-2.81c.8-.78.8-2.07 0-2.86zM5.41 20L4 18.59l7.72-7.72 1.47 1.35L5.41 20z\"/>\n",
       "  </svg>\n",
       "      </button>\n",
       "      \n",
       "  <style>\n",
       "    .colab-df-container {\n",
       "      display:flex;\n",
       "      flex-wrap:wrap;\n",
       "      gap: 12px;\n",
       "    }\n",
       "\n",
       "    .colab-df-convert {\n",
       "      background-color: #E8F0FE;\n",
       "      border: none;\n",
       "      border-radius: 50%;\n",
       "      cursor: pointer;\n",
       "      display: none;\n",
       "      fill: #1967D2;\n",
       "      height: 32px;\n",
       "      padding: 0 0 0 0;\n",
       "      width: 32px;\n",
       "    }\n",
       "\n",
       "    .colab-df-convert:hover {\n",
       "      background-color: #E2EBFA;\n",
       "      box-shadow: 0px 1px 2px rgba(60, 64, 67, 0.3), 0px 1px 3px 1px rgba(60, 64, 67, 0.15);\n",
       "      fill: #174EA6;\n",
       "    }\n",
       "\n",
       "    [theme=dark] .colab-df-convert {\n",
       "      background-color: #3B4455;\n",
       "      fill: #D2E3FC;\n",
       "    }\n",
       "\n",
       "    [theme=dark] .colab-df-convert:hover {\n",
       "      background-color: #434B5C;\n",
       "      box-shadow: 0px 1px 3px 1px rgba(0, 0, 0, 0.15);\n",
       "      filter: drop-shadow(0px 1px 2px rgba(0, 0, 0, 0.3));\n",
       "      fill: #FFFFFF;\n",
       "    }\n",
       "  </style>\n",
       "\n",
       "      <script>\n",
       "        const buttonEl =\n",
       "          document.querySelector('#df-dd80703e-ebd8-4cb8-8848-5612831d6d11 button.colab-df-convert');\n",
       "        buttonEl.style.display =\n",
       "          google.colab.kernel.accessAllowed ? 'block' : 'none';\n",
       "\n",
       "        async function convertToInteractive(key) {\n",
       "          const element = document.querySelector('#df-dd80703e-ebd8-4cb8-8848-5612831d6d11');\n",
       "          const dataTable =\n",
       "            await google.colab.kernel.invokeFunction('convertToInteractive',\n",
       "                                                     [key], {});\n",
       "          if (!dataTable) return;\n",
       "\n",
       "          const docLinkHtml = 'Like what you see? Visit the ' +\n",
       "            '<a target=\"_blank\" href=https://colab.research.google.com/notebooks/data_table.ipynb>data table notebook</a>'\n",
       "            + ' to learn more about interactive tables.';\n",
       "          element.innerHTML = '';\n",
       "          dataTable['output_type'] = 'display_data';\n",
       "          await google.colab.output.renderOutput(dataTable, element);\n",
       "          const docLink = document.createElement('div');\n",
       "          docLink.innerHTML = docLinkHtml;\n",
       "          element.appendChild(docLink);\n",
       "        }\n",
       "      </script>\n",
       "    </div>\n",
       "  </div>\n",
       "  "
      ],
      "text/plain": [
       "               key       Wire 1       Wire 2      Wire 3      Wire 4  Wire 5  \\\n",
       "count  3081.000000  3055.000000  1079.000000   63.000000   14.000000   1.000   \n",
       "mean   1623.426485   100.895853    50.577323  189.482681   57.442841  15.132   \n",
       "std     932.996726    42.012518    39.320216   99.513444   28.824667     NaN   \n",
       "min       1.000000     1.918800     0.030160    0.144144   24.148801  15.132   \n",
       "25%     823.000000    72.115684    20.193680   95.135044   40.807002  15.132   \n",
       "50%    1619.000000   100.158234    40.142956  235.194977   45.234282  15.132   \n",
       "75%    2434.000000   126.060483    70.227558  276.252014   76.124619  15.132   \n",
       "max    3241.000000   330.314424   282.780152  385.008668  113.231044  15.132   \n",
       "\n",
       "           Wire 6     Wire 7      Wire 8     Wire 9  \n",
       "count   73.000000  11.000000   19.000000  29.000000  \n",
       "mean    48.016974  10.039007   53.625193  34.155752  \n",
       "std     33.919845   8.610584   16.881728  19.931616  \n",
       "min      0.034320   0.234208   45.076721   4.622800  \n",
       "25%     25.053600   6.762756   46.094879  22.058401  \n",
       "50%     42.076324   9.017009   46.279999  30.066399  \n",
       "75%     64.212723  11.886057   48.089603  43.862003  \n",
       "max    180.454575  32.847674  102.762401  90.053604  "
      ]
     },
     "execution_count": 40,
     "metadata": {},
     "output_type": "execute_result"
    }
   ],
   "source": [
    "data_wire.describe()"
   ]
  },
  {
   "cell_type": "code",
   "execution_count": 41,
   "metadata": {
    "colab": {
     "base_uri": "https://localhost:8080/",
     "height": 81
    },
    "id": "bUPjuo0nE1Xm",
    "outputId": "c690fb29-7bb3-46e0-f114-2b23d4119788"
   },
   "outputs": [
    {
     "data": {
      "text/html": [
       "\n",
       "  <div id=\"df-a7d7f13d-7366-4771-8d65-5c6ac33a239c\">\n",
       "    <div class=\"colab-df-container\">\n",
       "      <div>\n",
       "<style scoped>\n",
       "    .dataframe tbody tr th:only-of-type {\n",
       "        vertical-align: middle;\n",
       "    }\n",
       "\n",
       "    .dataframe tbody tr th {\n",
       "        vertical-align: top;\n",
       "    }\n",
       "\n",
       "    .dataframe thead th {\n",
       "        text-align: right;\n",
       "    }\n",
       "</style>\n",
       "<table border=\"1\" class=\"dataframe\">\n",
       "  <thead>\n",
       "    <tr style=\"text-align: right;\">\n",
       "      <th></th>\n",
       "      <th>key</th>\n",
       "      <th>Wire 1</th>\n",
       "      <th>Wire 2</th>\n",
       "      <th>Wire 3</th>\n",
       "      <th>Wire 4</th>\n",
       "      <th>Wire 5</th>\n",
       "      <th>Wire 6</th>\n",
       "      <th>Wire 7</th>\n",
       "      <th>Wire 8</th>\n",
       "      <th>Wire 9</th>\n",
       "    </tr>\n",
       "  </thead>\n",
       "  <tbody>\n",
       "    <tr>\n",
       "      <th>299</th>\n",
       "      <td>322</td>\n",
       "      <td>NaN</td>\n",
       "      <td>188.22855</td>\n",
       "      <td>NaN</td>\n",
       "      <td>NaN</td>\n",
       "      <td>NaN</td>\n",
       "      <td>NaN</td>\n",
       "      <td>NaN</td>\n",
       "      <td>NaN</td>\n",
       "      <td>NaN</td>\n",
       "    </tr>\n",
       "  </tbody>\n",
       "</table>\n",
       "</div>\n",
       "      <button class=\"colab-df-convert\" onclick=\"convertToInteractive('df-a7d7f13d-7366-4771-8d65-5c6ac33a239c')\"\n",
       "              title=\"Convert this dataframe to an interactive table.\"\n",
       "              style=\"display:none;\">\n",
       "        \n",
       "  <svg xmlns=\"http://www.w3.org/2000/svg\" height=\"24px\"viewBox=\"0 0 24 24\"\n",
       "       width=\"24px\">\n",
       "    <path d=\"M0 0h24v24H0V0z\" fill=\"none\"/>\n",
       "    <path d=\"M18.56 5.44l.94 2.06.94-2.06 2.06-.94-2.06-.94-.94-2.06-.94 2.06-2.06.94zm-11 1L8.5 8.5l.94-2.06 2.06-.94-2.06-.94L8.5 2.5l-.94 2.06-2.06.94zm10 10l.94 2.06.94-2.06 2.06-.94-2.06-.94-.94-2.06-.94 2.06-2.06.94z\"/><path d=\"M17.41 7.96l-1.37-1.37c-.4-.4-.92-.59-1.43-.59-.52 0-1.04.2-1.43.59L10.3 9.45l-7.72 7.72c-.78.78-.78 2.05 0 2.83L4 21.41c.39.39.9.59 1.41.59.51 0 1.02-.2 1.41-.59l7.78-7.78 2.81-2.81c.8-.78.8-2.07 0-2.86zM5.41 20L4 18.59l7.72-7.72 1.47 1.35L5.41 20z\"/>\n",
       "  </svg>\n",
       "      </button>\n",
       "      \n",
       "  <style>\n",
       "    .colab-df-container {\n",
       "      display:flex;\n",
       "      flex-wrap:wrap;\n",
       "      gap: 12px;\n",
       "    }\n",
       "\n",
       "    .colab-df-convert {\n",
       "      background-color: #E8F0FE;\n",
       "      border: none;\n",
       "      border-radius: 50%;\n",
       "      cursor: pointer;\n",
       "      display: none;\n",
       "      fill: #1967D2;\n",
       "      height: 32px;\n",
       "      padding: 0 0 0 0;\n",
       "      width: 32px;\n",
       "    }\n",
       "\n",
       "    .colab-df-convert:hover {\n",
       "      background-color: #E2EBFA;\n",
       "      box-shadow: 0px 1px 2px rgba(60, 64, 67, 0.3), 0px 1px 3px 1px rgba(60, 64, 67, 0.15);\n",
       "      fill: #174EA6;\n",
       "    }\n",
       "\n",
       "    [theme=dark] .colab-df-convert {\n",
       "      background-color: #3B4455;\n",
       "      fill: #D2E3FC;\n",
       "    }\n",
       "\n",
       "    [theme=dark] .colab-df-convert:hover {\n",
       "      background-color: #434B5C;\n",
       "      box-shadow: 0px 1px 3px 1px rgba(0, 0, 0, 0.15);\n",
       "      filter: drop-shadow(0px 1px 2px rgba(0, 0, 0, 0.3));\n",
       "      fill: #FFFFFF;\n",
       "    }\n",
       "  </style>\n",
       "\n",
       "      <script>\n",
       "        const buttonEl =\n",
       "          document.querySelector('#df-a7d7f13d-7366-4771-8d65-5c6ac33a239c button.colab-df-convert');\n",
       "        buttonEl.style.display =\n",
       "          google.colab.kernel.accessAllowed ? 'block' : 'none';\n",
       "\n",
       "        async function convertToInteractive(key) {\n",
       "          const element = document.querySelector('#df-a7d7f13d-7366-4771-8d65-5c6ac33a239c');\n",
       "          const dataTable =\n",
       "            await google.colab.kernel.invokeFunction('convertToInteractive',\n",
       "                                                     [key], {});\n",
       "          if (!dataTable) return;\n",
       "\n",
       "          const docLinkHtml = 'Like what you see? Visit the ' +\n",
       "            '<a target=\"_blank\" href=https://colab.research.google.com/notebooks/data_table.ipynb>data table notebook</a>'\n",
       "            + ' to learn more about interactive tables.';\n",
       "          element.innerHTML = '';\n",
       "          dataTable['output_type'] = 'display_data';\n",
       "          await google.colab.output.renderOutput(dataTable, element);\n",
       "          const docLink = document.createElement('div');\n",
       "          docLink.innerHTML = docLinkHtml;\n",
       "          element.appendChild(docLink);\n",
       "        }\n",
       "      </script>\n",
       "    </div>\n",
       "  </div>\n",
       "  "
      ],
      "text/plain": [
       "     key  Wire 1     Wire 2  Wire 3  Wire 4  Wire 5  Wire 6  Wire 7  Wire 8  \\\n",
       "299  322     NaN  188.22855     NaN     NaN     NaN     NaN     NaN     NaN   \n",
       "\n",
       "     Wire 9  \n",
       "299     NaN  "
      ]
     },
     "execution_count": 41,
     "metadata": {},
     "output_type": "execute_result"
    }
   ],
   "source": [
    "# посмотрим что с 322 ключём\n",
    "data_wire[data_wire['key'] == 322]"
   ]
  },
  {
   "cell_type": "code",
   "execution_count": 42,
   "metadata": {
    "colab": {
     "base_uri": "https://localhost:8080/",
     "height": 334
    },
    "id": "D_KWX56KFCu7",
    "outputId": "7c115c68-b112-4ee9-e32a-20f2b4e85b92"
   },
   "outputs": [
    {
     "name": "stderr",
     "output_type": "stream",
     "text": [
      "/usr/local/lib/python3.7/dist-packages/seaborn/_decorators.py:43: FutureWarning: Pass the following variable as a keyword arg: x. From version 0.12, the only valid positional argument will be `data`, and passing other arguments without an explicit keyword will result in an error or misinterpretation.\n",
      "  FutureWarning\n"
     ]
    },
    {
     "data": {
      "image/png": "[encoded data removed]",
      "text/plain": [
       "<Figure size 432x288 with 1 Axes>"
      ]
     },
     "metadata": {
      "needs_background": "light"
     },
     "output_type": "display_data"
    }
   ],
   "source": [
    "# В 322-ом ничего не обычного, однако есть разбежка по квантилю в Wire 2\n",
    "sns.boxplot(data_wire['Wire 2'])\n",
    "plt.show()"
   ]
  },
  {
   "cell_type": "code",
   "execution_count": 43,
   "metadata": {
    "colab": {
     "base_uri": "https://localhost:8080/",
     "height": 81
    },
    "id": "0L6q-BC3Fgv8",
    "outputId": "a590410d-9da8-4814-85a9-41c7adcb5520"
   },
   "outputs": [
    {
     "data": {
      "text/html": [
       "\n",
       "  <div id=\"df-07e39ea2-e3cd-4b43-a93a-1fb1d1fac3a0\">\n",
       "    <div class=\"colab-df-container\">\n",
       "      <div>\n",
       "<style scoped>\n",
       "    .dataframe tbody tr th:only-of-type {\n",
       "        vertical-align: middle;\n",
       "    }\n",
       "\n",
       "    .dataframe tbody tr th {\n",
       "        vertical-align: top;\n",
       "    }\n",
       "\n",
       "    .dataframe thead th {\n",
       "        text-align: right;\n",
       "    }\n",
       "</style>\n",
       "<table border=\"1\" class=\"dataframe\">\n",
       "  <thead>\n",
       "    <tr style=\"text-align: right;\">\n",
       "      <th></th>\n",
       "      <th>key</th>\n",
       "      <th>Wire 1</th>\n",
       "      <th>Wire 2</th>\n",
       "      <th>Wire 3</th>\n",
       "      <th>Wire 4</th>\n",
       "      <th>Wire 5</th>\n",
       "      <th>Wire 6</th>\n",
       "      <th>Wire 7</th>\n",
       "      <th>Wire 8</th>\n",
       "      <th>Wire 9</th>\n",
       "    </tr>\n",
       "  </thead>\n",
       "  <tbody>\n",
       "    <tr>\n",
       "      <th>1201</th>\n",
       "      <td>1269</td>\n",
       "      <td>142.3656</td>\n",
       "      <td>282.780152</td>\n",
       "      <td>NaN</td>\n",
       "      <td>NaN</td>\n",
       "      <td>NaN</td>\n",
       "      <td>NaN</td>\n",
       "      <td>NaN</td>\n",
       "      <td>NaN</td>\n",
       "      <td>NaN</td>\n",
       "    </tr>\n",
       "  </tbody>\n",
       "</table>\n",
       "</div>\n",
       "      <button class=\"colab-df-convert\" onclick=\"convertToInteractive('df-07e39ea2-e3cd-4b43-a93a-1fb1d1fac3a0')\"\n",
       "              title=\"Convert this dataframe to an interactive table.\"\n",
       "              style=\"display:none;\">\n",
       "        \n",
       "  <svg xmlns=\"http://www.w3.org/2000/svg\" height=\"24px\"viewBox=\"0 0 24 24\"\n",
       "       width=\"24px\">\n",
       "    <path d=\"M0 0h24v24H0V0z\" fill=\"none\"/>\n",
       "    <path d=\"M18.56 5.44l.94 2.06.94-2.06 2.06-.94-2.06-.94-.94-2.06-.94 2.06-2.06.94zm-11 1L8.5 8.5l.94-2.06 2.06-.94-2.06-.94L8.5 2.5l-.94 2.06-2.06.94zm10 10l.94 2.06.94-2.06 2.06-.94-2.06-.94-.94-2.06-.94 2.06-2.06.94z\"/><path d=\"M17.41 7.96l-1.37-1.37c-.4-.4-.92-.59-1.43-.59-.52 0-1.04.2-1.43.59L10.3 9.45l-7.72 7.72c-.78.78-.78 2.05 0 2.83L4 21.41c.39.39.9.59 1.41.59.51 0 1.02-.2 1.41-.59l7.78-7.78 2.81-2.81c.8-.78.8-2.07 0-2.86zM5.41 20L4 18.59l7.72-7.72 1.47 1.35L5.41 20z\"/>\n",
       "  </svg>\n",
       "      </button>\n",
       "      \n",
       "  <style>\n",
       "    .colab-df-container {\n",
       "      display:flex;\n",
       "      flex-wrap:wrap;\n",
       "      gap: 12px;\n",
       "    }\n",
       "\n",
       "    .colab-df-convert {\n",
       "      background-color: #E8F0FE;\n",
       "      border: none;\n",
       "      border-radius: 50%;\n",
       "      cursor: pointer;\n",
       "      display: none;\n",
       "      fill: #1967D2;\n",
       "      height: 32px;\n",
       "      padding: 0 0 0 0;\n",
       "      width: 32px;\n",
       "    }\n",
       "\n",
       "    .colab-df-convert:hover {\n",
       "      background-color: #E2EBFA;\n",
       "      box-shadow: 0px 1px 2px rgba(60, 64, 67, 0.3), 0px 1px 3px 1px rgba(60, 64, 67, 0.15);\n",
       "      fill: #174EA6;\n",
       "    }\n",
       "\n",
       "    [theme=dark] .colab-df-convert {\n",
       "      background-color: #3B4455;\n",
       "      fill: #D2E3FC;\n",
       "    }\n",
       "\n",
       "    [theme=dark] .colab-df-convert:hover {\n",
       "      background-color: #434B5C;\n",
       "      box-shadow: 0px 1px 3px 1px rgba(0, 0, 0, 0.15);\n",
       "      filter: drop-shadow(0px 1px 2px rgba(0, 0, 0, 0.3));\n",
       "      fill: #FFFFFF;\n",
       "    }\n",
       "  </style>\n",
       "\n",
       "      <script>\n",
       "        const buttonEl =\n",
       "          document.querySelector('#df-07e39ea2-e3cd-4b43-a93a-1fb1d1fac3a0 button.colab-df-convert');\n",
       "        buttonEl.style.display =\n",
       "          google.colab.kernel.accessAllowed ? 'block' : 'none';\n",
       "\n",
       "        async function convertToInteractive(key) {\n",
       "          const element = document.querySelector('#df-07e39ea2-e3cd-4b43-a93a-1fb1d1fac3a0');\n",
       "          const dataTable =\n",
       "            await google.colab.kernel.invokeFunction('convertToInteractive',\n",
       "                                                     [key], {});\n",
       "          if (!dataTable) return;\n",
       "\n",
       "          const docLinkHtml = 'Like what you see? Visit the ' +\n",
       "            '<a target=\"_blank\" href=https://colab.research.google.com/notebooks/data_table.ipynb>data table notebook</a>'\n",
       "            + ' to learn more about interactive tables.';\n",
       "          element.innerHTML = '';\n",
       "          dataTable['output_type'] = 'display_data';\n",
       "          await google.colab.output.renderOutput(dataTable, element);\n",
       "          const docLink = document.createElement('div');\n",
       "          docLink.innerHTML = docLinkHtml;\n",
       "          element.appendChild(docLink);\n",
       "        }\n",
       "      </script>\n",
       "    </div>\n",
       "  </div>\n",
       "  "
      ],
      "text/plain": [
       "       key    Wire 1      Wire 2  Wire 3  Wire 4  Wire 5  Wire 6  Wire 7  \\\n",
       "1201  1269  142.3656  282.780152     NaN     NaN     NaN     NaN     NaN   \n",
       "\n",
       "      Wire 8  Wire 9  \n",
       "1201     NaN     NaN  "
      ]
     },
     "execution_count": 43,
     "metadata": {},
     "output_type": "execute_result"
    }
   ],
   "source": [
    "# Посмотрим, что за выбитое значение\n",
    "data_wire[data_wire['Wire 2'] > 250]"
   ]
  },
  {
   "cell_type": "code",
   "execution_count": 44,
   "metadata": {
    "colab": {
     "base_uri": "https://localhost:8080/",
     "height": 363
    },
    "id": "jJCIVwxvFyg0",
    "outputId": "57d427a5-e1c4-4161-cfae-e628930547d0"
   },
   "outputs": [
    {
     "data": {
      "text/html": [
       "\n",
       "  <div id=\"df-82200355-94f7-4740-8926-d6b4eea4dfde\">\n",
       "    <div class=\"colab-df-container\">\n",
       "      <div>\n",
       "<style scoped>\n",
       "    .dataframe tbody tr th:only-of-type {\n",
       "        vertical-align: middle;\n",
       "    }\n",
       "\n",
       "    .dataframe tbody tr th {\n",
       "        vertical-align: top;\n",
       "    }\n",
       "\n",
       "    .dataframe thead th {\n",
       "        text-align: right;\n",
       "    }\n",
       "</style>\n",
       "<table border=\"1\" class=\"dataframe\">\n",
       "  <thead>\n",
       "    <tr style=\"text-align: right;\">\n",
       "      <th></th>\n",
       "      <th>key</th>\n",
       "      <th>Время замера</th>\n",
       "      <th>Температура</th>\n",
       "    </tr>\n",
       "  </thead>\n",
       "  <tbody>\n",
       "    <tr>\n",
       "      <th>6276</th>\n",
       "      <td>1269</td>\n",
       "      <td>2019-06-18 05:21:21</td>\n",
       "      <td>1627.0</td>\n",
       "    </tr>\n",
       "    <tr>\n",
       "      <th>6277</th>\n",
       "      <td>1269</td>\n",
       "      <td>2019-06-18 05:28:07</td>\n",
       "      <td>1615.0</td>\n",
       "    </tr>\n",
       "    <tr>\n",
       "      <th>6278</th>\n",
       "      <td>1269</td>\n",
       "      <td>2019-06-18 05:38:06</td>\n",
       "      <td>1604.0</td>\n",
       "    </tr>\n",
       "    <tr>\n",
       "      <th>6279</th>\n",
       "      <td>1269</td>\n",
       "      <td>2019-06-18 05:44:11</td>\n",
       "      <td>1601.0</td>\n",
       "    </tr>\n",
       "    <tr>\n",
       "      <th>6280</th>\n",
       "      <td>1269</td>\n",
       "      <td>2019-06-18 06:47:25</td>\n",
       "      <td>1568.0</td>\n",
       "    </tr>\n",
       "    <tr>\n",
       "      <th>6281</th>\n",
       "      <td>1269</td>\n",
       "      <td>2019-06-18 07:01:45</td>\n",
       "      <td>1568.0</td>\n",
       "    </tr>\n",
       "    <tr>\n",
       "      <th>6282</th>\n",
       "      <td>1269</td>\n",
       "      <td>2019-06-18 07:02:17</td>\n",
       "      <td>1582.0</td>\n",
       "    </tr>\n",
       "    <tr>\n",
       "      <th>6283</th>\n",
       "      <td>1269</td>\n",
       "      <td>2019-06-18 07:12:54</td>\n",
       "      <td>1575.0</td>\n",
       "    </tr>\n",
       "    <tr>\n",
       "      <th>6284</th>\n",
       "      <td>1269</td>\n",
       "      <td>2019-06-18 07:23:00</td>\n",
       "      <td>1581.0</td>\n",
       "    </tr>\n",
       "    <tr>\n",
       "      <th>6285</th>\n",
       "      <td>1269</td>\n",
       "      <td>2019-06-18 07:30:24</td>\n",
       "      <td>1584.0</td>\n",
       "    </tr>\n",
       "  </tbody>\n",
       "</table>\n",
       "</div>\n",
       "      <button class=\"colab-df-convert\" onclick=\"convertToInteractive('df-82200355-94f7-4740-8926-d6b4eea4dfde')\"\n",
       "              title=\"Convert this dataframe to an interactive table.\"\n",
       "              style=\"display:none;\">\n",
       "        \n",
       "  <svg xmlns=\"http://www.w3.org/2000/svg\" height=\"24px\"viewBox=\"0 0 24 24\"\n",
       "       width=\"24px\">\n",
       "    <path d=\"M0 0h24v24H0V0z\" fill=\"none\"/>\n",
       "    <path d=\"M18.56 5.44l.94 2.06.94-2.06 2.06-.94-2.06-.94-.94-2.06-.94 2.06-2.06.94zm-11 1L8.5 8.5l.94-2.06 2.06-.94-2.06-.94L8.5 2.5l-.94 2.06-2.06.94zm10 10l.94 2.06.94-2.06 2.06-.94-2.06-.94-.94-2.06-.94 2.06-2.06.94z\"/><path d=\"M17.41 7.96l-1.37-1.37c-.4-.4-.92-.59-1.43-.59-.52 0-1.04.2-1.43.59L10.3 9.45l-7.72 7.72c-.78.78-.78 2.05 0 2.83L4 21.41c.39.39.9.59 1.41.59.51 0 1.02-.2 1.41-.59l7.78-7.78 2.81-2.81c.8-.78.8-2.07 0-2.86zM5.41 20L4 18.59l7.72-7.72 1.47 1.35L5.41 20z\"/>\n",
       "  </svg>\n",
       "      </button>\n",
       "      \n",
       "  <style>\n",
       "    .colab-df-container {\n",
       "      display:flex;\n",
       "      flex-wrap:wrap;\n",
       "      gap: 12px;\n",
       "    }\n",
       "\n",
       "    .colab-df-convert {\n",
       "      background-color: #E8F0FE;\n",
       "      border: none;\n",
       "      border-radius: 50%;\n",
       "      cursor: pointer;\n",
       "      display: none;\n",
       "      fill: #1967D2;\n",
       "      height: 32px;\n",
       "      padding: 0 0 0 0;\n",
       "      width: 32px;\n",
       "    }\n",
       "\n",
       "    .colab-df-convert:hover {\n",
       "      background-color: #E2EBFA;\n",
       "      box-shadow: 0px 1px 2px rgba(60, 64, 67, 0.3), 0px 1px 3px 1px rgba(60, 64, 67, 0.15);\n",
       "      fill: #174EA6;\n",
       "    }\n",
       "\n",
       "    [theme=dark] .colab-df-convert {\n",
       "      background-color: #3B4455;\n",
       "      fill: #D2E3FC;\n",
       "    }\n",
       "\n",
       "    [theme=dark] .colab-df-convert:hover {\n",
       "      background-color: #434B5C;\n",
       "      box-shadow: 0px 1px 3px 1px rgba(0, 0, 0, 0.15);\n",
       "      filter: drop-shadow(0px 1px 2px rgba(0, 0, 0, 0.3));\n",
       "      fill: #FFFFFF;\n",
       "    }\n",
       "  </style>\n",
       "\n",
       "      <script>\n",
       "        const buttonEl =\n",
       "          document.querySelector('#df-82200355-94f7-4740-8926-d6b4eea4dfde button.colab-df-convert');\n",
       "        buttonEl.style.display =\n",
       "          google.colab.kernel.accessAllowed ? 'block' : 'none';\n",
       "\n",
       "        async function convertToInteractive(key) {\n",
       "          const element = document.querySelector('#df-82200355-94f7-4740-8926-d6b4eea4dfde');\n",
       "          const dataTable =\n",
       "            await google.colab.kernel.invokeFunction('convertToInteractive',\n",
       "                                                     [key], {});\n",
       "          if (!dataTable) return;\n",
       "\n",
       "          const docLinkHtml = 'Like what you see? Visit the ' +\n",
       "            '<a target=\"_blank\" href=https://colab.research.google.com/notebooks/data_table.ipynb>data table notebook</a>'\n",
       "            + ' to learn more about interactive tables.';\n",
       "          element.innerHTML = '';\n",
       "          dataTable['output_type'] = 'display_data';\n",
       "          await google.colab.output.renderOutput(dataTable, element);\n",
       "          const docLink = document.createElement('div');\n",
       "          docLink.innerHTML = docLinkHtml;\n",
       "          element.appendChild(docLink);\n",
       "        }\n",
       "      </script>\n",
       "    </div>\n",
       "  </div>\n",
       "  "
      ],
      "text/plain": [
       "       key        Время замера  Температура\n",
       "6276  1269 2019-06-18 05:21:21       1627.0\n",
       "6277  1269 2019-06-18 05:28:07       1615.0\n",
       "6278  1269 2019-06-18 05:38:06       1604.0\n",
       "6279  1269 2019-06-18 05:44:11       1601.0\n",
       "6280  1269 2019-06-18 06:47:25       1568.0\n",
       "6281  1269 2019-06-18 07:01:45       1568.0\n",
       "6282  1269 2019-06-18 07:02:17       1582.0\n",
       "6283  1269 2019-06-18 07:12:54       1575.0\n",
       "6284  1269 2019-06-18 07:23:00       1581.0\n",
       "6285  1269 2019-06-18 07:30:24       1584.0"
      ]
     },
     "execution_count": 44,
     "metadata": {},
     "output_type": "execute_result"
    }
   ],
   "source": [
    "clear_data_temp[clear_data_temp['key'] == 1269]"
   ]
  },
  {
   "cell_type": "markdown",
   "metadata": {
    "id": "qfihVrFLGJKM"
   },
   "source": [
    "### Время добавление проволки"
   ]
  },
  {
   "cell_type": "code",
   "execution_count": 45,
   "metadata": {
    "colab": {
     "base_uri": "https://localhost:8080/"
    },
    "id": "bOHMnW8aGYkU",
    "outputId": "b6a50b68-a07f-437f-aede-4cc8a16f694c"
   },
   "outputs": [
    {
     "name": "stdout",
     "output_type": "stream",
     "text": [
      "Столбец  Минимальная дата  Максимальная дата\n",
      "key 1 3241\n",
      "Wire 1 2019-05-03 11:11:41 2019-09-01 04:16:01\n",
      "Wire 2 2019-05-03 13:32:06 2019-08-31 18:50:15\n",
      "Wire 3 2019-05-04 04:47:53 2019-08-28 02:11:18\n",
      "Wire 4 2019-05-07 08:48:23 2019-08-08 12:03:12\n",
      "Wire 5 2019-08-08 16:01:07 2019-08-08 16:01:07\n",
      "Wire 6 2019-05-07 08:37:20 2019-08-14 00:59:11\n",
      "Wire 7 2019-07-23 12:08:44 2019-08-08 18:27:34\n",
      "Wire 8 2019-05-14 00:03:32 2019-08-11 15:09:29\n",
      "Wire 9 2019-05-04 16:09:11 2019-08-29 03:51:31\n"
     ]
    }
   ],
   "source": [
    "print('Столбец  Минимальная дата  Максимальная дата')\n",
    "for col in data_wire_time.columns:\n",
    "    print(col,\n",
    "        data_wire_time[col].min(),\n",
    "        data_wire_time[col].max())"
   ]
  },
  {
   "cell_type": "markdown",
   "metadata": {
    "id": "3aTsotzKGqn-"
   },
   "source": [
    "По проволке:\n",
    "\n",
    "Ситуация схожая с сыпучими материалами. Так же есть редко используемая проволка. И итоговый объём проволки зависит от кол-ва этапов в ключе."
   ]
  },
  {
   "cell_type": "markdown",
   "metadata": {
    "id": "s25VrXuaG8_1"
   },
   "source": [
    "## Газ"
   ]
  },
  {
   "cell_type": "markdown",
   "metadata": {
    "id": "CYmkbWVNHIj1"
   },
   "source": [
    "В данных по суммарному объёму газа пропусков не было."
   ]
  },
  {
   "cell_type": "code",
   "execution_count": 46,
   "metadata": {
    "colab": {
     "base_uri": "https://localhost:8080/"
    },
    "id": "G8G-l9Q9HZvc",
    "outputId": "ee3f0321-585c-4d4c-d8a9-a890314ff160"
   },
   "outputs": [
    {
     "data": {
      "text/plain": [
       "(3239, 2)"
      ]
     },
     "execution_count": 46,
     "metadata": {},
     "output_type": "execute_result"
    }
   ],
   "source": [
    "data_gas.shape"
   ]
  },
  {
   "cell_type": "code",
   "execution_count": 47,
   "metadata": {
    "colab": {
     "base_uri": "https://localhost:8080/"
    },
    "id": "DG4sF3UnHAVO",
    "outputId": "9a6f7b6b-9bec-451e-fb99-7ba1bb576e3f"
   },
   "outputs": [
    {
     "data": {
      "text/plain": [
       "3239"
      ]
     },
     "execution_count": 47,
     "metadata": {},
     "output_type": "execute_result"
    }
   ],
   "source": [
    "len(data_gas['key'].unique())"
   ]
  },
  {
   "cell_type": "code",
   "execution_count": 48,
   "metadata": {
    "colab": {
     "base_uri": "https://localhost:8080/",
     "height": 300
    },
    "id": "XdA3dxBDHc1a",
    "outputId": "b81809c7-6772-4384-dbe2-03c8605b3b30"
   },
   "outputs": [
    {
     "data": {
      "text/html": [
       "\n",
       "  <div id=\"df-7461432c-0fc5-40db-b144-1ca47d62e3e4\">\n",
       "    <div class=\"colab-df-container\">\n",
       "      <div>\n",
       "<style scoped>\n",
       "    .dataframe tbody tr th:only-of-type {\n",
       "        vertical-align: middle;\n",
       "    }\n",
       "\n",
       "    .dataframe tbody tr th {\n",
       "        vertical-align: top;\n",
       "    }\n",
       "\n",
       "    .dataframe thead th {\n",
       "        text-align: right;\n",
       "    }\n",
       "</style>\n",
       "<table border=\"1\" class=\"dataframe\">\n",
       "  <thead>\n",
       "    <tr style=\"text-align: right;\">\n",
       "      <th></th>\n",
       "      <th>key</th>\n",
       "      <th>Газ 1</th>\n",
       "    </tr>\n",
       "  </thead>\n",
       "  <tbody>\n",
       "    <tr>\n",
       "      <th>count</th>\n",
       "      <td>3239.000000</td>\n",
       "      <td>3239.000000</td>\n",
       "    </tr>\n",
       "    <tr>\n",
       "      <th>mean</th>\n",
       "      <td>1621.861377</td>\n",
       "      <td>11.002062</td>\n",
       "    </tr>\n",
       "    <tr>\n",
       "      <th>std</th>\n",
       "      <td>935.386334</td>\n",
       "      <td>6.220327</td>\n",
       "    </tr>\n",
       "    <tr>\n",
       "      <th>min</th>\n",
       "      <td>1.000000</td>\n",
       "      <td>0.008399</td>\n",
       "    </tr>\n",
       "    <tr>\n",
       "      <th>25%</th>\n",
       "      <td>812.500000</td>\n",
       "      <td>7.043089</td>\n",
       "    </tr>\n",
       "    <tr>\n",
       "      <th>50%</th>\n",
       "      <td>1622.000000</td>\n",
       "      <td>9.836267</td>\n",
       "    </tr>\n",
       "    <tr>\n",
       "      <th>75%</th>\n",
       "      <td>2431.500000</td>\n",
       "      <td>13.769915</td>\n",
       "    </tr>\n",
       "    <tr>\n",
       "      <th>max</th>\n",
       "      <td>3241.000000</td>\n",
       "      <td>77.995040</td>\n",
       "    </tr>\n",
       "  </tbody>\n",
       "</table>\n",
       "</div>\n",
       "      <button class=\"colab-df-convert\" onclick=\"convertToInteractive('df-7461432c-0fc5-40db-b144-1ca47d62e3e4')\"\n",
       "              title=\"Convert this dataframe to an interactive table.\"\n",
       "              style=\"display:none;\">\n",
       "        \n",
       "  <svg xmlns=\"http://www.w3.org/2000/svg\" height=\"24px\"viewBox=\"0 0 24 24\"\n",
       "       width=\"24px\">\n",
       "    <path d=\"M0 0h24v24H0V0z\" fill=\"none\"/>\n",
       "    <path d=\"M18.56 5.44l.94 2.06.94-2.06 2.06-.94-2.06-.94-.94-2.06-.94 2.06-2.06.94zm-11 1L8.5 8.5l.94-2.06 2.06-.94-2.06-.94L8.5 2.5l-.94 2.06-2.06.94zm10 10l.94 2.06.94-2.06 2.06-.94-2.06-.94-.94-2.06-.94 2.06-2.06.94z\"/><path d=\"M17.41 7.96l-1.37-1.37c-.4-.4-.92-.59-1.43-.59-.52 0-1.04.2-1.43.59L10.3 9.45l-7.72 7.72c-.78.78-.78 2.05 0 2.83L4 21.41c.39.39.9.59 1.41.59.51 0 1.02-.2 1.41-.59l7.78-7.78 2.81-2.81c.8-.78.8-2.07 0-2.86zM5.41 20L4 18.59l7.72-7.72 1.47 1.35L5.41 20z\"/>\n",
       "  </svg>\n",
       "      </button>\n",
       "      \n",
       "  <style>\n",
       "    .colab-df-container {\n",
       "      display:flex;\n",
       "      flex-wrap:wrap;\n",
       "      gap: 12px;\n",
       "    }\n",
       "\n",
       "    .colab-df-convert {\n",
       "      background-color: #E8F0FE;\n",
       "      border: none;\n",
       "      border-radius: 50%;\n",
       "      cursor: pointer;\n",
       "      display: none;\n",
       "      fill: #1967D2;\n",
       "      height: 32px;\n",
       "      padding: 0 0 0 0;\n",
       "      width: 32px;\n",
       "    }\n",
       "\n",
       "    .colab-df-convert:hover {\n",
       "      background-color: #E2EBFA;\n",
       "      box-shadow: 0px 1px 2px rgba(60, 64, 67, 0.3), 0px 1px 3px 1px rgba(60, 64, 67, 0.15);\n",
       "      fill: #174EA6;\n",
       "    }\n",
       "\n",
       "    [theme=dark] .colab-df-convert {\n",
       "      background-color: #3B4455;\n",
       "      fill: #D2E3FC;\n",
       "    }\n",
       "\n",
       "    [theme=dark] .colab-df-convert:hover {\n",
       "      background-color: #434B5C;\n",
       "      box-shadow: 0px 1px 3px 1px rgba(0, 0, 0, 0.15);\n",
       "      filter: drop-shadow(0px 1px 2px rgba(0, 0, 0, 0.3));\n",
       "      fill: #FFFFFF;\n",
       "    }\n",
       "  </style>\n",
       "\n",
       "      <script>\n",
       "        const buttonEl =\n",
       "          document.querySelector('#df-7461432c-0fc5-40db-b144-1ca47d62e3e4 button.colab-df-convert');\n",
       "        buttonEl.style.display =\n",
       "          google.colab.kernel.accessAllowed ? 'block' : 'none';\n",
       "\n",
       "        async function convertToInteractive(key) {\n",
       "          const element = document.querySelector('#df-7461432c-0fc5-40db-b144-1ca47d62e3e4');\n",
       "          const dataTable =\n",
       "            await google.colab.kernel.invokeFunction('convertToInteractive',\n",
       "                                                     [key], {});\n",
       "          if (!dataTable) return;\n",
       "\n",
       "          const docLinkHtml = 'Like what you see? Visit the ' +\n",
       "            '<a target=\"_blank\" href=https://colab.research.google.com/notebooks/data_table.ipynb>data table notebook</a>'\n",
       "            + ' to learn more about interactive tables.';\n",
       "          element.innerHTML = '';\n",
       "          dataTable['output_type'] = 'display_data';\n",
       "          await google.colab.output.renderOutput(dataTable, element);\n",
       "          const docLink = document.createElement('div');\n",
       "          docLink.innerHTML = docLinkHtml;\n",
       "          element.appendChild(docLink);\n",
       "        }\n",
       "      </script>\n",
       "    </div>\n",
       "  </div>\n",
       "  "
      ],
      "text/plain": [
       "               key        Газ 1\n",
       "count  3239.000000  3239.000000\n",
       "mean   1621.861377    11.002062\n",
       "std     935.386334     6.220327\n",
       "min       1.000000     0.008399\n",
       "25%     812.500000     7.043089\n",
       "50%    1622.000000     9.836267\n",
       "75%    2431.500000    13.769915\n",
       "max    3241.000000    77.995040"
      ]
     },
     "execution_count": 48,
     "metadata": {},
     "output_type": "execute_result"
    }
   ],
   "source": [
    "data_gas.describe()"
   ]
  },
  {
   "cell_type": "code",
   "execution_count": 49,
   "metadata": {
    "colab": {
     "base_uri": "https://localhost:8080/",
     "height": 334
    },
    "id": "OQwyLSkiHm_1",
    "outputId": "6a677d81-f9af-4082-9003-4816cf8ba368"
   },
   "outputs": [
    {
     "name": "stderr",
     "output_type": "stream",
     "text": [
      "/usr/local/lib/python3.7/dist-packages/seaborn/_decorators.py:43: FutureWarning: Pass the following variable as a keyword arg: x. From version 0.12, the only valid positional argument will be `data`, and passing other arguments without an explicit keyword will result in an error or misinterpretation.\n",
      "  FutureWarning\n"
     ]
    },
    {
     "data": {
      "image/png": "[encoded data removed]",
      "text/plain": [
       "<Figure size 432x288 with 1 Axes>"
      ]
     },
     "metadata": {
      "needs_background": "light"
     },
     "output_type": "display_data"
    }
   ],
   "source": [
    "sns.boxplot(data_gas['Газ 1'])\n",
    "plt.show()"
   ]
  },
  {
   "cell_type": "code",
   "execution_count": 50,
   "metadata": {
    "colab": {
     "base_uri": "https://localhost:8080/",
     "height": 224
    },
    "id": "A7pq6yeOazbD",
    "outputId": "250b3ab7-0887-4cf3-bcaf-eb44913cf7af"
   },
   "outputs": [
    {
     "name": "stdout",
     "output_type": "stream",
     "text": [
      "Ключи с наибольшими значениями [ 117  280  322 2110 2570]\n"
     ]
    },
    {
     "data": {
      "text/html": [
       "\n",
       "  <div id=\"df-c96a40a4-8d69-47c7-a151-2faf96f15b15\">\n",
       "    <div class=\"colab-df-container\">\n",
       "      <div>\n",
       "<style scoped>\n",
       "    .dataframe tbody tr th:only-of-type {\n",
       "        vertical-align: middle;\n",
       "    }\n",
       "\n",
       "    .dataframe tbody tr th {\n",
       "        vertical-align: top;\n",
       "    }\n",
       "\n",
       "    .dataframe thead th {\n",
       "        text-align: right;\n",
       "    }\n",
       "</style>\n",
       "<table border=\"1\" class=\"dataframe\">\n",
       "  <thead>\n",
       "    <tr style=\"text-align: right;\">\n",
       "      <th></th>\n",
       "      <th>Время замера</th>\n",
       "      <th>Температура</th>\n",
       "    </tr>\n",
       "    <tr>\n",
       "      <th>key</th>\n",
       "      <th></th>\n",
       "      <th></th>\n",
       "    </tr>\n",
       "  </thead>\n",
       "  <tbody>\n",
       "    <tr>\n",
       "      <th>117</th>\n",
       "      <td>10</td>\n",
       "      <td>10</td>\n",
       "    </tr>\n",
       "    <tr>\n",
       "      <th>280</th>\n",
       "      <td>5</td>\n",
       "      <td>5</td>\n",
       "    </tr>\n",
       "    <tr>\n",
       "      <th>322</th>\n",
       "      <td>11</td>\n",
       "      <td>11</td>\n",
       "    </tr>\n",
       "    <tr>\n",
       "      <th>2110</th>\n",
       "      <td>9</td>\n",
       "      <td>9</td>\n",
       "    </tr>\n",
       "  </tbody>\n",
       "</table>\n",
       "</div>\n",
       "      <button class=\"colab-df-convert\" onclick=\"convertToInteractive('df-c96a40a4-8d69-47c7-a151-2faf96f15b15')\"\n",
       "              title=\"Convert this dataframe to an interactive table.\"\n",
       "              style=\"display:none;\">\n",
       "        \n",
       "  <svg xmlns=\"http://www.w3.org/2000/svg\" height=\"24px\"viewBox=\"0 0 24 24\"\n",
       "       width=\"24px\">\n",
       "    <path d=\"M0 0h24v24H0V0z\" fill=\"none\"/>\n",
       "    <path d=\"M18.56 5.44l.94 2.06.94-2.06 2.06-.94-2.06-.94-.94-2.06-.94 2.06-2.06.94zm-11 1L8.5 8.5l.94-2.06 2.06-.94-2.06-.94L8.5 2.5l-.94 2.06-2.06.94zm10 10l.94 2.06.94-2.06 2.06-.94-2.06-.94-.94-2.06-.94 2.06-2.06.94z\"/><path d=\"M17.41 7.96l-1.37-1.37c-.4-.4-.92-.59-1.43-.59-.52 0-1.04.2-1.43.59L10.3 9.45l-7.72 7.72c-.78.78-.78 2.05 0 2.83L4 21.41c.39.39.9.59 1.41.59.51 0 1.02-.2 1.41-.59l7.78-7.78 2.81-2.81c.8-.78.8-2.07 0-2.86zM5.41 20L4 18.59l7.72-7.72 1.47 1.35L5.41 20z\"/>\n",
       "  </svg>\n",
       "      </button>\n",
       "      \n",
       "  <style>\n",
       "    .colab-df-container {\n",
       "      display:flex;\n",
       "      flex-wrap:wrap;\n",
       "      gap: 12px;\n",
       "    }\n",
       "\n",
       "    .colab-df-convert {\n",
       "      background-color: #E8F0FE;\n",
       "      border: none;\n",
       "      border-radius: 50%;\n",
       "      cursor: pointer;\n",
       "      display: none;\n",
       "      fill: #1967D2;\n",
       "      height: 32px;\n",
       "      padding: 0 0 0 0;\n",
       "      width: 32px;\n",
       "    }\n",
       "\n",
       "    .colab-df-convert:hover {\n",
       "      background-color: #E2EBFA;\n",
       "      box-shadow: 0px 1px 2px rgba(60, 64, 67, 0.3), 0px 1px 3px 1px rgba(60, 64, 67, 0.15);\n",
       "      fill: #174EA6;\n",
       "    }\n",
       "\n",
       "    [theme=dark] .colab-df-convert {\n",
       "      background-color: #3B4455;\n",
       "      fill: #D2E3FC;\n",
       "    }\n",
       "\n",
       "    [theme=dark] .colab-df-convert:hover {\n",
       "      background-color: #434B5C;\n",
       "      box-shadow: 0px 1px 3px 1px rgba(0, 0, 0, 0.15);\n",
       "      filter: drop-shadow(0px 1px 2px rgba(0, 0, 0, 0.3));\n",
       "      fill: #FFFFFF;\n",
       "    }\n",
       "  </style>\n",
       "\n",
       "      <script>\n",
       "        const buttonEl =\n",
       "          document.querySelector('#df-c96a40a4-8d69-47c7-a151-2faf96f15b15 button.colab-df-convert');\n",
       "        buttonEl.style.display =\n",
       "          google.colab.kernel.accessAllowed ? 'block' : 'none';\n",
       "\n",
       "        async function convertToInteractive(key) {\n",
       "          const element = document.querySelector('#df-c96a40a4-8d69-47c7-a151-2faf96f15b15');\n",
       "          const dataTable =\n",
       "            await google.colab.kernel.invokeFunction('convertToInteractive',\n",
       "                                                     [key], {});\n",
       "          if (!dataTable) return;\n",
       "\n",
       "          const docLinkHtml = 'Like what you see? Visit the ' +\n",
       "            '<a target=\"_blank\" href=https://colab.research.google.com/notebooks/data_table.ipynb>data table notebook</a>'\n",
       "            + ' to learn more about interactive tables.';\n",
       "          element.innerHTML = '';\n",
       "          dataTable['output_type'] = 'display_data';\n",
       "          await google.colab.output.renderOutput(dataTable, element);\n",
       "          const docLink = document.createElement('div');\n",
       "          docLink.innerHTML = docLinkHtml;\n",
       "          element.appendChild(docLink);\n",
       "        }\n",
       "      </script>\n",
       "    </div>\n",
       "  </div>\n",
       "  "
      ],
      "text/plain": [
       "      Время замера  Температура\n",
       "key                            \n",
       "117             10           10\n",
       "280              5            5\n",
       "322             11           11\n",
       "2110             9            9"
      ]
     },
     "execution_count": 50,
     "metadata": {},
     "output_type": "execute_result"
    }
   ],
   "source": [
    "# В объёме газа так же как и с сыпучими материалами и проволкой\n",
    "# \"отвалилось\" несколько ключей, посмотрим какое в них кол-во этапов\n",
    "big_value = data_gas[data_gas['Газ 1'] > 50]['key'].unique()\n",
    "print('Ключи с наибольшими значениями', big_value)\n",
    "clear_data_temp[clear_data_temp['key'].isin(big_value)].groupby('key').count()"
   ]
  },
  {
   "cell_type": "code",
   "execution_count": 51,
   "metadata": {
    "colab": {
     "base_uri": "https://localhost:8080/",
     "height": 334
    },
    "id": "esaESvlrdoK2",
    "outputId": "c0caa8f3-2375-4bd6-fe24-53de2e1c1f2d"
   },
   "outputs": [
    {
     "data": {
      "text/html": [
       "\n",
       "  <div id=\"df-8b55a7c6-0298-4a6e-a595-247448fe42f1\">\n",
       "    <div class=\"colab-df-container\">\n",
       "      <div>\n",
       "<style scoped>\n",
       "    .dataframe tbody tr th:only-of-type {\n",
       "        vertical-align: middle;\n",
       "    }\n",
       "\n",
       "    .dataframe tbody tr th {\n",
       "        vertical-align: top;\n",
       "    }\n",
       "\n",
       "    .dataframe thead th {\n",
       "        text-align: right;\n",
       "    }\n",
       "</style>\n",
       "<table border=\"1\" class=\"dataframe\">\n",
       "  <thead>\n",
       "    <tr style=\"text-align: right;\">\n",
       "      <th></th>\n",
       "      <th>key</th>\n",
       "      <th>Время замера</th>\n",
       "      <th>Температура</th>\n",
       "    </tr>\n",
       "  </thead>\n",
       "  <tbody>\n",
       "    <tr>\n",
       "      <th>1555</th>\n",
       "      <td>280</td>\n",
       "      <td>2019-05-13 23:20:22</td>\n",
       "      <td>1532.0</td>\n",
       "    </tr>\n",
       "    <tr>\n",
       "      <th>1556</th>\n",
       "      <td>280</td>\n",
       "      <td>2019-05-13 23:45:33</td>\n",
       "      <td>1563.0</td>\n",
       "    </tr>\n",
       "    <tr>\n",
       "      <th>1557</th>\n",
       "      <td>280</td>\n",
       "      <td>2019-05-13 23:56:43</td>\n",
       "      <td>1584.0</td>\n",
       "    </tr>\n",
       "    <tr>\n",
       "      <th>1558</th>\n",
       "      <td>280</td>\n",
       "      <td>2019-05-14 00:05:28</td>\n",
       "      <td>1599.0</td>\n",
       "    </tr>\n",
       "    <tr>\n",
       "      <th>1559</th>\n",
       "      <td>280</td>\n",
       "      <td>2019-05-14 00:08:09</td>\n",
       "      <td>1600.0</td>\n",
       "    </tr>\n",
       "  </tbody>\n",
       "</table>\n",
       "</div>\n",
       "      <button class=\"colab-df-convert\" onclick=\"convertToInteractive('df-8b55a7c6-0298-4a6e-a595-247448fe42f1')\"\n",
       "              title=\"Convert this dataframe to an interactive table.\"\n",
       "              style=\"display:none;\">\n",
       "        \n",
       "  <svg xmlns=\"http://www.w3.org/2000/svg\" height=\"24px\"viewBox=\"0 0 24 24\"\n",
       "       width=\"24px\">\n",
       "    <path d=\"M0 0h24v24H0V0z\" fill=\"none\"/>\n",
       "    <path d=\"M18.56 5.44l.94 2.06.94-2.06 2.06-.94-2.06-.94-.94-2.06-.94 2.06-2.06.94zm-11 1L8.5 8.5l.94-2.06 2.06-.94-2.06-.94L8.5 2.5l-.94 2.06-2.06.94zm10 10l.94 2.06.94-2.06 2.06-.94-2.06-.94-.94-2.06-.94 2.06-2.06.94z\"/><path d=\"M17.41 7.96l-1.37-1.37c-.4-.4-.92-.59-1.43-.59-.52 0-1.04.2-1.43.59L10.3 9.45l-7.72 7.72c-.78.78-.78 2.05 0 2.83L4 21.41c.39.39.9.59 1.41.59.51 0 1.02-.2 1.41-.59l7.78-7.78 2.81-2.81c.8-.78.8-2.07 0-2.86zM5.41 20L4 18.59l7.72-7.72 1.47 1.35L5.41 20z\"/>\n",
       "  </svg>\n",
       "      </button>\n",
       "      \n",
       "  <style>\n",
       "    .colab-df-container {\n",
       "      display:flex;\n",
       "      flex-wrap:wrap;\n",
       "      gap: 12px;\n",
       "    }\n",
       "\n",
       "    .colab-df-convert {\n",
       "      background-color: #E8F0FE;\n",
       "      border: none;\n",
       "      border-radius: 50%;\n",
       "      cursor: pointer;\n",
       "      display: none;\n",
       "      fill: #1967D2;\n",
       "      height: 32px;\n",
       "      padding: 0 0 0 0;\n",
       "      width: 32px;\n",
       "    }\n",
       "\n",
       "    .colab-df-convert:hover {\n",
       "      background-color: #E2EBFA;\n",
       "      box-shadow: 0px 1px 2px rgba(60, 64, 67, 0.3), 0px 1px 3px 1px rgba(60, 64, 67, 0.15);\n",
       "      fill: #174EA6;\n",
       "    }\n",
       "\n",
       "    [theme=dark] .colab-df-convert {\n",
       "      background-color: #3B4455;\n",
       "      fill: #D2E3FC;\n",
       "    }\n",
       "\n",
       "    [theme=dark] .colab-df-convert:hover {\n",
       "      background-color: #434B5C;\n",
       "      box-shadow: 0px 1px 3px 1px rgba(0, 0, 0, 0.15);\n",
       "      filter: drop-shadow(0px 1px 2px rgba(0, 0, 0, 0.3));\n",
       "      fill: #FFFFFF;\n",
       "    }\n",
       "  </style>\n",
       "\n",
       "      <script>\n",
       "        const buttonEl =\n",
       "          document.querySelector('#df-8b55a7c6-0298-4a6e-a595-247448fe42f1 button.colab-df-convert');\n",
       "        buttonEl.style.display =\n",
       "          google.colab.kernel.accessAllowed ? 'block' : 'none';\n",
       "\n",
       "        async function convertToInteractive(key) {\n",
       "          const element = document.querySelector('#df-8b55a7c6-0298-4a6e-a595-247448fe42f1');\n",
       "          const dataTable =\n",
       "            await google.colab.kernel.invokeFunction('convertToInteractive',\n",
       "                                                     [key], {});\n",
       "          if (!dataTable) return;\n",
       "\n",
       "          const docLinkHtml = 'Like what you see? Visit the ' +\n",
       "            '<a target=\"_blank\" href=https://colab.research.google.com/notebooks/data_table.ipynb>data table notebook</a>'\n",
       "            + ' to learn more about interactive tables.';\n",
       "          element.innerHTML = '';\n",
       "          dataTable['output_type'] = 'display_data';\n",
       "          await google.colab.output.renderOutput(dataTable, element);\n",
       "          const docLink = document.createElement('div');\n",
       "          docLink.innerHTML = docLinkHtml;\n",
       "          element.appendChild(docLink);\n",
       "        }\n",
       "      </script>\n",
       "    </div>\n",
       "  </div>\n",
       "  "
      ],
      "text/plain": [
       "      key        Время замера  Температура\n",
       "1555  280 2019-05-13 23:20:22       1532.0\n",
       "1556  280 2019-05-13 23:45:33       1563.0\n",
       "1557  280 2019-05-13 23:56:43       1584.0\n",
       "1558  280 2019-05-14 00:05:28       1599.0\n",
       "1559  280 2019-05-14 00:08:09       1600.0"
      ]
     },
     "metadata": {},
     "output_type": "display_data"
    },
    {
     "data": {
      "text/html": [
       "\n",
       "  <div id=\"df-9cef80a0-f505-4ca8-855d-2dd6632d3d65\">\n",
       "    <div class=\"colab-df-container\">\n",
       "      <div>\n",
       "<style scoped>\n",
       "    .dataframe tbody tr th:only-of-type {\n",
       "        vertical-align: middle;\n",
       "    }\n",
       "\n",
       "    .dataframe tbody tr th {\n",
       "        vertical-align: top;\n",
       "    }\n",
       "\n",
       "    .dataframe thead th {\n",
       "        text-align: right;\n",
       "    }\n",
       "</style>\n",
       "<table border=\"1\" class=\"dataframe\">\n",
       "  <thead>\n",
       "    <tr style=\"text-align: right;\">\n",
       "      <th></th>\n",
       "      <th>key</th>\n",
       "      <th>Bulk 1</th>\n",
       "      <th>Bulk 2</th>\n",
       "      <th>Bulk 3</th>\n",
       "      <th>Bulk 4</th>\n",
       "      <th>Bulk 5</th>\n",
       "      <th>Bulk 6</th>\n",
       "      <th>Bulk 7</th>\n",
       "      <th>Bulk 8</th>\n",
       "      <th>Bulk 9</th>\n",
       "      <th>Bulk 10</th>\n",
       "      <th>Bulk 11</th>\n",
       "      <th>Bulk 12</th>\n",
       "      <th>Bulk 13</th>\n",
       "      <th>Bulk 14</th>\n",
       "      <th>Bulk 15</th>\n",
       "    </tr>\n",
       "  </thead>\n",
       "  <tbody>\n",
       "    <tr>\n",
       "      <th>262</th>\n",
       "      <td>280</td>\n",
       "      <td>NaN</td>\n",
       "      <td>NaN</td>\n",
       "      <td>126.0</td>\n",
       "      <td>NaN</td>\n",
       "      <td>NaN</td>\n",
       "      <td>NaN</td>\n",
       "      <td>NaN</td>\n",
       "      <td>NaN</td>\n",
       "      <td>63.0</td>\n",
       "      <td>NaN</td>\n",
       "      <td>NaN</td>\n",
       "      <td>108.0</td>\n",
       "      <td>NaN</td>\n",
       "      <td>263.0</td>\n",
       "      <td>NaN</td>\n",
       "    </tr>\n",
       "  </tbody>\n",
       "</table>\n",
       "</div>\n",
       "      <button class=\"colab-df-convert\" onclick=\"convertToInteractive('df-9cef80a0-f505-4ca8-855d-2dd6632d3d65')\"\n",
       "              title=\"Convert this dataframe to an interactive table.\"\n",
       "              style=\"display:none;\">\n",
       "        \n",
       "  <svg xmlns=\"http://www.w3.org/2000/svg\" height=\"24px\"viewBox=\"0 0 24 24\"\n",
       "       width=\"24px\">\n",
       "    <path d=\"M0 0h24v24H0V0z\" fill=\"none\"/>\n",
       "    <path d=\"M18.56 5.44l.94 2.06.94-2.06 2.06-.94-2.06-.94-.94-2.06-.94 2.06-2.06.94zm-11 1L8.5 8.5l.94-2.06 2.06-.94-2.06-.94L8.5 2.5l-.94 2.06-2.06.94zm10 10l.94 2.06.94-2.06 2.06-.94-2.06-.94-.94-2.06-.94 2.06-2.06.94z\"/><path d=\"M17.41 7.96l-1.37-1.37c-.4-.4-.92-.59-1.43-.59-.52 0-1.04.2-1.43.59L10.3 9.45l-7.72 7.72c-.78.78-.78 2.05 0 2.83L4 21.41c.39.39.9.59 1.41.59.51 0 1.02-.2 1.41-.59l7.78-7.78 2.81-2.81c.8-.78.8-2.07 0-2.86zM5.41 20L4 18.59l7.72-7.72 1.47 1.35L5.41 20z\"/>\n",
       "  </svg>\n",
       "      </button>\n",
       "      \n",
       "  <style>\n",
       "    .colab-df-container {\n",
       "      display:flex;\n",
       "      flex-wrap:wrap;\n",
       "      gap: 12px;\n",
       "    }\n",
       "\n",
       "    .colab-df-convert {\n",
       "      background-color: #E8F0FE;\n",
       "      border: none;\n",
       "      border-radius: 50%;\n",
       "      cursor: pointer;\n",
       "      display: none;\n",
       "      fill: #1967D2;\n",
       "      height: 32px;\n",
       "      padding: 0 0 0 0;\n",
       "      width: 32px;\n",
       "    }\n",
       "\n",
       "    .colab-df-convert:hover {\n",
       "      background-color: #E2EBFA;\n",
       "      box-shadow: 0px 1px 2px rgba(60, 64, 67, 0.3), 0px 1px 3px 1px rgba(60, 64, 67, 0.15);\n",
       "      fill: #174EA6;\n",
       "    }\n",
       "\n",
       "    [theme=dark] .colab-df-convert {\n",
       "      background-color: #3B4455;\n",
       "      fill: #D2E3FC;\n",
       "    }\n",
       "\n",
       "    [theme=dark] .colab-df-convert:hover {\n",
       "      background-color: #434B5C;\n",
       "      box-shadow: 0px 1px 3px 1px rgba(0, 0, 0, 0.15);\n",
       "      filter: drop-shadow(0px 1px 2px rgba(0, 0, 0, 0.3));\n",
       "      fill: #FFFFFF;\n",
       "    }\n",
       "  </style>\n",
       "\n",
       "      <script>\n",
       "        const buttonEl =\n",
       "          document.querySelector('#df-9cef80a0-f505-4ca8-855d-2dd6632d3d65 button.colab-df-convert');\n",
       "        buttonEl.style.display =\n",
       "          google.colab.kernel.accessAllowed ? 'block' : 'none';\n",
       "\n",
       "        async function convertToInteractive(key) {\n",
       "          const element = document.querySelector('#df-9cef80a0-f505-4ca8-855d-2dd6632d3d65');\n",
       "          const dataTable =\n",
       "            await google.colab.kernel.invokeFunction('convertToInteractive',\n",
       "                                                     [key], {});\n",
       "          if (!dataTable) return;\n",
       "\n",
       "          const docLinkHtml = 'Like what you see? Visit the ' +\n",
       "            '<a target=\"_blank\" href=https://colab.research.google.com/notebooks/data_table.ipynb>data table notebook</a>'\n",
       "            + ' to learn more about interactive tables.';\n",
       "          element.innerHTML = '';\n",
       "          dataTable['output_type'] = 'display_data';\n",
       "          await google.colab.output.renderOutput(dataTable, element);\n",
       "          const docLink = document.createElement('div');\n",
       "          docLink.innerHTML = docLinkHtml;\n",
       "          element.appendChild(docLink);\n",
       "        }\n",
       "      </script>\n",
       "    </div>\n",
       "  </div>\n",
       "  "
      ],
      "text/plain": [
       "     key  Bulk 1  Bulk 2  Bulk 3  Bulk 4  Bulk 5  Bulk 6  Bulk 7  Bulk 8  \\\n",
       "262  280     NaN     NaN   126.0     NaN     NaN     NaN     NaN     NaN   \n",
       "\n",
       "     Bulk 9  Bulk 10  Bulk 11  Bulk 12  Bulk 13  Bulk 14  Bulk 15  \n",
       "262    63.0      NaN      NaN    108.0      NaN    263.0      NaN  "
      ]
     },
     "metadata": {},
     "output_type": "display_data"
    },
    {
     "data": {
      "text/html": [
       "\n",
       "  <div id=\"df-853e5ee8-0eb4-4ede-a833-f6e699c2e5b9\">\n",
       "    <div class=\"colab-df-container\">\n",
       "      <div>\n",
       "<style scoped>\n",
       "    .dataframe tbody tr th:only-of-type {\n",
       "        vertical-align: middle;\n",
       "    }\n",
       "\n",
       "    .dataframe tbody tr th {\n",
       "        vertical-align: top;\n",
       "    }\n",
       "\n",
       "    .dataframe thead th {\n",
       "        text-align: right;\n",
       "    }\n",
       "</style>\n",
       "<table border=\"1\" class=\"dataframe\">\n",
       "  <thead>\n",
       "    <tr style=\"text-align: right;\">\n",
       "      <th></th>\n",
       "      <th>key</th>\n",
       "      <th>Wire 1</th>\n",
       "      <th>Wire 2</th>\n",
       "      <th>Wire 3</th>\n",
       "      <th>Wire 4</th>\n",
       "      <th>Wire 5</th>\n",
       "      <th>Wire 6</th>\n",
       "      <th>Wire 7</th>\n",
       "      <th>Wire 8</th>\n",
       "      <th>Wire 9</th>\n",
       "    </tr>\n",
       "  </thead>\n",
       "  <tbody>\n",
       "    <tr>\n",
       "      <th>257</th>\n",
       "      <td>280</td>\n",
       "      <td>160.174557</td>\n",
       "      <td>76.236166</td>\n",
       "      <td>NaN</td>\n",
       "      <td>NaN</td>\n",
       "      <td>NaN</td>\n",
       "      <td>NaN</td>\n",
       "      <td>NaN</td>\n",
       "      <td>46.002319</td>\n",
       "      <td>NaN</td>\n",
       "    </tr>\n",
       "  </tbody>\n",
       "</table>\n",
       "</div>\n",
       "      <button class=\"colab-df-convert\" onclick=\"convertToInteractive('df-853e5ee8-0eb4-4ede-a833-f6e699c2e5b9')\"\n",
       "              title=\"Convert this dataframe to an interactive table.\"\n",
       "              style=\"display:none;\">\n",
       "        \n",
       "  <svg xmlns=\"http://www.w3.org/2000/svg\" height=\"24px\"viewBox=\"0 0 24 24\"\n",
       "       width=\"24px\">\n",
       "    <path d=\"M0 0h24v24H0V0z\" fill=\"none\"/>\n",
       "    <path d=\"M18.56 5.44l.94 2.06.94-2.06 2.06-.94-2.06-.94-.94-2.06-.94 2.06-2.06.94zm-11 1L8.5 8.5l.94-2.06 2.06-.94-2.06-.94L8.5 2.5l-.94 2.06-2.06.94zm10 10l.94 2.06.94-2.06 2.06-.94-2.06-.94-.94-2.06-.94 2.06-2.06.94z\"/><path d=\"M17.41 7.96l-1.37-1.37c-.4-.4-.92-.59-1.43-.59-.52 0-1.04.2-1.43.59L10.3 9.45l-7.72 7.72c-.78.78-.78 2.05 0 2.83L4 21.41c.39.39.9.59 1.41.59.51 0 1.02-.2 1.41-.59l7.78-7.78 2.81-2.81c.8-.78.8-2.07 0-2.86zM5.41 20L4 18.59l7.72-7.72 1.47 1.35L5.41 20z\"/>\n",
       "  </svg>\n",
       "      </button>\n",
       "      \n",
       "  <style>\n",
       "    .colab-df-container {\n",
       "      display:flex;\n",
       "      flex-wrap:wrap;\n",
       "      gap: 12px;\n",
       "    }\n",
       "\n",
       "    .colab-df-convert {\n",
       "      background-color: #E8F0FE;\n",
       "      border: none;\n",
       "      border-radius: 50%;\n",
       "      cursor: pointer;\n",
       "      display: none;\n",
       "      fill: #1967D2;\n",
       "      height: 32px;\n",
       "      padding: 0 0 0 0;\n",
       "      width: 32px;\n",
       "    }\n",
       "\n",
       "    .colab-df-convert:hover {\n",
       "      background-color: #E2EBFA;\n",
       "      box-shadow: 0px 1px 2px rgba(60, 64, 67, 0.3), 0px 1px 3px 1px rgba(60, 64, 67, 0.15);\n",
       "      fill: #174EA6;\n",
       "    }\n",
       "\n",
       "    [theme=dark] .colab-df-convert {\n",
       "      background-color: #3B4455;\n",
       "      fill: #D2E3FC;\n",
       "    }\n",
       "\n",
       "    [theme=dark] .colab-df-convert:hover {\n",
       "      background-color: #434B5C;\n",
       "      box-shadow: 0px 1px 3px 1px rgba(0, 0, 0, 0.15);\n",
       "      filter: drop-shadow(0px 1px 2px rgba(0, 0, 0, 0.3));\n",
       "      fill: #FFFFFF;\n",
       "    }\n",
       "  </style>\n",
       "\n",
       "      <script>\n",
       "        const buttonEl =\n",
       "          document.querySelector('#df-853e5ee8-0eb4-4ede-a833-f6e699c2e5b9 button.colab-df-convert');\n",
       "        buttonEl.style.display =\n",
       "          google.colab.kernel.accessAllowed ? 'block' : 'none';\n",
       "\n",
       "        async function convertToInteractive(key) {\n",
       "          const element = document.querySelector('#df-853e5ee8-0eb4-4ede-a833-f6e699c2e5b9');\n",
       "          const dataTable =\n",
       "            await google.colab.kernel.invokeFunction('convertToInteractive',\n",
       "                                                     [key], {});\n",
       "          if (!dataTable) return;\n",
       "\n",
       "          const docLinkHtml = 'Like what you see? Visit the ' +\n",
       "            '<a target=\"_blank\" href=https://colab.research.google.com/notebooks/data_table.ipynb>data table notebook</a>'\n",
       "            + ' to learn more about interactive tables.';\n",
       "          element.innerHTML = '';\n",
       "          dataTable['output_type'] = 'display_data';\n",
       "          await google.colab.output.renderOutput(dataTable, element);\n",
       "          const docLink = document.createElement('div');\n",
       "          docLink.innerHTML = docLinkHtml;\n",
       "          element.appendChild(docLink);\n",
       "        }\n",
       "      </script>\n",
       "    </div>\n",
       "  </div>\n",
       "  "
      ],
      "text/plain": [
       "     key      Wire 1     Wire 2  Wire 3  Wire 4  Wire 5  Wire 6  Wire 7  \\\n",
       "257  280  160.174557  76.236166     NaN     NaN     NaN     NaN     NaN   \n",
       "\n",
       "        Wire 8  Wire 9  \n",
       "257  46.002319     NaN  "
      ]
     },
     "execution_count": 51,
     "metadata": {},
     "output_type": "execute_result"
    }
   ],
   "source": [
    "# Ключа с номером 2570 неокаалось, потому как все ключи > 2499\n",
    "# из таблицы с температурой убрали, в 117, 322 и 2110 много этапов,\n",
    "# а вот в 280 всего 5 этапов и много газа\n",
    "display(clear_data_temp.query('key == 280'))\n",
    "display(data_bulk.query('key == 280'))\n",
    "data_wire.query('key == 280')"
   ]
  },
  {
   "cell_type": "markdown",
   "metadata": {
    "id": "Z8AttVUMfAk3"
   },
   "source": [
    "По Газу:\n",
    "\n",
    "- пропусков в данных не обнаружено\n",
    "- есть 4-ре ключа по которым объём газа больше, чем в остальной таблице\n",
    "- из этих 4-х в 280 ключе этапов почти в 2 раза меньше, чем в остальных"
   ]
  },
  {
   "cell_type": "markdown",
   "metadata": {
    "id": "ZYw5_g-ngscV"
   },
   "source": [
    "# Признаки"
   ]
  },
  {
   "cell_type": "markdown",
   "metadata": {
    "id": "64lVnAX-gzcO"
   },
   "source": [
    "## Целевой признак"
   ]
  },
  {
   "cell_type": "markdown",
   "metadata": {
    "id": "R16l_5OOg93O"
   },
   "source": [
    "Наш целевой признак - конечная температура. Так же есть признак для обучения - начальная температура. Разделим таблицу.\n",
    "\n",
    "Целевой признак будет `target_temp`, признак для обучения - `features_temp`. Столбец с временем в признаки входить не должен."
   ]
  },
  {
   "cell_type": "code",
   "execution_count": 52,
   "metadata": {
    "id": "yP93tG15mTUP"
   },
   "outputs": [],
   "source": [
    "# Выберем конечную температуру по ключу\n",
    "target_temp = (clear_data_temp.sort_values(by='Время замера', ascending=False)\n",
    "                              .groupby('key').head(1).copy())\n",
    "target_temp = target_temp.sort_values(by='key')\n",
    "# Удалим столбец с временем замера\n",
    "del target_temp['Время замера']\n",
    "# Переименуем столбцы, заодно избавимся от кириллицы\n",
    "target_temp.rename(columns = {'Температура' : 'target_temp'}, inplace = True)"
   ]
  },
  {
   "cell_type": "code",
   "execution_count": 53,
   "metadata": {
    "colab": {
     "base_uri": "https://localhost:8080/",
     "height": 143
    },
    "id": "7nL_XKDQobwG",
    "outputId": "7afe7a74-891a-462c-bc03-3083ea9a5353"
   },
   "outputs": [
    {
     "data": {
      "text/html": [
       "\n",
       "  <div id=\"df-cb5177e3-221a-4718-a16c-ca3ce2b02140\">\n",
       "    <div class=\"colab-df-container\">\n",
       "      <div>\n",
       "<style scoped>\n",
       "    .dataframe tbody tr th:only-of-type {\n",
       "        vertical-align: middle;\n",
       "    }\n",
       "\n",
       "    .dataframe tbody tr th {\n",
       "        vertical-align: top;\n",
       "    }\n",
       "\n",
       "    .dataframe thead th {\n",
       "        text-align: right;\n",
       "    }\n",
       "</style>\n",
       "<table border=\"1\" class=\"dataframe\">\n",
       "  <thead>\n",
       "    <tr style=\"text-align: right;\">\n",
       "      <th></th>\n",
       "      <th>key</th>\n",
       "      <th>target_temp</th>\n",
       "    </tr>\n",
       "  </thead>\n",
       "  <tbody>\n",
       "    <tr>\n",
       "      <th>4</th>\n",
       "      <td>1</td>\n",
       "      <td>1613.0</td>\n",
       "    </tr>\n",
       "    <tr>\n",
       "      <th>10</th>\n",
       "      <td>2</td>\n",
       "      <td>1602.0</td>\n",
       "    </tr>\n",
       "    <tr>\n",
       "      <th>15</th>\n",
       "      <td>3</td>\n",
       "      <td>1599.0</td>\n",
       "    </tr>\n",
       "  </tbody>\n",
       "</table>\n",
       "</div>\n",
       "      <button class=\"colab-df-convert\" onclick=\"convertToInteractive('df-cb5177e3-221a-4718-a16c-ca3ce2b02140')\"\n",
       "              title=\"Convert this dataframe to an interactive table.\"\n",
       "              style=\"display:none;\">\n",
       "        \n",
       "  <svg xmlns=\"http://www.w3.org/2000/svg\" height=\"24px\"viewBox=\"0 0 24 24\"\n",
       "       width=\"24px\">\n",
       "    <path d=\"M0 0h24v24H0V0z\" fill=\"none\"/>\n",
       "    <path d=\"M18.56 5.44l.94 2.06.94-2.06 2.06-.94-2.06-.94-.94-2.06-.94 2.06-2.06.94zm-11 1L8.5 8.5l.94-2.06 2.06-.94-2.06-.94L8.5 2.5l-.94 2.06-2.06.94zm10 10l.94 2.06.94-2.06 2.06-.94-2.06-.94-.94-2.06-.94 2.06-2.06.94z\"/><path d=\"M17.41 7.96l-1.37-1.37c-.4-.4-.92-.59-1.43-.59-.52 0-1.04.2-1.43.59L10.3 9.45l-7.72 7.72c-.78.78-.78 2.05 0 2.83L4 21.41c.39.39.9.59 1.41.59.51 0 1.02-.2 1.41-.59l7.78-7.78 2.81-2.81c.8-.78.8-2.07 0-2.86zM5.41 20L4 18.59l7.72-7.72 1.47 1.35L5.41 20z\"/>\n",
       "  </svg>\n",
       "      </button>\n",
       "      \n",
       "  <style>\n",
       "    .colab-df-container {\n",
       "      display:flex;\n",
       "      flex-wrap:wrap;\n",
       "      gap: 12px;\n",
       "    }\n",
       "\n",
       "    .colab-df-convert {\n",
       "      background-color: #E8F0FE;\n",
       "      border: none;\n",
       "      border-radius: 50%;\n",
       "      cursor: pointer;\n",
       "      display: none;\n",
       "      fill: #1967D2;\n",
       "      height: 32px;\n",
       "      padding: 0 0 0 0;\n",
       "      width: 32px;\n",
       "    }\n",
       "\n",
       "    .colab-df-convert:hover {\n",
       "      background-color: #E2EBFA;\n",
       "      box-shadow: 0px 1px 2px rgba(60, 64, 67, 0.3), 0px 1px 3px 1px rgba(60, 64, 67, 0.15);\n",
       "      fill: #174EA6;\n",
       "    }\n",
       "\n",
       "    [theme=dark] .colab-df-convert {\n",
       "      background-color: #3B4455;\n",
       "      fill: #D2E3FC;\n",
       "    }\n",
       "\n",
       "    [theme=dark] .colab-df-convert:hover {\n",
       "      background-color: #434B5C;\n",
       "      box-shadow: 0px 1px 3px 1px rgba(0, 0, 0, 0.15);\n",
       "      filter: drop-shadow(0px 1px 2px rgba(0, 0, 0, 0.3));\n",
       "      fill: #FFFFFF;\n",
       "    }\n",
       "  </style>\n",
       "\n",
       "      <script>\n",
       "        const buttonEl =\n",
       "          document.querySelector('#df-cb5177e3-221a-4718-a16c-ca3ce2b02140 button.colab-df-convert');\n",
       "        buttonEl.style.display =\n",
       "          google.colab.kernel.accessAllowed ? 'block' : 'none';\n",
       "\n",
       "        async function convertToInteractive(key) {\n",
       "          const element = document.querySelector('#df-cb5177e3-221a-4718-a16c-ca3ce2b02140');\n",
       "          const dataTable =\n",
       "            await google.colab.kernel.invokeFunction('convertToInteractive',\n",
       "                                                     [key], {});\n",
       "          if (!dataTable) return;\n",
       "\n",
       "          const docLinkHtml = 'Like what you see? Visit the ' +\n",
       "            '<a target=\"_blank\" href=https://colab.research.google.com/notebooks/data_table.ipynb>data table notebook</a>'\n",
       "            + ' to learn more about interactive tables.';\n",
       "          element.innerHTML = '';\n",
       "          dataTable['output_type'] = 'display_data';\n",
       "          await google.colab.output.renderOutput(dataTable, element);\n",
       "          const docLink = document.createElement('div');\n",
       "          docLink.innerHTML = docLinkHtml;\n",
       "          element.appendChild(docLink);\n",
       "        }\n",
       "      </script>\n",
       "    </div>\n",
       "  </div>\n",
       "  "
      ],
      "text/plain": [
       "    key  target_temp\n",
       "4     1       1613.0\n",
       "10    2       1602.0\n",
       "15    3       1599.0"
      ]
     },
     "execution_count": 53,
     "metadata": {},
     "output_type": "execute_result"
    }
   ],
   "source": [
    "target_temp.head(3)"
   ]
  },
  {
   "cell_type": "code",
   "execution_count": 54,
   "metadata": {
    "colab": {
     "base_uri": "https://localhost:8080/"
    },
    "id": "2V_GuZLHoRXx",
    "outputId": "948233d6-727a-4a8f-9745-1a1b35ee1492"
   },
   "outputs": [
    {
     "data": {
      "text/plain": [
       "(2477, 2)"
      ]
     },
     "execution_count": 54,
     "metadata": {},
     "output_type": "execute_result"
    }
   ],
   "source": [
    "target_temp.shape"
   ]
  },
  {
   "cell_type": "markdown",
   "metadata": {
    "id": "RL7hphqXpGNG"
   },
   "source": [
    "## Признаки для обучения"
   ]
  },
  {
   "cell_type": "markdown",
   "metadata": {
    "id": "xkgxRwq3pLXd"
   },
   "source": [
    "### Температура"
   ]
  },
  {
   "cell_type": "code",
   "execution_count": 55,
   "metadata": {
    "id": "Wlh8JpBgjNB2"
   },
   "outputs": [],
   "source": [
    "# Из исследования данных стало понятно, что кол-во этапов в ключе - важно\n",
    "# посчитаем кол-во этапов по ключу\n",
    "key_count = clear_data_temp.groupby('key')['Температура'].count()"
   ]
  },
  {
   "cell_type": "code",
   "execution_count": 56,
   "metadata": {
    "colab": {
     "base_uri": "https://localhost:8080/",
     "height": 143
    },
    "id": "y2IRnMarhzLu",
    "outputId": "27601e52-5ca6-4cee-8845-fb39c86deacc"
   },
   "outputs": [
    {
     "data": {
      "text/html": [
       "\n",
       "  <div id=\"df-75aaa98b-47ab-450e-bdf2-4e2e7abb8a1e\">\n",
       "    <div class=\"colab-df-container\">\n",
       "      <div>\n",
       "<style scoped>\n",
       "    .dataframe tbody tr th:only-of-type {\n",
       "        vertical-align: middle;\n",
       "    }\n",
       "\n",
       "    .dataframe tbody tr th {\n",
       "        vertical-align: top;\n",
       "    }\n",
       "\n",
       "    .dataframe thead th {\n",
       "        text-align: right;\n",
       "    }\n",
       "</style>\n",
       "<table border=\"1\" class=\"dataframe\">\n",
       "  <thead>\n",
       "    <tr style=\"text-align: right;\">\n",
       "      <th></th>\n",
       "      <th>key</th>\n",
       "      <th>Температура</th>\n",
       "    </tr>\n",
       "  </thead>\n",
       "  <tbody>\n",
       "    <tr>\n",
       "      <th>0</th>\n",
       "      <td>1</td>\n",
       "      <td>1571.0</td>\n",
       "    </tr>\n",
       "    <tr>\n",
       "      <th>5</th>\n",
       "      <td>2</td>\n",
       "      <td>1581.0</td>\n",
       "    </tr>\n",
       "    <tr>\n",
       "      <th>11</th>\n",
       "      <td>3</td>\n",
       "      <td>1596.0</td>\n",
       "    </tr>\n",
       "  </tbody>\n",
       "</table>\n",
       "</div>\n",
       "      <button class=\"colab-df-convert\" onclick=\"convertToInteractive('df-75aaa98b-47ab-450e-bdf2-4e2e7abb8a1e')\"\n",
       "              title=\"Convert this dataframe to an interactive table.\"\n",
       "              style=\"display:none;\">\n",
       "        \n",
       "  <svg xmlns=\"http://www.w3.org/2000/svg\" height=\"24px\"viewBox=\"0 0 24 24\"\n",
       "       width=\"24px\">\n",
       "    <path d=\"M0 0h24v24H0V0z\" fill=\"none\"/>\n",
       "    <path d=\"M18.56 5.44l.94 2.06.94-2.06 2.06-.94-2.06-.94-.94-2.06-.94 2.06-2.06.94zm-11 1L8.5 8.5l.94-2.06 2.06-.94-2.06-.94L8.5 2.5l-.94 2.06-2.06.94zm10 10l.94 2.06.94-2.06 2.06-.94-2.06-.94-.94-2.06-.94 2.06-2.06.94z\"/><path d=\"M17.41 7.96l-1.37-1.37c-.4-.4-.92-.59-1.43-.59-.52 0-1.04.2-1.43.59L10.3 9.45l-7.72 7.72c-.78.78-.78 2.05 0 2.83L4 21.41c.39.39.9.59 1.41.59.51 0 1.02-.2 1.41-.59l7.78-7.78 2.81-2.81c.8-.78.8-2.07 0-2.86zM5.41 20L4 18.59l7.72-7.72 1.47 1.35L5.41 20z\"/>\n",
       "  </svg>\n",
       "      </button>\n",
       "      \n",
       "  <style>\n",
       "    .colab-df-container {\n",
       "      display:flex;\n",
       "      flex-wrap:wrap;\n",
       "      gap: 12px;\n",
       "    }\n",
       "\n",
       "    .colab-df-convert {\n",
       "      background-color: #E8F0FE;\n",
       "      border: none;\n",
       "      border-radius: 50%;\n",
       "      cursor: pointer;\n",
       "      display: none;\n",
       "      fill: #1967D2;\n",
       "      height: 32px;\n",
       "      padding: 0 0 0 0;\n",
       "      width: 32px;\n",
       "    }\n",
       "\n",
       "    .colab-df-convert:hover {\n",
       "      background-color: #E2EBFA;\n",
       "      box-shadow: 0px 1px 2px rgba(60, 64, 67, 0.3), 0px 1px 3px 1px rgba(60, 64, 67, 0.15);\n",
       "      fill: #174EA6;\n",
       "    }\n",
       "\n",
       "    [theme=dark] .colab-df-convert {\n",
       "      background-color: #3B4455;\n",
       "      fill: #D2E3FC;\n",
       "    }\n",
       "\n",
       "    [theme=dark] .colab-df-convert:hover {\n",
       "      background-color: #434B5C;\n",
       "      box-shadow: 0px 1px 3px 1px rgba(0, 0, 0, 0.15);\n",
       "      filter: drop-shadow(0px 1px 2px rgba(0, 0, 0, 0.3));\n",
       "      fill: #FFFFFF;\n",
       "    }\n",
       "  </style>\n",
       "\n",
       "      <script>\n",
       "        const buttonEl =\n",
       "          document.querySelector('#df-75aaa98b-47ab-450e-bdf2-4e2e7abb8a1e button.colab-df-convert');\n",
       "        buttonEl.style.display =\n",
       "          google.colab.kernel.accessAllowed ? 'block' : 'none';\n",
       "\n",
       "        async function convertToInteractive(key) {\n",
       "          const element = document.querySelector('#df-75aaa98b-47ab-450e-bdf2-4e2e7abb8a1e');\n",
       "          const dataTable =\n",
       "            await google.colab.kernel.invokeFunction('convertToInteractive',\n",
       "                                                     [key], {});\n",
       "          if (!dataTable) return;\n",
       "\n",
       "          const docLinkHtml = 'Like what you see? Visit the ' +\n",
       "            '<a target=\"_blank\" href=https://colab.research.google.com/notebooks/data_table.ipynb>data table notebook</a>'\n",
       "            + ' to learn more about interactive tables.';\n",
       "          element.innerHTML = '';\n",
       "          dataTable['output_type'] = 'display_data';\n",
       "          await google.colab.output.renderOutput(dataTable, element);\n",
       "          const docLink = document.createElement('div');\n",
       "          docLink.innerHTML = docLinkHtml;\n",
       "          element.appendChild(docLink);\n",
       "        }\n",
       "      </script>\n",
       "    </div>\n",
       "  </div>\n",
       "  "
      ],
      "text/plain": [
       "    key  Температура\n",
       "0     1       1571.0\n",
       "5     2       1581.0\n",
       "11    3       1596.0"
      ]
     },
     "execution_count": 56,
     "metadata": {},
     "output_type": "execute_result"
    }
   ],
   "source": [
    "features_temp = clear_data_temp.sort_values(by='Время замера').groupby('key').head(1).copy()\n",
    "del features_temp['Время замера']\n",
    "\n",
    "# это вмешался заказчик\n",
    "features_temp = features_temp[features_temp['Температура'] > 1499]\n",
    "features_temp.head(3)"
   ]
  },
  {
   "cell_type": "code",
   "execution_count": 57,
   "metadata": {
    "colab": {
     "base_uri": "https://localhost:8080/",
     "height": 143
    },
    "id": "VAdCpP7elaym",
    "outputId": "d56b3443-fdc9-4230-be51-5b37b83a722d"
   },
   "outputs": [
    {
     "data": {
      "text/html": [
       "\n",
       "  <div id=\"df-ba7e70c3-bb6d-4ce6-95f0-9549b2f454d8\">\n",
       "    <div class=\"colab-df-container\">\n",
       "      <div>\n",
       "<style scoped>\n",
       "    .dataframe tbody tr th:only-of-type {\n",
       "        vertical-align: middle;\n",
       "    }\n",
       "\n",
       "    .dataframe tbody tr th {\n",
       "        vertical-align: top;\n",
       "    }\n",
       "\n",
       "    .dataframe thead th {\n",
       "        text-align: right;\n",
       "    }\n",
       "</style>\n",
       "<table border=\"1\" class=\"dataframe\">\n",
       "  <thead>\n",
       "    <tr style=\"text-align: right;\">\n",
       "      <th></th>\n",
       "      <th>key</th>\n",
       "      <th>features_temp</th>\n",
       "      <th>key_count</th>\n",
       "    </tr>\n",
       "  </thead>\n",
       "  <tbody>\n",
       "    <tr>\n",
       "      <th>0</th>\n",
       "      <td>1</td>\n",
       "      <td>1571.0</td>\n",
       "      <td>5</td>\n",
       "    </tr>\n",
       "    <tr>\n",
       "      <th>1</th>\n",
       "      <td>2</td>\n",
       "      <td>1581.0</td>\n",
       "      <td>6</td>\n",
       "    </tr>\n",
       "    <tr>\n",
       "      <th>2</th>\n",
       "      <td>3</td>\n",
       "      <td>1596.0</td>\n",
       "      <td>5</td>\n",
       "    </tr>\n",
       "  </tbody>\n",
       "</table>\n",
       "</div>\n",
       "      <button class=\"colab-df-convert\" onclick=\"convertToInteractive('df-ba7e70c3-bb6d-4ce6-95f0-9549b2f454d8')\"\n",
       "              title=\"Convert this dataframe to an interactive table.\"\n",
       "              style=\"display:none;\">\n",
       "        \n",
       "  <svg xmlns=\"http://www.w3.org/2000/svg\" height=\"24px\"viewBox=\"0 0 24 24\"\n",
       "       width=\"24px\">\n",
       "    <path d=\"M0 0h24v24H0V0z\" fill=\"none\"/>\n",
       "    <path d=\"M18.56 5.44l.94 2.06.94-2.06 2.06-.94-2.06-.94-.94-2.06-.94 2.06-2.06.94zm-11 1L8.5 8.5l.94-2.06 2.06-.94-2.06-.94L8.5 2.5l-.94 2.06-2.06.94zm10 10l.94 2.06.94-2.06 2.06-.94-2.06-.94-.94-2.06-.94 2.06-2.06.94z\"/><path d=\"M17.41 7.96l-1.37-1.37c-.4-.4-.92-.59-1.43-.59-.52 0-1.04.2-1.43.59L10.3 9.45l-7.72 7.72c-.78.78-.78 2.05 0 2.83L4 21.41c.39.39.9.59 1.41.59.51 0 1.02-.2 1.41-.59l7.78-7.78 2.81-2.81c.8-.78.8-2.07 0-2.86zM5.41 20L4 18.59l7.72-7.72 1.47 1.35L5.41 20z\"/>\n",
       "  </svg>\n",
       "      </button>\n",
       "      \n",
       "  <style>\n",
       "    .colab-df-container {\n",
       "      display:flex;\n",
       "      flex-wrap:wrap;\n",
       "      gap: 12px;\n",
       "    }\n",
       "\n",
       "    .colab-df-convert {\n",
       "      background-color: #E8F0FE;\n",
       "      border: none;\n",
       "      border-radius: 50%;\n",
       "      cursor: pointer;\n",
       "      display: none;\n",
       "      fill: #1967D2;\n",
       "      height: 32px;\n",
       "      padding: 0 0 0 0;\n",
       "      width: 32px;\n",
       "    }\n",
       "\n",
       "    .colab-df-convert:hover {\n",
       "      background-color: #E2EBFA;\n",
       "      box-shadow: 0px 1px 2px rgba(60, 64, 67, 0.3), 0px 1px 3px 1px rgba(60, 64, 67, 0.15);\n",
       "      fill: #174EA6;\n",
       "    }\n",
       "\n",
       "    [theme=dark] .colab-df-convert {\n",
       "      background-color: #3B4455;\n",
       "      fill: #D2E3FC;\n",
       "    }\n",
       "\n",
       "    [theme=dark] .colab-df-convert:hover {\n",
       "      background-color: #434B5C;\n",
       "      box-shadow: 0px 1px 3px 1px rgba(0, 0, 0, 0.15);\n",
       "      filter: drop-shadow(0px 1px 2px rgba(0, 0, 0, 0.3));\n",
       "      fill: #FFFFFF;\n",
       "    }\n",
       "  </style>\n",
       "\n",
       "      <script>\n",
       "        const buttonEl =\n",
       "          document.querySelector('#df-ba7e70c3-bb6d-4ce6-95f0-9549b2f454d8 button.colab-df-convert');\n",
       "        buttonEl.style.display =\n",
       "          google.colab.kernel.accessAllowed ? 'block' : 'none';\n",
       "\n",
       "        async function convertToInteractive(key) {\n",
       "          const element = document.querySelector('#df-ba7e70c3-bb6d-4ce6-95f0-9549b2f454d8');\n",
       "          const dataTable =\n",
       "            await google.colab.kernel.invokeFunction('convertToInteractive',\n",
       "                                                     [key], {});\n",
       "          if (!dataTable) return;\n",
       "\n",
       "          const docLinkHtml = 'Like what you see? Visit the ' +\n",
       "            '<a target=\"_blank\" href=https://colab.research.google.com/notebooks/data_table.ipynb>data table notebook</a>'\n",
       "            + ' to learn more about interactive tables.';\n",
       "          element.innerHTML = '';\n",
       "          dataTable['output_type'] = 'display_data';\n",
       "          await google.colab.output.renderOutput(dataTable, element);\n",
       "          const docLink = document.createElement('div');\n",
       "          docLink.innerHTML = docLinkHtml;\n",
       "          element.appendChild(docLink);\n",
       "        }\n",
       "      </script>\n",
       "    </div>\n",
       "  </div>\n",
       "  "
      ],
      "text/plain": [
       "   key  features_temp  key_count\n",
       "0    1         1571.0          5\n",
       "1    2         1581.0          6\n",
       "2    3         1596.0          5"
      ]
     },
     "execution_count": 57,
     "metadata": {},
     "output_type": "execute_result"
    }
   ],
   "source": [
    "features_temp = pd.merge(features_temp, key_count, how='left', on='key')\n",
    "features_temp.rename(columns = {'Температура_x' : 'features_temp',\n",
    "                                'Температура_y' : 'key_count'}, inplace = True)\n",
    "features_temp.head(3)"
   ]
  },
  {
   "cell_type": "code",
   "execution_count": 58,
   "metadata": {
    "colab": {
     "base_uri": "https://localhost:8080/"
    },
    "id": "I9qQfPyOlbaO",
    "outputId": "81fb3280-dd3e-4cf8-e554-6d1a7b572613"
   },
   "outputs": [
    {
     "data": {
      "text/plain": [
       "(2473, 3)"
      ]
     },
     "execution_count": 58,
     "metadata": {},
     "output_type": "execute_result"
    }
   ],
   "source": [
    "features_temp.shape"
   ]
  },
  {
   "cell_type": "markdown",
   "metadata": {
    "id": "zpfz-PgJlboO"
   },
   "source": [
    "### Мощность"
   ]
  },
  {
   "cell_type": "code",
   "execution_count": 59,
   "metadata": {
    "id": "TnzIKmzlxr6l"
   },
   "outputs": [],
   "source": [
    "# Посчитаем продолжительность нагрева дугой\n",
    "data_arc['total_heat_time'] = data_arc['Конец нагрева дугой'] - data_arc['Начало нагрева дугой']"
   ]
  },
  {
   "cell_type": "code",
   "execution_count": 60,
   "metadata": {
    "colab": {
     "base_uri": "https://localhost:8080/",
     "height": 269
    },
    "id": "cSo95l1xyVR4",
    "outputId": "6d020ecd-2099-4f2d-c642-cd85e1901dc5"
   },
   "outputs": [
    {
     "data": {
      "text/html": [
       "\n",
       "  <div id=\"df-afeee47f-c0d1-40b6-b4e2-8058063ce245\">\n",
       "    <div class=\"colab-df-container\">\n",
       "      <div>\n",
       "<style scoped>\n",
       "    .dataframe tbody tr th:only-of-type {\n",
       "        vertical-align: middle;\n",
       "    }\n",
       "\n",
       "    .dataframe tbody tr th {\n",
       "        vertical-align: top;\n",
       "    }\n",
       "\n",
       "    .dataframe thead th {\n",
       "        text-align: right;\n",
       "    }\n",
       "</style>\n",
       "<table border=\"1\" class=\"dataframe\">\n",
       "  <thead>\n",
       "    <tr style=\"text-align: right;\">\n",
       "      <th></th>\n",
       "      <th>key</th>\n",
       "      <th>Начало нагрева дугой</th>\n",
       "      <th>Конец нагрева дугой</th>\n",
       "      <th>Активная мощность</th>\n",
       "      <th>Реактивная мощность</th>\n",
       "      <th>total_heat_time</th>\n",
       "    </tr>\n",
       "  </thead>\n",
       "  <tbody>\n",
       "    <tr>\n",
       "      <th>0</th>\n",
       "      <td>1</td>\n",
       "      <td>2019-05-03 11:02:14</td>\n",
       "      <td>2019-05-03 11:06:02</td>\n",
       "      <td>0.976059</td>\n",
       "      <td>0.687084</td>\n",
       "      <td>0 days 00:03:48</td>\n",
       "    </tr>\n",
       "    <tr>\n",
       "      <th>1</th>\n",
       "      <td>1</td>\n",
       "      <td>2019-05-03 11:07:28</td>\n",
       "      <td>2019-05-03 11:10:33</td>\n",
       "      <td>0.805607</td>\n",
       "      <td>0.520285</td>\n",
       "      <td>0 days 00:03:05</td>\n",
       "    </tr>\n",
       "    <tr>\n",
       "      <th>2</th>\n",
       "      <td>1</td>\n",
       "      <td>2019-05-03 11:11:44</td>\n",
       "      <td>2019-05-03 11:14:36</td>\n",
       "      <td>0.744363</td>\n",
       "      <td>0.498805</td>\n",
       "      <td>0 days 00:02:52</td>\n",
       "    </tr>\n",
       "    <tr>\n",
       "      <th>3</th>\n",
       "      <td>1</td>\n",
       "      <td>2019-05-03 11:18:14</td>\n",
       "      <td>2019-05-03 11:24:19</td>\n",
       "      <td>1.659363</td>\n",
       "      <td>1.062669</td>\n",
       "      <td>0 days 00:06:05</td>\n",
       "    </tr>\n",
       "    <tr>\n",
       "      <th>4</th>\n",
       "      <td>1</td>\n",
       "      <td>2019-05-03 11:26:09</td>\n",
       "      <td>2019-05-03 11:28:37</td>\n",
       "      <td>0.692755</td>\n",
       "      <td>0.414397</td>\n",
       "      <td>0 days 00:02:28</td>\n",
       "    </tr>\n",
       "    <tr>\n",
       "      <th>5</th>\n",
       "      <td>2</td>\n",
       "      <td>2019-05-03 11:34:14</td>\n",
       "      <td>2019-05-03 11:36:31</td>\n",
       "      <td>0.438063</td>\n",
       "      <td>0.283043</td>\n",
       "      <td>0 days 00:02:17</td>\n",
       "    </tr>\n",
       "    <tr>\n",
       "      <th>6</th>\n",
       "      <td>2</td>\n",
       "      <td>2019-05-03 11:38:50</td>\n",
       "      <td>2019-05-03 11:44:28</td>\n",
       "      <td>1.296415</td>\n",
       "      <td>0.892914</td>\n",
       "      <td>0 days 00:05:38</td>\n",
       "    </tr>\n",
       "  </tbody>\n",
       "</table>\n",
       "</div>\n",
       "      <button class=\"colab-df-convert\" onclick=\"convertToInteractive('df-afeee47f-c0d1-40b6-b4e2-8058063ce245')\"\n",
       "              title=\"Convert this dataframe to an interactive table.\"\n",
       "              style=\"display:none;\">\n",
       "        \n",
       "  <svg xmlns=\"http://www.w3.org/2000/svg\" height=\"24px\"viewBox=\"0 0 24 24\"\n",
       "       width=\"24px\">\n",
       "    <path d=\"M0 0h24v24H0V0z\" fill=\"none\"/>\n",
       "    <path d=\"M18.56 5.44l.94 2.06.94-2.06 2.06-.94-2.06-.94-.94-2.06-.94 2.06-2.06.94zm-11 1L8.5 8.5l.94-2.06 2.06-.94-2.06-.94L8.5 2.5l-.94 2.06-2.06.94zm10 10l.94 2.06.94-2.06 2.06-.94-2.06-.94-.94-2.06-.94 2.06-2.06.94z\"/><path d=\"M17.41 7.96l-1.37-1.37c-.4-.4-.92-.59-1.43-.59-.52 0-1.04.2-1.43.59L10.3 9.45l-7.72 7.72c-.78.78-.78 2.05 0 2.83L4 21.41c.39.39.9.59 1.41.59.51 0 1.02-.2 1.41-.59l7.78-7.78 2.81-2.81c.8-.78.8-2.07 0-2.86zM5.41 20L4 18.59l7.72-7.72 1.47 1.35L5.41 20z\"/>\n",
       "  </svg>\n",
       "      </button>\n",
       "      \n",
       "  <style>\n",
       "    .colab-df-container {\n",
       "      display:flex;\n",
       "      flex-wrap:wrap;\n",
       "      gap: 12px;\n",
       "    }\n",
       "\n",
       "    .colab-df-convert {\n",
       "      background-color: #E8F0FE;\n",
       "      border: none;\n",
       "      border-radius: 50%;\n",
       "      cursor: pointer;\n",
       "      display: none;\n",
       "      fill: #1967D2;\n",
       "      height: 32px;\n",
       "      padding: 0 0 0 0;\n",
       "      width: 32px;\n",
       "    }\n",
       "\n",
       "    .colab-df-convert:hover {\n",
       "      background-color: #E2EBFA;\n",
       "      box-shadow: 0px 1px 2px rgba(60, 64, 67, 0.3), 0px 1px 3px 1px rgba(60, 64, 67, 0.15);\n",
       "      fill: #174EA6;\n",
       "    }\n",
       "\n",
       "    [theme=dark] .colab-df-convert {\n",
       "      background-color: #3B4455;\n",
       "      fill: #D2E3FC;\n",
       "    }\n",
       "\n",
       "    [theme=dark] .colab-df-convert:hover {\n",
       "      background-color: #434B5C;\n",
       "      box-shadow: 0px 1px 3px 1px rgba(0, 0, 0, 0.15);\n",
       "      filter: drop-shadow(0px 1px 2px rgba(0, 0, 0, 0.3));\n",
       "      fill: #FFFFFF;\n",
       "    }\n",
       "  </style>\n",
       "\n",
       "      <script>\n",
       "        const buttonEl =\n",
       "          document.querySelector('#df-afeee47f-c0d1-40b6-b4e2-8058063ce245 button.colab-df-convert');\n",
       "        buttonEl.style.display =\n",
       "          google.colab.kernel.accessAllowed ? 'block' : 'none';\n",
       "\n",
       "        async function convertToInteractive(key) {\n",
       "          const element = document.querySelector('#df-afeee47f-c0d1-40b6-b4e2-8058063ce245');\n",
       "          const dataTable =\n",
       "            await google.colab.kernel.invokeFunction('convertToInteractive',\n",
       "                                                     [key], {});\n",
       "          if (!dataTable) return;\n",
       "\n",
       "          const docLinkHtml = 'Like what you see? Visit the ' +\n",
       "            '<a target=\"_blank\" href=https://colab.research.google.com/notebooks/data_table.ipynb>data table notebook</a>'\n",
       "            + ' to learn more about interactive tables.';\n",
       "          element.innerHTML = '';\n",
       "          dataTable['output_type'] = 'display_data';\n",
       "          await google.colab.output.renderOutput(dataTable, element);\n",
       "          const docLink = document.createElement('div');\n",
       "          docLink.innerHTML = docLinkHtml;\n",
       "          element.appendChild(docLink);\n",
       "        }\n",
       "      </script>\n",
       "    </div>\n",
       "  </div>\n",
       "  "
      ],
      "text/plain": [
       "   key Начало нагрева дугой Конец нагрева дугой  Активная мощность  \\\n",
       "0    1  2019-05-03 11:02:14 2019-05-03 11:06:02           0.976059   \n",
       "1    1  2019-05-03 11:07:28 2019-05-03 11:10:33           0.805607   \n",
       "2    1  2019-05-03 11:11:44 2019-05-03 11:14:36           0.744363   \n",
       "3    1  2019-05-03 11:18:14 2019-05-03 11:24:19           1.659363   \n",
       "4    1  2019-05-03 11:26:09 2019-05-03 11:28:37           0.692755   \n",
       "5    2  2019-05-03 11:34:14 2019-05-03 11:36:31           0.438063   \n",
       "6    2  2019-05-03 11:38:50 2019-05-03 11:44:28           1.296415   \n",
       "\n",
       "   Реактивная мощность total_heat_time  \n",
       "0             0.687084 0 days 00:03:48  \n",
       "1             0.520285 0 days 00:03:05  \n",
       "2             0.498805 0 days 00:02:52  \n",
       "3             1.062669 0 days 00:06:05  \n",
       "4             0.414397 0 days 00:02:28  \n",
       "5             0.283043 0 days 00:02:17  \n",
       "6             0.892914 0 days 00:05:38  "
      ]
     },
     "execution_count": 60,
     "metadata": {},
     "output_type": "execute_result"
    }
   ],
   "source": [
    "data_arc.head(7)"
   ]
  },
  {
   "cell_type": "code",
   "execution_count": 61,
   "metadata": {
    "id": "pqg47mM0iHM1"
   },
   "outputs": [],
   "source": [
    "data_arc['total_power'] = ((data_arc['Активная мощность'] ** 2)\n",
    "                               + (data_arc['Реактивная мощность'] ** 2) ** 0.5)"
   ]
  },
  {
   "cell_type": "code",
   "execution_count": 62,
   "metadata": {
    "id": "arG7X50NyXvo"
   },
   "outputs": [],
   "source": [
    "data_arc['total_heat_time'] = pd.to_timedelta(data_arc['total_heat_time']).dt.total_seconds()"
   ]
  },
  {
   "cell_type": "code",
   "execution_count": 63,
   "metadata": {
    "colab": {
     "base_uri": "https://localhost:8080/",
     "height": 143
    },
    "id": "AA0YTGJLzf0N",
    "outputId": "e878337c-a5c1-4de3-cb2a-ea1b3a66c248"
   },
   "outputs": [
    {
     "data": {
      "text/html": [
       "\n",
       "  <div id=\"df-1ba2d3cd-f88e-4f02-8812-69ed2793c566\">\n",
       "    <div class=\"colab-df-container\">\n",
       "      <div>\n",
       "<style scoped>\n",
       "    .dataframe tbody tr th:only-of-type {\n",
       "        vertical-align: middle;\n",
       "    }\n",
       "\n",
       "    .dataframe tbody tr th {\n",
       "        vertical-align: top;\n",
       "    }\n",
       "\n",
       "    .dataframe thead th {\n",
       "        text-align: right;\n",
       "    }\n",
       "</style>\n",
       "<table border=\"1\" class=\"dataframe\">\n",
       "  <thead>\n",
       "    <tr style=\"text-align: right;\">\n",
       "      <th></th>\n",
       "      <th>key</th>\n",
       "      <th>Начало нагрева дугой</th>\n",
       "      <th>Конец нагрева дугой</th>\n",
       "      <th>Активная мощность</th>\n",
       "      <th>Реактивная мощность</th>\n",
       "      <th>total_heat_time</th>\n",
       "      <th>total_power</th>\n",
       "    </tr>\n",
       "  </thead>\n",
       "  <tbody>\n",
       "    <tr>\n",
       "      <th>0</th>\n",
       "      <td>1</td>\n",
       "      <td>2019-05-03 11:02:14</td>\n",
       "      <td>2019-05-03 11:06:02</td>\n",
       "      <td>0.976059</td>\n",
       "      <td>0.687084</td>\n",
       "      <td>228.0</td>\n",
       "      <td>1.639774</td>\n",
       "    </tr>\n",
       "    <tr>\n",
       "      <th>1</th>\n",
       "      <td>1</td>\n",
       "      <td>2019-05-03 11:07:28</td>\n",
       "      <td>2019-05-03 11:10:33</td>\n",
       "      <td>0.805607</td>\n",
       "      <td>0.520285</td>\n",
       "      <td>185.0</td>\n",
       "      <td>1.169288</td>\n",
       "    </tr>\n",
       "    <tr>\n",
       "      <th>2</th>\n",
       "      <td>1</td>\n",
       "      <td>2019-05-03 11:11:44</td>\n",
       "      <td>2019-05-03 11:14:36</td>\n",
       "      <td>0.744363</td>\n",
       "      <td>0.498805</td>\n",
       "      <td>172.0</td>\n",
       "      <td>1.052882</td>\n",
       "    </tr>\n",
       "  </tbody>\n",
       "</table>\n",
       "</div>\n",
       "      <button class=\"colab-df-convert\" onclick=\"convertToInteractive('df-1ba2d3cd-f88e-4f02-8812-69ed2793c566')\"\n",
       "              title=\"Convert this dataframe to an interactive table.\"\n",
       "              style=\"display:none;\">\n",
       "        \n",
       "  <svg xmlns=\"http://www.w3.org/2000/svg\" height=\"24px\"viewBox=\"0 0 24 24\"\n",
       "       width=\"24px\">\n",
       "    <path d=\"M0 0h24v24H0V0z\" fill=\"none\"/>\n",
       "    <path d=\"M18.56 5.44l.94 2.06.94-2.06 2.06-.94-2.06-.94-.94-2.06-.94 2.06-2.06.94zm-11 1L8.5 8.5l.94-2.06 2.06-.94-2.06-.94L8.5 2.5l-.94 2.06-2.06.94zm10 10l.94 2.06.94-2.06 2.06-.94-2.06-.94-.94-2.06-.94 2.06-2.06.94z\"/><path d=\"M17.41 7.96l-1.37-1.37c-.4-.4-.92-.59-1.43-.59-.52 0-1.04.2-1.43.59L10.3 9.45l-7.72 7.72c-.78.78-.78 2.05 0 2.83L4 21.41c.39.39.9.59 1.41.59.51 0 1.02-.2 1.41-.59l7.78-7.78 2.81-2.81c.8-.78.8-2.07 0-2.86zM5.41 20L4 18.59l7.72-7.72 1.47 1.35L5.41 20z\"/>\n",
       "  </svg>\n",
       "      </button>\n",
       "      \n",
       "  <style>\n",
       "    .colab-df-container {\n",
       "      display:flex;\n",
       "      flex-wrap:wrap;\n",
       "      gap: 12px;\n",
       "    }\n",
       "\n",
       "    .colab-df-convert {\n",
       "      background-color: #E8F0FE;\n",
       "      border: none;\n",
       "      border-radius: 50%;\n",
       "      cursor: pointer;\n",
       "      display: none;\n",
       "      fill: #1967D2;\n",
       "      height: 32px;\n",
       "      padding: 0 0 0 0;\n",
       "      width: 32px;\n",
       "    }\n",
       "\n",
       "    .colab-df-convert:hover {\n",
       "      background-color: #E2EBFA;\n",
       "      box-shadow: 0px 1px 2px rgba(60, 64, 67, 0.3), 0px 1px 3px 1px rgba(60, 64, 67, 0.15);\n",
       "      fill: #174EA6;\n",
       "    }\n",
       "\n",
       "    [theme=dark] .colab-df-convert {\n",
       "      background-color: #3B4455;\n",
       "      fill: #D2E3FC;\n",
       "    }\n",
       "\n",
       "    [theme=dark] .colab-df-convert:hover {\n",
       "      background-color: #434B5C;\n",
       "      box-shadow: 0px 1px 3px 1px rgba(0, 0, 0, 0.15);\n",
       "      filter: drop-shadow(0px 1px 2px rgba(0, 0, 0, 0.3));\n",
       "      fill: #FFFFFF;\n",
       "    }\n",
       "  </style>\n",
       "\n",
       "      <script>\n",
       "        const buttonEl =\n",
       "          document.querySelector('#df-1ba2d3cd-f88e-4f02-8812-69ed2793c566 button.colab-df-convert');\n",
       "        buttonEl.style.display =\n",
       "          google.colab.kernel.accessAllowed ? 'block' : 'none';\n",
       "\n",
       "        async function convertToInteractive(key) {\n",
       "          const element = document.querySelector('#df-1ba2d3cd-f88e-4f02-8812-69ed2793c566');\n",
       "          const dataTable =\n",
       "            await google.colab.kernel.invokeFunction('convertToInteractive',\n",
       "                                                     [key], {});\n",
       "          if (!dataTable) return;\n",
       "\n",
       "          const docLinkHtml = 'Like what you see? Visit the ' +\n",
       "            '<a target=\"_blank\" href=https://colab.research.google.com/notebooks/data_table.ipynb>data table notebook</a>'\n",
       "            + ' to learn more about interactive tables.';\n",
       "          element.innerHTML = '';\n",
       "          dataTable['output_type'] = 'display_data';\n",
       "          await google.colab.output.renderOutput(dataTable, element);\n",
       "          const docLink = document.createElement('div');\n",
       "          docLink.innerHTML = docLinkHtml;\n",
       "          element.appendChild(docLink);\n",
       "        }\n",
       "      </script>\n",
       "    </div>\n",
       "  </div>\n",
       "  "
      ],
      "text/plain": [
       "   key Начало нагрева дугой Конец нагрева дугой  Активная мощность  \\\n",
       "0    1  2019-05-03 11:02:14 2019-05-03 11:06:02           0.976059   \n",
       "1    1  2019-05-03 11:07:28 2019-05-03 11:10:33           0.805607   \n",
       "2    1  2019-05-03 11:11:44 2019-05-03 11:14:36           0.744363   \n",
       "\n",
       "   Реактивная мощность  total_heat_time  total_power  \n",
       "0             0.687084            228.0     1.639774  \n",
       "1             0.520285            185.0     1.169288  \n",
       "2             0.498805            172.0     1.052882  "
      ]
     },
     "execution_count": 63,
     "metadata": {},
     "output_type": "execute_result"
    }
   ],
   "source": [
    "data_arc.head(3)"
   ]
  },
  {
   "cell_type": "code",
   "execution_count": 64,
   "metadata": {
    "id": "5w6PHrPR7FT5"
   },
   "outputs": [],
   "source": [
    "features_arc = data_arc.groupby('key')['total_heat_time'].sum().to_frame()"
   ]
  },
  {
   "cell_type": "code",
   "execution_count": 65,
   "metadata": {
    "id": "ROXwefbC7aUx"
   },
   "outputs": [],
   "source": [
    "features_arc['total_power'] = data_arc.groupby('key')['total_power'].sum().to_frame()"
   ]
  },
  {
   "cell_type": "code",
   "execution_count": 66,
   "metadata": {
    "id": "esrmTtDZ70Yy"
   },
   "outputs": [],
   "source": [
    "#features_arc['sum_react_power'] = data_arc.groupby('key')['Реактивная мощность'].sum().to_frame()"
   ]
  },
  {
   "cell_type": "code",
   "execution_count": 67,
   "metadata": {
    "id": "w-HbDJ777dmY"
   },
   "outputs": [],
   "source": [
    "# Сбросим индекс key в столбец key\n",
    "features_arc = features_arc.reset_index()"
   ]
  },
  {
   "cell_type": "code",
   "execution_count": 68,
   "metadata": {
    "id": "SkcyMRcNlexM"
   },
   "outputs": [],
   "source": [
    "#del features_arc['sum_active_power']\n",
    "#del features_arc['sum_react_power']"
   ]
  },
  {
   "cell_type": "code",
   "execution_count": 69,
   "metadata": {
    "colab": {
     "base_uri": "https://localhost:8080/",
     "height": 143
    },
    "id": "0idCgTiqmBAQ",
    "outputId": "733a137a-7c5a-40a5-9247-d54b19ff11fa"
   },
   "outputs": [
    {
     "data": {
      "text/html": [
       "\n",
       "  <div id=\"df-585e3c64-2073-4a19-b986-e8fa0cdab382\">\n",
       "    <div class=\"colab-df-container\">\n",
       "      <div>\n",
       "<style scoped>\n",
       "    .dataframe tbody tr th:only-of-type {\n",
       "        vertical-align: middle;\n",
       "    }\n",
       "\n",
       "    .dataframe tbody tr th {\n",
       "        vertical-align: top;\n",
       "    }\n",
       "\n",
       "    .dataframe thead th {\n",
       "        text-align: right;\n",
       "    }\n",
       "</style>\n",
       "<table border=\"1\" class=\"dataframe\">\n",
       "  <thead>\n",
       "    <tr style=\"text-align: right;\">\n",
       "      <th></th>\n",
       "      <th>key</th>\n",
       "      <th>total_heat_time</th>\n",
       "      <th>total_power</th>\n",
       "    </tr>\n",
       "  </thead>\n",
       "  <tbody>\n",
       "    <tr>\n",
       "      <th>0</th>\n",
       "      <td>1</td>\n",
       "      <td>1098.0</td>\n",
       "      <td>8.572405</td>\n",
       "    </tr>\n",
       "    <tr>\n",
       "      <th>1</th>\n",
       "      <td>2</td>\n",
       "      <td>811.0</td>\n",
       "      <td>4.796331</td>\n",
       "    </tr>\n",
       "    <tr>\n",
       "      <th>2</th>\n",
       "      <td>3</td>\n",
       "      <td>655.0</td>\n",
       "      <td>3.298466</td>\n",
       "    </tr>\n",
       "  </tbody>\n",
       "</table>\n",
       "</div>\n",
       "      <button class=\"colab-df-convert\" onclick=\"convertToInteractive('df-585e3c64-2073-4a19-b986-e8fa0cdab382')\"\n",
       "              title=\"Convert this dataframe to an interactive table.\"\n",
       "              style=\"display:none;\">\n",
       "        \n",
       "  <svg xmlns=\"http://www.w3.org/2000/svg\" height=\"24px\"viewBox=\"0 0 24 24\"\n",
       "       width=\"24px\">\n",
       "    <path d=\"M0 0h24v24H0V0z\" fill=\"none\"/>\n",
       "    <path d=\"M18.56 5.44l.94 2.06.94-2.06 2.06-.94-2.06-.94-.94-2.06-.94 2.06-2.06.94zm-11 1L8.5 8.5l.94-2.06 2.06-.94-2.06-.94L8.5 2.5l-.94 2.06-2.06.94zm10 10l.94 2.06.94-2.06 2.06-.94-2.06-.94-.94-2.06-.94 2.06-2.06.94z\"/><path d=\"M17.41 7.96l-1.37-1.37c-.4-.4-.92-.59-1.43-.59-.52 0-1.04.2-1.43.59L10.3 9.45l-7.72 7.72c-.78.78-.78 2.05 0 2.83L4 21.41c.39.39.9.59 1.41.59.51 0 1.02-.2 1.41-.59l7.78-7.78 2.81-2.81c.8-.78.8-2.07 0-2.86zM5.41 20L4 18.59l7.72-7.72 1.47 1.35L5.41 20z\"/>\n",
       "  </svg>\n",
       "      </button>\n",
       "      \n",
       "  <style>\n",
       "    .colab-df-container {\n",
       "      display:flex;\n",
       "      flex-wrap:wrap;\n",
       "      gap: 12px;\n",
       "    }\n",
       "\n",
       "    .colab-df-convert {\n",
       "      background-color: #E8F0FE;\n",
       "      border: none;\n",
       "      border-radius: 50%;\n",
       "      cursor: pointer;\n",
       "      display: none;\n",
       "      fill: #1967D2;\n",
       "      height: 32px;\n",
       "      padding: 0 0 0 0;\n",
       "      width: 32px;\n",
       "    }\n",
       "\n",
       "    .colab-df-convert:hover {\n",
       "      background-color: #E2EBFA;\n",
       "      box-shadow: 0px 1px 2px rgba(60, 64, 67, 0.3), 0px 1px 3px 1px rgba(60, 64, 67, 0.15);\n",
       "      fill: #174EA6;\n",
       "    }\n",
       "\n",
       "    [theme=dark] .colab-df-convert {\n",
       "      background-color: #3B4455;\n",
       "      fill: #D2E3FC;\n",
       "    }\n",
       "\n",
       "    [theme=dark] .colab-df-convert:hover {\n",
       "      background-color: #434B5C;\n",
       "      box-shadow: 0px 1px 3px 1px rgba(0, 0, 0, 0.15);\n",
       "      filter: drop-shadow(0px 1px 2px rgba(0, 0, 0, 0.3));\n",
       "      fill: #FFFFFF;\n",
       "    }\n",
       "  </style>\n",
       "\n",
       "      <script>\n",
       "        const buttonEl =\n",
       "          document.querySelector('#df-585e3c64-2073-4a19-b986-e8fa0cdab382 button.colab-df-convert');\n",
       "        buttonEl.style.display =\n",
       "          google.colab.kernel.accessAllowed ? 'block' : 'none';\n",
       "\n",
       "        async function convertToInteractive(key) {\n",
       "          const element = document.querySelector('#df-585e3c64-2073-4a19-b986-e8fa0cdab382');\n",
       "          const dataTable =\n",
       "            await google.colab.kernel.invokeFunction('convertToInteractive',\n",
       "                                                     [key], {});\n",
       "          if (!dataTable) return;\n",
       "\n",
       "          const docLinkHtml = 'Like what you see? Visit the ' +\n",
       "            '<a target=\"_blank\" href=https://colab.research.google.com/notebooks/data_table.ipynb>data table notebook</a>'\n",
       "            + ' to learn more about interactive tables.';\n",
       "          element.innerHTML = '';\n",
       "          dataTable['output_type'] = 'display_data';\n",
       "          await google.colab.output.renderOutput(dataTable, element);\n",
       "          const docLink = document.createElement('div');\n",
       "          docLink.innerHTML = docLinkHtml;\n",
       "          element.appendChild(docLink);\n",
       "        }\n",
       "      </script>\n",
       "    </div>\n",
       "  </div>\n",
       "  "
      ],
      "text/plain": [
       "   key  total_heat_time  total_power\n",
       "0    1           1098.0     8.572405\n",
       "1    2            811.0     4.796331\n",
       "2    3            655.0     3.298466"
      ]
     },
     "execution_count": 69,
     "metadata": {},
     "output_type": "execute_result"
    }
   ],
   "source": [
    "features_arc.head(3)"
   ]
  },
  {
   "cell_type": "code",
   "execution_count": 70,
   "metadata": {
    "colab": {
     "base_uri": "https://localhost:8080/",
     "height": 287
    },
    "id": "Sq6O2_Jz6m1B",
    "outputId": "5f9c463b-0cdf-4fbf-cb19-f37d5f12f99a"
   },
   "outputs": [
    {
     "data": {
      "text/plain": [
       "<matplotlib.axes._subplots.AxesSubplot at 0x7f34d81f6d90>"
      ]
     },
     "execution_count": 70,
     "metadata": {},
     "output_type": "execute_result"
    },
    {
     "data": {
      "image/png": "[encoded data removed]",
      "text/plain": [
       "<Figure size 432x288 with 2 Axes>"
      ]
     },
     "metadata": {
      "needs_background": "light"
     },
     "output_type": "display_data"
    }
   ],
   "source": [
    "sns.heatmap(features_arc.corr(), cmap=\"YlGnBu\", annot=True)"
   ]
  },
  {
   "cell_type": "code",
   "execution_count": 71,
   "metadata": {
    "colab": {
     "base_uri": "https://localhost:8080/"
    },
    "id": "rpUUIMI47ueR",
    "outputId": "66f22e59-5392-4627-ab67-6192b2226b20"
   },
   "outputs": [
    {
     "data": {
      "text/plain": [
       "(3213, 3)"
      ]
     },
     "execution_count": 71,
     "metadata": {},
     "output_type": "execute_result"
    }
   ],
   "source": [
    "features_arc.shape"
   ]
  },
  {
   "cell_type": "markdown",
   "metadata": {
    "id": "5d-ubUQdlb1W"
   },
   "source": [
    "### Сыпучие материалы"
   ]
  },
  {
   "cell_type": "code",
   "execution_count": 72,
   "metadata": {
    "id": "UPDHEON4qNzd"
   },
   "outputs": [],
   "source": [
    "# Как и планировали пропуски заменяем на 0\n",
    "data_bulk = data_bulk.fillna(0)"
   ]
  },
  {
   "cell_type": "code",
   "execution_count": 73,
   "metadata": {
    "colab": {
     "base_uri": "https://localhost:8080/",
     "height": 143
    },
    "id": "AUbAXe_gqOOs",
    "outputId": "1f526c7b-0cb3-4c87-d3eb-ab5c44e3a4e7"
   },
   "outputs": [
    {
     "data": {
      "text/html": [
       "\n",
       "  <div id=\"df-c32ca3ce-6027-4a60-8c32-ec2d77a994c1\">\n",
       "    <div class=\"colab-df-container\">\n",
       "      <div>\n",
       "<style scoped>\n",
       "    .dataframe tbody tr th:only-of-type {\n",
       "        vertical-align: middle;\n",
       "    }\n",
       "\n",
       "    .dataframe tbody tr th {\n",
       "        vertical-align: top;\n",
       "    }\n",
       "\n",
       "    .dataframe thead th {\n",
       "        text-align: right;\n",
       "    }\n",
       "</style>\n",
       "<table border=\"1\" class=\"dataframe\">\n",
       "  <thead>\n",
       "    <tr style=\"text-align: right;\">\n",
       "      <th></th>\n",
       "      <th>key</th>\n",
       "      <th>Bulk 1</th>\n",
       "      <th>Bulk 2</th>\n",
       "      <th>Bulk 3</th>\n",
       "      <th>Bulk 4</th>\n",
       "      <th>Bulk 5</th>\n",
       "      <th>Bulk 6</th>\n",
       "      <th>Bulk 7</th>\n",
       "      <th>Bulk 8</th>\n",
       "      <th>Bulk 9</th>\n",
       "      <th>Bulk 10</th>\n",
       "      <th>Bulk 11</th>\n",
       "      <th>Bulk 12</th>\n",
       "      <th>Bulk 13</th>\n",
       "      <th>Bulk 14</th>\n",
       "      <th>Bulk 15</th>\n",
       "      <th>total_bulk</th>\n",
       "    </tr>\n",
       "  </thead>\n",
       "  <tbody>\n",
       "    <tr>\n",
       "      <th>0</th>\n",
       "      <td>1</td>\n",
       "      <td>0.0</td>\n",
       "      <td>0.0</td>\n",
       "      <td>0.0</td>\n",
       "      <td>43.0</td>\n",
       "      <td>0.0</td>\n",
       "      <td>0.0</td>\n",
       "      <td>0.0</td>\n",
       "      <td>0.0</td>\n",
       "      <td>0.0</td>\n",
       "      <td>0.0</td>\n",
       "      <td>0.0</td>\n",
       "      <td>206.0</td>\n",
       "      <td>0.0</td>\n",
       "      <td>150.0</td>\n",
       "      <td>154.0</td>\n",
       "      <td>553.0</td>\n",
       "    </tr>\n",
       "    <tr>\n",
       "      <th>1</th>\n",
       "      <td>2</td>\n",
       "      <td>0.0</td>\n",
       "      <td>0.0</td>\n",
       "      <td>0.0</td>\n",
       "      <td>73.0</td>\n",
       "      <td>0.0</td>\n",
       "      <td>0.0</td>\n",
       "      <td>0.0</td>\n",
       "      <td>0.0</td>\n",
       "      <td>0.0</td>\n",
       "      <td>0.0</td>\n",
       "      <td>0.0</td>\n",
       "      <td>206.0</td>\n",
       "      <td>0.0</td>\n",
       "      <td>149.0</td>\n",
       "      <td>154.0</td>\n",
       "      <td>582.0</td>\n",
       "    </tr>\n",
       "    <tr>\n",
       "      <th>2</th>\n",
       "      <td>3</td>\n",
       "      <td>0.0</td>\n",
       "      <td>0.0</td>\n",
       "      <td>0.0</td>\n",
       "      <td>34.0</td>\n",
       "      <td>0.0</td>\n",
       "      <td>0.0</td>\n",
       "      <td>0.0</td>\n",
       "      <td>0.0</td>\n",
       "      <td>0.0</td>\n",
       "      <td>0.0</td>\n",
       "      <td>0.0</td>\n",
       "      <td>205.0</td>\n",
       "      <td>0.0</td>\n",
       "      <td>152.0</td>\n",
       "      <td>153.0</td>\n",
       "      <td>544.0</td>\n",
       "    </tr>\n",
       "  </tbody>\n",
       "</table>\n",
       "</div>\n",
       "      <button class=\"colab-df-convert\" onclick=\"convertToInteractive('df-c32ca3ce-6027-4a60-8c32-ec2d77a994c1')\"\n",
       "              title=\"Convert this dataframe to an interactive table.\"\n",
       "              style=\"display:none;\">\n",
       "        \n",
       "  <svg xmlns=\"http://www.w3.org/2000/svg\" height=\"24px\"viewBox=\"0 0 24 24\"\n",
       "       width=\"24px\">\n",
       "    <path d=\"M0 0h24v24H0V0z\" fill=\"none\"/>\n",
       "    <path d=\"M18.56 5.44l.94 2.06.94-2.06 2.06-.94-2.06-.94-.94-2.06-.94 2.06-2.06.94zm-11 1L8.5 8.5l.94-2.06 2.06-.94-2.06-.94L8.5 2.5l-.94 2.06-2.06.94zm10 10l.94 2.06.94-2.06 2.06-.94-2.06-.94-.94-2.06-.94 2.06-2.06.94z\"/><path d=\"M17.41 7.96l-1.37-1.37c-.4-.4-.92-.59-1.43-.59-.52 0-1.04.2-1.43.59L10.3 9.45l-7.72 7.72c-.78.78-.78 2.05 0 2.83L4 21.41c.39.39.9.59 1.41.59.51 0 1.02-.2 1.41-.59l7.78-7.78 2.81-2.81c.8-.78.8-2.07 0-2.86zM5.41 20L4 18.59l7.72-7.72 1.47 1.35L5.41 20z\"/>\n",
       "  </svg>\n",
       "      </button>\n",
       "      \n",
       "  <style>\n",
       "    .colab-df-container {\n",
       "      display:flex;\n",
       "      flex-wrap:wrap;\n",
       "      gap: 12px;\n",
       "    }\n",
       "\n",
       "    .colab-df-convert {\n",
       "      background-color: #E8F0FE;\n",
       "      border: none;\n",
       "      border-radius: 50%;\n",
       "      cursor: pointer;\n",
       "      display: none;\n",
       "      fill: #1967D2;\n",
       "      height: 32px;\n",
       "      padding: 0 0 0 0;\n",
       "      width: 32px;\n",
       "    }\n",
       "\n",
       "    .colab-df-convert:hover {\n",
       "      background-color: #E2EBFA;\n",
       "      box-shadow: 0px 1px 2px rgba(60, 64, 67, 0.3), 0px 1px 3px 1px rgba(60, 64, 67, 0.15);\n",
       "      fill: #174EA6;\n",
       "    }\n",
       "\n",
       "    [theme=dark] .colab-df-convert {\n",
       "      background-color: #3B4455;\n",
       "      fill: #D2E3FC;\n",
       "    }\n",
       "\n",
       "    [theme=dark] .colab-df-convert:hover {\n",
       "      background-color: #434B5C;\n",
       "      box-shadow: 0px 1px 3px 1px rgba(0, 0, 0, 0.15);\n",
       "      filter: drop-shadow(0px 1px 2px rgba(0, 0, 0, 0.3));\n",
       "      fill: #FFFFFF;\n",
       "    }\n",
       "  </style>\n",
       "\n",
       "      <script>\n",
       "        const buttonEl =\n",
       "          document.querySelector('#df-c32ca3ce-6027-4a60-8c32-ec2d77a994c1 button.colab-df-convert');\n",
       "        buttonEl.style.display =\n",
       "          google.colab.kernel.accessAllowed ? 'block' : 'none';\n",
       "\n",
       "        async function convertToInteractive(key) {\n",
       "          const element = document.querySelector('#df-c32ca3ce-6027-4a60-8c32-ec2d77a994c1');\n",
       "          const dataTable =\n",
       "            await google.colab.kernel.invokeFunction('convertToInteractive',\n",
       "                                                     [key], {});\n",
       "          if (!dataTable) return;\n",
       "\n",
       "          const docLinkHtml = 'Like what you see? Visit the ' +\n",
       "            '<a target=\"_blank\" href=https://colab.research.google.com/notebooks/data_table.ipynb>data table notebook</a>'\n",
       "            + ' to learn more about interactive tables.';\n",
       "          element.innerHTML = '';\n",
       "          dataTable['output_type'] = 'display_data';\n",
       "          await google.colab.output.renderOutput(dataTable, element);\n",
       "          const docLink = document.createElement('div');\n",
       "          docLink.innerHTML = docLinkHtml;\n",
       "          element.appendChild(docLink);\n",
       "        }\n",
       "      </script>\n",
       "    </div>\n",
       "  </div>\n",
       "  "
      ],
      "text/plain": [
       "   key  Bulk 1  Bulk 2  Bulk 3  Bulk 4  Bulk 5  Bulk 6  Bulk 7  Bulk 8  \\\n",
       "0    1     0.0     0.0     0.0    43.0     0.0     0.0     0.0     0.0   \n",
       "1    2     0.0     0.0     0.0    73.0     0.0     0.0     0.0     0.0   \n",
       "2    3     0.0     0.0     0.0    34.0     0.0     0.0     0.0     0.0   \n",
       "\n",
       "   Bulk 9  Bulk 10  Bulk 11  Bulk 12  Bulk 13  Bulk 14  Bulk 15  total_bulk  \n",
       "0     0.0      0.0      0.0    206.0      0.0    150.0    154.0       553.0  \n",
       "1     0.0      0.0      0.0    206.0      0.0    149.0    154.0       582.0  \n",
       "2     0.0      0.0      0.0    205.0      0.0    152.0    153.0       544.0  "
      ]
     },
     "execution_count": 73,
     "metadata": {},
     "output_type": "execute_result"
    }
   ],
   "source": [
    "# Просуммируем по столбцам\n",
    "col_list= list(data_bulk) \n",
    "col_list.remove('key')\n",
    "data_bulk['total_bulk'] = data_bulk[col_list].sum(axis=1)\n",
    "data_bulk.head(3)"
   ]
  },
  {
   "cell_type": "code",
   "execution_count": 74,
   "metadata": {
    "colab": {
     "base_uri": "https://localhost:8080/",
     "height": 143
    },
    "id": "DnSKZ_cJwTlt",
    "outputId": "b6a3353c-03db-4072-e8d6-76d469c16e36"
   },
   "outputs": [
    {
     "data": {
      "text/html": [
       "\n",
       "  <div id=\"df-58dece1b-4a53-4052-ad32-f74df4de6a9a\">\n",
       "    <div class=\"colab-df-container\">\n",
       "      <div>\n",
       "<style scoped>\n",
       "    .dataframe tbody tr th:only-of-type {\n",
       "        vertical-align: middle;\n",
       "    }\n",
       "\n",
       "    .dataframe tbody tr th {\n",
       "        vertical-align: top;\n",
       "    }\n",
       "\n",
       "    .dataframe thead th {\n",
       "        text-align: right;\n",
       "    }\n",
       "</style>\n",
       "<table border=\"1\" class=\"dataframe\">\n",
       "  <thead>\n",
       "    <tr style=\"text-align: right;\">\n",
       "      <th></th>\n",
       "      <th>key</th>\n",
       "      <th>total_bulk</th>\n",
       "    </tr>\n",
       "  </thead>\n",
       "  <tbody>\n",
       "    <tr>\n",
       "      <th>0</th>\n",
       "      <td>1</td>\n",
       "      <td>553.0</td>\n",
       "    </tr>\n",
       "    <tr>\n",
       "      <th>1</th>\n",
       "      <td>2</td>\n",
       "      <td>582.0</td>\n",
       "    </tr>\n",
       "    <tr>\n",
       "      <th>2</th>\n",
       "      <td>3</td>\n",
       "      <td>544.0</td>\n",
       "    </tr>\n",
       "  </tbody>\n",
       "</table>\n",
       "</div>\n",
       "      <button class=\"colab-df-convert\" onclick=\"convertToInteractive('df-58dece1b-4a53-4052-ad32-f74df4de6a9a')\"\n",
       "              title=\"Convert this dataframe to an interactive table.\"\n",
       "              style=\"display:none;\">\n",
       "        \n",
       "  <svg xmlns=\"http://www.w3.org/2000/svg\" height=\"24px\"viewBox=\"0 0 24 24\"\n",
       "       width=\"24px\">\n",
       "    <path d=\"M0 0h24v24H0V0z\" fill=\"none\"/>\n",
       "    <path d=\"M18.56 5.44l.94 2.06.94-2.06 2.06-.94-2.06-.94-.94-2.06-.94 2.06-2.06.94zm-11 1L8.5 8.5l.94-2.06 2.06-.94-2.06-.94L8.5 2.5l-.94 2.06-2.06.94zm10 10l.94 2.06.94-2.06 2.06-.94-2.06-.94-.94-2.06-.94 2.06-2.06.94z\"/><path d=\"M17.41 7.96l-1.37-1.37c-.4-.4-.92-.59-1.43-.59-.52 0-1.04.2-1.43.59L10.3 9.45l-7.72 7.72c-.78.78-.78 2.05 0 2.83L4 21.41c.39.39.9.59 1.41.59.51 0 1.02-.2 1.41-.59l7.78-7.78 2.81-2.81c.8-.78.8-2.07 0-2.86zM5.41 20L4 18.59l7.72-7.72 1.47 1.35L5.41 20z\"/>\n",
       "  </svg>\n",
       "      </button>\n",
       "      \n",
       "  <style>\n",
       "    .colab-df-container {\n",
       "      display:flex;\n",
       "      flex-wrap:wrap;\n",
       "      gap: 12px;\n",
       "    }\n",
       "\n",
       "    .colab-df-convert {\n",
       "      background-color: #E8F0FE;\n",
       "      border: none;\n",
       "      border-radius: 50%;\n",
       "      cursor: pointer;\n",
       "      display: none;\n",
       "      fill: #1967D2;\n",
       "      height: 32px;\n",
       "      padding: 0 0 0 0;\n",
       "      width: 32px;\n",
       "    }\n",
       "\n",
       "    .colab-df-convert:hover {\n",
       "      background-color: #E2EBFA;\n",
       "      box-shadow: 0px 1px 2px rgba(60, 64, 67, 0.3), 0px 1px 3px 1px rgba(60, 64, 67, 0.15);\n",
       "      fill: #174EA6;\n",
       "    }\n",
       "\n",
       "    [theme=dark] .colab-df-convert {\n",
       "      background-color: #3B4455;\n",
       "      fill: #D2E3FC;\n",
       "    }\n",
       "\n",
       "    [theme=dark] .colab-df-convert:hover {\n",
       "      background-color: #434B5C;\n",
       "      box-shadow: 0px 1px 3px 1px rgba(0, 0, 0, 0.15);\n",
       "      filter: drop-shadow(0px 1px 2px rgba(0, 0, 0, 0.3));\n",
       "      fill: #FFFFFF;\n",
       "    }\n",
       "  </style>\n",
       "\n",
       "      <script>\n",
       "        const buttonEl =\n",
       "          document.querySelector('#df-58dece1b-4a53-4052-ad32-f74df4de6a9a button.colab-df-convert');\n",
       "        buttonEl.style.display =\n",
       "          google.colab.kernel.accessAllowed ? 'block' : 'none';\n",
       "\n",
       "        async function convertToInteractive(key) {\n",
       "          const element = document.querySelector('#df-58dece1b-4a53-4052-ad32-f74df4de6a9a');\n",
       "          const dataTable =\n",
       "            await google.colab.kernel.invokeFunction('convertToInteractive',\n",
       "                                                     [key], {});\n",
       "          if (!dataTable) return;\n",
       "\n",
       "          const docLinkHtml = 'Like what you see? Visit the ' +\n",
       "            '<a target=\"_blank\" href=https://colab.research.google.com/notebooks/data_table.ipynb>data table notebook</a>'\n",
       "            + ' to learn more about interactive tables.';\n",
       "          element.innerHTML = '';\n",
       "          dataTable['output_type'] = 'display_data';\n",
       "          await google.colab.output.renderOutput(dataTable, element);\n",
       "          const docLink = document.createElement('div');\n",
       "          docLink.innerHTML = docLinkHtml;\n",
       "          element.appendChild(docLink);\n",
       "        }\n",
       "      </script>\n",
       "    </div>\n",
       "  </div>\n",
       "  "
      ],
      "text/plain": [
       "   key  total_bulk\n",
       "0    1       553.0\n",
       "1    2       582.0\n",
       "2    3       544.0"
      ]
     },
     "execution_count": 74,
     "metadata": {},
     "output_type": "execute_result"
    }
   ],
   "source": [
    "features_bulk = data_bulk[['key', 'total_bulk']].copy()\n",
    "features_bulk.head(3)"
   ]
  },
  {
   "cell_type": "code",
   "execution_count": 75,
   "metadata": {
    "colab": {
     "base_uri": "https://localhost:8080/"
    },
    "id": "-_UV3kt5woOM",
    "outputId": "e1bd8650-0dde-4ac2-dc40-2c9159fefc81"
   },
   "outputs": [
    {
     "data": {
      "text/plain": [
       "(3129, 2)"
      ]
     },
     "execution_count": 75,
     "metadata": {},
     "output_type": "execute_result"
    }
   ],
   "source": [
    "features_bulk.shape"
   ]
  },
  {
   "cell_type": "markdown",
   "metadata": {
    "id": "fDX6TFsxwuFM"
   },
   "source": [
    "### Проволка"
   ]
  },
  {
   "cell_type": "code",
   "execution_count": 76,
   "metadata": {
    "id": "lBe0W_MCw_IG"
   },
   "outputs": [],
   "source": [
    "# Поступаем аналогично сыпучим материалам\n",
    "data_wire = data_wire.fillna(0)"
   ]
  },
  {
   "cell_type": "code",
   "execution_count": 77,
   "metadata": {
    "id": "o_lyLyesw_IH"
   },
   "outputs": [],
   "source": [
    "# Просуммируем по столбцам\n",
    "col_list= list(data_wire) \n",
    "col_list.remove('key')"
   ]
  },
  {
   "cell_type": "code",
   "execution_count": 78,
   "metadata": {
    "colab": {
     "base_uri": "https://localhost:8080/",
     "height": 206
    },
    "id": "5HV_S5vKxbgV",
    "outputId": "2be0ec3f-7984-433f-83d8-02abfc770563"
   },
   "outputs": [
    {
     "data": {
      "text/html": [
       "\n",
       "  <div id=\"df-35e04187-1007-4780-83da-847b90dcf7cf\">\n",
       "    <div class=\"colab-df-container\">\n",
       "      <div>\n",
       "<style scoped>\n",
       "    .dataframe tbody tr th:only-of-type {\n",
       "        vertical-align: middle;\n",
       "    }\n",
       "\n",
       "    .dataframe tbody tr th {\n",
       "        vertical-align: top;\n",
       "    }\n",
       "\n",
       "    .dataframe thead th {\n",
       "        text-align: right;\n",
       "    }\n",
       "</style>\n",
       "<table border=\"1\" class=\"dataframe\">\n",
       "  <thead>\n",
       "    <tr style=\"text-align: right;\">\n",
       "      <th></th>\n",
       "      <th>key</th>\n",
       "      <th>Wire 1</th>\n",
       "      <th>Wire 2</th>\n",
       "      <th>Wire 3</th>\n",
       "      <th>Wire 4</th>\n",
       "      <th>Wire 5</th>\n",
       "      <th>Wire 6</th>\n",
       "      <th>Wire 7</th>\n",
       "      <th>Wire 8</th>\n",
       "      <th>Wire 9</th>\n",
       "      <th>total_wire</th>\n",
       "    </tr>\n",
       "  </thead>\n",
       "  <tbody>\n",
       "    <tr>\n",
       "      <th>0</th>\n",
       "      <td>1</td>\n",
       "      <td>60.059998</td>\n",
       "      <td>0.00000</td>\n",
       "      <td>0.0</td>\n",
       "      <td>0.0</td>\n",
       "      <td>0.0</td>\n",
       "      <td>0.0</td>\n",
       "      <td>0.0</td>\n",
       "      <td>0.0</td>\n",
       "      <td>0.0</td>\n",
       "      <td>60.059998</td>\n",
       "    </tr>\n",
       "    <tr>\n",
       "      <th>1</th>\n",
       "      <td>2</td>\n",
       "      <td>96.052315</td>\n",
       "      <td>0.00000</td>\n",
       "      <td>0.0</td>\n",
       "      <td>0.0</td>\n",
       "      <td>0.0</td>\n",
       "      <td>0.0</td>\n",
       "      <td>0.0</td>\n",
       "      <td>0.0</td>\n",
       "      <td>0.0</td>\n",
       "      <td>96.052315</td>\n",
       "    </tr>\n",
       "    <tr>\n",
       "      <th>2</th>\n",
       "      <td>3</td>\n",
       "      <td>91.160157</td>\n",
       "      <td>0.00000</td>\n",
       "      <td>0.0</td>\n",
       "      <td>0.0</td>\n",
       "      <td>0.0</td>\n",
       "      <td>0.0</td>\n",
       "      <td>0.0</td>\n",
       "      <td>0.0</td>\n",
       "      <td>0.0</td>\n",
       "      <td>91.160157</td>\n",
       "    </tr>\n",
       "    <tr>\n",
       "      <th>3</th>\n",
       "      <td>4</td>\n",
       "      <td>89.063515</td>\n",
       "      <td>0.00000</td>\n",
       "      <td>0.0</td>\n",
       "      <td>0.0</td>\n",
       "      <td>0.0</td>\n",
       "      <td>0.0</td>\n",
       "      <td>0.0</td>\n",
       "      <td>0.0</td>\n",
       "      <td>0.0</td>\n",
       "      <td>89.063515</td>\n",
       "    </tr>\n",
       "    <tr>\n",
       "      <th>4</th>\n",
       "      <td>5</td>\n",
       "      <td>89.238236</td>\n",
       "      <td>9.11456</td>\n",
       "      <td>0.0</td>\n",
       "      <td>0.0</td>\n",
       "      <td>0.0</td>\n",
       "      <td>0.0</td>\n",
       "      <td>0.0</td>\n",
       "      <td>0.0</td>\n",
       "      <td>0.0</td>\n",
       "      <td>98.352796</td>\n",
       "    </tr>\n",
       "  </tbody>\n",
       "</table>\n",
       "</div>\n",
       "      <button class=\"colab-df-convert\" onclick=\"convertToInteractive('df-35e04187-1007-4780-83da-847b90dcf7cf')\"\n",
       "              title=\"Convert this dataframe to an interactive table.\"\n",
       "              style=\"display:none;\">\n",
       "        \n",
       "  <svg xmlns=\"http://www.w3.org/2000/svg\" height=\"24px\"viewBox=\"0 0 24 24\"\n",
       "       width=\"24px\">\n",
       "    <path d=\"M0 0h24v24H0V0z\" fill=\"none\"/>\n",
       "    <path d=\"M18.56 5.44l.94 2.06.94-2.06 2.06-.94-2.06-.94-.94-2.06-.94 2.06-2.06.94zm-11 1L8.5 8.5l.94-2.06 2.06-.94-2.06-.94L8.5 2.5l-.94 2.06-2.06.94zm10 10l.94 2.06.94-2.06 2.06-.94-2.06-.94-.94-2.06-.94 2.06-2.06.94z\"/><path d=\"M17.41 7.96l-1.37-1.37c-.4-.4-.92-.59-1.43-.59-.52 0-1.04.2-1.43.59L10.3 9.45l-7.72 7.72c-.78.78-.78 2.05 0 2.83L4 21.41c.39.39.9.59 1.41.59.51 0 1.02-.2 1.41-.59l7.78-7.78 2.81-2.81c.8-.78.8-2.07 0-2.86zM5.41 20L4 18.59l7.72-7.72 1.47 1.35L5.41 20z\"/>\n",
       "  </svg>\n",
       "      </button>\n",
       "      \n",
       "  <style>\n",
       "    .colab-df-container {\n",
       "      display:flex;\n",
       "      flex-wrap:wrap;\n",
       "      gap: 12px;\n",
       "    }\n",
       "\n",
       "    .colab-df-convert {\n",
       "      background-color: #E8F0FE;\n",
       "      border: none;\n",
       "      border-radius: 50%;\n",
       "      cursor: pointer;\n",
       "      display: none;\n",
       "      fill: #1967D2;\n",
       "      height: 32px;\n",
       "      padding: 0 0 0 0;\n",
       "      width: 32px;\n",
       "    }\n",
       "\n",
       "    .colab-df-convert:hover {\n",
       "      background-color: #E2EBFA;\n",
       "      box-shadow: 0px 1px 2px rgba(60, 64, 67, 0.3), 0px 1px 3px 1px rgba(60, 64, 67, 0.15);\n",
       "      fill: #174EA6;\n",
       "    }\n",
       "\n",
       "    [theme=dark] .colab-df-convert {\n",
       "      background-color: #3B4455;\n",
       "      fill: #D2E3FC;\n",
       "    }\n",
       "\n",
       "    [theme=dark] .colab-df-convert:hover {\n",
       "      background-color: #434B5C;\n",
       "      box-shadow: 0px 1px 3px 1px rgba(0, 0, 0, 0.15);\n",
       "      filter: drop-shadow(0px 1px 2px rgba(0, 0, 0, 0.3));\n",
       "      fill: #FFFFFF;\n",
       "    }\n",
       "  </style>\n",
       "\n",
       "      <script>\n",
       "        const buttonEl =\n",
       "          document.querySelector('#df-35e04187-1007-4780-83da-847b90dcf7cf button.colab-df-convert');\n",
       "        buttonEl.style.display =\n",
       "          google.colab.kernel.accessAllowed ? 'block' : 'none';\n",
       "\n",
       "        async function convertToInteractive(key) {\n",
       "          const element = document.querySelector('#df-35e04187-1007-4780-83da-847b90dcf7cf');\n",
       "          const dataTable =\n",
       "            await google.colab.kernel.invokeFunction('convertToInteractive',\n",
       "                                                     [key], {});\n",
       "          if (!dataTable) return;\n",
       "\n",
       "          const docLinkHtml = 'Like what you see? Visit the ' +\n",
       "            '<a target=\"_blank\" href=https://colab.research.google.com/notebooks/data_table.ipynb>data table notebook</a>'\n",
       "            + ' to learn more about interactive tables.';\n",
       "          element.innerHTML = '';\n",
       "          dataTable['output_type'] = 'display_data';\n",
       "          await google.colab.output.renderOutput(dataTable, element);\n",
       "          const docLink = document.createElement('div');\n",
       "          docLink.innerHTML = docLinkHtml;\n",
       "          element.appendChild(docLink);\n",
       "        }\n",
       "      </script>\n",
       "    </div>\n",
       "  </div>\n",
       "  "
      ],
      "text/plain": [
       "   key     Wire 1   Wire 2  Wire 3  Wire 4  Wire 5  Wire 6  Wire 7  Wire 8  \\\n",
       "0    1  60.059998  0.00000     0.0     0.0     0.0     0.0     0.0     0.0   \n",
       "1    2  96.052315  0.00000     0.0     0.0     0.0     0.0     0.0     0.0   \n",
       "2    3  91.160157  0.00000     0.0     0.0     0.0     0.0     0.0     0.0   \n",
       "3    4  89.063515  0.00000     0.0     0.0     0.0     0.0     0.0     0.0   \n",
       "4    5  89.238236  9.11456     0.0     0.0     0.0     0.0     0.0     0.0   \n",
       "\n",
       "   Wire 9  total_wire  \n",
       "0     0.0   60.059998  \n",
       "1     0.0   96.052315  \n",
       "2     0.0   91.160157  \n",
       "3     0.0   89.063515  \n",
       "4     0.0   98.352796  "
      ]
     },
     "execution_count": 78,
     "metadata": {},
     "output_type": "execute_result"
    }
   ],
   "source": [
    "data_wire['total_wire'] = data_wire[col_list].sum(axis=1)\n",
    "data_wire.head(5)"
   ]
  },
  {
   "cell_type": "code",
   "execution_count": 79,
   "metadata": {
    "colab": {
     "base_uri": "https://localhost:8080/",
     "height": 143
    },
    "id": "XEUPfwxuw_II",
    "outputId": "61f58eb3-8b1a-459b-f7aa-14bc4e67f27d"
   },
   "outputs": [
    {
     "data": {
      "text/html": [
       "\n",
       "  <div id=\"df-394df4e5-a4f3-45fe-9000-2532d7e5b84a\">\n",
       "    <div class=\"colab-df-container\">\n",
       "      <div>\n",
       "<style scoped>\n",
       "    .dataframe tbody tr th:only-of-type {\n",
       "        vertical-align: middle;\n",
       "    }\n",
       "\n",
       "    .dataframe tbody tr th {\n",
       "        vertical-align: top;\n",
       "    }\n",
       "\n",
       "    .dataframe thead th {\n",
       "        text-align: right;\n",
       "    }\n",
       "</style>\n",
       "<table border=\"1\" class=\"dataframe\">\n",
       "  <thead>\n",
       "    <tr style=\"text-align: right;\">\n",
       "      <th></th>\n",
       "      <th>key</th>\n",
       "      <th>total_wire</th>\n",
       "    </tr>\n",
       "  </thead>\n",
       "  <tbody>\n",
       "    <tr>\n",
       "      <th>0</th>\n",
       "      <td>1</td>\n",
       "      <td>60.059998</td>\n",
       "    </tr>\n",
       "    <tr>\n",
       "      <th>1</th>\n",
       "      <td>2</td>\n",
       "      <td>96.052315</td>\n",
       "    </tr>\n",
       "    <tr>\n",
       "      <th>2</th>\n",
       "      <td>3</td>\n",
       "      <td>91.160157</td>\n",
       "    </tr>\n",
       "  </tbody>\n",
       "</table>\n",
       "</div>\n",
       "      <button class=\"colab-df-convert\" onclick=\"convertToInteractive('df-394df4e5-a4f3-45fe-9000-2532d7e5b84a')\"\n",
       "              title=\"Convert this dataframe to an interactive table.\"\n",
       "              style=\"display:none;\">\n",
       "        \n",
       "  <svg xmlns=\"http://www.w3.org/2000/svg\" height=\"24px\"viewBox=\"0 0 24 24\"\n",
       "       width=\"24px\">\n",
       "    <path d=\"M0 0h24v24H0V0z\" fill=\"none\"/>\n",
       "    <path d=\"M18.56 5.44l.94 2.06.94-2.06 2.06-.94-2.06-.94-.94-2.06-.94 2.06-2.06.94zm-11 1L8.5 8.5l.94-2.06 2.06-.94-2.06-.94L8.5 2.5l-.94 2.06-2.06.94zm10 10l.94 2.06.94-2.06 2.06-.94-2.06-.94-.94-2.06-.94 2.06-2.06.94z\"/><path d=\"M17.41 7.96l-1.37-1.37c-.4-.4-.92-.59-1.43-.59-.52 0-1.04.2-1.43.59L10.3 9.45l-7.72 7.72c-.78.78-.78 2.05 0 2.83L4 21.41c.39.39.9.59 1.41.59.51 0 1.02-.2 1.41-.59l7.78-7.78 2.81-2.81c.8-.78.8-2.07 0-2.86zM5.41 20L4 18.59l7.72-7.72 1.47 1.35L5.41 20z\"/>\n",
       "  </svg>\n",
       "      </button>\n",
       "      \n",
       "  <style>\n",
       "    .colab-df-container {\n",
       "      display:flex;\n",
       "      flex-wrap:wrap;\n",
       "      gap: 12px;\n",
       "    }\n",
       "\n",
       "    .colab-df-convert {\n",
       "      background-color: #E8F0FE;\n",
       "      border: none;\n",
       "      border-radius: 50%;\n",
       "      cursor: pointer;\n",
       "      display: none;\n",
       "      fill: #1967D2;\n",
       "      height: 32px;\n",
       "      padding: 0 0 0 0;\n",
       "      width: 32px;\n",
       "    }\n",
       "\n",
       "    .colab-df-convert:hover {\n",
       "      background-color: #E2EBFA;\n",
       "      box-shadow: 0px 1px 2px rgba(60, 64, 67, 0.3), 0px 1px 3px 1px rgba(60, 64, 67, 0.15);\n",
       "      fill: #174EA6;\n",
       "    }\n",
       "\n",
       "    [theme=dark] .colab-df-convert {\n",
       "      background-color: #3B4455;\n",
       "      fill: #D2E3FC;\n",
       "    }\n",
       "\n",
       "    [theme=dark] .colab-df-convert:hover {\n",
       "      background-color: #434B5C;\n",
       "      box-shadow: 0px 1px 3px 1px rgba(0, 0, 0, 0.15);\n",
       "      filter: drop-shadow(0px 1px 2px rgba(0, 0, 0, 0.3));\n",
       "      fill: #FFFFFF;\n",
       "    }\n",
       "  </style>\n",
       "\n",
       "      <script>\n",
       "        const buttonEl =\n",
       "          document.querySelector('#df-394df4e5-a4f3-45fe-9000-2532d7e5b84a button.colab-df-convert');\n",
       "        buttonEl.style.display =\n",
       "          google.colab.kernel.accessAllowed ? 'block' : 'none';\n",
       "\n",
       "        async function convertToInteractive(key) {\n",
       "          const element = document.querySelector('#df-394df4e5-a4f3-45fe-9000-2532d7e5b84a');\n",
       "          const dataTable =\n",
       "            await google.colab.kernel.invokeFunction('convertToInteractive',\n",
       "                                                     [key], {});\n",
       "          if (!dataTable) return;\n",
       "\n",
       "          const docLinkHtml = 'Like what you see? Visit the ' +\n",
       "            '<a target=\"_blank\" href=https://colab.research.google.com/notebooks/data_table.ipynb>data table notebook</a>'\n",
       "            + ' to learn more about interactive tables.';\n",
       "          element.innerHTML = '';\n",
       "          dataTable['output_type'] = 'display_data';\n",
       "          await google.colab.output.renderOutput(dataTable, element);\n",
       "          const docLink = document.createElement('div');\n",
       "          docLink.innerHTML = docLinkHtml;\n",
       "          element.appendChild(docLink);\n",
       "        }\n",
       "      </script>\n",
       "    </div>\n",
       "  </div>\n",
       "  "
      ],
      "text/plain": [
       "   key  total_wire\n",
       "0    1   60.059998\n",
       "1    2   96.052315\n",
       "2    3   91.160157"
      ]
     },
     "execution_count": 79,
     "metadata": {},
     "output_type": "execute_result"
    }
   ],
   "source": [
    "features_wire = data_wire[['key', 'total_wire']].copy()\n",
    "features_wire.head(3)"
   ]
  },
  {
   "cell_type": "code",
   "execution_count": 80,
   "metadata": {
    "colab": {
     "base_uri": "https://localhost:8080/"
    },
    "id": "TY3ZyqoCw_II",
    "outputId": "b0abd981-b668-41ad-8747-0a53d2fe9ecd"
   },
   "outputs": [
    {
     "data": {
      "text/plain": [
       "(3081, 2)"
      ]
     },
     "execution_count": 80,
     "metadata": {},
     "output_type": "execute_result"
    }
   ],
   "source": [
    "features_wire.shape"
   ]
  },
  {
   "cell_type": "markdown",
   "metadata": {
    "id": "DG43t_cPx69p"
   },
   "source": [
    "### Газ"
   ]
  },
  {
   "cell_type": "code",
   "execution_count": 81,
   "metadata": {
    "colab": {
     "base_uri": "https://localhost:8080/",
     "height": 143
    },
    "id": "R5MDTACdx-Hn",
    "outputId": "858efd5c-0a26-4f69-8e4f-c372c9ea1c44"
   },
   "outputs": [
    {
     "data": {
      "text/html": [
       "\n",
       "  <div id=\"df-896383c5-6c4e-450e-b643-7fe07b327f00\">\n",
       "    <div class=\"colab-df-container\">\n",
       "      <div>\n",
       "<style scoped>\n",
       "    .dataframe tbody tr th:only-of-type {\n",
       "        vertical-align: middle;\n",
       "    }\n",
       "\n",
       "    .dataframe tbody tr th {\n",
       "        vertical-align: top;\n",
       "    }\n",
       "\n",
       "    .dataframe thead th {\n",
       "        text-align: right;\n",
       "    }\n",
       "</style>\n",
       "<table border=\"1\" class=\"dataframe\">\n",
       "  <thead>\n",
       "    <tr style=\"text-align: right;\">\n",
       "      <th></th>\n",
       "      <th>key</th>\n",
       "      <th>Газ 1</th>\n",
       "    </tr>\n",
       "  </thead>\n",
       "  <tbody>\n",
       "    <tr>\n",
       "      <th>0</th>\n",
       "      <td>1</td>\n",
       "      <td>29.749986</td>\n",
       "    </tr>\n",
       "    <tr>\n",
       "      <th>1</th>\n",
       "      <td>2</td>\n",
       "      <td>12.555561</td>\n",
       "    </tr>\n",
       "    <tr>\n",
       "      <th>2</th>\n",
       "      <td>3</td>\n",
       "      <td>28.554793</td>\n",
       "    </tr>\n",
       "  </tbody>\n",
       "</table>\n",
       "</div>\n",
       "      <button class=\"colab-df-convert\" onclick=\"convertToInteractive('df-896383c5-6c4e-450e-b643-7fe07b327f00')\"\n",
       "              title=\"Convert this dataframe to an interactive table.\"\n",
       "              style=\"display:none;\">\n",
       "        \n",
       "  <svg xmlns=\"http://www.w3.org/2000/svg\" height=\"24px\"viewBox=\"0 0 24 24\"\n",
       "       width=\"24px\">\n",
       "    <path d=\"M0 0h24v24H0V0z\" fill=\"none\"/>\n",
       "    <path d=\"M18.56 5.44l.94 2.06.94-2.06 2.06-.94-2.06-.94-.94-2.06-.94 2.06-2.06.94zm-11 1L8.5 8.5l.94-2.06 2.06-.94-2.06-.94L8.5 2.5l-.94 2.06-2.06.94zm10 10l.94 2.06.94-2.06 2.06-.94-2.06-.94-.94-2.06-.94 2.06-2.06.94z\"/><path d=\"M17.41 7.96l-1.37-1.37c-.4-.4-.92-.59-1.43-.59-.52 0-1.04.2-1.43.59L10.3 9.45l-7.72 7.72c-.78.78-.78 2.05 0 2.83L4 21.41c.39.39.9.59 1.41.59.51 0 1.02-.2 1.41-.59l7.78-7.78 2.81-2.81c.8-.78.8-2.07 0-2.86zM5.41 20L4 18.59l7.72-7.72 1.47 1.35L5.41 20z\"/>\n",
       "  </svg>\n",
       "      </button>\n",
       "      \n",
       "  <style>\n",
       "    .colab-df-container {\n",
       "      display:flex;\n",
       "      flex-wrap:wrap;\n",
       "      gap: 12px;\n",
       "    }\n",
       "\n",
       "    .colab-df-convert {\n",
       "      background-color: #E8F0FE;\n",
       "      border: none;\n",
       "      border-radius: 50%;\n",
       "      cursor: pointer;\n",
       "      display: none;\n",
       "      fill: #1967D2;\n",
       "      height: 32px;\n",
       "      padding: 0 0 0 0;\n",
       "      width: 32px;\n",
       "    }\n",
       "\n",
       "    .colab-df-convert:hover {\n",
       "      background-color: #E2EBFA;\n",
       "      box-shadow: 0px 1px 2px rgba(60, 64, 67, 0.3), 0px 1px 3px 1px rgba(60, 64, 67, 0.15);\n",
       "      fill: #174EA6;\n",
       "    }\n",
       "\n",
       "    [theme=dark] .colab-df-convert {\n",
       "      background-color: #3B4455;\n",
       "      fill: #D2E3FC;\n",
       "    }\n",
       "\n",
       "    [theme=dark] .colab-df-convert:hover {\n",
       "      background-color: #434B5C;\n",
       "      box-shadow: 0px 1px 3px 1px rgba(0, 0, 0, 0.15);\n",
       "      filter: drop-shadow(0px 1px 2px rgba(0, 0, 0, 0.3));\n",
       "      fill: #FFFFFF;\n",
       "    }\n",
       "  </style>\n",
       "\n",
       "      <script>\n",
       "        const buttonEl =\n",
       "          document.querySelector('#df-896383c5-6c4e-450e-b643-7fe07b327f00 button.colab-df-convert');\n",
       "        buttonEl.style.display =\n",
       "          google.colab.kernel.accessAllowed ? 'block' : 'none';\n",
       "\n",
       "        async function convertToInteractive(key) {\n",
       "          const element = document.querySelector('#df-896383c5-6c4e-450e-b643-7fe07b327f00');\n",
       "          const dataTable =\n",
       "            await google.colab.kernel.invokeFunction('convertToInteractive',\n",
       "                                                     [key], {});\n",
       "          if (!dataTable) return;\n",
       "\n",
       "          const docLinkHtml = 'Like what you see? Visit the ' +\n",
       "            '<a target=\"_blank\" href=https://colab.research.google.com/notebooks/data_table.ipynb>data table notebook</a>'\n",
       "            + ' to learn more about interactive tables.';\n",
       "          element.innerHTML = '';\n",
       "          dataTable['output_type'] = 'display_data';\n",
       "          await google.colab.output.renderOutput(dataTable, element);\n",
       "          const docLink = document.createElement('div');\n",
       "          docLink.innerHTML = docLinkHtml;\n",
       "          element.appendChild(docLink);\n",
       "        }\n",
       "      </script>\n",
       "    </div>\n",
       "  </div>\n",
       "  "
      ],
      "text/plain": [
       "   key      Газ 1\n",
       "0    1  29.749986\n",
       "1    2  12.555561\n",
       "2    3  28.554793"
      ]
     },
     "execution_count": 81,
     "metadata": {},
     "output_type": "execute_result"
    }
   ],
   "source": [
    "data_gas.head(3)"
   ]
  },
  {
   "cell_type": "code",
   "execution_count": 82,
   "metadata": {
    "id": "Bp0R0E-JyE3s"
   },
   "outputs": [],
   "source": [
    "data_gas.rename(columns = {'Газ 1' : 'total_gas'}, inplace = True)"
   ]
  },
  {
   "cell_type": "code",
   "execution_count": 83,
   "metadata": {
    "id": "QyhsiLHKycVX"
   },
   "outputs": [],
   "source": [
    "features_gas = data_gas.copy()"
   ]
  },
  {
   "cell_type": "code",
   "execution_count": 84,
   "metadata": {
    "colab": {
     "base_uri": "https://localhost:8080/"
    },
    "id": "Yq3XWgMAyjn1",
    "outputId": "458a7981-15cf-4156-9e93-18b36ab02086"
   },
   "outputs": [
    {
     "data": {
      "text/plain": [
       "(3239, 2)"
      ]
     },
     "execution_count": 84,
     "metadata": {},
     "output_type": "execute_result"
    }
   ],
   "source": [
    "features_gas.shape"
   ]
  },
  {
   "cell_type": "markdown",
   "metadata": {
    "id": "1gcKpDFwyoKl"
   },
   "source": [
    "# Сведение итоговой таблицы признаков"
   ]
  },
  {
   "cell_type": "code",
   "execution_count": 85,
   "metadata": {
    "colab": {
     "base_uri": "https://localhost:8080/"
    },
    "id": "zOmcakJ-1tM2",
    "outputId": "04d6e61c-e988-4ded-9dc2-6e8b7337a94f"
   },
   "outputs": [
    {
     "data": {
      "text/plain": [
       "key              0\n",
       "features_temp    0\n",
       "key_count        0\n",
       "target_temp      0\n",
       "dtype: int64"
      ]
     },
     "execution_count": 85,
     "metadata": {},
     "output_type": "execute_result"
    }
   ],
   "source": [
    "all_data = pd.merge(features_temp, target_temp, how='left', on='key')\n",
    "all_data.isna().sum()"
   ]
  },
  {
   "cell_type": "code",
   "execution_count": 86,
   "metadata": {
    "colab": {
     "base_uri": "https://localhost:8080/"
    },
    "id": "BKqa1P4ZyxAd",
    "outputId": "0c15b772-69f9-4aca-cf99-6b4bed1166cb"
   },
   "outputs": [
    {
     "data": {
      "text/plain": [
       "key                0\n",
       "features_temp      0\n",
       "key_count          0\n",
       "target_temp        0\n",
       "total_heat_time    3\n",
       "total_power        3\n",
       "dtype: int64"
      ]
     },
     "execution_count": 86,
     "metadata": {},
     "output_type": "execute_result"
    }
   ],
   "source": [
    "all_data = pd.merge(all_data, features_arc, how='left', on='key')\n",
    "all_data.isna().sum()"
   ]
  },
  {
   "cell_type": "code",
   "execution_count": 87,
   "metadata": {
    "colab": {
     "base_uri": "https://localhost:8080/"
    },
    "id": "JhpupBlvyxcN",
    "outputId": "27b39a2b-ddce-41f1-cf06-a2ccea90dbfc"
   },
   "outputs": [
    {
     "data": {
      "text/plain": [
       "key                 0\n",
       "features_temp       0\n",
       "key_count           0\n",
       "target_temp         0\n",
       "total_heat_time     3\n",
       "total_power         3\n",
       "total_bulk         69\n",
       "dtype: int64"
      ]
     },
     "execution_count": 87,
     "metadata": {},
     "output_type": "execute_result"
    }
   ],
   "source": [
    "all_data = pd.merge(all_data, features_bulk, how='left', on='key')\n",
    "all_data.isna().sum()"
   ]
  },
  {
   "cell_type": "code",
   "execution_count": 88,
   "metadata": {
    "colab": {
     "base_uri": "https://localhost:8080/"
    },
    "id": "wVpm28ARyxmt",
    "outputId": "f148503e-6136-461e-cb7c-95e2fe41f3a8"
   },
   "outputs": [
    {
     "data": {
      "text/plain": [
       "key                  0\n",
       "features_temp        0\n",
       "key_count            0\n",
       "target_temp          0\n",
       "total_heat_time      3\n",
       "total_power          3\n",
       "total_bulk          69\n",
       "total_wire         104\n",
       "dtype: int64"
      ]
     },
     "execution_count": 88,
     "metadata": {},
     "output_type": "execute_result"
    }
   ],
   "source": [
    "all_data = pd.merge(all_data, features_wire, how='left', on='key')\n",
    "all_data.isna().sum()"
   ]
  },
  {
   "cell_type": "code",
   "execution_count": 89,
   "metadata": {
    "colab": {
     "base_uri": "https://localhost:8080/"
    },
    "id": "rQ0piIbPyxxV",
    "outputId": "02eb74f5-443a-4b18-e5af-5e56280b4d31"
   },
   "outputs": [
    {
     "name": "stdout",
     "output_type": "stream",
     "text": [
      "Общее кол-во пропусков в столбцах: 181\n"
     ]
    }
   ],
   "source": [
    "all_data = pd.merge(all_data, features_gas, how='left', on='key')\n",
    "print('Общее кол-во пропусков в столбцах:', all_data.isna().sum().sum())"
   ]
  },
  {
   "cell_type": "code",
   "execution_count": 90,
   "metadata": {
    "colab": {
     "base_uri": "https://localhost:8080/"
    },
    "id": "dl1x6pdH0CZN",
    "outputId": "27a9005c-913c-4c01-f9ab-75bbac0784d5"
   },
   "outputs": [
    {
     "data": {
      "text/plain": [
       "(2473, 9)"
      ]
     },
     "execution_count": 90,
     "metadata": {},
     "output_type": "execute_result"
    }
   ],
   "source": [
    "all_data.shape"
   ]
  },
  {
   "cell_type": "code",
   "execution_count": 91,
   "metadata": {
    "colab": {
     "base_uri": "https://localhost:8080/"
    },
    "id": "mF1EkuCizwUy",
    "outputId": "8c64f176-3270-42bd-d831-3e76fce210ca"
   },
   "outputs": [
    {
     "name": "stdout",
     "output_type": "stream",
     "text": [
      "Итоговое кол-во удалённых ключей: 149\n"
     ]
    }
   ],
   "source": [
    "clear_all_data = all_data.dropna(axis=0)\n",
    "print('Итоговое кол-во удалённых ключей:', all_data.shape[0] - clear_all_data.shape[0])"
   ]
  },
  {
   "cell_type": "code",
   "execution_count": 92,
   "metadata": {
    "id": "yQmlLD5g0c05"
   },
   "outputs": [],
   "source": [
    "# Ключ нам был нужен для сведения таблиц,\n",
    "# как признак он нам не нужен, можно сделать его индексом\n",
    "clear_all_data.set_index('key', inplace=True)"
   ]
  },
  {
   "cell_type": "code",
   "execution_count": 93,
   "metadata": {
    "colab": {
     "base_uri": "https://localhost:8080/",
     "height": 300
    },
    "id": "_Yelis0G5w_C",
    "outputId": "68519b68-b4f8-428b-ea7b-32bc66a85e82"
   },
   "outputs": [
    {
     "data": {
      "text/html": [
       "\n",
       "  <div id=\"df-4c13ade6-fd0f-47bd-8a64-b52fa33268a9\">\n",
       "    <div class=\"colab-df-container\">\n",
       "      <div>\n",
       "<style scoped>\n",
       "    .dataframe tbody tr th:only-of-type {\n",
       "        vertical-align: middle;\n",
       "    }\n",
       "\n",
       "    .dataframe tbody tr th {\n",
       "        vertical-align: top;\n",
       "    }\n",
       "\n",
       "    .dataframe thead th {\n",
       "        text-align: right;\n",
       "    }\n",
       "</style>\n",
       "<table border=\"1\" class=\"dataframe\">\n",
       "  <thead>\n",
       "    <tr style=\"text-align: right;\">\n",
       "      <th></th>\n",
       "      <th>features_temp</th>\n",
       "      <th>key_count</th>\n",
       "      <th>target_temp</th>\n",
       "      <th>total_heat_time</th>\n",
       "      <th>total_power</th>\n",
       "      <th>total_bulk</th>\n",
       "      <th>total_wire</th>\n",
       "      <th>total_gas</th>\n",
       "    </tr>\n",
       "  </thead>\n",
       "  <tbody>\n",
       "    <tr>\n",
       "      <th>count</th>\n",
       "      <td>2324.000000</td>\n",
       "      <td>2324.000000</td>\n",
       "      <td>2324.000000</td>\n",
       "      <td>2324.000000</td>\n",
       "      <td>2324.000000</td>\n",
       "      <td>2324.000000</td>\n",
       "      <td>2324.000000</td>\n",
       "      <td>2324.000000</td>\n",
       "    </tr>\n",
       "    <tr>\n",
       "      <th>mean</th>\n",
       "      <td>1587.368761</td>\n",
       "      <td>4.979776</td>\n",
       "      <td>1593.372633</td>\n",
       "      <td>808.196644</td>\n",
       "      <td>5.227779</td>\n",
       "      <td>610.083046</td>\n",
       "      <td>125.203274</td>\n",
       "      <td>11.378854</td>\n",
       "    </tr>\n",
       "    <tr>\n",
       "      <th>std</th>\n",
       "      <td>23.627590</td>\n",
       "      <td>1.784089</td>\n",
       "      <td>11.207457</td>\n",
       "      <td>340.813828</td>\n",
       "      <td>3.179026</td>\n",
       "      <td>287.574952</td>\n",
       "      <td>63.690752</td>\n",
       "      <td>6.397008</td>\n",
       "    </tr>\n",
       "    <tr>\n",
       "      <th>min</th>\n",
       "      <td>1519.000000</td>\n",
       "      <td>2.000000</td>\n",
       "      <td>1541.000000</td>\n",
       "      <td>57.000000</td>\n",
       "      <td>0.199582</td>\n",
       "      <td>19.000000</td>\n",
       "      <td>1.918800</td>\n",
       "      <td>0.008399</td>\n",
       "    </tr>\n",
       "    <tr>\n",
       "      <th>25%</th>\n",
       "      <td>1571.000000</td>\n",
       "      <td>4.000000</td>\n",
       "      <td>1587.000000</td>\n",
       "      <td>581.000000</td>\n",
       "      <td>3.065252</td>\n",
       "      <td>440.000000</td>\n",
       "      <td>89.048700</td>\n",
       "      <td>7.282534</td>\n",
       "    </tr>\n",
       "    <tr>\n",
       "      <th>50%</th>\n",
       "      <td>1587.000000</td>\n",
       "      <td>5.000000</td>\n",
       "      <td>1593.000000</td>\n",
       "      <td>778.000000</td>\n",
       "      <td>4.664559</td>\n",
       "      <td>609.000000</td>\n",
       "      <td>116.106121</td>\n",
       "      <td>10.100687</td>\n",
       "    </tr>\n",
       "    <tr>\n",
       "      <th>75%</th>\n",
       "      <td>1603.000000</td>\n",
       "      <td>6.000000</td>\n",
       "      <td>1598.000000</td>\n",
       "      <td>993.000000</td>\n",
       "      <td>6.670359</td>\n",
       "      <td>796.000000</td>\n",
       "      <td>151.555294</td>\n",
       "      <td>14.218487</td>\n",
       "    </tr>\n",
       "    <tr>\n",
       "      <th>max</th>\n",
       "      <td>1660.000000</td>\n",
       "      <td>16.000000</td>\n",
       "      <td>1653.000000</td>\n",
       "      <td>4189.000000</td>\n",
       "      <td>48.830309</td>\n",
       "      <td>3235.000000</td>\n",
       "      <td>568.777664</td>\n",
       "      <td>77.995040</td>\n",
       "    </tr>\n",
       "  </tbody>\n",
       "</table>\n",
       "</div>\n",
       "      <button class=\"colab-df-convert\" onclick=\"convertToInteractive('df-4c13ade6-fd0f-47bd-8a64-b52fa33268a9')\"\n",
       "              title=\"Convert this dataframe to an interactive table.\"\n",
       "              style=\"display:none;\">\n",
       "        \n",
       "  <svg xmlns=\"http://www.w3.org/2000/svg\" height=\"24px\"viewBox=\"0 0 24 24\"\n",
       "       width=\"24px\">\n",
       "    <path d=\"M0 0h24v24H0V0z\" fill=\"none\"/>\n",
       "    <path d=\"M18.56 5.44l.94 2.06.94-2.06 2.06-.94-2.06-.94-.94-2.06-.94 2.06-2.06.94zm-11 1L8.5 8.5l.94-2.06 2.06-.94-2.06-.94L8.5 2.5l-.94 2.06-2.06.94zm10 10l.94 2.06.94-2.06 2.06-.94-2.06-.94-.94-2.06-.94 2.06-2.06.94z\"/><path d=\"M17.41 7.96l-1.37-1.37c-.4-.4-.92-.59-1.43-.59-.52 0-1.04.2-1.43.59L10.3 9.45l-7.72 7.72c-.78.78-.78 2.05 0 2.83L4 21.41c.39.39.9.59 1.41.59.51 0 1.02-.2 1.41-.59l7.78-7.78 2.81-2.81c.8-.78.8-2.07 0-2.86zM5.41 20L4 18.59l7.72-7.72 1.47 1.35L5.41 20z\"/>\n",
       "  </svg>\n",
       "      </button>\n",
       "      \n",
       "  <style>\n",
       "    .colab-df-container {\n",
       "      display:flex;\n",
       "      flex-wrap:wrap;\n",
       "      gap: 12px;\n",
       "    }\n",
       "\n",
       "    .colab-df-convert {\n",
       "      background-color: #E8F0FE;\n",
       "      border: none;\n",
       "      border-radius: 50%;\n",
       "      cursor: pointer;\n",
       "      display: none;\n",
       "      fill: #1967D2;\n",
       "      height: 32px;\n",
       "      padding: 0 0 0 0;\n",
       "      width: 32px;\n",
       "    }\n",
       "\n",
       "    .colab-df-convert:hover {\n",
       "      background-color: #E2EBFA;\n",
       "      box-shadow: 0px 1px 2px rgba(60, 64, 67, 0.3), 0px 1px 3px 1px rgba(60, 64, 67, 0.15);\n",
       "      fill: #174EA6;\n",
       "    }\n",
       "\n",
       "    [theme=dark] .colab-df-convert {\n",
       "      background-color: #3B4455;\n",
       "      fill: #D2E3FC;\n",
       "    }\n",
       "\n",
       "    [theme=dark] .colab-df-convert:hover {\n",
       "      background-color: #434B5C;\n",
       "      box-shadow: 0px 1px 3px 1px rgba(0, 0, 0, 0.15);\n",
       "      filter: drop-shadow(0px 1px 2px rgba(0, 0, 0, 0.3));\n",
       "      fill: #FFFFFF;\n",
       "    }\n",
       "  </style>\n",
       "\n",
       "      <script>\n",
       "        const buttonEl =\n",
       "          document.querySelector('#df-4c13ade6-fd0f-47bd-8a64-b52fa33268a9 button.colab-df-convert');\n",
       "        buttonEl.style.display =\n",
       "          google.colab.kernel.accessAllowed ? 'block' : 'none';\n",
       "\n",
       "        async function convertToInteractive(key) {\n",
       "          const element = document.querySelector('#df-4c13ade6-fd0f-47bd-8a64-b52fa33268a9');\n",
       "          const dataTable =\n",
       "            await google.colab.kernel.invokeFunction('convertToInteractive',\n",
       "                                                     [key], {});\n",
       "          if (!dataTable) return;\n",
       "\n",
       "          const docLinkHtml = 'Like what you see? Visit the ' +\n",
       "            '<a target=\"_blank\" href=https://colab.research.google.com/notebooks/data_table.ipynb>data table notebook</a>'\n",
       "            + ' to learn more about interactive tables.';\n",
       "          element.innerHTML = '';\n",
       "          dataTable['output_type'] = 'display_data';\n",
       "          await google.colab.output.renderOutput(dataTable, element);\n",
       "          const docLink = document.createElement('div');\n",
       "          docLink.innerHTML = docLinkHtml;\n",
       "          element.appendChild(docLink);\n",
       "        }\n",
       "      </script>\n",
       "    </div>\n",
       "  </div>\n",
       "  "
      ],
      "text/plain": [
       "       features_temp    key_count  target_temp  total_heat_time  total_power  \\\n",
       "count    2324.000000  2324.000000  2324.000000      2324.000000  2324.000000   \n",
       "mean     1587.368761     4.979776  1593.372633       808.196644     5.227779   \n",
       "std        23.627590     1.784089    11.207457       340.813828     3.179026   \n",
       "min      1519.000000     2.000000  1541.000000        57.000000     0.199582   \n",
       "25%      1571.000000     4.000000  1587.000000       581.000000     3.065252   \n",
       "50%      1587.000000     5.000000  1593.000000       778.000000     4.664559   \n",
       "75%      1603.000000     6.000000  1598.000000       993.000000     6.670359   \n",
       "max      1660.000000    16.000000  1653.000000      4189.000000    48.830309   \n",
       "\n",
       "        total_bulk   total_wire    total_gas  \n",
       "count  2324.000000  2324.000000  2324.000000  \n",
       "mean    610.083046   125.203274    11.378854  \n",
       "std     287.574952    63.690752     6.397008  \n",
       "min      19.000000     1.918800     0.008399  \n",
       "25%     440.000000    89.048700     7.282534  \n",
       "50%     609.000000   116.106121    10.100687  \n",
       "75%     796.000000   151.555294    14.218487  \n",
       "max    3235.000000   568.777664    77.995040  "
      ]
     },
     "execution_count": 93,
     "metadata": {},
     "output_type": "execute_result"
    }
   ],
   "source": [
    "clear_all_data.describe()"
   ]
  },
  {
   "cell_type": "code",
   "execution_count": 94,
   "metadata": {
    "colab": {
     "base_uri": "https://localhost:8080/",
     "height": 354
    },
    "id": "oPvpPAZveuSd",
    "outputId": "c5bcda3d-7bf6-4a26-8613-1dc5178b244d"
   },
   "outputs": [
    {
     "data": {
      "text/plain": [
       "<matplotlib.axes._subplots.AxesSubplot at 0x7f34d7c10090>"
      ]
     },
     "execution_count": 94,
     "metadata": {},
     "output_type": "execute_result"
    },
    {
     "data": {
      "image/png": "[encoded data removed]",
      "text/plain": [
       "<Figure size 432x288 with 2 Axes>"
      ]
     },
     "metadata": {
      "needs_background": "light"
     },
     "output_type": "display_data"
    }
   ],
   "source": [
    "# Построим матрицу корреляции\n",
    "sns.heatmap(clear_all_data.corr(), cmap=\"YlGnBu\", annot=True)"
   ]
  },
  {
   "cell_type": "code",
   "execution_count": 95,
   "metadata": {
    "colab": {
     "base_uri": "https://localhost:8080/",
     "height": 394
    },
    "id": "KTuLipOe1lTu",
    "outputId": "63ceb975-3c4a-498e-a599-665aa6439567"
   },
   "outputs": [
    {
     "data": {
      "text/html": [
       "\n",
       "  <div id=\"df-e9e59cb5-656a-4e08-afe0-f2d491e30cec\">\n",
       "    <div class=\"colab-df-container\">\n",
       "      <div>\n",
       "<style scoped>\n",
       "    .dataframe tbody tr th:only-of-type {\n",
       "        vertical-align: middle;\n",
       "    }\n",
       "\n",
       "    .dataframe tbody tr th {\n",
       "        vertical-align: top;\n",
       "    }\n",
       "\n",
       "    .dataframe thead th {\n",
       "        text-align: right;\n",
       "    }\n",
       "</style>\n",
       "<table border=\"1\" class=\"dataframe\">\n",
       "  <thead>\n",
       "    <tr style=\"text-align: right;\">\n",
       "      <th></th>\n",
       "      <th>features_temp</th>\n",
       "      <th>key_count</th>\n",
       "      <th>target_temp</th>\n",
       "      <th>total_heat_time</th>\n",
       "      <th>total_power</th>\n",
       "      <th>total_bulk</th>\n",
       "      <th>total_wire</th>\n",
       "      <th>total_gas</th>\n",
       "    </tr>\n",
       "    <tr>\n",
       "      <th>key</th>\n",
       "      <th></th>\n",
       "      <th></th>\n",
       "      <th></th>\n",
       "      <th></th>\n",
       "      <th></th>\n",
       "      <th></th>\n",
       "      <th></th>\n",
       "      <th></th>\n",
       "    </tr>\n",
       "  </thead>\n",
       "  <tbody>\n",
       "    <tr>\n",
       "      <th>1</th>\n",
       "      <td>1571.0</td>\n",
       "      <td>5</td>\n",
       "      <td>1613.0</td>\n",
       "      <td>1098.0</td>\n",
       "      <td>8.572405</td>\n",
       "      <td>553.0</td>\n",
       "      <td>60.059998</td>\n",
       "      <td>29.749986</td>\n",
       "    </tr>\n",
       "    <tr>\n",
       "      <th>2</th>\n",
       "      <td>1581.0</td>\n",
       "      <td>6</td>\n",
       "      <td>1602.0</td>\n",
       "      <td>811.0</td>\n",
       "      <td>4.796331</td>\n",
       "      <td>582.0</td>\n",
       "      <td>96.052315</td>\n",
       "      <td>12.555561</td>\n",
       "    </tr>\n",
       "    <tr>\n",
       "      <th>3</th>\n",
       "      <td>1596.0</td>\n",
       "      <td>5</td>\n",
       "      <td>1599.0</td>\n",
       "      <td>655.0</td>\n",
       "      <td>3.298466</td>\n",
       "      <td>544.0</td>\n",
       "      <td>91.160157</td>\n",
       "      <td>28.554793</td>\n",
       "    </tr>\n",
       "    <tr>\n",
       "      <th>4</th>\n",
       "      <td>1601.0</td>\n",
       "      <td>3</td>\n",
       "      <td>1625.0</td>\n",
       "      <td>741.0</td>\n",
       "      <td>4.970783</td>\n",
       "      <td>595.0</td>\n",
       "      <td>89.063515</td>\n",
       "      <td>18.841219</td>\n",
       "    </tr>\n",
       "    <tr>\n",
       "      <th>5</th>\n",
       "      <td>1576.0</td>\n",
       "      <td>2</td>\n",
       "      <td>1602.0</td>\n",
       "      <td>869.0</td>\n",
       "      <td>6.114611</td>\n",
       "      <td>584.0</td>\n",
       "      <td>98.352796</td>\n",
       "      <td>5.413692</td>\n",
       "    </tr>\n",
       "    <tr>\n",
       "      <th>6</th>\n",
       "      <td>1543.0</td>\n",
       "      <td>5</td>\n",
       "      <td>1596.0</td>\n",
       "      <td>952.0</td>\n",
       "      <td>7.561183</td>\n",
       "      <td>676.0</td>\n",
       "      <td>108.224477</td>\n",
       "      <td>11.273392</td>\n",
       "    </tr>\n",
       "    <tr>\n",
       "      <th>7</th>\n",
       "      <td>1586.0</td>\n",
       "      <td>5</td>\n",
       "      <td>1599.0</td>\n",
       "      <td>673.0</td>\n",
       "      <td>3.973900</td>\n",
       "      <td>627.0</td>\n",
       "      <td>98.061600</td>\n",
       "      <td>9.836267</td>\n",
       "    </tr>\n",
       "    <tr>\n",
       "      <th>8</th>\n",
       "      <td>1577.0</td>\n",
       "      <td>4</td>\n",
       "      <td>1598.0</td>\n",
       "      <td>913.0</td>\n",
       "      <td>7.774995</td>\n",
       "      <td>914.0</td>\n",
       "      <td>155.282394</td>\n",
       "      <td>15.171553</td>\n",
       "    </tr>\n",
       "    <tr>\n",
       "      <th>9</th>\n",
       "      <td>1587.0</td>\n",
       "      <td>5</td>\n",
       "      <td>1592.0</td>\n",
       "      <td>625.0</td>\n",
       "      <td>2.586241</td>\n",
       "      <td>526.0</td>\n",
       "      <td>122.536960</td>\n",
       "      <td>8.216623</td>\n",
       "    </tr>\n",
       "    <tr>\n",
       "      <th>10</th>\n",
       "      <td>1574.0</td>\n",
       "      <td>8</td>\n",
       "      <td>1593.0</td>\n",
       "      <td>825.0</td>\n",
       "      <td>4.085506</td>\n",
       "      <td>509.0</td>\n",
       "      <td>93.620796</td>\n",
       "      <td>6.529891</td>\n",
       "    </tr>\n",
       "  </tbody>\n",
       "</table>\n",
       "</div>\n",
       "      <button class=\"colab-df-convert\" onclick=\"convertToInteractive('df-e9e59cb5-656a-4e08-afe0-f2d491e30cec')\"\n",
       "              title=\"Convert this dataframe to an interactive table.\"\n",
       "              style=\"display:none;\">\n",
       "        \n",
       "  <svg xmlns=\"http://www.w3.org/2000/svg\" height=\"24px\"viewBox=\"0 0 24 24\"\n",
       "       width=\"24px\">\n",
       "    <path d=\"M0 0h24v24H0V0z\" fill=\"none\"/>\n",
       "    <path d=\"M18.56 5.44l.94 2.06.94-2.06 2.06-.94-2.06-.94-.94-2.06-.94 2.06-2.06.94zm-11 1L8.5 8.5l.94-2.06 2.06-.94-2.06-.94L8.5 2.5l-.94 2.06-2.06.94zm10 10l.94 2.06.94-2.06 2.06-.94-2.06-.94-.94-2.06-.94 2.06-2.06.94z\"/><path d=\"M17.41 7.96l-1.37-1.37c-.4-.4-.92-.59-1.43-.59-.52 0-1.04.2-1.43.59L10.3 9.45l-7.72 7.72c-.78.78-.78 2.05 0 2.83L4 21.41c.39.39.9.59 1.41.59.51 0 1.02-.2 1.41-.59l7.78-7.78 2.81-2.81c.8-.78.8-2.07 0-2.86zM5.41 20L4 18.59l7.72-7.72 1.47 1.35L5.41 20z\"/>\n",
       "  </svg>\n",
       "      </button>\n",
       "      \n",
       "  <style>\n",
       "    .colab-df-container {\n",
       "      display:flex;\n",
       "      flex-wrap:wrap;\n",
       "      gap: 12px;\n",
       "    }\n",
       "\n",
       "    .colab-df-convert {\n",
       "      background-color: #E8F0FE;\n",
       "      border: none;\n",
       "      border-radius: 50%;\n",
       "      cursor: pointer;\n",
       "      display: none;\n",
       "      fill: #1967D2;\n",
       "      height: 32px;\n",
       "      padding: 0 0 0 0;\n",
       "      width: 32px;\n",
       "    }\n",
       "\n",
       "    .colab-df-convert:hover {\n",
       "      background-color: #E2EBFA;\n",
       "      box-shadow: 0px 1px 2px rgba(60, 64, 67, 0.3), 0px 1px 3px 1px rgba(60, 64, 67, 0.15);\n",
       "      fill: #174EA6;\n",
       "    }\n",
       "\n",
       "    [theme=dark] .colab-df-convert {\n",
       "      background-color: #3B4455;\n",
       "      fill: #D2E3FC;\n",
       "    }\n",
       "\n",
       "    [theme=dark] .colab-df-convert:hover {\n",
       "      background-color: #434B5C;\n",
       "      box-shadow: 0px 1px 3px 1px rgba(0, 0, 0, 0.15);\n",
       "      filter: drop-shadow(0px 1px 2px rgba(0, 0, 0, 0.3));\n",
       "      fill: #FFFFFF;\n",
       "    }\n",
       "  </style>\n",
       "\n",
       "      <script>\n",
       "        const buttonEl =\n",
       "          document.querySelector('#df-e9e59cb5-656a-4e08-afe0-f2d491e30cec button.colab-df-convert');\n",
       "        buttonEl.style.display =\n",
       "          google.colab.kernel.accessAllowed ? 'block' : 'none';\n",
       "\n",
       "        async function convertToInteractive(key) {\n",
       "          const element = document.querySelector('#df-e9e59cb5-656a-4e08-afe0-f2d491e30cec');\n",
       "          const dataTable =\n",
       "            await google.colab.kernel.invokeFunction('convertToInteractive',\n",
       "                                                     [key], {});\n",
       "          if (!dataTable) return;\n",
       "\n",
       "          const docLinkHtml = 'Like what you see? Visit the ' +\n",
       "            '<a target=\"_blank\" href=https://colab.research.google.com/notebooks/data_table.ipynb>data table notebook</a>'\n",
       "            + ' to learn more about interactive tables.';\n",
       "          element.innerHTML = '';\n",
       "          dataTable['output_type'] = 'display_data';\n",
       "          await google.colab.output.renderOutput(dataTable, element);\n",
       "          const docLink = document.createElement('div');\n",
       "          docLink.innerHTML = docLinkHtml;\n",
       "          element.appendChild(docLink);\n",
       "        }\n",
       "      </script>\n",
       "    </div>\n",
       "  </div>\n",
       "  "
      ],
      "text/plain": [
       "     features_temp  key_count  target_temp  total_heat_time  total_power  \\\n",
       "key                                                                        \n",
       "1           1571.0          5       1613.0           1098.0     8.572405   \n",
       "2           1581.0          6       1602.0            811.0     4.796331   \n",
       "3           1596.0          5       1599.0            655.0     3.298466   \n",
       "4           1601.0          3       1625.0            741.0     4.970783   \n",
       "5           1576.0          2       1602.0            869.0     6.114611   \n",
       "6           1543.0          5       1596.0            952.0     7.561183   \n",
       "7           1586.0          5       1599.0            673.0     3.973900   \n",
       "8           1577.0          4       1598.0            913.0     7.774995   \n",
       "9           1587.0          5       1592.0            625.0     2.586241   \n",
       "10          1574.0          8       1593.0            825.0     4.085506   \n",
       "\n",
       "     total_bulk  total_wire  total_gas  \n",
       "key                                     \n",
       "1         553.0   60.059998  29.749986  \n",
       "2         582.0   96.052315  12.555561  \n",
       "3         544.0   91.160157  28.554793  \n",
       "4         595.0   89.063515  18.841219  \n",
       "5         584.0   98.352796   5.413692  \n",
       "6         676.0  108.224477  11.273392  \n",
       "7         627.0   98.061600   9.836267  \n",
       "8         914.0  155.282394  15.171553  \n",
       "9         526.0  122.536960   8.216623  \n",
       "10        509.0   93.620796   6.529891  "
      ]
     },
     "execution_count": 95,
     "metadata": {},
     "output_type": "execute_result"
    }
   ],
   "source": [
    "clear_all_data.head(10)"
   ]
  },
  {
   "cell_type": "code",
   "execution_count": 96,
   "metadata": {
    "colab": {
     "base_uri": "https://localhost:8080/"
    },
    "id": "QjskV-Ry1gXi",
    "outputId": "cdfda062-4b8d-4760-d8d1-c3680b233c6c"
   },
   "outputs": [
    {
     "data": {
      "text/plain": [
       "(2324, 8)"
      ]
     },
     "execution_count": 96,
     "metadata": {},
     "output_type": "execute_result"
    }
   ],
   "source": [
    "clear_all_data.shape"
   ]
  },
  {
   "cell_type": "markdown",
   "metadata": {
    "id": "eSXiHam_yojp"
   },
   "source": [
    "# Обучение моделей"
   ]
  },
  {
   "cell_type": "code",
   "execution_count": 97,
   "metadata": {
    "id": "vrQgnp3Xzrba"
   },
   "outputs": [],
   "source": [
    "# Функция строющая график предсказания и целевого признака\n",
    "# ничего не возвращает, только печатает МАЕ и строит график\n",
    "# принимает на вход\n",
    "# модель -> model\n",
    "# обучающие признаки -> feat\n",
    "# целевой признак -> targ\n",
    "# так же можно задать название графика -> title\n",
    "def predict_analys(model, feat, targ, title=''):\n",
    "    pred = model.predict(feat)\n",
    "    pred_df = pd.DataFrame(pred, index=targ.index)\n",
    "    pred_df = pred_df.rename(columns={0:'predict_temp'})\n",
    "    print('MAE:', mean_absolute_error(targ, pred))\n",
    "    (pred_df.merge(targ, on='key')\n",
    "         .sort_values(by='target_temp')\n",
    "         .reset_index(drop=True)\n",
    "         .plot.line(alpha=0.5, figsize=(12, 6), title=title))\n",
    "    plt.show()"
   ]
  },
  {
   "cell_type": "markdown",
   "metadata": {
    "id": "-I8a7i9Iyo-g"
   },
   "source": [
    "## Разделение на выборки"
   ]
  },
  {
   "cell_type": "code",
   "execution_count": 98,
   "metadata": {
    "id": "GYoSC5m_ypaR"
   },
   "outputs": [],
   "source": [
    "target = clear_all_data['target_temp']\n",
    "features = clear_all_data.drop('target_temp', axis=1)\n",
    "features_train, features_test, target_train, target_test = train_test_split(\n",
    "    features, target, test_size=0.25, random_state=RANDOM_STATE)"
   ]
  },
  {
   "cell_type": "code",
   "execution_count": 99,
   "metadata": {
    "id": "T9Pbjfo74mCI"
   },
   "outputs": [],
   "source": [
    "# У нас довольно разные величины, отскалируем\n",
    "scaler = StandardScaler()\n",
    "scaler.fit(features_train)\n",
    "features_train = scaler.transform(features_train)\n",
    "features_test = scaler.transform(features_test)"
   ]
  },
  {
   "cell_type": "code",
   "execution_count": 100,
   "metadata": {
    "colab": {
     "base_uri": "https://localhost:8080/"
    },
    "id": "eGdHyqvhypkx",
    "outputId": "6ae2dd10-a64b-49b0-befe-a400c441b5b4"
   },
   "outputs": [
    {
     "data": {
      "text/plain": [
       "((1743, 7), (581, 7), (1743,), (581,))"
      ]
     },
     "execution_count": 100,
     "metadata": {},
     "output_type": "execute_result"
    }
   ],
   "source": [
    "features_train.shape, features_test.shape, target_train.shape, target_test.shape"
   ]
  },
  {
   "cell_type": "markdown",
   "metadata": {
    "id": "YRubOmaj45Ov"
   },
   "source": [
    "## LinearRegression"
   ]
  },
  {
   "cell_type": "code",
   "execution_count": 101,
   "metadata": {
    "id": "eCkI7rDs5Omf"
   },
   "outputs": [],
   "source": [
    "lr_model = LinearRegression()"
   ]
  },
  {
   "cell_type": "code",
   "execution_count": 102,
   "metadata": {
    "id": "5hkvMavKsIda"
   },
   "outputs": [],
   "source": [
    "lr_grid = {\n",
    "    'normalize' : [True, False]\n",
    "}"
   ]
  },
  {
   "cell_type": "code",
   "execution_count": 103,
   "metadata": {
    "id": "4NP_kYh-sIdb"
   },
   "outputs": [],
   "source": [
    "lr_rs_model = RandomizedSearchCV(lr_model, \n",
    "                                        lr_grid,\n",
    "                                        scoring='neg_mean_absolute_error',\n",
    "                                        n_iter=2,\n",
    "                                        random_state=RANDOM_STATE,\n",
    "                                        cv=3)"
   ]
  },
  {
   "cell_type": "code",
   "execution_count": 104,
   "metadata": {
    "colab": {
     "base_uri": "https://localhost:8080/"
    },
    "id": "HJVOFI91sIdb",
    "outputId": "b54b7084-5404-4200-b696-232f4cf8087b",
    "scrolled": true
   },
   "outputs": [
    {
     "name": "stdout",
     "output_type": "stream",
     "text": [
      "CPU times: user 39.1 ms, sys: 2 ms, total: 41.1 ms\n",
      "Wall time: 85.9 ms\n"
     ]
    },
    {
     "name": "stderr",
     "output_type": "stream",
     "text": [
      "/usr/local/lib/python3.7/dist-packages/sklearn/linear_model/_base.py:145: FutureWarning: 'normalize' was deprecated in version 1.0 and will be removed in 1.2.\n",
      "If you wish to scale the data, use Pipeline with a StandardScaler in a preprocessing stage. To reproduce the previous behavior:\n",
      "\n",
      "from sklearn.pipeline import make_pipeline\n",
      "\n",
      "model = make_pipeline(StandardScaler(with_mean=False), LinearRegression())\n",
      "\n",
      "If you wish to pass a sample_weight parameter, you need to pass it as a fit parameter to each step of the pipeline as follows:\n",
      "\n",
      "kwargs = {s[0] + '__sample_weight': sample_weight for s in model.steps}\n",
      "model.fit(X, y, **kwargs)\n",
      "\n",
      "\n",
      "  FutureWarning,\n",
      "/usr/local/lib/python3.7/dist-packages/sklearn/linear_model/_base.py:145: FutureWarning: 'normalize' was deprecated in version 1.0 and will be removed in 1.2.\n",
      "If you wish to scale the data, use Pipeline with a StandardScaler in a preprocessing stage. To reproduce the previous behavior:\n",
      "\n",
      "from sklearn.pipeline import make_pipeline\n",
      "\n",
      "model = make_pipeline(StandardScaler(with_mean=False), LinearRegression())\n",
      "\n",
      "If you wish to pass a sample_weight parameter, you need to pass it as a fit parameter to each step of the pipeline as follows:\n",
      "\n",
      "kwargs = {s[0] + '__sample_weight': sample_weight for s in model.steps}\n",
      "model.fit(X, y, **kwargs)\n",
      "\n",
      "\n",
      "  FutureWarning,\n",
      "/usr/local/lib/python3.7/dist-packages/sklearn/linear_model/_base.py:145: FutureWarning: 'normalize' was deprecated in version 1.0 and will be removed in 1.2.\n",
      "If you wish to scale the data, use Pipeline with a StandardScaler in a preprocessing stage. To reproduce the previous behavior:\n",
      "\n",
      "from sklearn.pipeline import make_pipeline\n",
      "\n",
      "model = make_pipeline(StandardScaler(with_mean=False), LinearRegression())\n",
      "\n",
      "If you wish to pass a sample_weight parameter, you need to pass it as a fit parameter to each step of the pipeline as follows:\n",
      "\n",
      "kwargs = {s[0] + '__sample_weight': sample_weight for s in model.steps}\n",
      "model.fit(X, y, **kwargs)\n",
      "\n",
      "\n",
      "  FutureWarning,\n",
      "/usr/local/lib/python3.7/dist-packages/sklearn/linear_model/_base.py:155: FutureWarning: 'normalize' was deprecated in version 1.0 and will be removed in 1.2. Please leave the normalize parameter to its default value to silence this warning. The default behavior of this estimator is to not do any normalization. If normalization is needed please use sklearn.preprocessing.StandardScaler instead.\n",
      "  FutureWarning,\n",
      "/usr/local/lib/python3.7/dist-packages/sklearn/linear_model/_base.py:155: FutureWarning: 'normalize' was deprecated in version 1.0 and will be removed in 1.2. Please leave the normalize parameter to its default value to silence this warning. The default behavior of this estimator is to not do any normalization. If normalization is needed please use sklearn.preprocessing.StandardScaler instead.\n",
      "  FutureWarning,\n",
      "/usr/local/lib/python3.7/dist-packages/sklearn/linear_model/_base.py:155: FutureWarning: 'normalize' was deprecated in version 1.0 and will be removed in 1.2. Please leave the normalize parameter to its default value to silence this warning. The default behavior of this estimator is to not do any normalization. If normalization is needed please use sklearn.preprocessing.StandardScaler instead.\n",
      "  FutureWarning,\n",
      "/usr/local/lib/python3.7/dist-packages/sklearn/linear_model/_base.py:155: FutureWarning: 'normalize' was deprecated in version 1.0 and will be removed in 1.2. Please leave the normalize parameter to its default value to silence this warning. The default behavior of this estimator is to not do any normalization. If normalization is needed please use sklearn.preprocessing.StandardScaler instead.\n",
      "  FutureWarning,\n"
     ]
    },
    {
     "data": {
      "text/plain": [
       "RandomizedSearchCV(cv=3, estimator=LinearRegression(), n_iter=2,\n",
       "                   param_distributions={'normalize': [True, False]},\n",
       "                   random_state=250722, scoring='neg_mean_absolute_error')"
      ]
     },
     "execution_count": 104,
     "metadata": {},
     "output_type": "execute_result"
    }
   ],
   "source": [
    "%%time\n",
    "lr_rs_model.fit(features_train, target_train)"
   ]
  },
  {
   "cell_type": "code",
   "execution_count": 105,
   "metadata": {
    "colab": {
     "base_uri": "https://localhost:8080/"
    },
    "id": "rMwUvxshsIdb",
    "outputId": "38ee1ee7-1dd1-4a4c-a6f2-4fda5b7db4ef"
   },
   "outputs": [
    {
     "data": {
      "text/plain": [
       "{'normalize': False}"
      ]
     },
     "execution_count": 105,
     "metadata": {},
     "output_type": "execute_result"
    }
   ],
   "source": [
    "lr_rs_model.best_params_"
   ]
  },
  {
   "cell_type": "code",
   "execution_count": 106,
   "metadata": {
    "colab": {
     "base_uri": "https://localhost:8080/"
    },
    "id": "ltO6Tu2hsIdc",
    "outputId": "864bd53c-f933-4dc0-e077-0b25028ae59a"
   },
   "outputs": [
    {
     "data": {
      "text/plain": [
       "6.54561397127944"
      ]
     },
     "execution_count": 106,
     "metadata": {},
     "output_type": "execute_result"
    }
   ],
   "source": [
    "-lr_rs_model.best_score_"
   ]
  },
  {
   "cell_type": "markdown",
   "metadata": {
    "id": "PIVToWrX5OOP"
   },
   "source": [
    "## CatBoosting"
   ]
  },
  {
   "cell_type": "code",
   "execution_count": 107,
   "metadata": {
    "id": "Aevy4KQemzgc"
   },
   "outputs": [],
   "source": [
    "cat_model = CatBoostRegressor(random_state=RANDOM_STATE, verbose=False, loss_function='MAE')\n",
    "\n",
    "cat_grid = {\n",
    "    'learning_rate' : [rate * 0.01 for rate in range(1, 10, 1)],\n",
    "    'iterations' : [iter for iter in range(1000, 3000, 1000)]\n",
    "}"
   ]
  },
  {
   "cell_type": "code",
   "execution_count": 108,
   "metadata": {
    "id": "y3pSpLIxodtE"
   },
   "outputs": [],
   "source": [
    "cat_rs_model = RandomizedSearchCV(cat_model, \n",
    "                                        cat_grid,\n",
    "                                        scoring='neg_mean_absolute_error',\n",
    "                                        n_iter=10,\n",
    "                                        random_state=RANDOM_STATE,\n",
    "                                        cv=3)"
   ]
  },
  {
   "cell_type": "code",
   "execution_count": 109,
   "metadata": {
    "colab": {
     "base_uri": "https://localhost:8080/"
    },
    "id": "9o8pzh-moznc",
    "outputId": "ec89b85c-14f2-4760-eee2-4ff7bd05e7b2"
   },
   "outputs": [
    {
     "name": "stdout",
     "output_type": "stream",
     "text": [
      "CPU times: user 2min 58s, sys: 22.4 s, total: 3min 20s\n",
      "Wall time: 2min 4s\n"
     ]
    },
    {
     "data": {
      "text/plain": [
       "RandomizedSearchCV(cv=3,\n",
       "                   estimator=<catboost.core.CatBoostRegressor object at 0x7f34d4f70a90>,\n",
       "                   param_distributions={'iterations': [1000, 2000],\n",
       "                                        'learning_rate': [0.01, 0.02, 0.03,\n",
       "                                                          0.04, 0.05, 0.06,\n",
       "                                                          0.07, 0.08, 0.09]},\n",
       "                   random_state=250722, scoring='neg_mean_absolute_error')"
      ]
     },
     "execution_count": 109,
     "metadata": {},
     "output_type": "execute_result"
    }
   ],
   "source": [
    "%%time\n",
    "cat_rs_model.fit(features_train, target_train)"
   ]
  },
  {
   "cell_type": "code",
   "execution_count": 110,
   "metadata": {
    "colab": {
     "base_uri": "https://localhost:8080/"
    },
    "id": "pq328xvupvHU",
    "outputId": "4846a050-7b61-4a3a-e18a-9f7a92697ec2"
   },
   "outputs": [
    {
     "data": {
      "text/plain": [
       "{'iterations': 1000, 'learning_rate': 0.03}"
      ]
     },
     "execution_count": 110,
     "metadata": {},
     "output_type": "execute_result"
    }
   ],
   "source": [
    "cat_rs_model.best_params_"
   ]
  },
  {
   "cell_type": "code",
   "execution_count": 111,
   "metadata": {
    "colab": {
     "base_uri": "https://localhost:8080/"
    },
    "id": "3EJ8Towg0THq",
    "outputId": "72e5a483-f6ed-4363-baad-15eed75fb7b2"
   },
   "outputs": [
    {
     "data": {
      "text/plain": [
       "6.49939521167948"
      ]
     },
     "execution_count": 111,
     "metadata": {},
     "output_type": "execute_result"
    }
   ],
   "source": [
    "-cat_rs_model.best_score_"
   ]
  },
  {
   "cell_type": "markdown",
   "metadata": {
    "id": "a4NVwsmt8VqW"
   },
   "source": [
    "## LGBM"
   ]
  },
  {
   "cell_type": "code",
   "execution_count": 112,
   "metadata": {
    "id": "E5GMBs_QtZFU"
   },
   "outputs": [],
   "source": [
    "light_model = LGBMRegressor(random_state=RANDOM_STATE)"
   ]
  },
  {
   "cell_type": "code",
   "execution_count": 113,
   "metadata": {
    "id": "v2HDMSLwtZhb"
   },
   "outputs": [],
   "source": [
    "light_grid = {\n",
    "    'num_leaves':[leaf for leaf in range(10, 60, 10)],\n",
    "    'n_estimators':[est for est in range(100, 400, 20)],\n",
    "    'learning_rate':[rate * 0.01 for rate in range(1, 20, 1)],\n",
    "}"
   ]
  },
  {
   "cell_type": "code",
   "execution_count": 114,
   "metadata": {
    "id": "9lmxmcQUtZrT"
   },
   "outputs": [],
   "source": [
    "light_rs_model = RandomizedSearchCV(light_model, \n",
    "                                        light_grid,\n",
    "                                        scoring='neg_mean_absolute_error',\n",
    "                                        n_iter=20,\n",
    "                                        random_state=RANDOM_STATE,\n",
    "                                        cv=5, verbose=1)"
   ]
  },
  {
   "cell_type": "code",
   "execution_count": 115,
   "metadata": {
    "colab": {
     "base_uri": "https://localhost:8080/"
    },
    "id": "vpW_o7rhvSQ6",
    "outputId": "5c40e984-70b9-48ed-e706-9bb1b4c1220f"
   },
   "outputs": [
    {
     "name": "stdout",
     "output_type": "stream",
     "text": [
      "Fitting 5 folds for each of 20 candidates, totalling 100 fits\n",
      "CPU times: user 1min 7s, sys: 2.82 s, total: 1min 10s\n",
      "Wall time: 37.9 s\n"
     ]
    },
    {
     "data": {
      "text/plain": [
       "RandomizedSearchCV(cv=5, estimator=LGBMRegressor(random_state=250722),\n",
       "                   n_iter=20,\n",
       "                   param_distributions={'learning_rate': [0.01, 0.02, 0.03,\n",
       "                                                          0.04, 0.05, 0.06,\n",
       "                                                          0.07, 0.08, 0.09, 0.1,\n",
       "                                                          0.11, 0.12, 0.13,\n",
       "                                                          0.14, 0.15, 0.16,\n",
       "                                                          0.17, 0.18, 0.19],\n",
       "                                        'n_estimators': [100, 120, 140, 160,\n",
       "                                                         180, 200, 220, 240,\n",
       "                                                         260, 280, 300, 320,\n",
       "                                                         340, 360, 380],\n",
       "                                        'num_leaves': [10, 20, 30, 40, 50]},\n",
       "                   random_state=250722, scoring='neg_mean_absolute_error',\n",
       "                   verbose=1)"
      ]
     },
     "execution_count": 115,
     "metadata": {},
     "output_type": "execute_result"
    }
   ],
   "source": [
    "%%time\n",
    "light_rs_model.fit(features_train, target_train)"
   ]
  },
  {
   "cell_type": "code",
   "execution_count": 116,
   "metadata": {
    "colab": {
     "base_uri": "https://localhost:8080/"
    },
    "id": "RucrpDqOviBy",
    "outputId": "f05a1a28-b309-44a1-984f-507f3b9ce2da"
   },
   "outputs": [
    {
     "data": {
      "text/plain": [
       "{'learning_rate': 0.07, 'n_estimators': 100, 'num_leaves': 10}"
      ]
     },
     "execution_count": 116,
     "metadata": {},
     "output_type": "execute_result"
    }
   ],
   "source": [
    "light_rs_model.best_params_"
   ]
  },
  {
   "cell_type": "code",
   "execution_count": 117,
   "metadata": {
    "colab": {
     "base_uri": "https://localhost:8080/"
    },
    "id": "sBfc63G83N46",
    "outputId": "5011d428-ee52-438b-b14b-049d1a0bf519"
   },
   "outputs": [
    {
     "data": {
      "text/plain": [
       "6.466945484913227"
      ]
     },
     "execution_count": 117,
     "metadata": {},
     "output_type": "execute_result"
    }
   ],
   "source": [
    "-light_rs_model.best_score_"
   ]
  },
  {
   "cell_type": "markdown",
   "metadata": {
    "id": "efWRVMSuF5DZ"
   },
   "source": [
    "## RandomForest"
   ]
  },
  {
   "cell_type": "code",
   "execution_count": 118,
   "metadata": {
    "id": "Sshf2M2HGD0B"
   },
   "outputs": [],
   "source": [
    "model = RandomForestRegressor(random_state=RANDOM_STATE, criterion='absolute_error')\n",
    "\n",
    "grid = {\n",
    "    'n_estimators':[x for x in range(50, 110, 10)],\n",
    "    'max_depth':[x for x in range(10, 20, 1)], \n",
    "    'min_samples_leaf':[x for x in range(1, 4, 1)],\n",
    "    'min_samples_split':[x for x in range(2, 6, 1)],\n",
    "}"
   ]
  },
  {
   "cell_type": "code",
   "execution_count": 119,
   "metadata": {
    "colab": {
     "base_uri": "https://localhost:8080/"
    },
    "id": "fxmDPcgrGEGY",
    "outputId": "1cdf25ce-01cd-42ac-e6f2-b36d207166bf"
   },
   "outputs": [
    {
     "name": "stdout",
     "output_type": "stream",
     "text": [
      "CPU times: user 7min 2s, sys: 581 ms, total: 7min 3s\n",
      "Wall time: 7min 2s\n"
     ]
    }
   ],
   "source": [
    "%%time\n",
    "fr_rs_model = RandomizedSearchCV(model, grid, \n",
    "                                 scoring='neg_mean_absolute_error', \n",
    "                                 n_iter=20, random_state=RANDOM_STATE, cv=5)\n",
    "fr_rs_model.fit(features_train, target_train)"
   ]
  },
  {
   "cell_type": "code",
   "execution_count": 120,
   "metadata": {
    "colab": {
     "base_uri": "https://localhost:8080/"
    },
    "id": "LvI3ofXqseUA",
    "outputId": "82218cb8-0b97-4e29-ea25-0b378f90bf36"
   },
   "outputs": [
    {
     "data": {
      "text/plain": [
       "{'max_depth': 13,\n",
       " 'min_samples_leaf': 2,\n",
       " 'min_samples_split': 5,\n",
       " 'n_estimators': 60}"
      ]
     },
     "execution_count": 120,
     "metadata": {},
     "output_type": "execute_result"
    }
   ],
   "source": [
    "fr_rs_model.best_params_"
   ]
  },
  {
   "cell_type": "code",
   "execution_count": 121,
   "metadata": {
    "colab": {
     "base_uri": "https://localhost:8080/"
    },
    "id": "4dVRzqPw3wJ6",
    "outputId": "82419641-836c-4b45-b2ed-eec3a274f594"
   },
   "outputs": [
    {
     "data": {
      "text/plain": [
       "6.420850582946346"
      ]
     },
     "execution_count": 121,
     "metadata": {},
     "output_type": "execute_result"
    }
   ],
   "source": [
    "-fr_rs_model.best_score_"
   ]
  },
  {
   "cell_type": "markdown",
   "metadata": {
    "id": "EKO9p_i78XPK"
   },
   "source": [
    "## Вывод\n",
    "Меньшее МАЕ на кросс-валидации показала модель RandomForest, её и будем проверять на тестовой выборке."
   ]
  },
  {
   "cell_type": "markdown",
   "metadata": {
    "id": "2WnTvEge8z6z"
   },
   "source": [
    "# Тестирование лучшей модели"
   ]
  },
  {
   "cell_type": "code",
   "execution_count": 122,
   "metadata": {
    "colab": {
     "base_uri": "https://localhost:8080/",
     "height": 407
    },
    "id": "Ct-aFt7T86E7",
    "outputId": "3c12cbb0-ba59-4b98-c64d-bf9124b22e6a"
   },
   "outputs": [
    {
     "name": "stdout",
     "output_type": "stream",
     "text": [
      "MAE: 6.5514343086632225\n"
     ]
    },
    {
     "data": {
      "image/png": "[encoded data removed]",
      "text/plain": [
       "<Figure size 864x432 with 1 Axes>"
      ]
     },
     "metadata": {
      "needs_background": "light"
     },
     "output_type": "display_data"
    }
   ],
   "source": [
    "predict_analys(fr_rs_model, features_test, target_test, title='CatBoosting')"
   ]
  },
  {
   "cell_type": "markdown",
   "metadata": {
    "id": "O5lVpt5sxr71"
   },
   "source": [
    "По графику видно, что модель плохо улавливает режимы с температурой < 1585 и > 1600, если посмотреть распределение температуры в `Исследование данных -> Температура`, становится понятно, что таких данных для обучения попросту мало."
   ]
  },
  {
   "cell_type": "markdown",
   "metadata": {
    "id": "ozyNtzxff2BL"
   },
   "source": [
    "# Итоговый отчёт."
   ]
  },
  {
   "cell_type": "markdown",
   "metadata": {},
   "source": [
    "В процессе решения поставленной выделились следующие основные этапы:\n",
    "\n",
    "* знакомство с задачей\n",
    "* уточнение условий задачи\n",
    "* построение плана предстоящей работы по разработке модели\n",
    "* исследование и предобработка полученных данных\n",
    "* подготовка признаков\n",
    "* обучение моделей\n",
    "* тестирование лучшей модели\n",
    "* написание итогового отчёта\n",
    "\n",
    "После изучения условий задачи были составлены и заданы уточняющие вопросы и выбран целевой признак - температура на конечном наблюдении по ключу. Далее составлен план выполнения работы. По каждому из пунктов плана выполнены соответствующие ему задачи. Для определения лучшей модели в задачи регрессии ключевой метрикой выбрана \"средняя абсолютная ошибка\" (`MAE`).\n",
    "\n",
    "В процессе исследования данных таблицы подвергались изменениям:\n",
    "* из таблицы с результатами измерений температуры `data_temp` были удалены все ключи с пропусками в конечной температуре, получившаяся таблица названа `clear_data_temp`;\n",
    "* в таблице с данными об электродах `data_arc` был обнаружен ключ с отрицательным значением реактивной мощности, такое значение является ошибкой в данных и ключ, содержащий его был удалён;\n",
    "* в таблицах с сыпучими материалами `data_bulk` и проволкой `data_wire` были обнаружены пропуски в данных. Принято решение пропуски считать отсутствием добавления добавок и в дальнейшем пропуски были заменены нулями. Так же в этих таблицах обнаружены редко применяемые добавки;\n",
    "* в таблице с данными о продувке сплава газом `data_gas` проблем обнаружено не было.\n",
    "\n",
    "В таблицах с сыпучими материалами, проволкой и газом замечен повышенный расход этих ресурсов при увеличении кол-ва этапов в ключе.\n",
    "\n",
    "В следующем пунке плана \"Признаки\"- выделены обучающие и целевой признаки:\n",
    "\n",
    "* из таблицы `clear_data_temp` выделены две таблицы `features_temp` и `target_temp` с начальной и конечной температурами как обучающий и целевой признаки, соответственно;\n",
    "* в таблице `data_arc` посчитана суммарная мощность по ключу `total_power` и продолжительность нагрева электродом по ключу `total_time_heat` с агрегацией данных по ключу, остальные столбцы удалены (таблица `features_arc`);\n",
    "* в таблице `data_bulk` посчитана сумма по ключу, а остальные столбцы удалены (таблица `features_bulk`), аналогично и для таблицы `data_wire`(таблица `features_wire`);\n",
    "* таблица `data_gas` перенесена в `features_gas` и переименованием столбца.\n",
    "\n",
    "После была сведена итоговая таблица, содержащая обучающие и целевой признаки. С помощью объединения таблиц через уникальные ключи, при этом были исключены ключи отсутствующие в любой из объединяемых таблиц.\n",
    "\n",
    "   В следующем пунке плана проходило обучение моделей, выбор гиперпараметров, проверка адекватности предсказаний и выбор лучшей модели. Сначала из итоговой таблицы был выделен целевой признак. Далее таблицы с обучающими `features` и целевым `target` признаками была разделена на обучающую (`features_train`, `target_train`) и тестовую (`features_test`, `target_test`) выборки в соотношении 75:25.\n",
    "   \n",
    "Всего обучались 4-е модели:\n",
    "* линейная модель (LinearRegression)\n",
    "* модели градиентного бустинга: CatBoosting и LightGBM\n",
    "* модель решающего леса (RandomForest)\n",
    "Модели обучались спомощью инструмента RandomSearchCV, который позваляет из заданной сетки с гиперпараметрами модели выбрать лучшие гиперпараметры для модели с целью минимизации заданной метрики на кросс-валидации. В результате обучения меньшую МАЕ показала модель RandomForest (`fr_rs_model`) - 6.42 c следующими гиперпараметрами:\n",
    "    *   max_depth = 13;\n",
    "    *   min_samples_leaf = 2;\n",
    "    *   min_samples_split = 5;\n",
    "    *   n_estimators = 60;\n",
    "    *   random_state = 250722;\n",
    "    *   criterion = 'absolute_error'.\n",
    "\n",
    "Далее проводилось тестирование модели `fr_rs_model` на тестовом наборе данных. Получено значение МАЕ = 6.55.\n",
    "\n",
    "От плана работы, составленного в самом начале, отступать не пришлось. Основные сложности состояли в том, чтобы выделить обучающие признаки и выбрать гиперпараметры моделей. Что бы правильно выбрать данные для обучающих признаков необходимо, хотя бы поверхностно, понимать природу решаемой задачи(в нашем случае технологического процесса). В выборе гиперпараметров задачу существенно упрощает применённый инструмент `RandomSearchCV`, который позволяет из указанных диапазонов изменения гиперпараметров выбрать лучшие значения для минимизации целевой метрики. Однако, для его работы, в зависимости от модели, размера обучающей выборки и располагаемых вычислительных ресурсов, может потребоваться достаточно много времени. \n",
    "\n"
   ]
  }
 ],
 "metadata": {
  "ExecuteTimeLog": [
   {
    "duration": 2256,
    "start_time": "2022-07-29T10:57:04.386Z"
   },
   {
    "duration": 1447,
    "start_time": "2022-07-29T10:57:06.644Z"
   },
   {
    "duration": 3,
    "start_time": "2022-07-29T10:57:08.092Z"
   },
   {
    "duration": 239,
    "start_time": "2022-07-29T10:57:08.096Z"
   },
   {
    "duration": 61,
    "start_time": "2022-07-29T10:57:08.338Z"
   },
   {
    "duration": 12,
    "start_time": "2022-07-29T10:57:08.400Z"
   },
   {
    "duration": 14,
    "start_time": "2022-07-29T10:57:08.414Z"
   },
   {
    "duration": 38,
    "start_time": "2022-07-29T10:57:08.451Z"
   },
   {
    "duration": 4,
    "start_time": "2022-07-29T10:57:08.491Z"
   },
   {
    "duration": 26,
    "start_time": "2022-07-29T10:57:08.497Z"
   },
   {
    "duration": 180,
    "start_time": "2022-07-29T10:57:08.525Z"
   },
   {
    "duration": 229,
    "start_time": "2022-07-29T10:57:08.707Z"
   },
   {
    "duration": 18,
    "start_time": "2022-07-29T10:57:08.938Z"
   },
   {
    "duration": 12,
    "start_time": "2022-07-29T10:57:08.959Z"
   },
   {
    "duration": 132,
    "start_time": "2022-07-29T10:57:08.972Z"
   },
   {
    "duration": 6,
    "start_time": "2022-07-29T10:57:09.106Z"
   },
   {
    "duration": 11,
    "start_time": "2022-07-29T10:57:09.114Z"
   },
   {
    "duration": 7,
    "start_time": "2022-07-29T10:57:09.127Z"
   },
   {
    "duration": 15,
    "start_time": "2022-07-29T10:57:09.154Z"
   },
   {
    "duration": 161,
    "start_time": "2022-07-29T10:57:09.171Z"
   },
   {
    "duration": 89,
    "start_time": "2022-07-29T10:57:09.334Z"
   },
   {
    "duration": 4,
    "start_time": "2022-07-29T10:57:09.426Z"
   },
   {
    "duration": 5,
    "start_time": "2022-07-29T10:57:09.431Z"
   },
   {
    "duration": 138,
    "start_time": "2022-07-29T10:57:09.453Z"
   },
   {
    "duration": 18,
    "start_time": "2022-07-29T10:57:09.592Z"
   },
   {
    "duration": 5,
    "start_time": "2022-07-29T10:57:09.611Z"
   },
   {
    "duration": 10,
    "start_time": "2022-07-29T10:57:09.618Z"
   },
   {
    "duration": 27,
    "start_time": "2022-07-29T10:57:09.630Z"
   },
   {
    "duration": 5,
    "start_time": "2022-07-29T10:57:09.659Z"
   },
   {
    "duration": 11,
    "start_time": "2022-07-29T10:57:09.666Z"
   },
   {
    "duration": 6,
    "start_time": "2022-07-29T10:57:09.679Z"
   },
   {
    "duration": 66,
    "start_time": "2022-07-29T10:57:09.687Z"
   },
   {
    "duration": 84,
    "start_time": "2022-07-29T10:57:09.755Z"
   },
   {
    "duration": 24,
    "start_time": "2022-07-29T10:57:09.840Z"
   },
   {
    "duration": 9,
    "start_time": "2022-07-29T10:57:09.866Z"
   },
   {
    "duration": 20,
    "start_time": "2022-07-29T10:57:09.877Z"
   },
   {
    "duration": 15,
    "start_time": "2022-07-29T10:57:09.898Z"
   },
   {
    "duration": 11,
    "start_time": "2022-07-29T10:57:09.915Z"
   },
   {
    "duration": 4,
    "start_time": "2022-07-29T10:57:09.953Z"
   },
   {
    "duration": 37,
    "start_time": "2022-07-29T10:57:09.959Z"
   },
   {
    "duration": 15,
    "start_time": "2022-07-29T10:57:10.000Z"
   },
   {
    "duration": 114,
    "start_time": "2022-07-29T10:57:10.017Z"
   },
   {
    "duration": 20,
    "start_time": "2022-07-29T10:57:10.132Z"
   },
   {
    "duration": 8,
    "start_time": "2022-07-29T10:57:10.154Z"
   },
   {
    "duration": 10,
    "start_time": "2022-07-29T10:57:10.163Z"
   },
   {
    "duration": 4,
    "start_time": "2022-07-29T10:57:10.174Z"
   },
   {
    "duration": 5,
    "start_time": "2022-07-29T10:57:10.179Z"
   },
   {
    "duration": 21,
    "start_time": "2022-07-29T10:57:10.185Z"
   },
   {
    "duration": 126,
    "start_time": "2022-07-29T10:57:10.207Z"
   },
   {
    "duration": 21,
    "start_time": "2022-07-29T10:57:10.335Z"
   },
   {
    "duration": 32,
    "start_time": "2022-07-29T10:57:10.358Z"
   },
   {
    "duration": 7,
    "start_time": "2022-07-29T10:57:10.392Z"
   },
   {
    "duration": 6,
    "start_time": "2022-07-29T10:57:10.400Z"
   },
   {
    "duration": 5,
    "start_time": "2022-07-29T10:57:10.407Z"
   },
   {
    "duration": 39,
    "start_time": "2022-07-29T10:57:10.414Z"
   },
   {
    "duration": 1946,
    "start_time": "2022-07-29T11:00:04.753Z"
   },
   {
    "duration": 1350,
    "start_time": "2022-07-29T11:00:06.701Z"
   },
   {
    "duration": 3,
    "start_time": "2022-07-29T11:00:08.053Z"
   },
   {
    "duration": 214,
    "start_time": "2022-07-29T11:00:08.058Z"
   },
   {
    "duration": 85,
    "start_time": "2022-07-29T11:00:08.274Z"
   },
   {
    "duration": 11,
    "start_time": "2022-07-29T11:00:08.360Z"
   },
   {
    "duration": 12,
    "start_time": "2022-07-29T11:00:08.373Z"
   },
   {
    "duration": 30,
    "start_time": "2022-07-29T11:00:08.387Z"
   },
   {
    "duration": 34,
    "start_time": "2022-07-29T11:00:08.419Z"
   },
   {
    "duration": 4,
    "start_time": "2022-07-29T11:00:08.455Z"
   },
   {
    "duration": 151,
    "start_time": "2022-07-29T11:00:08.460Z"
   },
   {
    "duration": 214,
    "start_time": "2022-07-29T11:00:08.612Z"
   },
   {
    "duration": 11,
    "start_time": "2022-07-29T11:00:08.828Z"
   },
   {
    "duration": 18,
    "start_time": "2022-07-29T11:00:08.840Z"
   },
   {
    "duration": 15,
    "start_time": "2022-07-29T11:00:08.860Z"
   },
   {
    "duration": 103,
    "start_time": "2022-07-29T11:00:08.876Z"
   },
   {
    "duration": 12,
    "start_time": "2022-07-29T11:00:08.980Z"
   },
   {
    "duration": 10,
    "start_time": "2022-07-29T11:00:08.993Z"
   },
   {
    "duration": 19,
    "start_time": "2022-07-29T11:00:09.004Z"
   },
   {
    "duration": 169,
    "start_time": "2022-07-29T11:00:09.026Z"
   },
   {
    "duration": 93,
    "start_time": "2022-07-29T11:00:09.197Z"
   },
   {
    "duration": 4,
    "start_time": "2022-07-29T11:00:09.291Z"
   },
   {
    "duration": 8,
    "start_time": "2022-07-29T11:00:09.296Z"
   },
   {
    "duration": 159,
    "start_time": "2022-07-29T11:00:09.305Z"
   },
   {
    "duration": 16,
    "start_time": "2022-07-29T11:00:09.466Z"
   },
   {
    "duration": 5,
    "start_time": "2022-07-29T11:00:09.483Z"
   },
   {
    "duration": 14,
    "start_time": "2022-07-29T11:00:09.489Z"
   },
   {
    "duration": 4,
    "start_time": "2022-07-29T11:00:09.506Z"
   },
   {
    "duration": 6,
    "start_time": "2022-07-29T11:00:09.511Z"
   },
   {
    "duration": 41,
    "start_time": "2022-07-29T11:00:09.518Z"
   },
   {
    "duration": 4,
    "start_time": "2022-07-29T11:00:09.561Z"
   },
   {
    "duration": 60,
    "start_time": "2022-07-29T11:00:09.567Z"
   },
   {
    "duration": 101,
    "start_time": "2022-07-29T11:00:09.629Z"
   },
   {
    "duration": 32,
    "start_time": "2022-07-29T11:00:09.732Z"
   },
   {
    "duration": 8,
    "start_time": "2022-07-29T11:00:09.766Z"
   },
   {
    "duration": 14,
    "start_time": "2022-07-29T11:00:09.776Z"
   },
   {
    "duration": 15,
    "start_time": "2022-07-29T11:00:09.792Z"
   },
   {
    "duration": 10,
    "start_time": "2022-07-29T11:00:09.808Z"
   },
   {
    "duration": 6,
    "start_time": "2022-07-29T11:00:09.819Z"
   },
   {
    "duration": 49,
    "start_time": "2022-07-29T11:00:09.826Z"
   },
   {
    "duration": 11,
    "start_time": "2022-07-29T11:00:09.877Z"
   },
   {
    "duration": 87,
    "start_time": "2022-07-29T11:00:09.890Z"
   },
   {
    "duration": 11,
    "start_time": "2022-07-29T11:00:09.979Z"
   },
   {
    "duration": 12,
    "start_time": "2022-07-29T11:00:09.992Z"
   },
   {
    "duration": 9,
    "start_time": "2022-07-29T11:00:10.006Z"
   },
   {
    "duration": 4,
    "start_time": "2022-07-29T11:00:10.017Z"
   },
   {
    "duration": 4,
    "start_time": "2022-07-29T11:00:10.053Z"
   },
   {
    "duration": 17,
    "start_time": "2022-07-29T11:00:10.059Z"
   },
   {
    "duration": 104,
    "start_time": "2022-07-29T11:00:10.077Z"
   },
   {
    "duration": 11,
    "start_time": "2022-07-29T11:00:10.182Z"
   },
   {
    "duration": 44,
    "start_time": "2022-07-29T11:00:10.194Z"
   },
   {
    "duration": 18,
    "start_time": "2022-07-29T11:00:10.240Z"
   },
   {
    "duration": 7,
    "start_time": "2022-07-29T11:00:10.259Z"
   },
   {
    "duration": 8,
    "start_time": "2022-07-29T11:00:10.267Z"
   },
   {
    "duration": 12,
    "start_time": "2022-07-29T11:00:10.276Z"
   },
   {
    "duration": 14,
    "start_time": "2022-07-29T11:00:10.289Z"
   },
   {
    "duration": 10,
    "start_time": "2022-07-29T11:00:10.304Z"
   },
   {
    "duration": 4,
    "start_time": "2022-07-29T11:00:10.316Z"
   },
   {
    "duration": 12,
    "start_time": "2022-07-29T11:00:10.321Z"
   },
   {
    "duration": 24,
    "start_time": "2022-07-29T11:00:10.334Z"
   },
   {
    "duration": 3,
    "start_time": "2022-07-29T11:00:10.360Z"
   },
   {
    "duration": 12,
    "start_time": "2022-07-29T11:00:10.364Z"
   },
   {
    "duration": 5,
    "start_time": "2022-07-29T11:00:10.378Z"
   },
   {
    "duration": 10,
    "start_time": "2022-07-29T11:00:10.385Z"
   },
   {
    "duration": 11,
    "start_time": "2022-07-29T11:00:10.397Z"
   },
   {
    "duration": 14,
    "start_time": "2022-07-29T11:00:10.410Z"
   },
   {
    "duration": 4,
    "start_time": "2022-07-29T12:17:30.294Z"
   },
   {
    "duration": 1622,
    "start_time": "2022-07-29T12:17:30.301Z"
   },
   {
    "duration": 4,
    "start_time": "2022-07-29T12:17:31.925Z"
   },
   {
    "duration": 845,
    "start_time": "2022-07-29T12:17:31.930Z"
   },
   {
    "duration": 70,
    "start_time": "2022-07-29T12:17:32.779Z"
   },
   {
    "duration": 11,
    "start_time": "2022-07-29T12:17:32.850Z"
   },
   {
    "duration": 9,
    "start_time": "2022-07-29T12:17:32.863Z"
   },
   {
    "duration": 67,
    "start_time": "2022-07-29T12:17:32.874Z"
   },
   {
    "duration": 5,
    "start_time": "2022-07-29T12:17:32.942Z"
   },
   {
    "duration": 8,
    "start_time": "2022-07-29T12:17:32.948Z"
   },
   {
    "duration": 167,
    "start_time": "2022-07-29T12:17:32.959Z"
   },
   {
    "duration": 221,
    "start_time": "2022-07-29T12:17:33.128Z"
   },
   {
    "duration": 10,
    "start_time": "2022-07-29T12:17:33.351Z"
   },
   {
    "duration": 5,
    "start_time": "2022-07-29T12:17:33.363Z"
   },
   {
    "duration": 37,
    "start_time": "2022-07-29T12:17:33.370Z"
   },
   {
    "duration": 78,
    "start_time": "2022-07-29T12:17:33.409Z"
   },
   {
    "duration": 13,
    "start_time": "2022-07-29T12:17:33.489Z"
   },
   {
    "duration": 28,
    "start_time": "2022-07-29T12:17:33.504Z"
   },
   {
    "duration": 18,
    "start_time": "2022-07-29T12:17:33.533Z"
   },
   {
    "duration": 168,
    "start_time": "2022-07-29T12:17:33.552Z"
   },
   {
    "duration": 92,
    "start_time": "2022-07-29T12:17:33.722Z"
   },
   {
    "duration": 5,
    "start_time": "2022-07-29T12:17:33.816Z"
   },
   {
    "duration": 6,
    "start_time": "2022-07-29T12:17:33.823Z"
   },
   {
    "duration": 137,
    "start_time": "2022-07-29T12:17:33.831Z"
   },
   {
    "duration": 17,
    "start_time": "2022-07-29T12:17:33.970Z"
   },
   {
    "duration": 24,
    "start_time": "2022-07-29T12:17:33.988Z"
   },
   {
    "duration": 16,
    "start_time": "2022-07-29T12:17:34.016Z"
   },
   {
    "duration": 7,
    "start_time": "2022-07-29T12:17:34.034Z"
   },
   {
    "duration": 4,
    "start_time": "2022-07-29T12:17:34.045Z"
   },
   {
    "duration": 11,
    "start_time": "2022-07-29T12:17:34.051Z"
   },
   {
    "duration": 7,
    "start_time": "2022-07-29T12:17:34.064Z"
   },
   {
    "duration": 80,
    "start_time": "2022-07-29T12:17:34.073Z"
   },
   {
    "duration": 108,
    "start_time": "2022-07-29T12:17:34.154Z"
   },
   {
    "duration": 15,
    "start_time": "2022-07-29T12:17:34.264Z"
   },
   {
    "duration": 27,
    "start_time": "2022-07-29T12:17:34.281Z"
   },
   {
    "duration": 23,
    "start_time": "2022-07-29T12:17:34.310Z"
   },
   {
    "duration": 13,
    "start_time": "2022-07-29T12:17:34.335Z"
   },
   {
    "duration": 10,
    "start_time": "2022-07-29T12:17:34.349Z"
   },
   {
    "duration": 4,
    "start_time": "2022-07-29T12:17:34.360Z"
   },
   {
    "duration": 55,
    "start_time": "2022-07-29T12:17:34.366Z"
   },
   {
    "duration": 10,
    "start_time": "2022-07-29T12:17:34.422Z"
   },
   {
    "duration": 93,
    "start_time": "2022-07-29T12:17:34.433Z"
   },
   {
    "duration": 11,
    "start_time": "2022-07-29T12:17:34.528Z"
   },
   {
    "duration": 13,
    "start_time": "2022-07-29T12:17:34.540Z"
   },
   {
    "duration": 14,
    "start_time": "2022-07-29T12:17:34.555Z"
   },
   {
    "duration": 4,
    "start_time": "2022-07-29T12:17:34.571Z"
   },
   {
    "duration": 10,
    "start_time": "2022-07-29T12:17:34.608Z"
   },
   {
    "duration": 17,
    "start_time": "2022-07-29T12:17:34.619Z"
   },
   {
    "duration": 94,
    "start_time": "2022-07-29T12:17:34.638Z"
   },
   {
    "duration": 11,
    "start_time": "2022-07-29T12:17:34.734Z"
   },
   {
    "duration": 31,
    "start_time": "2022-07-29T12:17:34.746Z"
   },
   {
    "duration": 31,
    "start_time": "2022-07-29T12:17:34.779Z"
   },
   {
    "duration": 14,
    "start_time": "2022-07-29T12:17:34.812Z"
   },
   {
    "duration": 5,
    "start_time": "2022-07-29T12:17:34.828Z"
   },
   {
    "duration": 6,
    "start_time": "2022-07-29T12:17:34.834Z"
   },
   {
    "duration": 11,
    "start_time": "2022-07-29T12:17:34.842Z"
   },
   {
    "duration": 10,
    "start_time": "2022-07-29T12:17:34.854Z"
   },
   {
    "duration": 3,
    "start_time": "2022-07-29T12:17:34.865Z"
   },
   {
    "duration": 36,
    "start_time": "2022-07-29T12:17:34.870Z"
   },
   {
    "duration": 16,
    "start_time": "2022-07-29T12:17:34.916Z"
   },
   {
    "duration": 8,
    "start_time": "2022-07-29T12:17:34.933Z"
   },
   {
    "duration": 6,
    "start_time": "2022-07-29T12:17:34.942Z"
   },
   {
    "duration": 12,
    "start_time": "2022-07-29T12:17:34.950Z"
   },
   {
    "duration": 6,
    "start_time": "2022-07-29T12:17:34.964Z"
   },
   {
    "duration": 6,
    "start_time": "2022-07-29T12:17:34.972Z"
   },
   {
    "duration": 3,
    "start_time": "2022-07-29T12:18:34.924Z"
   },
   {
    "duration": 1415,
    "start_time": "2022-07-29T12:18:34.928Z"
   },
   {
    "duration": 3,
    "start_time": "2022-07-29T12:18:36.344Z"
   },
   {
    "duration": 216,
    "start_time": "2022-07-29T12:18:36.350Z"
   },
   {
    "duration": 76,
    "start_time": "2022-07-29T12:18:36.568Z"
   },
   {
    "duration": 11,
    "start_time": "2022-07-29T12:18:36.646Z"
   },
   {
    "duration": 12,
    "start_time": "2022-07-29T12:18:36.659Z"
   },
   {
    "duration": 52,
    "start_time": "2022-07-29T12:18:36.673Z"
   },
   {
    "duration": 5,
    "start_time": "2022-07-29T12:18:36.727Z"
   },
   {
    "duration": 5,
    "start_time": "2022-07-29T12:18:36.734Z"
   },
   {
    "duration": 189,
    "start_time": "2022-07-29T12:18:36.741Z"
   },
   {
    "duration": 248,
    "start_time": "2022-07-29T12:18:36.932Z"
   },
   {
    "duration": 10,
    "start_time": "2022-07-29T12:18:37.182Z"
   },
   {
    "duration": 10,
    "start_time": "2022-07-29T12:18:37.210Z"
   },
   {
    "duration": 15,
    "start_time": "2022-07-29T12:18:37.221Z"
   },
   {
    "duration": 83,
    "start_time": "2022-07-29T12:18:37.237Z"
   },
   {
    "duration": 10,
    "start_time": "2022-07-29T12:18:37.321Z"
   },
   {
    "duration": 9,
    "start_time": "2022-07-29T12:18:37.333Z"
   },
   {
    "duration": 13,
    "start_time": "2022-07-29T12:18:37.344Z"
   },
   {
    "duration": 204,
    "start_time": "2022-07-29T12:18:37.358Z"
   },
   {
    "duration": 114,
    "start_time": "2022-07-29T12:18:37.564Z"
   },
   {
    "duration": 6,
    "start_time": "2022-07-29T12:18:37.680Z"
   },
   {
    "duration": 25,
    "start_time": "2022-07-29T12:18:37.688Z"
   },
   {
    "duration": 183,
    "start_time": "2022-07-29T12:18:37.715Z"
   },
   {
    "duration": 30,
    "start_time": "2022-07-29T12:18:37.899Z"
   },
   {
    "duration": 5,
    "start_time": "2022-07-29T12:18:37.931Z"
   },
   {
    "duration": 11,
    "start_time": "2022-07-29T12:18:37.937Z"
   },
   {
    "duration": 6,
    "start_time": "2022-07-29T12:18:37.951Z"
   },
   {
    "duration": 4,
    "start_time": "2022-07-29T12:18:37.959Z"
   },
   {
    "duration": 11,
    "start_time": "2022-07-29T12:18:37.965Z"
   },
   {
    "duration": 4,
    "start_time": "2022-07-29T12:18:37.978Z"
   },
   {
    "duration": 58,
    "start_time": "2022-07-29T12:18:38.003Z"
   },
   {
    "duration": 109,
    "start_time": "2022-07-29T12:18:38.063Z"
   },
   {
    "duration": 13,
    "start_time": "2022-07-29T12:18:38.174Z"
   },
   {
    "duration": 17,
    "start_time": "2022-07-29T12:18:38.189Z"
   },
   {
    "duration": 26,
    "start_time": "2022-07-29T12:18:38.207Z"
   },
   {
    "duration": 17,
    "start_time": "2022-07-29T12:18:38.234Z"
   },
   {
    "duration": 9,
    "start_time": "2022-07-29T12:18:38.252Z"
   },
   {
    "duration": 9,
    "start_time": "2022-07-29T12:18:38.262Z"
   },
   {
    "duration": 51,
    "start_time": "2022-07-29T12:18:38.272Z"
   },
   {
    "duration": 10,
    "start_time": "2022-07-29T12:18:38.325Z"
   },
   {
    "duration": 98,
    "start_time": "2022-07-29T12:18:38.336Z"
   },
   {
    "duration": 10,
    "start_time": "2022-07-29T12:18:38.435Z"
   },
   {
    "duration": 10,
    "start_time": "2022-07-29T12:18:38.446Z"
   },
   {
    "duration": 9,
    "start_time": "2022-07-29T12:18:38.458Z"
   },
   {
    "duration": 3,
    "start_time": "2022-07-29T12:18:38.469Z"
   },
   {
    "duration": 34,
    "start_time": "2022-07-29T12:18:38.473Z"
   },
   {
    "duration": 21,
    "start_time": "2022-07-29T12:18:38.510Z"
   },
   {
    "duration": 89,
    "start_time": "2022-07-29T12:18:38.532Z"
   },
   {
    "duration": 10,
    "start_time": "2022-07-29T12:18:38.623Z"
   },
   {
    "duration": 29,
    "start_time": "2022-07-29T12:18:38.635Z"
   },
   {
    "duration": 8,
    "start_time": "2022-07-29T12:18:38.665Z"
   },
   {
    "duration": 34,
    "start_time": "2022-07-29T12:18:38.675Z"
   },
   {
    "duration": 17,
    "start_time": "2022-07-29T12:18:38.711Z"
   },
   {
    "duration": 6,
    "start_time": "2022-07-29T12:18:38.729Z"
   },
   {
    "duration": 13,
    "start_time": "2022-07-29T12:18:38.736Z"
   },
   {
    "duration": 9,
    "start_time": "2022-07-29T12:18:38.751Z"
   },
   {
    "duration": 4,
    "start_time": "2022-07-29T12:18:38.762Z"
   },
   {
    "duration": 6,
    "start_time": "2022-07-29T12:18:38.767Z"
   },
   {
    "duration": 37,
    "start_time": "2022-07-29T12:18:38.774Z"
   },
   {
    "duration": 14,
    "start_time": "2022-07-29T12:18:38.812Z"
   },
   {
    "duration": 10,
    "start_time": "2022-07-29T12:18:38.828Z"
   },
   {
    "duration": 15,
    "start_time": "2022-07-29T12:18:38.839Z"
   },
   {
    "duration": 7,
    "start_time": "2022-07-29T12:18:38.856Z"
   },
   {
    "duration": 7,
    "start_time": "2022-07-29T12:18:38.865Z"
   },
   {
    "duration": 4,
    "start_time": "2022-07-29T12:19:06.758Z"
   },
   {
    "duration": 1421,
    "start_time": "2022-07-29T12:19:06.763Z"
   },
   {
    "duration": 3,
    "start_time": "2022-07-29T12:19:08.186Z"
   },
   {
    "duration": 242,
    "start_time": "2022-07-29T12:19:08.191Z"
   },
   {
    "duration": 56,
    "start_time": "2022-07-29T12:19:08.435Z"
   },
   {
    "duration": 16,
    "start_time": "2022-07-29T12:19:08.508Z"
   },
   {
    "duration": 10,
    "start_time": "2022-07-29T12:19:08.525Z"
   },
   {
    "duration": 33,
    "start_time": "2022-07-29T12:19:08.536Z"
   },
   {
    "duration": 5,
    "start_time": "2022-07-29T12:19:08.570Z"
   },
   {
    "duration": 30,
    "start_time": "2022-07-29T12:19:08.576Z"
   },
   {
    "duration": 153,
    "start_time": "2022-07-29T12:19:08.609Z"
   },
   {
    "duration": 244,
    "start_time": "2022-07-29T12:19:08.763Z"
   },
   {
    "duration": 11,
    "start_time": "2022-07-29T12:19:09.016Z"
   },
   {
    "duration": 5,
    "start_time": "2022-07-29T12:19:09.029Z"
   },
   {
    "duration": 17,
    "start_time": "2022-07-29T12:19:09.035Z"
   },
   {
    "duration": 78,
    "start_time": "2022-07-29T12:19:09.053Z"
   },
   {
    "duration": 11,
    "start_time": "2022-07-29T12:19:09.133Z"
   },
   {
    "duration": 8,
    "start_time": "2022-07-29T12:19:09.145Z"
   },
   {
    "duration": 17,
    "start_time": "2022-07-29T12:19:09.154Z"
   },
   {
    "duration": 185,
    "start_time": "2022-07-29T12:19:09.173Z"
   },
   {
    "duration": 101,
    "start_time": "2022-07-29T12:19:09.360Z"
   },
   {
    "duration": 4,
    "start_time": "2022-07-29T12:19:09.462Z"
   },
   {
    "duration": 6,
    "start_time": "2022-07-29T12:19:09.467Z"
   },
   {
    "duration": 155,
    "start_time": "2022-07-29T12:19:09.474Z"
   },
   {
    "duration": 16,
    "start_time": "2022-07-29T12:19:09.630Z"
   },
   {
    "duration": 7,
    "start_time": "2022-07-29T12:19:09.648Z"
   },
   {
    "duration": 13,
    "start_time": "2022-07-29T12:19:09.657Z"
   },
   {
    "duration": 30,
    "start_time": "2022-07-29T12:19:09.672Z"
   },
   {
    "duration": 7,
    "start_time": "2022-07-29T12:19:09.706Z"
   },
   {
    "duration": 16,
    "start_time": "2022-07-29T12:19:09.714Z"
   },
   {
    "duration": 8,
    "start_time": "2022-07-29T12:19:09.732Z"
   },
   {
    "duration": 52,
    "start_time": "2022-07-29T12:19:09.741Z"
   },
   {
    "duration": 93,
    "start_time": "2022-07-29T12:19:09.795Z"
   },
   {
    "duration": 36,
    "start_time": "2022-07-29T12:19:09.890Z"
   },
   {
    "duration": 9,
    "start_time": "2022-07-29T12:19:09.928Z"
   },
   {
    "duration": 15,
    "start_time": "2022-07-29T12:19:09.939Z"
   },
   {
    "duration": 14,
    "start_time": "2022-07-29T12:19:09.956Z"
   },
   {
    "duration": 9,
    "start_time": "2022-07-29T12:19:09.971Z"
   },
   {
    "duration": 23,
    "start_time": "2022-07-29T12:19:09.982Z"
   },
   {
    "duration": 36,
    "start_time": "2022-07-29T12:19:10.011Z"
   },
   {
    "duration": 15,
    "start_time": "2022-07-29T12:19:10.050Z"
   },
   {
    "duration": 123,
    "start_time": "2022-07-29T12:19:10.066Z"
   },
   {
    "duration": 28,
    "start_time": "2022-07-29T12:19:10.190Z"
   },
   {
    "duration": 17,
    "start_time": "2022-07-29T12:19:10.223Z"
   },
   {
    "duration": 13,
    "start_time": "2022-07-29T12:19:10.242Z"
   },
   {
    "duration": 3,
    "start_time": "2022-07-29T12:19:10.257Z"
   },
   {
    "duration": 9,
    "start_time": "2022-07-29T12:19:10.262Z"
   },
   {
    "duration": 16,
    "start_time": "2022-07-29T12:19:10.272Z"
   },
   {
    "duration": 132,
    "start_time": "2022-07-29T12:19:10.289Z"
   },
   {
    "duration": 13,
    "start_time": "2022-07-29T12:19:10.424Z"
   },
   {
    "duration": 69,
    "start_time": "2022-07-29T12:19:10.439Z"
   },
   {
    "duration": 8,
    "start_time": "2022-07-29T12:19:10.515Z"
   },
   {
    "duration": 23,
    "start_time": "2022-07-29T12:19:10.525Z"
   },
   {
    "duration": 6,
    "start_time": "2022-07-29T12:19:10.550Z"
   },
   {
    "duration": 7,
    "start_time": "2022-07-29T12:19:10.558Z"
   },
   {
    "duration": 12,
    "start_time": "2022-07-29T12:19:10.566Z"
   },
   {
    "duration": 10,
    "start_time": "2022-07-29T12:19:10.580Z"
   },
   {
    "duration": 3,
    "start_time": "2022-07-29T12:19:10.591Z"
   },
   {
    "duration": 19,
    "start_time": "2022-07-29T12:19:10.595Z"
   },
   {
    "duration": 20,
    "start_time": "2022-07-29T12:19:10.618Z"
   },
   {
    "duration": 5,
    "start_time": "2022-07-29T12:19:10.639Z"
   },
   {
    "duration": 8,
    "start_time": "2022-07-29T12:19:10.645Z"
   },
   {
    "duration": 11,
    "start_time": "2022-07-29T12:19:10.654Z"
   },
   {
    "duration": 8,
    "start_time": "2022-07-29T12:19:10.666Z"
   },
   {
    "duration": 10,
    "start_time": "2022-07-29T12:19:10.675Z"
   },
   {
    "duration": 4,
    "start_time": "2022-07-29T12:19:10.687Z"
   },
   {
    "duration": 16,
    "start_time": "2022-07-29T12:19:10.692Z"
   },
   {
    "duration": 15,
    "start_time": "2022-07-29T12:19:10.709Z"
   },
   {
    "duration": 9,
    "start_time": "2022-07-29T12:19:10.725Z"
   },
   {
    "duration": 222,
    "start_time": "2022-07-29T12:19:10.735Z"
   },
   {
    "duration": 4,
    "start_time": "2022-07-29T12:19:10.958Z"
   },
   {
    "duration": 5,
    "start_time": "2022-07-29T12:21:04.055Z"
   },
   {
    "duration": 1485,
    "start_time": "2022-07-29T12:21:04.083Z"
   },
   {
    "duration": 2,
    "start_time": "2022-07-29T12:21:05.570Z"
   },
   {
    "duration": 242,
    "start_time": "2022-07-29T12:21:05.574Z"
   },
   {
    "duration": 59,
    "start_time": "2022-07-29T12:21:05.818Z"
   },
   {
    "duration": 38,
    "start_time": "2022-07-29T12:21:05.879Z"
   },
   {
    "duration": 11,
    "start_time": "2022-07-29T12:21:05.920Z"
   },
   {
    "duration": 34,
    "start_time": "2022-07-29T12:21:05.932Z"
   },
   {
    "duration": 4,
    "start_time": "2022-07-29T12:21:05.968Z"
   },
   {
    "duration": 31,
    "start_time": "2022-07-29T12:21:05.974Z"
   },
   {
    "duration": 155,
    "start_time": "2022-07-29T12:21:06.011Z"
   },
   {
    "duration": 241,
    "start_time": "2022-07-29T12:21:06.168Z"
   },
   {
    "duration": 11,
    "start_time": "2022-07-29T12:21:06.410Z"
   },
   {
    "duration": 42,
    "start_time": "2022-07-29T12:21:06.423Z"
   },
   {
    "duration": 26,
    "start_time": "2022-07-29T12:21:06.466Z"
   },
   {
    "duration": 90,
    "start_time": "2022-07-29T12:21:06.493Z"
   },
   {
    "duration": 19,
    "start_time": "2022-07-29T12:21:06.585Z"
   },
   {
    "duration": 49,
    "start_time": "2022-07-29T12:21:06.605Z"
   },
   {
    "duration": 73,
    "start_time": "2022-07-29T12:21:06.656Z"
   },
   {
    "duration": 175,
    "start_time": "2022-07-29T12:21:06.731Z"
   },
   {
    "duration": 96,
    "start_time": "2022-07-29T12:21:06.913Z"
   },
   {
    "duration": 10,
    "start_time": "2022-07-29T12:21:07.011Z"
   },
   {
    "duration": 23,
    "start_time": "2022-07-29T12:21:07.023Z"
   },
   {
    "duration": 179,
    "start_time": "2022-07-29T12:21:07.048Z"
   },
   {
    "duration": 19,
    "start_time": "2022-07-29T12:21:07.229Z"
   },
   {
    "duration": 10,
    "start_time": "2022-07-29T12:21:07.249Z"
   },
   {
    "duration": 17,
    "start_time": "2022-07-29T12:21:07.260Z"
   },
   {
    "duration": 34,
    "start_time": "2022-07-29T12:21:07.279Z"
   },
   {
    "duration": 11,
    "start_time": "2022-07-29T12:21:07.321Z"
   },
   {
    "duration": 18,
    "start_time": "2022-07-29T12:21:07.334Z"
   },
   {
    "duration": 9,
    "start_time": "2022-07-29T12:21:07.354Z"
   },
   {
    "duration": 89,
    "start_time": "2022-07-29T12:21:07.366Z"
   },
   {
    "duration": 173,
    "start_time": "2022-07-29T12:21:07.457Z"
   },
   {
    "duration": 26,
    "start_time": "2022-07-29T12:21:07.632Z"
   },
   {
    "duration": 16,
    "start_time": "2022-07-29T12:21:07.661Z"
   },
   {
    "duration": 31,
    "start_time": "2022-07-29T12:21:07.678Z"
   },
   {
    "duration": 37,
    "start_time": "2022-07-29T12:21:07.712Z"
   },
   {
    "duration": 12,
    "start_time": "2022-07-29T12:21:07.752Z"
   },
   {
    "duration": 4,
    "start_time": "2022-07-29T12:21:07.766Z"
   },
   {
    "duration": 66,
    "start_time": "2022-07-29T12:21:07.771Z"
   },
   {
    "duration": 11,
    "start_time": "2022-07-29T12:21:07.839Z"
   },
   {
    "duration": 107,
    "start_time": "2022-07-29T12:21:07.851Z"
   },
   {
    "duration": 10,
    "start_time": "2022-07-29T12:21:07.960Z"
   },
   {
    "duration": 13,
    "start_time": "2022-07-29T12:21:07.971Z"
   },
   {
    "duration": 30,
    "start_time": "2022-07-29T12:21:07.985Z"
   },
   {
    "duration": 3,
    "start_time": "2022-07-29T12:21:08.017Z"
   },
   {
    "duration": 7,
    "start_time": "2022-07-29T12:21:08.022Z"
   },
   {
    "duration": 16,
    "start_time": "2022-07-29T12:21:08.030Z"
   },
   {
    "duration": 118,
    "start_time": "2022-07-29T12:21:08.048Z"
   },
   {
    "duration": 13,
    "start_time": "2022-07-29T12:21:08.168Z"
   },
   {
    "duration": 53,
    "start_time": "2022-07-29T12:21:08.183Z"
   },
   {
    "duration": 9,
    "start_time": "2022-07-29T12:21:08.238Z"
   },
   {
    "duration": 31,
    "start_time": "2022-07-29T12:21:08.249Z"
   },
   {
    "duration": 20,
    "start_time": "2022-07-29T12:21:08.282Z"
   },
   {
    "duration": 21,
    "start_time": "2022-07-29T12:21:08.306Z"
   },
   {
    "duration": 13,
    "start_time": "2022-07-29T12:21:08.328Z"
   },
   {
    "duration": 15,
    "start_time": "2022-07-29T12:21:08.343Z"
   },
   {
    "duration": 6,
    "start_time": "2022-07-29T12:21:08.360Z"
   },
   {
    "duration": 14,
    "start_time": "2022-07-29T12:21:08.367Z"
   },
   {
    "duration": 26,
    "start_time": "2022-07-29T12:21:08.383Z"
   },
   {
    "duration": 22,
    "start_time": "2022-07-29T12:21:08.412Z"
   },
   {
    "duration": 10,
    "start_time": "2022-07-29T12:21:08.436Z"
   },
   {
    "duration": 15,
    "start_time": "2022-07-29T12:21:08.448Z"
   },
   {
    "duration": 9,
    "start_time": "2022-07-29T12:21:08.465Z"
   },
   {
    "duration": 10,
    "start_time": "2022-07-29T12:21:08.477Z"
   },
   {
    "duration": 7,
    "start_time": "2022-07-29T12:21:08.490Z"
   },
   {
    "duration": 33,
    "start_time": "2022-07-29T12:21:08.502Z"
   },
   {
    "duration": 4,
    "start_time": "2022-07-29T12:21:08.537Z"
   },
   {
    "duration": 7,
    "start_time": "2022-07-29T12:21:13.556Z"
   },
   {
    "duration": 321,
    "start_time": "2022-07-29T12:21:13.912Z"
   },
   {
    "duration": 4,
    "start_time": "2022-07-29T12:21:18.356Z"
   },
   {
    "duration": 4,
    "start_time": "2022-07-29T12:21:30.578Z"
   },
   {
    "duration": 19,
    "start_time": "2022-07-29T12:21:30.780Z"
   },
   {
    "duration": 9,
    "start_time": "2022-07-29T12:21:31.016Z"
   },
   {
    "duration": 4,
    "start_time": "2022-07-29T12:21:31.171Z"
   },
   {
    "duration": 3,
    "start_time": "2022-07-29T12:21:32.297Z"
   },
   {
    "duration": 2,
    "start_time": "2022-07-29T12:21:32.492Z"
   },
   {
    "duration": 18,
    "start_time": "2022-07-29T12:21:32.730Z"
   },
   {
    "duration": 8,
    "start_time": "2022-07-29T12:21:32.881Z"
   },
   {
    "duration": 4,
    "start_time": "2022-07-29T12:21:33.124Z"
   },
   {
    "duration": 6,
    "start_time": "2022-07-29T12:21:33.787Z"
   },
   {
    "duration": 3,
    "start_time": "2022-07-29T12:21:33.798Z"
   },
   {
    "duration": 3,
    "start_time": "2022-07-29T12:21:33.930Z"
   },
   {
    "duration": 4,
    "start_time": "2022-07-29T12:21:34.124Z"
   },
   {
    "duration": 10,
    "start_time": "2022-07-29T12:21:34.850Z"
   },
   {
    "duration": 10,
    "start_time": "2022-07-29T12:21:34.861Z"
   },
   {
    "duration": 11,
    "start_time": "2022-07-29T12:21:34.964Z"
   },
   {
    "duration": 21,
    "start_time": "2022-07-29T12:21:35.096Z"
   },
   {
    "duration": 17,
    "start_time": "2022-07-29T12:21:35.261Z"
   },
   {
    "duration": 4,
    "start_time": "2022-07-29T12:21:35.388Z"
   },
   {
    "duration": 8,
    "start_time": "2022-07-29T12:21:35.924Z"
   },
   {
    "duration": 4,
    "start_time": "2022-07-29T12:21:36.154Z"
   },
   {
    "duration": 29,
    "start_time": "2022-07-29T12:21:36.566Z"
   },
   {
    "duration": 855,
    "start_time": "2022-07-29T12:21:36.964Z"
   },
   {
    "duration": 17,
    "start_time": "2022-07-29T12:21:38.012Z"
   },
   {
    "duration": 4,
    "start_time": "2022-07-29T12:21:38.406Z"
   },
   {
    "duration": 4,
    "start_time": "2022-07-29T12:21:41.696Z"
   },
   {
    "duration": 6,
    "start_time": "2022-07-29T12:21:42.680Z"
   },
   {
    "duration": 8,
    "start_time": "2022-07-29T12:21:43.050Z"
   },
   {
    "duration": 4,
    "start_time": "2022-07-29T12:21:43.460Z"
   },
   {
    "duration": 6,
    "start_time": "2022-07-29T12:21:48.268Z"
   },
   {
    "duration": 15,
    "start_time": "2022-07-29T12:21:49.261Z"
   },
   {
    "duration": 318,
    "start_time": "2022-07-29T12:21:49.848Z"
   },
   {
    "duration": 3,
    "start_time": "2022-07-29T12:21:56.369Z"
   },
   {
    "duration": 3,
    "start_time": "2022-07-29T12:21:56.517Z"
   },
   {
    "duration": 113440,
    "start_time": "2022-07-29T12:21:56.627Z"
   },
   {
    "duration": 4,
    "start_time": "2022-07-29T12:23:50.069Z"
   },
   {
    "duration": 169,
    "start_time": "2022-07-29T12:23:50.074Z"
   },
   {
    "duration": 2,
    "start_time": "2022-07-29T12:23:50.245Z"
   },
   {
    "duration": 6,
    "start_time": "2022-07-29T12:23:50.249Z"
   },
   {
    "duration": 3,
    "start_time": "2022-07-29T12:23:50.257Z"
   },
   {
    "duration": 4,
    "start_time": "2022-07-29T12:23:50.262Z"
   },
   {
    "duration": 143629,
    "start_time": "2022-07-29T12:23:50.267Z"
   },
   {
    "duration": 16,
    "start_time": "2022-07-29T12:26:13.897Z"
   },
   {
    "duration": 0,
    "start_time": "2022-07-29T12:26:13.915Z"
   },
   {
    "duration": 0,
    "start_time": "2022-07-29T12:26:13.916Z"
   },
   {
    "duration": 187,
    "start_time": "2022-07-29T12:26:27.225Z"
   },
   {
    "duration": 4,
    "start_time": "2022-07-29T12:33:35.578Z"
   },
   {
    "duration": 3,
    "start_time": "2022-07-29T12:33:35.886Z"
   },
   {
    "duration": 4,
    "start_time": "2022-07-29T19:14:12.536Z"
   },
   {
    "duration": 1683,
    "start_time": "2022-07-29T19:14:12.543Z"
   },
   {
    "duration": 3,
    "start_time": "2022-07-29T19:14:14.228Z"
   },
   {
    "duration": 462,
    "start_time": "2022-07-29T19:14:14.232Z"
   },
   {
    "duration": 87,
    "start_time": "2022-07-29T19:14:14.696Z"
   },
   {
    "duration": 12,
    "start_time": "2022-07-29T19:14:14.785Z"
   },
   {
    "duration": 15,
    "start_time": "2022-07-29T19:14:14.799Z"
   },
   {
    "duration": 62,
    "start_time": "2022-07-29T19:14:14.815Z"
   },
   {
    "duration": 5,
    "start_time": "2022-07-29T19:14:14.879Z"
   },
   {
    "duration": 12,
    "start_time": "2022-07-29T19:14:14.885Z"
   },
   {
    "duration": 178,
    "start_time": "2022-07-29T19:14:14.898Z"
   },
   {
    "duration": 227,
    "start_time": "2022-07-29T19:14:15.078Z"
   },
   {
    "duration": 12,
    "start_time": "2022-07-29T19:14:15.306Z"
   },
   {
    "duration": 5,
    "start_time": "2022-07-29T19:14:15.319Z"
   },
   {
    "duration": 124,
    "start_time": "2022-07-29T19:14:15.327Z"
   },
   {
    "duration": 8,
    "start_time": "2022-07-29T19:14:15.453Z"
   },
   {
    "duration": 25,
    "start_time": "2022-07-29T19:14:15.464Z"
   },
   {
    "duration": 10,
    "start_time": "2022-07-29T19:14:15.491Z"
   },
   {
    "duration": 21,
    "start_time": "2022-07-29T19:14:15.503Z"
   },
   {
    "duration": 165,
    "start_time": "2022-07-29T19:14:15.526Z"
   },
   {
    "duration": 82,
    "start_time": "2022-07-29T19:14:15.693Z"
   },
   {
    "duration": 4,
    "start_time": "2022-07-29T19:14:15.777Z"
   },
   {
    "duration": 9,
    "start_time": "2022-07-29T19:14:15.783Z"
   },
   {
    "duration": 138,
    "start_time": "2022-07-29T19:14:15.793Z"
   },
   {
    "duration": 21,
    "start_time": "2022-07-29T19:14:15.932Z"
   },
   {
    "duration": 25,
    "start_time": "2022-07-29T19:14:15.955Z"
   },
   {
    "duration": 13,
    "start_time": "2022-07-29T19:14:15.982Z"
   },
   {
    "duration": 9,
    "start_time": "2022-07-29T19:14:15.998Z"
   },
   {
    "duration": 6,
    "start_time": "2022-07-29T19:14:16.009Z"
   },
   {
    "duration": 15,
    "start_time": "2022-07-29T19:14:16.017Z"
   },
   {
    "duration": 11,
    "start_time": "2022-07-29T19:14:16.034Z"
   },
   {
    "duration": 81,
    "start_time": "2022-07-29T19:14:16.048Z"
   },
   {
    "duration": 103,
    "start_time": "2022-07-29T19:14:16.131Z"
   },
   {
    "duration": 14,
    "start_time": "2022-07-29T19:14:16.236Z"
   },
   {
    "duration": 28,
    "start_time": "2022-07-29T19:14:16.251Z"
   },
   {
    "duration": 24,
    "start_time": "2022-07-29T19:14:16.282Z"
   },
   {
    "duration": 20,
    "start_time": "2022-07-29T19:14:16.307Z"
   },
   {
    "duration": 12,
    "start_time": "2022-07-29T19:14:16.329Z"
   },
   {
    "duration": 4,
    "start_time": "2022-07-29T19:14:16.343Z"
   },
   {
    "duration": 62,
    "start_time": "2022-07-29T19:14:16.348Z"
   },
   {
    "duration": 9,
    "start_time": "2022-07-29T19:14:16.412Z"
   },
   {
    "duration": 88,
    "start_time": "2022-07-29T19:14:16.426Z"
   },
   {
    "duration": 14,
    "start_time": "2022-07-29T19:14:16.516Z"
   },
   {
    "duration": 14,
    "start_time": "2022-07-29T19:14:16.532Z"
   },
   {
    "duration": 28,
    "start_time": "2022-07-29T19:14:16.548Z"
   },
   {
    "duration": 4,
    "start_time": "2022-07-29T19:14:16.577Z"
   },
   {
    "duration": 8,
    "start_time": "2022-07-29T19:14:16.582Z"
   },
   {
    "duration": 14,
    "start_time": "2022-07-29T19:14:16.591Z"
   },
   {
    "duration": 98,
    "start_time": "2022-07-29T19:14:16.606Z"
   },
   {
    "duration": 12,
    "start_time": "2022-07-29T19:14:16.706Z"
   },
   {
    "duration": 29,
    "start_time": "2022-07-29T19:14:16.720Z"
   },
   {
    "duration": 23,
    "start_time": "2022-07-29T19:14:16.751Z"
   },
   {
    "duration": 6,
    "start_time": "2022-07-29T19:14:16.775Z"
   },
   {
    "duration": 8,
    "start_time": "2022-07-29T19:14:16.783Z"
   },
   {
    "duration": 6,
    "start_time": "2022-07-29T19:14:16.792Z"
   },
   {
    "duration": 29,
    "start_time": "2022-07-29T19:14:16.800Z"
   },
   {
    "duration": 17,
    "start_time": "2022-07-29T19:14:16.830Z"
   },
   {
    "duration": 3,
    "start_time": "2022-07-29T19:14:16.849Z"
   },
   {
    "duration": 6,
    "start_time": "2022-07-29T19:14:16.853Z"
   },
   {
    "duration": 17,
    "start_time": "2022-07-29T19:14:16.860Z"
   },
   {
    "duration": 7,
    "start_time": "2022-07-29T19:14:16.879Z"
   },
   {
    "duration": 5,
    "start_time": "2022-07-29T19:14:16.887Z"
   },
   {
    "duration": 9,
    "start_time": "2022-07-29T19:14:16.893Z"
   },
   {
    "duration": 5,
    "start_time": "2022-07-29T19:14:16.904Z"
   },
   {
    "duration": 6,
    "start_time": "2022-07-29T19:14:16.910Z"
   },
   {
    "duration": 2,
    "start_time": "2022-07-29T19:14:16.918Z"
   },
   {
    "duration": 5,
    "start_time": "2022-07-29T19:14:16.921Z"
   },
   {
    "duration": 4,
    "start_time": "2022-07-29T19:14:16.928Z"
   },
   {
    "duration": 9,
    "start_time": "2022-07-29T19:14:16.934Z"
   },
   {
    "duration": 342,
    "start_time": "2022-07-29T19:14:16.945Z"
   },
   {
    "duration": 4,
    "start_time": "2022-07-29T19:14:17.288Z"
   },
   {
    "duration": 6,
    "start_time": "2022-07-29T19:14:17.293Z"
   },
   {
    "duration": 20,
    "start_time": "2022-07-29T19:14:17.300Z"
   },
   {
    "duration": 10,
    "start_time": "2022-07-29T19:14:17.322Z"
   },
   {
    "duration": 7,
    "start_time": "2022-07-29T19:14:17.333Z"
   },
   {
    "duration": 3,
    "start_time": "2022-07-29T19:14:17.342Z"
   },
   {
    "duration": 4,
    "start_time": "2022-07-29T19:14:17.346Z"
   },
   {
    "duration": 35,
    "start_time": "2022-07-29T19:14:17.351Z"
   },
   {
    "duration": 17,
    "start_time": "2022-07-29T19:14:17.388Z"
   },
   {
    "duration": 7,
    "start_time": "2022-07-29T19:14:17.407Z"
   },
   {
    "duration": 7,
    "start_time": "2022-07-29T19:14:17.416Z"
   },
   {
    "duration": 9,
    "start_time": "2022-07-29T19:14:17.425Z"
   },
   {
    "duration": 5,
    "start_time": "2022-07-29T19:14:17.435Z"
   },
   {
    "duration": 9,
    "start_time": "2022-07-29T19:14:17.441Z"
   },
   {
    "duration": 11,
    "start_time": "2022-07-29T19:14:17.451Z"
   },
   {
    "duration": 9,
    "start_time": "2022-07-29T19:14:17.474Z"
   },
   {
    "duration": 10,
    "start_time": "2022-07-29T19:14:17.484Z"
   },
   {
    "duration": 12,
    "start_time": "2022-07-29T19:14:17.495Z"
   },
   {
    "duration": 8,
    "start_time": "2022-07-29T19:14:17.508Z"
   },
   {
    "duration": 4,
    "start_time": "2022-07-29T19:14:17.518Z"
   },
   {
    "duration": 10,
    "start_time": "2022-07-29T19:14:17.523Z"
   },
   {
    "duration": 6,
    "start_time": "2022-07-29T19:14:17.535Z"
   },
   {
    "duration": 57,
    "start_time": "2022-07-29T19:14:17.542Z"
   },
   {
    "duration": 654,
    "start_time": "2022-07-29T19:14:17.601Z"
   },
   {
    "duration": 18,
    "start_time": "2022-07-29T19:14:18.256Z"
   },
   {
    "duration": 6,
    "start_time": "2022-07-29T19:14:18.276Z"
   },
   {
    "duration": 8,
    "start_time": "2022-07-29T19:14:18.284Z"
   },
   {
    "duration": 12,
    "start_time": "2022-07-29T19:14:18.294Z"
   },
   {
    "duration": 12,
    "start_time": "2022-07-29T19:14:18.307Z"
   },
   {
    "duration": 5,
    "start_time": "2022-07-29T19:14:18.320Z"
   },
   {
    "duration": 7,
    "start_time": "2022-07-29T19:14:18.326Z"
   },
   {
    "duration": 46,
    "start_time": "2022-07-29T19:14:18.335Z"
   },
   {
    "duration": 342,
    "start_time": "2022-07-29T19:14:18.383Z"
   },
   {
    "duration": 5,
    "start_time": "2022-07-29T19:15:16.949Z"
   },
   {
    "duration": 64,
    "start_time": "2022-07-29T19:16:02.063Z"
   },
   {
    "duration": 2,
    "start_time": "2022-07-29T19:16:09.478Z"
   },
   {
    "duration": 3,
    "start_time": "2022-07-29T19:17:07.032Z"
   },
   {
    "duration": 3,
    "start_time": "2022-07-29T19:17:12.061Z"
   },
   {
    "duration": 3,
    "start_time": "2022-07-29T19:17:12.727Z"
   },
   {
    "duration": 19,
    "start_time": "2022-07-29T19:17:34.743Z"
   },
   {
    "duration": 4,
    "start_time": "2022-07-29T19:18:08.567Z"
   },
   {
    "duration": 5,
    "start_time": "2022-07-29T19:18:23.977Z"
   },
   {
    "duration": 5,
    "start_time": "2022-07-29T19:19:43.338Z"
   },
   {
    "duration": 5,
    "start_time": "2022-07-29T19:20:00.966Z"
   },
   {
    "duration": 4,
    "start_time": "2022-07-29T19:20:24.851Z"
   },
   {
    "duration": 3,
    "start_time": "2022-07-29T19:20:44.389Z"
   },
   {
    "duration": 4,
    "start_time": "2022-07-29T19:20:50.860Z"
   },
   {
    "duration": 98,
    "start_time": "2022-07-29T19:20:57.764Z"
   },
   {
    "duration": 4,
    "start_time": "2022-07-29T19:21:06.709Z"
   },
   {
    "duration": 3,
    "start_time": "2022-07-29T19:21:18.253Z"
   },
   {
    "duration": 4,
    "start_time": "2022-07-29T19:21:27.349Z"
   },
   {
    "duration": 4,
    "start_time": "2022-07-29T19:21:38.937Z"
   },
   {
    "duration": 10,
    "start_time": "2022-07-29T19:21:51.270Z"
   },
   {
    "duration": 9,
    "start_time": "2022-07-29T19:21:56.102Z"
   },
   {
    "duration": 16,
    "start_time": "2022-07-29T19:22:32.317Z"
   },
   {
    "duration": 4,
    "start_time": "2022-07-29T19:22:37.927Z"
   },
   {
    "duration": 56,
    "start_time": "2022-07-29T19:23:02.151Z"
   },
   {
    "duration": 19,
    "start_time": "2022-07-29T19:23:57.569Z"
   },
   {
    "duration": 4,
    "start_time": "2022-07-29T19:26:48.613Z"
   },
   {
    "duration": 5,
    "start_time": "2022-07-29T19:27:38.549Z"
   },
   {
    "duration": 4,
    "start_time": "2022-07-29T19:27:46.014Z"
   },
   {
    "duration": 6,
    "start_time": "2022-07-29T19:28:46.071Z"
   },
   {
    "duration": 10,
    "start_time": "2022-07-29T19:28:58.320Z"
   },
   {
    "duration": 8,
    "start_time": "2022-07-29T19:29:05.377Z"
   },
   {
    "duration": 5,
    "start_time": "2022-07-29T19:29:11.775Z"
   },
   {
    "duration": 3,
    "start_time": "2022-07-29T19:30:01.289Z"
   },
   {
    "duration": 4,
    "start_time": "2022-07-29T19:30:26.186Z"
   },
   {
    "duration": 5,
    "start_time": "2022-07-29T19:30:57.753Z"
   },
   {
    "duration": 30,
    "start_time": "2022-07-29T19:31:08.745Z"
   },
   {
    "duration": 333,
    "start_time": "2022-07-29T19:31:23.258Z"
   },
   {
    "duration": 3,
    "start_time": "2022-07-29T19:32:15.724Z"
   },
   {
    "duration": 18,
    "start_time": "2022-07-29T19:32:17.715Z"
   },
   {
    "duration": 3,
    "start_time": "2022-07-29T19:32:24.059Z"
   },
   {
    "duration": 20,
    "start_time": "2022-07-29T19:32:25.027Z"
   },
   {
    "duration": 4,
    "start_time": "2022-07-29T19:32:26.844Z"
   },
   {
    "duration": 3,
    "start_time": "2022-07-29T19:32:27.363Z"
   },
   {
    "duration": 308,
    "start_time": "2022-07-29T19:32:31.010Z"
   },
   {
    "duration": 3,
    "start_time": "2022-07-29T19:32:40.315Z"
   },
   {
    "duration": 5,
    "start_time": "2022-07-29T19:32:50.172Z"
   },
   {
    "duration": 337,
    "start_time": "2022-07-29T19:32:55.077Z"
   },
   {
    "duration": 4,
    "start_time": "2022-07-29T19:43:00.193Z"
   },
   {
    "duration": 4,
    "start_time": "2022-07-29T20:00:35.593Z"
   },
   {
    "duration": 1479,
    "start_time": "2022-07-29T20:00:35.599Z"
   },
   {
    "duration": 6,
    "start_time": "2022-07-29T20:00:37.080Z"
   },
   {
    "duration": 241,
    "start_time": "2022-07-29T20:00:37.089Z"
   },
   {
    "duration": 81,
    "start_time": "2022-07-29T20:00:37.332Z"
   },
   {
    "duration": 12,
    "start_time": "2022-07-29T20:00:37.415Z"
   },
   {
    "duration": 19,
    "start_time": "2022-07-29T20:00:37.429Z"
   },
   {
    "duration": 59,
    "start_time": "2022-07-29T20:00:37.450Z"
   },
   {
    "duration": 5,
    "start_time": "2022-07-29T20:00:37.512Z"
   },
   {
    "duration": 7,
    "start_time": "2022-07-29T20:00:37.518Z"
   },
   {
    "duration": 185,
    "start_time": "2022-07-29T20:00:37.527Z"
   },
   {
    "duration": 226,
    "start_time": "2022-07-29T20:00:37.713Z"
   },
   {
    "duration": 11,
    "start_time": "2022-07-29T20:00:37.940Z"
   },
   {
    "duration": 5,
    "start_time": "2022-07-29T20:00:37.952Z"
   },
   {
    "duration": 32,
    "start_time": "2022-07-29T20:00:37.958Z"
   },
   {
    "duration": 108,
    "start_time": "2022-07-29T20:00:37.992Z"
   },
   {
    "duration": 11,
    "start_time": "2022-07-29T20:00:38.101Z"
   },
   {
    "duration": 29,
    "start_time": "2022-07-29T20:00:38.113Z"
   },
   {
    "duration": 19,
    "start_time": "2022-07-29T20:00:38.143Z"
   },
   {
    "duration": 146,
    "start_time": "2022-07-29T20:00:38.163Z"
   },
   {
    "duration": 95,
    "start_time": "2022-07-29T20:00:38.311Z"
   },
   {
    "duration": 3,
    "start_time": "2022-07-29T20:00:38.407Z"
   },
   {
    "duration": 5,
    "start_time": "2022-07-29T20:00:38.412Z"
   },
   {
    "duration": 148,
    "start_time": "2022-07-29T20:00:38.421Z"
   },
   {
    "duration": 24,
    "start_time": "2022-07-29T20:00:38.572Z"
   },
   {
    "duration": 5,
    "start_time": "2022-07-29T20:00:38.597Z"
   },
   {
    "duration": 10,
    "start_time": "2022-07-29T20:00:38.604Z"
   },
   {
    "duration": 6,
    "start_time": "2022-07-29T20:00:38.615Z"
   },
   {
    "duration": 6,
    "start_time": "2022-07-29T20:00:38.623Z"
   },
   {
    "duration": 16,
    "start_time": "2022-07-29T20:00:38.631Z"
   },
   {
    "duration": 3,
    "start_time": "2022-07-29T20:00:38.649Z"
   },
   {
    "duration": 79,
    "start_time": "2022-07-29T20:00:38.653Z"
   },
   {
    "duration": 117,
    "start_time": "2022-07-29T20:00:38.734Z"
   },
   {
    "duration": 26,
    "start_time": "2022-07-29T20:00:38.854Z"
   },
   {
    "duration": 23,
    "start_time": "2022-07-29T20:00:38.881Z"
   },
   {
    "duration": 20,
    "start_time": "2022-07-29T20:00:38.906Z"
   },
   {
    "duration": 19,
    "start_time": "2022-07-29T20:00:38.928Z"
   },
   {
    "duration": 12,
    "start_time": "2022-07-29T20:00:38.949Z"
   },
   {
    "duration": 39,
    "start_time": "2022-07-29T20:00:38.963Z"
   },
   {
    "duration": 39,
    "start_time": "2022-07-29T20:00:39.004Z"
   },
   {
    "duration": 12,
    "start_time": "2022-07-29T20:00:39.045Z"
   },
   {
    "duration": 94,
    "start_time": "2022-07-29T20:00:39.059Z"
   },
   {
    "duration": 11,
    "start_time": "2022-07-29T20:00:39.155Z"
   },
   {
    "duration": 13,
    "start_time": "2022-07-29T20:00:39.184Z"
   },
   {
    "duration": 12,
    "start_time": "2022-07-29T20:00:39.199Z"
   },
   {
    "duration": 4,
    "start_time": "2022-07-29T20:00:39.212Z"
   },
   {
    "duration": 9,
    "start_time": "2022-07-29T20:00:39.217Z"
   },
   {
    "duration": 15,
    "start_time": "2022-07-29T20:00:39.227Z"
   },
   {
    "duration": 135,
    "start_time": "2022-07-29T20:00:39.243Z"
   },
   {
    "duration": 14,
    "start_time": "2022-07-29T20:00:39.379Z"
   },
   {
    "duration": 36,
    "start_time": "2022-07-29T20:00:39.395Z"
   },
   {
    "duration": 9,
    "start_time": "2022-07-29T20:00:39.433Z"
   },
   {
    "duration": 13,
    "start_time": "2022-07-29T20:00:39.443Z"
   },
   {
    "duration": 17,
    "start_time": "2022-07-29T20:00:39.457Z"
   },
   {
    "duration": 12,
    "start_time": "2022-07-29T20:00:39.479Z"
   },
   {
    "duration": 14,
    "start_time": "2022-07-29T20:00:39.493Z"
   },
   {
    "duration": 14,
    "start_time": "2022-07-29T20:00:39.508Z"
   },
   {
    "duration": 3,
    "start_time": "2022-07-29T20:00:39.523Z"
   },
   {
    "duration": 12,
    "start_time": "2022-07-29T20:00:39.528Z"
   },
   {
    "duration": 15,
    "start_time": "2022-07-29T20:00:39.542Z"
   },
   {
    "duration": 9,
    "start_time": "2022-07-29T20:00:39.559Z"
   },
   {
    "duration": 19,
    "start_time": "2022-07-29T20:00:39.572Z"
   },
   {
    "duration": 13,
    "start_time": "2022-07-29T20:00:39.593Z"
   },
   {
    "duration": 9,
    "start_time": "2022-07-29T20:00:39.608Z"
   },
   {
    "duration": 5,
    "start_time": "2022-07-29T20:00:39.618Z"
   },
   {
    "duration": 8,
    "start_time": "2022-07-29T20:00:39.624Z"
   },
   {
    "duration": 11,
    "start_time": "2022-07-29T20:00:39.633Z"
   },
   {
    "duration": 6,
    "start_time": "2022-07-29T20:00:39.645Z"
   },
   {
    "duration": 8,
    "start_time": "2022-07-29T20:00:39.656Z"
   },
   {
    "duration": 288,
    "start_time": "2022-07-29T20:00:39.665Z"
   },
   {
    "duration": 3,
    "start_time": "2022-07-29T20:00:39.955Z"
   },
   {
    "duration": 6,
    "start_time": "2022-07-29T20:00:39.973Z"
   },
   {
    "duration": 29,
    "start_time": "2022-07-29T20:00:39.980Z"
   },
   {
    "duration": 10,
    "start_time": "2022-07-29T20:00:40.011Z"
   },
   {
    "duration": 19,
    "start_time": "2022-07-29T20:00:40.022Z"
   },
   {
    "duration": 8,
    "start_time": "2022-07-29T20:00:40.043Z"
   },
   {
    "duration": 10,
    "start_time": "2022-07-29T20:00:40.053Z"
   },
   {
    "duration": 43,
    "start_time": "2022-07-29T20:00:40.064Z"
   },
   {
    "duration": 10,
    "start_time": "2022-07-29T20:00:40.109Z"
   },
   {
    "duration": 3,
    "start_time": "2022-07-29T20:00:40.121Z"
   },
   {
    "duration": 17,
    "start_time": "2022-07-29T20:00:40.126Z"
   },
   {
    "duration": 8,
    "start_time": "2022-07-29T20:00:40.144Z"
   },
   {
    "duration": 5,
    "start_time": "2022-07-29T20:00:40.153Z"
   },
   {
    "duration": 6,
    "start_time": "2022-07-29T20:00:40.160Z"
   },
   {
    "duration": 17,
    "start_time": "2022-07-29T20:00:40.168Z"
   },
   {
    "duration": 26,
    "start_time": "2022-07-29T20:00:40.186Z"
   },
   {
    "duration": 9,
    "start_time": "2022-07-29T20:00:40.213Z"
   },
   {
    "duration": 9,
    "start_time": "2022-07-29T20:00:40.224Z"
   },
   {
    "duration": 9,
    "start_time": "2022-07-29T20:00:40.234Z"
   },
   {
    "duration": 4,
    "start_time": "2022-07-29T20:00:40.244Z"
   },
   {
    "duration": 8,
    "start_time": "2022-07-29T20:00:40.249Z"
   },
   {
    "duration": 16,
    "start_time": "2022-07-29T20:00:40.259Z"
   },
   {
    "duration": 34,
    "start_time": "2022-07-29T20:00:40.276Z"
   },
   {
    "duration": 680,
    "start_time": "2022-07-29T20:00:40.312Z"
   },
   {
    "duration": 13,
    "start_time": "2022-07-29T20:00:40.994Z"
   },
   {
    "duration": 6,
    "start_time": "2022-07-29T20:00:41.009Z"
   },
   {
    "duration": 6,
    "start_time": "2022-07-29T20:00:41.016Z"
   },
   {
    "duration": 10,
    "start_time": "2022-07-29T20:00:41.024Z"
   },
   {
    "duration": 9,
    "start_time": "2022-07-29T20:00:41.036Z"
   },
   {
    "duration": 4,
    "start_time": "2022-07-29T20:00:41.047Z"
   },
   {
    "duration": 35,
    "start_time": "2022-07-29T20:00:41.052Z"
   },
   {
    "duration": 5,
    "start_time": "2022-07-29T20:00:41.089Z"
   },
   {
    "duration": 4,
    "start_time": "2022-07-29T20:00:41.096Z"
   },
   {
    "duration": 21,
    "start_time": "2022-07-29T20:00:41.101Z"
   },
   {
    "duration": 3,
    "start_time": "2022-07-29T20:00:41.123Z"
   },
   {
    "duration": 6,
    "start_time": "2022-07-29T20:00:41.127Z"
   },
   {
    "duration": 314,
    "start_time": "2022-07-29T20:00:41.135Z"
   },
   {
    "duration": 4,
    "start_time": "2022-07-29T20:00:41.451Z"
   },
   {
    "duration": 11,
    "start_time": "2022-07-29T20:00:41.457Z"
   },
   {
    "duration": 113865,
    "start_time": "2022-07-29T20:00:41.470Z"
   },
   {
    "duration": 3,
    "start_time": "2022-07-29T20:02:35.337Z"
   },
   {
    "duration": 174,
    "start_time": "2022-07-29T20:02:35.342Z"
   },
   {
    "duration": 3,
    "start_time": "2022-07-29T20:02:35.517Z"
   },
   {
    "duration": 10,
    "start_time": "2022-07-29T20:02:35.522Z"
   },
   {
    "duration": 8,
    "start_time": "2022-07-29T20:02:35.533Z"
   },
   {
    "duration": 5,
    "start_time": "2022-07-29T20:02:35.542Z"
   },
   {
    "duration": 1669860,
    "start_time": "2022-07-29T20:02:35.549Z"
   },
   {
    "duration": 10,
    "start_time": "2022-07-29T20:30:25.411Z"
   },
   {
    "duration": 0,
    "start_time": "2022-07-29T20:30:25.423Z"
   },
   {
    "duration": 0,
    "start_time": "2022-07-29T20:30:25.425Z"
   },
   {
    "duration": 0,
    "start_time": "2022-07-29T20:30:25.426Z"
   },
   {
    "duration": 0,
    "start_time": "2022-07-29T20:30:25.428Z"
   },
   {
    "duration": 0,
    "start_time": "2022-07-29T20:30:25.429Z"
   },
   {
    "duration": 0,
    "start_time": "2022-07-29T20:30:25.431Z"
   },
   {
    "duration": 3,
    "start_time": "2022-07-29T20:30:33.068Z"
   },
   {
    "duration": 20493,
    "start_time": "2022-07-29T20:30:33.661Z"
   },
   {
    "duration": 190,
    "start_time": "2022-07-29T20:31:02.610Z"
   }
  ],
  "colab": {
   "collapsed_sections": [],
   "name": "final_proj_inds_v1.ipynb",
   "provenance": [],
   "toc_visible": true
  },
  "kernelspec": {
   "display_name": "Python 3 (ipykernel)",
   "language": "python",
   "name": "python3"
  },
  "language_info": {
   "codemirror_mode": {
    "name": "ipython",
    "version": 3
   },
   "file_extension": ".py",
   "mimetype": "text/x-python",
   "name": "python",
   "nbconvert_exporter": "python",
   "pygments_lexer": "ipython3",
   "version": "3.9.12"
  },
  "toc": {
   "base_numbering": 1,
   "nav_menu": {},
   "number_sections": true,
   "sideBar": true,
   "skip_h1_title": false,
   "title_cell": "Table of Contents",
   "title_sidebar": "Contents",
   "toc_cell": false,
   "toc_position": {},
   "toc_section_display": true,
   "toc_window_display": true
  }
 },
 "nbformat": 4,
 "nbformat_minor": 1
}
